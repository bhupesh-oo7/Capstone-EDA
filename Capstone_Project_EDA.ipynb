{
  "nbformat": 4,
  "nbformat_minor": 0,
  "metadata": {
    "colab": {
      "provenance": [],
      "collapsed_sections": [
        "vncDsAP0Gaoa",
        "FJNUwmbgGyua",
        "w6K7xa23Elo4",
        "yQaldy8SH6Dl",
        "PH-0ReGfmX4f",
        "mDgbUHAGgjLW",
        "O_i_v8NEhb9l",
        "HhfV-JJviCcP",
        "Y3lxredqlCYt",
        "3RnN4peoiCZX",
        "x71ZqKXriCWQ",
        "7hBIi_osiCS2",
        "JlHwYmJAmNHm",
        "35m5QtbWiB9F",
        "PoPl-ycgm1ru",
        "H0kj-8xxnORC",
        "nA9Y7ga8ng1Z",
        "PBTbrJXOngz2",
        "u3PMJOP6ngxN",
        "dauF4eBmngu3",
        "bKJF3rekwFvQ",
        "MSa1f5Uengrz",
        "GF8Ens_Soomf",
        "0wOQAZs5pc--",
        "K5QZ13OEpz2H",
        "lQ7QKXXCp7Bj",
        "448CDAPjqfQr",
        "KSlN3yHqYklG",
        "t6dVpIINYklI",
        "ijmpgYnKYklI",
        "-JiQyfWJYklI",
        "EM7whBJCYoAo",
        "fge-S5ZAYoAp",
        "85gYPyotYoAp",
        "RoGjAbkUYoAp",
        "4Of9eVA-YrdM",
        "iky9q4vBYrdO",
        "F6T5p64dYrdO",
        "y-Ehk30pYrdP",
        "bamQiAODYuh1",
        "QHF8YVU7Yuh3",
        "GwzvFGzlYuh3",
        "qYpmQ266Yuh3",
        "OH-pJp9IphqM",
        "bbFf2-_FphqN",
        "_ouA3fa0phqN",
        "Seke61FWphqN",
        "PIIx-8_IphqN",
        "t27r6nlMphqO",
        "r2jJGEOYphqO",
        "b0JNsNcRphqO",
        "BZR9WyysphqO",
        "jj7wYXLtphqO",
        "eZrbJ2SmphqO",
        "rFu4xreNphqO",
        "YJ55k-q6phqO",
        "gCFgpxoyphqP",
        "OVtJsKN_phqQ",
        "lssrdh5qphqQ",
        "U2RJ9gkRphqQ",
        "1M8mcRywphqQ",
        "tgIPom80phqQ",
        "JMzcOPDDphqR",
        "x-EpHcCOp1ci",
        "X_VqEhTip1ck",
        "8zGJKyg5p1ck",
        "PVzmfK_Ep1ck",
        "n3dbpmDWp1ck",
        "ylSl6qgtp1ck",
        "ZWILFDl5p1ck",
        "M7G43BXep1ck",
        "Ag9LCva-p1cl",
        "E6MkPsBcp1cl",
        "2cELzS2fp1cl",
        "3MPXvC8up1cl",
        "NC_X3p0fY2L0",
        "UV0SzAkaZNRQ",
        "YPEH6qLeZNRQ",
        "q29F0dvdveiT",
        "EXh0U9oCveiU",
        "22aHeOlLveiV",
        "JcMwzZxoAimU",
        "8G2x9gOozGDZ",
        "gCX9965dhzqZ",
        "gIfDvo9L0UH2"
      ]
    },
    "kernelspec": {
      "name": "python3",
      "display_name": "Python 3"
    },
    "language_info": {
      "name": "python"
    }
  },
  "cells": [
    {
      "cell_type": "markdown",
      "source": [
        "# **Project Name**    - World Bank Global Education Analysis\n",
        "\n"
      ],
      "metadata": {
        "id": "vncDsAP0Gaoa"
      }
    },
    {
      "cell_type": "markdown",
      "source": [
        "##### **Project Type**    - EDA\n",
        "##### **Contribution**    - Individual\n"
      ],
      "metadata": {
        "id": "beRrZCGUAJYm"
      }
    },
    {
      "cell_type": "markdown",
      "source": [
        "# **Project Summary -**"
      ],
      "metadata": {
        "id": "FJNUwmbgGyua"
      }
    },
    {
      "cell_type": "markdown",
      "source": [
        "Write the summary here within 500-600 words."
      ],
      "metadata": {
        "id": "F6v_1wHtG2nS"
      }
    },
    {
      "cell_type": "markdown",
      "source": [
        "# **GitHub Link -**"
      ],
      "metadata": {
        "id": "w6K7xa23Elo4"
      }
    },
    {
      "cell_type": "markdown",
      "source": [
        "https://github.com/bhupesh-oo7/Capstone-EDA.git\n"
      ],
      "metadata": {
        "id": "h1o69JH3Eqqn"
      }
    },
    {
      "cell_type": "markdown",
      "source": [
        "# **Problem Statement**\n"
      ],
      "metadata": {
        "id": "yQaldy8SH6Dl"
      }
    },
    {
      "cell_type": "markdown",
      "source": [
        "**Write Problem Statement Here.**"
      ],
      "metadata": {
        "id": "DpeJGUA3kjGy"
      }
    },
    {
      "cell_type": "markdown",
      "source": [
        "#### **Define Your Business Objective?**"
      ],
      "metadata": {
        "id": "PH-0ReGfmX4f"
      }
    },
    {
      "cell_type": "markdown",
      "source": [
        "Answer Here."
      ],
      "metadata": {
        "id": "PhDvGCAqmjP1"
      }
    },
    {
      "cell_type": "markdown",
      "source": [
        "# **General Guidelines** : -  "
      ],
      "metadata": {
        "id": "mDgbUHAGgjLW"
      }
    },
    {
      "cell_type": "markdown",
      "source": [
        "1.   Well-structured, formatted, and commented code is required.\n",
        "2.   Exception Handling, Production Grade Code & Deployment Ready Code will be a plus. Those students will be awarded some additional credits.\n",
        "     \n",
        "     The additional credits will have advantages over other students during Star Student selection.\n",
        "       \n",
        "             [ Note: - Deployment Ready Code is defined as, the whole .ipynb notebook should be executable in one go\n",
        "                       without a single error logged. ]\n",
        "\n",
        "3.   Each and every logic should have proper comments.\n",
        "4. You may add as many number of charts you want. Make Sure for each and every chart the following format should be answered.\n",
        "        \n",
        "\n",
        "```\n",
        "# Chart visualization code\n",
        "```\n",
        "            \n",
        "\n",
        "*   Why did you pick the specific chart?\n",
        "*   What is/are the insight(s) found from the chart?\n",
        "* Will the gained insights help creating a positive business impact?\n",
        "Are there any insights that lead to negative growth? Justify with specific reason.\n",
        "\n",
        "5. You have to create at least 20 logical & meaningful charts having important insights.\n",
        "\n",
        "\n",
        "[ Hints : - Do the Vizualization in  a structured way while following \"UBM\" Rule.\n",
        "\n",
        "U - Univariate Analysis,\n",
        "\n",
        "B - Bivariate Analysis (Numerical - Categorical, Numerical - Numerical, Categorical - Categorical)\n",
        "\n",
        "M - Multivariate Analysis\n",
        " ]\n",
        "\n",
        "\n",
        "\n"
      ],
      "metadata": {
        "id": "ZrxVaUj-hHfC"
      }
    },
    {
      "cell_type": "markdown",
      "source": [
        "# ***Let's Begin !***"
      ],
      "metadata": {
        "id": "O_i_v8NEhb9l"
      }
    },
    {
      "cell_type": "markdown",
      "source": [
        "## ***1. Know Your Data***"
      ],
      "metadata": {
        "id": "HhfV-JJviCcP"
      }
    },
    {
      "cell_type": "markdown",
      "source": [
        "### Import Libraries"
      ],
      "metadata": {
        "id": "Y3lxredqlCYt"
      }
    },
    {
      "cell_type": "code",
      "source": [
        "#Import package\n",
        "import pandas as pd\n",
        "import numpy as np\n",
        "import seaborn as sns\n"
      ],
      "metadata": {
        "id": "M8Vqi-pPk-HR"
      },
      "execution_count": 1,
      "outputs": []
    },
    {
      "cell_type": "markdown",
      "source": [
        "### Dataset Loading"
      ],
      "metadata": {
        "id": "3RnN4peoiCZX"
      }
    },
    {
      "cell_type": "code",
      "source": [
        "from google.colab import drive\n",
        "drive.mount('/content/drive/')"
      ],
      "metadata": {
        "id": "4CkvbW_SlZ_R",
        "outputId": "f2f72f36-84f9-4c10-9b92-b2d3806fe677",
        "colab": {
          "base_uri": "https://localhost:8080/"
        }
      },
      "execution_count": 2,
      "outputs": [
        {
          "output_type": "stream",
          "name": "stdout",
          "text": [
            "Mounted at /content/drive/\n"
          ]
        }
      ]
    },
    {
      "cell_type": "markdown",
      "source": [
        "### Dataset First View"
      ],
      "metadata": {
        "id": "x71ZqKXriCWQ"
      }
    },
    {
      "cell_type": "code",
      "source": [
        "path='/content/drive/MyDrive/Colab Notebooks/Capstone Project: EDA/EdStatsData.csv'\n",
        "Edustats_df = pd.read_csv(path)"
      ],
      "metadata": {
        "id": "LWNFOSvLl09H"
      },
      "execution_count": 4,
      "outputs": []
    },
    {
      "cell_type": "markdown",
      "source": [
        "### Dataset Rows & Columns count"
      ],
      "metadata": {
        "id": "7hBIi_osiCS2"
      }
    },
    {
      "cell_type": "code",
      "source": [
        "# Dataset Rows & Columns count\n",
        "Edustats_df.shape"
      ],
      "metadata": {
        "id": "PUZs62AIhrT4",
        "outputId": "ca1ce244-a6aa-4346-fb14-19f1250c2332",
        "colab": {
          "base_uri": "https://localhost:8080/"
        }
      },
      "execution_count": 6,
      "outputs": [
        {
          "output_type": "execute_result",
          "data": {
            "text/plain": [
              "(886930, 70)"
            ]
          },
          "metadata": {},
          "execution_count": 6
        }
      ]
    },
    {
      "cell_type": "code",
      "source": [
        "# Dataset Explore\n",
        "Edustats_df.head(10)"
      ],
      "metadata": {
        "id": "Kllu7SJgmLij",
        "outputId": "f7321f4e-16bc-49d2-a904-fa5a255ee8f7",
        "colab": {
          "base_uri": "https://localhost:8080/",
          "height": 583
        }
      },
      "execution_count": 5,
      "outputs": [
        {
          "output_type": "execute_result",
          "data": {
            "text/plain": [
              "  Country Name Country Code  \\\n",
              "0   Arab World          ARB   \n",
              "1   Arab World          ARB   \n",
              "2   Arab World          ARB   \n",
              "3   Arab World          ARB   \n",
              "4   Arab World          ARB   \n",
              "5   Arab World          ARB   \n",
              "6   Arab World          ARB   \n",
              "7   Arab World          ARB   \n",
              "8   Arab World          ARB   \n",
              "9   Arab World          ARB   \n",
              "\n",
              "                                      Indicator Name  Indicator Code  \\\n",
              "0  Adjusted net enrolment rate, lower secondary, ...      UIS.NERA.2   \n",
              "1  Adjusted net enrolment rate, lower secondary, ...    UIS.NERA.2.F   \n",
              "2  Adjusted net enrolment rate, lower secondary, ...  UIS.NERA.2.GPI   \n",
              "3  Adjusted net enrolment rate, lower secondary, ...    UIS.NERA.2.M   \n",
              "4  Adjusted net enrolment rate, primary, both sex...     SE.PRM.TENR   \n",
              "5   Adjusted net enrolment rate, primary, female (%)  SE.PRM.TENR.FE   \n",
              "6  Adjusted net enrolment rate, primary, gender p...  UIS.NERA.1.GPI   \n",
              "7     Adjusted net enrolment rate, primary, male (%)  SE.PRM.TENR.MA   \n",
              "8  Adjusted net enrolment rate, upper secondary, ...      UIS.NERA.3   \n",
              "9  Adjusted net enrolment rate, upper secondary, ...    UIS.NERA.3.F   \n",
              "\n",
              "        1970       1971       1972       1973       1974       1975  ...  \\\n",
              "0        NaN        NaN        NaN        NaN        NaN        NaN  ...   \n",
              "1        NaN        NaN        NaN        NaN        NaN        NaN  ...   \n",
              "2        NaN        NaN        NaN        NaN        NaN        NaN  ...   \n",
              "3        NaN        NaN        NaN        NaN        NaN        NaN  ...   \n",
              "4  54.822121  54.894138  56.209438  57.267109  57.991138  59.365540  ...   \n",
              "5  43.351101  43.318150  44.640701  45.845718  46.449501  48.363892  ...   \n",
              "6   0.658570   0.656400   0.663290   0.672040   0.672610   0.691760  ...   \n",
              "7  65.826233  65.993584  67.301857  68.219078  69.059013  69.914551  ...   \n",
              "8        NaN        NaN        NaN        NaN        NaN        NaN  ...   \n",
              "9        NaN        NaN        NaN        NaN        NaN        NaN  ...   \n",
              "\n",
              "   2060  2065  2070  2075  2080  2085  2090  2095  2100  Unnamed: 69  \n",
              "0   NaN   NaN   NaN   NaN   NaN   NaN   NaN   NaN   NaN          NaN  \n",
              "1   NaN   NaN   NaN   NaN   NaN   NaN   NaN   NaN   NaN          NaN  \n",
              "2   NaN   NaN   NaN   NaN   NaN   NaN   NaN   NaN   NaN          NaN  \n",
              "3   NaN   NaN   NaN   NaN   NaN   NaN   NaN   NaN   NaN          NaN  \n",
              "4   NaN   NaN   NaN   NaN   NaN   NaN   NaN   NaN   NaN          NaN  \n",
              "5   NaN   NaN   NaN   NaN   NaN   NaN   NaN   NaN   NaN          NaN  \n",
              "6   NaN   NaN   NaN   NaN   NaN   NaN   NaN   NaN   NaN          NaN  \n",
              "7   NaN   NaN   NaN   NaN   NaN   NaN   NaN   NaN   NaN          NaN  \n",
              "8   NaN   NaN   NaN   NaN   NaN   NaN   NaN   NaN   NaN          NaN  \n",
              "9   NaN   NaN   NaN   NaN   NaN   NaN   NaN   NaN   NaN          NaN  \n",
              "\n",
              "[10 rows x 70 columns]"
            ],
            "text/html": [
              "\n",
              "  <div id=\"df-70a886cc-f247-40b3-9120-accd3f80d30e\" class=\"colab-df-container\">\n",
              "    <div>\n",
              "<style scoped>\n",
              "    .dataframe tbody tr th:only-of-type {\n",
              "        vertical-align: middle;\n",
              "    }\n",
              "\n",
              "    .dataframe tbody tr th {\n",
              "        vertical-align: top;\n",
              "    }\n",
              "\n",
              "    .dataframe thead th {\n",
              "        text-align: right;\n",
              "    }\n",
              "</style>\n",
              "<table border=\"1\" class=\"dataframe\">\n",
              "  <thead>\n",
              "    <tr style=\"text-align: right;\">\n",
              "      <th></th>\n",
              "      <th>Country Name</th>\n",
              "      <th>Country Code</th>\n",
              "      <th>Indicator Name</th>\n",
              "      <th>Indicator Code</th>\n",
              "      <th>1970</th>\n",
              "      <th>1971</th>\n",
              "      <th>1972</th>\n",
              "      <th>1973</th>\n",
              "      <th>1974</th>\n",
              "      <th>1975</th>\n",
              "      <th>...</th>\n",
              "      <th>2060</th>\n",
              "      <th>2065</th>\n",
              "      <th>2070</th>\n",
              "      <th>2075</th>\n",
              "      <th>2080</th>\n",
              "      <th>2085</th>\n",
              "      <th>2090</th>\n",
              "      <th>2095</th>\n",
              "      <th>2100</th>\n",
              "      <th>Unnamed: 69</th>\n",
              "    </tr>\n",
              "  </thead>\n",
              "  <tbody>\n",
              "    <tr>\n",
              "      <th>0</th>\n",
              "      <td>Arab World</td>\n",
              "      <td>ARB</td>\n",
              "      <td>Adjusted net enrolment rate, lower secondary, ...</td>\n",
              "      <td>UIS.NERA.2</td>\n",
              "      <td>NaN</td>\n",
              "      <td>NaN</td>\n",
              "      <td>NaN</td>\n",
              "      <td>NaN</td>\n",
              "      <td>NaN</td>\n",
              "      <td>NaN</td>\n",
              "      <td>...</td>\n",
              "      <td>NaN</td>\n",
              "      <td>NaN</td>\n",
              "      <td>NaN</td>\n",
              "      <td>NaN</td>\n",
              "      <td>NaN</td>\n",
              "      <td>NaN</td>\n",
              "      <td>NaN</td>\n",
              "      <td>NaN</td>\n",
              "      <td>NaN</td>\n",
              "      <td>NaN</td>\n",
              "    </tr>\n",
              "    <tr>\n",
              "      <th>1</th>\n",
              "      <td>Arab World</td>\n",
              "      <td>ARB</td>\n",
              "      <td>Adjusted net enrolment rate, lower secondary, ...</td>\n",
              "      <td>UIS.NERA.2.F</td>\n",
              "      <td>NaN</td>\n",
              "      <td>NaN</td>\n",
              "      <td>NaN</td>\n",
              "      <td>NaN</td>\n",
              "      <td>NaN</td>\n",
              "      <td>NaN</td>\n",
              "      <td>...</td>\n",
              "      <td>NaN</td>\n",
              "      <td>NaN</td>\n",
              "      <td>NaN</td>\n",
              "      <td>NaN</td>\n",
              "      <td>NaN</td>\n",
              "      <td>NaN</td>\n",
              "      <td>NaN</td>\n",
              "      <td>NaN</td>\n",
              "      <td>NaN</td>\n",
              "      <td>NaN</td>\n",
              "    </tr>\n",
              "    <tr>\n",
              "      <th>2</th>\n",
              "      <td>Arab World</td>\n",
              "      <td>ARB</td>\n",
              "      <td>Adjusted net enrolment rate, lower secondary, ...</td>\n",
              "      <td>UIS.NERA.2.GPI</td>\n",
              "      <td>NaN</td>\n",
              "      <td>NaN</td>\n",
              "      <td>NaN</td>\n",
              "      <td>NaN</td>\n",
              "      <td>NaN</td>\n",
              "      <td>NaN</td>\n",
              "      <td>...</td>\n",
              "      <td>NaN</td>\n",
              "      <td>NaN</td>\n",
              "      <td>NaN</td>\n",
              "      <td>NaN</td>\n",
              "      <td>NaN</td>\n",
              "      <td>NaN</td>\n",
              "      <td>NaN</td>\n",
              "      <td>NaN</td>\n",
              "      <td>NaN</td>\n",
              "      <td>NaN</td>\n",
              "    </tr>\n",
              "    <tr>\n",
              "      <th>3</th>\n",
              "      <td>Arab World</td>\n",
              "      <td>ARB</td>\n",
              "      <td>Adjusted net enrolment rate, lower secondary, ...</td>\n",
              "      <td>UIS.NERA.2.M</td>\n",
              "      <td>NaN</td>\n",
              "      <td>NaN</td>\n",
              "      <td>NaN</td>\n",
              "      <td>NaN</td>\n",
              "      <td>NaN</td>\n",
              "      <td>NaN</td>\n",
              "      <td>...</td>\n",
              "      <td>NaN</td>\n",
              "      <td>NaN</td>\n",
              "      <td>NaN</td>\n",
              "      <td>NaN</td>\n",
              "      <td>NaN</td>\n",
              "      <td>NaN</td>\n",
              "      <td>NaN</td>\n",
              "      <td>NaN</td>\n",
              "      <td>NaN</td>\n",
              "      <td>NaN</td>\n",
              "    </tr>\n",
              "    <tr>\n",
              "      <th>4</th>\n",
              "      <td>Arab World</td>\n",
              "      <td>ARB</td>\n",
              "      <td>Adjusted net enrolment rate, primary, both sex...</td>\n",
              "      <td>SE.PRM.TENR</td>\n",
              "      <td>54.822121</td>\n",
              "      <td>54.894138</td>\n",
              "      <td>56.209438</td>\n",
              "      <td>57.267109</td>\n",
              "      <td>57.991138</td>\n",
              "      <td>59.365540</td>\n",
              "      <td>...</td>\n",
              "      <td>NaN</td>\n",
              "      <td>NaN</td>\n",
              "      <td>NaN</td>\n",
              "      <td>NaN</td>\n",
              "      <td>NaN</td>\n",
              "      <td>NaN</td>\n",
              "      <td>NaN</td>\n",
              "      <td>NaN</td>\n",
              "      <td>NaN</td>\n",
              "      <td>NaN</td>\n",
              "    </tr>\n",
              "    <tr>\n",
              "      <th>5</th>\n",
              "      <td>Arab World</td>\n",
              "      <td>ARB</td>\n",
              "      <td>Adjusted net enrolment rate, primary, female (%)</td>\n",
              "      <td>SE.PRM.TENR.FE</td>\n",
              "      <td>43.351101</td>\n",
              "      <td>43.318150</td>\n",
              "      <td>44.640701</td>\n",
              "      <td>45.845718</td>\n",
              "      <td>46.449501</td>\n",
              "      <td>48.363892</td>\n",
              "      <td>...</td>\n",
              "      <td>NaN</td>\n",
              "      <td>NaN</td>\n",
              "      <td>NaN</td>\n",
              "      <td>NaN</td>\n",
              "      <td>NaN</td>\n",
              "      <td>NaN</td>\n",
              "      <td>NaN</td>\n",
              "      <td>NaN</td>\n",
              "      <td>NaN</td>\n",
              "      <td>NaN</td>\n",
              "    </tr>\n",
              "    <tr>\n",
              "      <th>6</th>\n",
              "      <td>Arab World</td>\n",
              "      <td>ARB</td>\n",
              "      <td>Adjusted net enrolment rate, primary, gender p...</td>\n",
              "      <td>UIS.NERA.1.GPI</td>\n",
              "      <td>0.658570</td>\n",
              "      <td>0.656400</td>\n",
              "      <td>0.663290</td>\n",
              "      <td>0.672040</td>\n",
              "      <td>0.672610</td>\n",
              "      <td>0.691760</td>\n",
              "      <td>...</td>\n",
              "      <td>NaN</td>\n",
              "      <td>NaN</td>\n",
              "      <td>NaN</td>\n",
              "      <td>NaN</td>\n",
              "      <td>NaN</td>\n",
              "      <td>NaN</td>\n",
              "      <td>NaN</td>\n",
              "      <td>NaN</td>\n",
              "      <td>NaN</td>\n",
              "      <td>NaN</td>\n",
              "    </tr>\n",
              "    <tr>\n",
              "      <th>7</th>\n",
              "      <td>Arab World</td>\n",
              "      <td>ARB</td>\n",
              "      <td>Adjusted net enrolment rate, primary, male (%)</td>\n",
              "      <td>SE.PRM.TENR.MA</td>\n",
              "      <td>65.826233</td>\n",
              "      <td>65.993584</td>\n",
              "      <td>67.301857</td>\n",
              "      <td>68.219078</td>\n",
              "      <td>69.059013</td>\n",
              "      <td>69.914551</td>\n",
              "      <td>...</td>\n",
              "      <td>NaN</td>\n",
              "      <td>NaN</td>\n",
              "      <td>NaN</td>\n",
              "      <td>NaN</td>\n",
              "      <td>NaN</td>\n",
              "      <td>NaN</td>\n",
              "      <td>NaN</td>\n",
              "      <td>NaN</td>\n",
              "      <td>NaN</td>\n",
              "      <td>NaN</td>\n",
              "    </tr>\n",
              "    <tr>\n",
              "      <th>8</th>\n",
              "      <td>Arab World</td>\n",
              "      <td>ARB</td>\n",
              "      <td>Adjusted net enrolment rate, upper secondary, ...</td>\n",
              "      <td>UIS.NERA.3</td>\n",
              "      <td>NaN</td>\n",
              "      <td>NaN</td>\n",
              "      <td>NaN</td>\n",
              "      <td>NaN</td>\n",
              "      <td>NaN</td>\n",
              "      <td>NaN</td>\n",
              "      <td>...</td>\n",
              "      <td>NaN</td>\n",
              "      <td>NaN</td>\n",
              "      <td>NaN</td>\n",
              "      <td>NaN</td>\n",
              "      <td>NaN</td>\n",
              "      <td>NaN</td>\n",
              "      <td>NaN</td>\n",
              "      <td>NaN</td>\n",
              "      <td>NaN</td>\n",
              "      <td>NaN</td>\n",
              "    </tr>\n",
              "    <tr>\n",
              "      <th>9</th>\n",
              "      <td>Arab World</td>\n",
              "      <td>ARB</td>\n",
              "      <td>Adjusted net enrolment rate, upper secondary, ...</td>\n",
              "      <td>UIS.NERA.3.F</td>\n",
              "      <td>NaN</td>\n",
              "      <td>NaN</td>\n",
              "      <td>NaN</td>\n",
              "      <td>NaN</td>\n",
              "      <td>NaN</td>\n",
              "      <td>NaN</td>\n",
              "      <td>...</td>\n",
              "      <td>NaN</td>\n",
              "      <td>NaN</td>\n",
              "      <td>NaN</td>\n",
              "      <td>NaN</td>\n",
              "      <td>NaN</td>\n",
              "      <td>NaN</td>\n",
              "      <td>NaN</td>\n",
              "      <td>NaN</td>\n",
              "      <td>NaN</td>\n",
              "      <td>NaN</td>\n",
              "    </tr>\n",
              "  </tbody>\n",
              "</table>\n",
              "<p>10 rows × 70 columns</p>\n",
              "</div>\n",
              "    <div class=\"colab-df-buttons\">\n",
              "\n",
              "  <div class=\"colab-df-container\">\n",
              "    <button class=\"colab-df-convert\" onclick=\"convertToInteractive('df-70a886cc-f247-40b3-9120-accd3f80d30e')\"\n",
              "            title=\"Convert this dataframe to an interactive table.\"\n",
              "            style=\"display:none;\">\n",
              "\n",
              "  <svg xmlns=\"http://www.w3.org/2000/svg\" height=\"24px\" viewBox=\"0 -960 960 960\">\n",
              "    <path d=\"M120-120v-720h720v720H120Zm60-500h600v-160H180v160Zm220 220h160v-160H400v160Zm0 220h160v-160H400v160ZM180-400h160v-160H180v160Zm440 0h160v-160H620v160ZM180-180h160v-160H180v160Zm440 0h160v-160H620v160Z\"/>\n",
              "  </svg>\n",
              "    </button>\n",
              "\n",
              "  <style>\n",
              "    .colab-df-container {\n",
              "      display:flex;\n",
              "      gap: 12px;\n",
              "    }\n",
              "\n",
              "    .colab-df-convert {\n",
              "      background-color: #E8F0FE;\n",
              "      border: none;\n",
              "      border-radius: 50%;\n",
              "      cursor: pointer;\n",
              "      display: none;\n",
              "      fill: #1967D2;\n",
              "      height: 32px;\n",
              "      padding: 0 0 0 0;\n",
              "      width: 32px;\n",
              "    }\n",
              "\n",
              "    .colab-df-convert:hover {\n",
              "      background-color: #E2EBFA;\n",
              "      box-shadow: 0px 1px 2px rgba(60, 64, 67, 0.3), 0px 1px 3px 1px rgba(60, 64, 67, 0.15);\n",
              "      fill: #174EA6;\n",
              "    }\n",
              "\n",
              "    .colab-df-buttons div {\n",
              "      margin-bottom: 4px;\n",
              "    }\n",
              "\n",
              "    [theme=dark] .colab-df-convert {\n",
              "      background-color: #3B4455;\n",
              "      fill: #D2E3FC;\n",
              "    }\n",
              "\n",
              "    [theme=dark] .colab-df-convert:hover {\n",
              "      background-color: #434B5C;\n",
              "      box-shadow: 0px 1px 3px 1px rgba(0, 0, 0, 0.15);\n",
              "      filter: drop-shadow(0px 1px 2px rgba(0, 0, 0, 0.3));\n",
              "      fill: #FFFFFF;\n",
              "    }\n",
              "  </style>\n",
              "\n",
              "    <script>\n",
              "      const buttonEl =\n",
              "        document.querySelector('#df-70a886cc-f247-40b3-9120-accd3f80d30e button.colab-df-convert');\n",
              "      buttonEl.style.display =\n",
              "        google.colab.kernel.accessAllowed ? 'block' : 'none';\n",
              "\n",
              "      async function convertToInteractive(key) {\n",
              "        const element = document.querySelector('#df-70a886cc-f247-40b3-9120-accd3f80d30e');\n",
              "        const dataTable =\n",
              "          await google.colab.kernel.invokeFunction('convertToInteractive',\n",
              "                                                    [key], {});\n",
              "        if (!dataTable) return;\n",
              "\n",
              "        const docLinkHtml = 'Like what you see? Visit the ' +\n",
              "          '<a target=\"_blank\" href=https://colab.research.google.com/notebooks/data_table.ipynb>data table notebook</a>'\n",
              "          + ' to learn more about interactive tables.';\n",
              "        element.innerHTML = '';\n",
              "        dataTable['output_type'] = 'display_data';\n",
              "        await google.colab.output.renderOutput(dataTable, element);\n",
              "        const docLink = document.createElement('div');\n",
              "        docLink.innerHTML = docLinkHtml;\n",
              "        element.appendChild(docLink);\n",
              "      }\n",
              "    </script>\n",
              "  </div>\n",
              "\n",
              "\n",
              "<div id=\"df-8cb4a32c-9338-4576-80cd-b8df2f515ca5\">\n",
              "  <button class=\"colab-df-quickchart\" onclick=\"quickchart('df-8cb4a32c-9338-4576-80cd-b8df2f515ca5')\"\n",
              "            title=\"Suggest charts\"\n",
              "            style=\"display:none;\">\n",
              "\n",
              "<svg xmlns=\"http://www.w3.org/2000/svg\" height=\"24px\"viewBox=\"0 0 24 24\"\n",
              "     width=\"24px\">\n",
              "    <g>\n",
              "        <path d=\"M19 3H5c-1.1 0-2 .9-2 2v14c0 1.1.9 2 2 2h14c1.1 0 2-.9 2-2V5c0-1.1-.9-2-2-2zM9 17H7v-7h2v7zm4 0h-2V7h2v10zm4 0h-2v-4h2v4z\"/>\n",
              "    </g>\n",
              "</svg>\n",
              "  </button>\n",
              "\n",
              "<style>\n",
              "  .colab-df-quickchart {\n",
              "      --bg-color: #E8F0FE;\n",
              "      --fill-color: #1967D2;\n",
              "      --hover-bg-color: #E2EBFA;\n",
              "      --hover-fill-color: #174EA6;\n",
              "      --disabled-fill-color: #AAA;\n",
              "      --disabled-bg-color: #DDD;\n",
              "  }\n",
              "\n",
              "  [theme=dark] .colab-df-quickchart {\n",
              "      --bg-color: #3B4455;\n",
              "      --fill-color: #D2E3FC;\n",
              "      --hover-bg-color: #434B5C;\n",
              "      --hover-fill-color: #FFFFFF;\n",
              "      --disabled-bg-color: #3B4455;\n",
              "      --disabled-fill-color: #666;\n",
              "  }\n",
              "\n",
              "  .colab-df-quickchart {\n",
              "    background-color: var(--bg-color);\n",
              "    border: none;\n",
              "    border-radius: 50%;\n",
              "    cursor: pointer;\n",
              "    display: none;\n",
              "    fill: var(--fill-color);\n",
              "    height: 32px;\n",
              "    padding: 0;\n",
              "    width: 32px;\n",
              "  }\n",
              "\n",
              "  .colab-df-quickchart:hover {\n",
              "    background-color: var(--hover-bg-color);\n",
              "    box-shadow: 0 1px 2px rgba(60, 64, 67, 0.3), 0 1px 3px 1px rgba(60, 64, 67, 0.15);\n",
              "    fill: var(--button-hover-fill-color);\n",
              "  }\n",
              "\n",
              "  .colab-df-quickchart-complete:disabled,\n",
              "  .colab-df-quickchart-complete:disabled:hover {\n",
              "    background-color: var(--disabled-bg-color);\n",
              "    fill: var(--disabled-fill-color);\n",
              "    box-shadow: none;\n",
              "  }\n",
              "\n",
              "  .colab-df-spinner {\n",
              "    border: 2px solid var(--fill-color);\n",
              "    border-color: transparent;\n",
              "    border-bottom-color: var(--fill-color);\n",
              "    animation:\n",
              "      spin 1s steps(1) infinite;\n",
              "  }\n",
              "\n",
              "  @keyframes spin {\n",
              "    0% {\n",
              "      border-color: transparent;\n",
              "      border-bottom-color: var(--fill-color);\n",
              "      border-left-color: var(--fill-color);\n",
              "    }\n",
              "    20% {\n",
              "      border-color: transparent;\n",
              "      border-left-color: var(--fill-color);\n",
              "      border-top-color: var(--fill-color);\n",
              "    }\n",
              "    30% {\n",
              "      border-color: transparent;\n",
              "      border-left-color: var(--fill-color);\n",
              "      border-top-color: var(--fill-color);\n",
              "      border-right-color: var(--fill-color);\n",
              "    }\n",
              "    40% {\n",
              "      border-color: transparent;\n",
              "      border-right-color: var(--fill-color);\n",
              "      border-top-color: var(--fill-color);\n",
              "    }\n",
              "    60% {\n",
              "      border-color: transparent;\n",
              "      border-right-color: var(--fill-color);\n",
              "    }\n",
              "    80% {\n",
              "      border-color: transparent;\n",
              "      border-right-color: var(--fill-color);\n",
              "      border-bottom-color: var(--fill-color);\n",
              "    }\n",
              "    90% {\n",
              "      border-color: transparent;\n",
              "      border-bottom-color: var(--fill-color);\n",
              "    }\n",
              "  }\n",
              "</style>\n",
              "\n",
              "  <script>\n",
              "    async function quickchart(key) {\n",
              "      const quickchartButtonEl =\n",
              "        document.querySelector('#' + key + ' button');\n",
              "      quickchartButtonEl.disabled = true;  // To prevent multiple clicks.\n",
              "      quickchartButtonEl.classList.add('colab-df-spinner');\n",
              "      try {\n",
              "        const charts = await google.colab.kernel.invokeFunction(\n",
              "            'suggestCharts', [key], {});\n",
              "      } catch (error) {\n",
              "        console.error('Error during call to suggestCharts:', error);\n",
              "      }\n",
              "      quickchartButtonEl.classList.remove('colab-df-spinner');\n",
              "      quickchartButtonEl.classList.add('colab-df-quickchart-complete');\n",
              "    }\n",
              "    (() => {\n",
              "      let quickchartButtonEl =\n",
              "        document.querySelector('#df-8cb4a32c-9338-4576-80cd-b8df2f515ca5 button');\n",
              "      quickchartButtonEl.style.display =\n",
              "        google.colab.kernel.accessAllowed ? 'block' : 'none';\n",
              "    })();\n",
              "  </script>\n",
              "</div>\n",
              "    </div>\n",
              "  </div>\n"
            ]
          },
          "metadata": {},
          "execution_count": 5
        }
      ]
    },
    {
      "cell_type": "markdown",
      "source": [
        "### Dataset Information"
      ],
      "metadata": {
        "id": "JlHwYmJAmNHm"
      }
    },
    {
      "cell_type": "code",
      "source": [
        "# Dataset Info\n",
        "Edustats.describe()"
      ],
      "metadata": {
        "id": "e9hRXRi6meOf",
        "outputId": "b5767ebc-07b6-427d-ee6c-25127edbc45b",
        "colab": {
          "base_uri": "https://localhost:8080/",
          "height": 852
        }
      },
      "execution_count": 8,
      "outputs": [
        {
          "output_type": "execute_result",
          "data": {
            "text/plain": [
              "               1970          1971          1972          1973          1974  \\\n",
              "count  7.228800e+04  3.553700e+04  3.561900e+04  3.554500e+04  3.573000e+04   \n",
              "mean   1.974772e+09  4.253638e+09  4.592365e+09  5.105006e+09  5.401493e+09   \n",
              "std    1.211687e+11  1.804814e+11  1.914083e+11  2.059170e+11  2.112150e+11   \n",
              "min   -1.435564e+00 -1.594625e+00 -3.056522e+00 -4.032582e+00 -4.213563e+00   \n",
              "25%    8.900000e-01  8.853210e+00  9.240920e+00  9.595200e+00  9.861595e+00   \n",
              "50%    6.317724e+00  6.316240e+01  6.655139e+01  6.969595e+01  7.087760e+01   \n",
              "75%    6.251250e+01  5.655200e+04  5.863650e+04  6.202900e+04  6.383675e+04   \n",
              "max    1.903929e+13  1.986457e+13  2.100916e+13  2.238367e+13  2.282991e+13   \n",
              "\n",
              "               1975          1976          1977          1978          1979  \\\n",
              "count  8.730600e+04  3.748300e+04  3.757400e+04  3.757600e+04  3.680900e+04   \n",
              "mean   2.314288e+09  5.731808e+09  6.124437e+09  6.671489e+09  7.436724e+09   \n",
              "std    1.375059e+11  2.215546e+11  2.325489e+11  2.473986e+11  2.660957e+11   \n",
              "min   -3.658569e+00 -2.950945e+00 -3.174870e+00 -3.558749e+00 -2.973612e+00   \n",
              "25%    1.400000e+00  9.312615e+00  9.519913e+00  1.000000e+01  1.000000e+01   \n",
              "50%    9.677420e+00  7.101590e+01  7.133326e+01  7.290512e+01  7.510173e+01   \n",
              "75%    7.854163e+01  5.682800e+04  5.739175e+04  5.940425e+04  6.411500e+04   \n",
              "max    2.300634e+13  2.424128e+13  2.521383e+13  2.622101e+13  2.730873e+13   \n",
              "\n",
              "       ...          2060          2065          2070          2075  \\\n",
              "count  ...  5.143600e+04  5.143600e+04  5.143600e+04  5.143600e+04   \n",
              "mean   ...  7.224868e+02  7.271290e+02  7.283779e+02  7.266484e+02   \n",
              "std    ...  2.215845e+04  2.287990e+04  2.352338e+04  2.408149e+04   \n",
              "min    ... -1.630000e+00 -1.440000e+00 -1.260000e+00 -1.090000e+00   \n",
              "25%    ...  3.000000e-02  3.000000e-02  2.000000e-02  2.000000e-02   \n",
              "50%    ...  2.300000e-01  2.300000e-01  2.300000e-01  2.300000e-01   \n",
              "75%    ...  7.505000e+00  7.500000e+00  7.300000e+00  7.100000e+00   \n",
              "max    ...  2.951569e+06  3.070879e+06  3.169711e+06  3.246239e+06   \n",
              "\n",
              "               2080          2085          2090          2095          2100  \\\n",
              "count  5.143600e+04  5.143600e+04  5.143600e+04  5.143600e+04  5.143600e+04   \n",
              "mean   7.228327e+02  7.176899e+02  7.113072e+02  7.034274e+02  6.940296e+02   \n",
              "std    2.455897e+04  2.496587e+04  2.530183e+04  2.556069e+04  2.574189e+04   \n",
              "min   -9.200000e-01 -7.800000e-01 -6.500000e-01 -5.500000e-01 -4.500000e-01   \n",
              "25%    1.000000e-02  1.000000e-02  1.000000e-02  1.000000e-02  1.000000e-02   \n",
              "50%    2.300000e-01  2.300000e-01  2.300000e-01  2.300000e-01  2.200000e-01   \n",
              "75%    6.722500e+00  6.080000e+00  5.462500e+00  4.680000e+00  4.032500e+00   \n",
              "max    3.301586e+06  3.337871e+06  3.354746e+06  3.351887e+06  3.330484e+06   \n",
              "\n",
              "       Unnamed: 69  \n",
              "count          0.0  \n",
              "mean           NaN  \n",
              "std            NaN  \n",
              "min            NaN  \n",
              "25%            NaN  \n",
              "50%            NaN  \n",
              "75%            NaN  \n",
              "max            NaN  \n",
              "\n",
              "[8 rows x 66 columns]"
            ],
            "text/html": [
              "\n",
              "  <div id=\"df-63ca2695-0fa1-4fce-a678-7dfabac5882a\" class=\"colab-df-container\">\n",
              "    <div>\n",
              "<style scoped>\n",
              "    .dataframe tbody tr th:only-of-type {\n",
              "        vertical-align: middle;\n",
              "    }\n",
              "\n",
              "    .dataframe tbody tr th {\n",
              "        vertical-align: top;\n",
              "    }\n",
              "\n",
              "    .dataframe thead th {\n",
              "        text-align: right;\n",
              "    }\n",
              "</style>\n",
              "<table border=\"1\" class=\"dataframe\">\n",
              "  <thead>\n",
              "    <tr style=\"text-align: right;\">\n",
              "      <th></th>\n",
              "      <th>1970</th>\n",
              "      <th>1971</th>\n",
              "      <th>1972</th>\n",
              "      <th>1973</th>\n",
              "      <th>1974</th>\n",
              "      <th>1975</th>\n",
              "      <th>1976</th>\n",
              "      <th>1977</th>\n",
              "      <th>1978</th>\n",
              "      <th>1979</th>\n",
              "      <th>...</th>\n",
              "      <th>2060</th>\n",
              "      <th>2065</th>\n",
              "      <th>2070</th>\n",
              "      <th>2075</th>\n",
              "      <th>2080</th>\n",
              "      <th>2085</th>\n",
              "      <th>2090</th>\n",
              "      <th>2095</th>\n",
              "      <th>2100</th>\n",
              "      <th>Unnamed: 69</th>\n",
              "    </tr>\n",
              "  </thead>\n",
              "  <tbody>\n",
              "    <tr>\n",
              "      <th>count</th>\n",
              "      <td>7.228800e+04</td>\n",
              "      <td>3.553700e+04</td>\n",
              "      <td>3.561900e+04</td>\n",
              "      <td>3.554500e+04</td>\n",
              "      <td>3.573000e+04</td>\n",
              "      <td>8.730600e+04</td>\n",
              "      <td>3.748300e+04</td>\n",
              "      <td>3.757400e+04</td>\n",
              "      <td>3.757600e+04</td>\n",
              "      <td>3.680900e+04</td>\n",
              "      <td>...</td>\n",
              "      <td>5.143600e+04</td>\n",
              "      <td>5.143600e+04</td>\n",
              "      <td>5.143600e+04</td>\n",
              "      <td>5.143600e+04</td>\n",
              "      <td>5.143600e+04</td>\n",
              "      <td>5.143600e+04</td>\n",
              "      <td>5.143600e+04</td>\n",
              "      <td>5.143600e+04</td>\n",
              "      <td>5.143600e+04</td>\n",
              "      <td>0.0</td>\n",
              "    </tr>\n",
              "    <tr>\n",
              "      <th>mean</th>\n",
              "      <td>1.974772e+09</td>\n",
              "      <td>4.253638e+09</td>\n",
              "      <td>4.592365e+09</td>\n",
              "      <td>5.105006e+09</td>\n",
              "      <td>5.401493e+09</td>\n",
              "      <td>2.314288e+09</td>\n",
              "      <td>5.731808e+09</td>\n",
              "      <td>6.124437e+09</td>\n",
              "      <td>6.671489e+09</td>\n",
              "      <td>7.436724e+09</td>\n",
              "      <td>...</td>\n",
              "      <td>7.224868e+02</td>\n",
              "      <td>7.271290e+02</td>\n",
              "      <td>7.283779e+02</td>\n",
              "      <td>7.266484e+02</td>\n",
              "      <td>7.228327e+02</td>\n",
              "      <td>7.176899e+02</td>\n",
              "      <td>7.113072e+02</td>\n",
              "      <td>7.034274e+02</td>\n",
              "      <td>6.940296e+02</td>\n",
              "      <td>NaN</td>\n",
              "    </tr>\n",
              "    <tr>\n",
              "      <th>std</th>\n",
              "      <td>1.211687e+11</td>\n",
              "      <td>1.804814e+11</td>\n",
              "      <td>1.914083e+11</td>\n",
              "      <td>2.059170e+11</td>\n",
              "      <td>2.112150e+11</td>\n",
              "      <td>1.375059e+11</td>\n",
              "      <td>2.215546e+11</td>\n",
              "      <td>2.325489e+11</td>\n",
              "      <td>2.473986e+11</td>\n",
              "      <td>2.660957e+11</td>\n",
              "      <td>...</td>\n",
              "      <td>2.215845e+04</td>\n",
              "      <td>2.287990e+04</td>\n",
              "      <td>2.352338e+04</td>\n",
              "      <td>2.408149e+04</td>\n",
              "      <td>2.455897e+04</td>\n",
              "      <td>2.496587e+04</td>\n",
              "      <td>2.530183e+04</td>\n",
              "      <td>2.556069e+04</td>\n",
              "      <td>2.574189e+04</td>\n",
              "      <td>NaN</td>\n",
              "    </tr>\n",
              "    <tr>\n",
              "      <th>min</th>\n",
              "      <td>-1.435564e+00</td>\n",
              "      <td>-1.594625e+00</td>\n",
              "      <td>-3.056522e+00</td>\n",
              "      <td>-4.032582e+00</td>\n",
              "      <td>-4.213563e+00</td>\n",
              "      <td>-3.658569e+00</td>\n",
              "      <td>-2.950945e+00</td>\n",
              "      <td>-3.174870e+00</td>\n",
              "      <td>-3.558749e+00</td>\n",
              "      <td>-2.973612e+00</td>\n",
              "      <td>...</td>\n",
              "      <td>-1.630000e+00</td>\n",
              "      <td>-1.440000e+00</td>\n",
              "      <td>-1.260000e+00</td>\n",
              "      <td>-1.090000e+00</td>\n",
              "      <td>-9.200000e-01</td>\n",
              "      <td>-7.800000e-01</td>\n",
              "      <td>-6.500000e-01</td>\n",
              "      <td>-5.500000e-01</td>\n",
              "      <td>-4.500000e-01</td>\n",
              "      <td>NaN</td>\n",
              "    </tr>\n",
              "    <tr>\n",
              "      <th>25%</th>\n",
              "      <td>8.900000e-01</td>\n",
              "      <td>8.853210e+00</td>\n",
              "      <td>9.240920e+00</td>\n",
              "      <td>9.595200e+00</td>\n",
              "      <td>9.861595e+00</td>\n",
              "      <td>1.400000e+00</td>\n",
              "      <td>9.312615e+00</td>\n",
              "      <td>9.519913e+00</td>\n",
              "      <td>1.000000e+01</td>\n",
              "      <td>1.000000e+01</td>\n",
              "      <td>...</td>\n",
              "      <td>3.000000e-02</td>\n",
              "      <td>3.000000e-02</td>\n",
              "      <td>2.000000e-02</td>\n",
              "      <td>2.000000e-02</td>\n",
              "      <td>1.000000e-02</td>\n",
              "      <td>1.000000e-02</td>\n",
              "      <td>1.000000e-02</td>\n",
              "      <td>1.000000e-02</td>\n",
              "      <td>1.000000e-02</td>\n",
              "      <td>NaN</td>\n",
              "    </tr>\n",
              "    <tr>\n",
              "      <th>50%</th>\n",
              "      <td>6.317724e+00</td>\n",
              "      <td>6.316240e+01</td>\n",
              "      <td>6.655139e+01</td>\n",
              "      <td>6.969595e+01</td>\n",
              "      <td>7.087760e+01</td>\n",
              "      <td>9.677420e+00</td>\n",
              "      <td>7.101590e+01</td>\n",
              "      <td>7.133326e+01</td>\n",
              "      <td>7.290512e+01</td>\n",
              "      <td>7.510173e+01</td>\n",
              "      <td>...</td>\n",
              "      <td>2.300000e-01</td>\n",
              "      <td>2.300000e-01</td>\n",
              "      <td>2.300000e-01</td>\n",
              "      <td>2.300000e-01</td>\n",
              "      <td>2.300000e-01</td>\n",
              "      <td>2.300000e-01</td>\n",
              "      <td>2.300000e-01</td>\n",
              "      <td>2.300000e-01</td>\n",
              "      <td>2.200000e-01</td>\n",
              "      <td>NaN</td>\n",
              "    </tr>\n",
              "    <tr>\n",
              "      <th>75%</th>\n",
              "      <td>6.251250e+01</td>\n",
              "      <td>5.655200e+04</td>\n",
              "      <td>5.863650e+04</td>\n",
              "      <td>6.202900e+04</td>\n",
              "      <td>6.383675e+04</td>\n",
              "      <td>7.854163e+01</td>\n",
              "      <td>5.682800e+04</td>\n",
              "      <td>5.739175e+04</td>\n",
              "      <td>5.940425e+04</td>\n",
              "      <td>6.411500e+04</td>\n",
              "      <td>...</td>\n",
              "      <td>7.505000e+00</td>\n",
              "      <td>7.500000e+00</td>\n",
              "      <td>7.300000e+00</td>\n",
              "      <td>7.100000e+00</td>\n",
              "      <td>6.722500e+00</td>\n",
              "      <td>6.080000e+00</td>\n",
              "      <td>5.462500e+00</td>\n",
              "      <td>4.680000e+00</td>\n",
              "      <td>4.032500e+00</td>\n",
              "      <td>NaN</td>\n",
              "    </tr>\n",
              "    <tr>\n",
              "      <th>max</th>\n",
              "      <td>1.903929e+13</td>\n",
              "      <td>1.986457e+13</td>\n",
              "      <td>2.100916e+13</td>\n",
              "      <td>2.238367e+13</td>\n",
              "      <td>2.282991e+13</td>\n",
              "      <td>2.300634e+13</td>\n",
              "      <td>2.424128e+13</td>\n",
              "      <td>2.521383e+13</td>\n",
              "      <td>2.622101e+13</td>\n",
              "      <td>2.730873e+13</td>\n",
              "      <td>...</td>\n",
              "      <td>2.951569e+06</td>\n",
              "      <td>3.070879e+06</td>\n",
              "      <td>3.169711e+06</td>\n",
              "      <td>3.246239e+06</td>\n",
              "      <td>3.301586e+06</td>\n",
              "      <td>3.337871e+06</td>\n",
              "      <td>3.354746e+06</td>\n",
              "      <td>3.351887e+06</td>\n",
              "      <td>3.330484e+06</td>\n",
              "      <td>NaN</td>\n",
              "    </tr>\n",
              "  </tbody>\n",
              "</table>\n",
              "<p>8 rows × 66 columns</p>\n",
              "</div>\n",
              "    <div class=\"colab-df-buttons\">\n",
              "\n",
              "  <div class=\"colab-df-container\">\n",
              "    <button class=\"colab-df-convert\" onclick=\"convertToInteractive('df-63ca2695-0fa1-4fce-a678-7dfabac5882a')\"\n",
              "            title=\"Convert this dataframe to an interactive table.\"\n",
              "            style=\"display:none;\">\n",
              "\n",
              "  <svg xmlns=\"http://www.w3.org/2000/svg\" height=\"24px\" viewBox=\"0 -960 960 960\">\n",
              "    <path d=\"M120-120v-720h720v720H120Zm60-500h600v-160H180v160Zm220 220h160v-160H400v160Zm0 220h160v-160H400v160ZM180-400h160v-160H180v160Zm440 0h160v-160H620v160ZM180-180h160v-160H180v160Zm440 0h160v-160H620v160Z\"/>\n",
              "  </svg>\n",
              "    </button>\n",
              "\n",
              "  <style>\n",
              "    .colab-df-container {\n",
              "      display:flex;\n",
              "      gap: 12px;\n",
              "    }\n",
              "\n",
              "    .colab-df-convert {\n",
              "      background-color: #E8F0FE;\n",
              "      border: none;\n",
              "      border-radius: 50%;\n",
              "      cursor: pointer;\n",
              "      display: none;\n",
              "      fill: #1967D2;\n",
              "      height: 32px;\n",
              "      padding: 0 0 0 0;\n",
              "      width: 32px;\n",
              "    }\n",
              "\n",
              "    .colab-df-convert:hover {\n",
              "      background-color: #E2EBFA;\n",
              "      box-shadow: 0px 1px 2px rgba(60, 64, 67, 0.3), 0px 1px 3px 1px rgba(60, 64, 67, 0.15);\n",
              "      fill: #174EA6;\n",
              "    }\n",
              "\n",
              "    .colab-df-buttons div {\n",
              "      margin-bottom: 4px;\n",
              "    }\n",
              "\n",
              "    [theme=dark] .colab-df-convert {\n",
              "      background-color: #3B4455;\n",
              "      fill: #D2E3FC;\n",
              "    }\n",
              "\n",
              "    [theme=dark] .colab-df-convert:hover {\n",
              "      background-color: #434B5C;\n",
              "      box-shadow: 0px 1px 3px 1px rgba(0, 0, 0, 0.15);\n",
              "      filter: drop-shadow(0px 1px 2px rgba(0, 0, 0, 0.3));\n",
              "      fill: #FFFFFF;\n",
              "    }\n",
              "  </style>\n",
              "\n",
              "    <script>\n",
              "      const buttonEl =\n",
              "        document.querySelector('#df-63ca2695-0fa1-4fce-a678-7dfabac5882a button.colab-df-convert');\n",
              "      buttonEl.style.display =\n",
              "        google.colab.kernel.accessAllowed ? 'block' : 'none';\n",
              "\n",
              "      async function convertToInteractive(key) {\n",
              "        const element = document.querySelector('#df-63ca2695-0fa1-4fce-a678-7dfabac5882a');\n",
              "        const dataTable =\n",
              "          await google.colab.kernel.invokeFunction('convertToInteractive',\n",
              "                                                    [key], {});\n",
              "        if (!dataTable) return;\n",
              "\n",
              "        const docLinkHtml = 'Like what you see? Visit the ' +\n",
              "          '<a target=\"_blank\" href=https://colab.research.google.com/notebooks/data_table.ipynb>data table notebook</a>'\n",
              "          + ' to learn more about interactive tables.';\n",
              "        element.innerHTML = '';\n",
              "        dataTable['output_type'] = 'display_data';\n",
              "        await google.colab.output.renderOutput(dataTable, element);\n",
              "        const docLink = document.createElement('div');\n",
              "        docLink.innerHTML = docLinkHtml;\n",
              "        element.appendChild(docLink);\n",
              "      }\n",
              "    </script>\n",
              "  </div>\n",
              "\n",
              "\n",
              "<div id=\"df-d6a217c4-1d06-44fe-9d7c-4a8c5953470a\">\n",
              "  <button class=\"colab-df-quickchart\" onclick=\"quickchart('df-d6a217c4-1d06-44fe-9d7c-4a8c5953470a')\"\n",
              "            title=\"Suggest charts\"\n",
              "            style=\"display:none;\">\n",
              "\n",
              "<svg xmlns=\"http://www.w3.org/2000/svg\" height=\"24px\"viewBox=\"0 0 24 24\"\n",
              "     width=\"24px\">\n",
              "    <g>\n",
              "        <path d=\"M19 3H5c-1.1 0-2 .9-2 2v14c0 1.1.9 2 2 2h14c1.1 0 2-.9 2-2V5c0-1.1-.9-2-2-2zM9 17H7v-7h2v7zm4 0h-2V7h2v10zm4 0h-2v-4h2v4z\"/>\n",
              "    </g>\n",
              "</svg>\n",
              "  </button>\n",
              "\n",
              "<style>\n",
              "  .colab-df-quickchart {\n",
              "      --bg-color: #E8F0FE;\n",
              "      --fill-color: #1967D2;\n",
              "      --hover-bg-color: #E2EBFA;\n",
              "      --hover-fill-color: #174EA6;\n",
              "      --disabled-fill-color: #AAA;\n",
              "      --disabled-bg-color: #DDD;\n",
              "  }\n",
              "\n",
              "  [theme=dark] .colab-df-quickchart {\n",
              "      --bg-color: #3B4455;\n",
              "      --fill-color: #D2E3FC;\n",
              "      --hover-bg-color: #434B5C;\n",
              "      --hover-fill-color: #FFFFFF;\n",
              "      --disabled-bg-color: #3B4455;\n",
              "      --disabled-fill-color: #666;\n",
              "  }\n",
              "\n",
              "  .colab-df-quickchart {\n",
              "    background-color: var(--bg-color);\n",
              "    border: none;\n",
              "    border-radius: 50%;\n",
              "    cursor: pointer;\n",
              "    display: none;\n",
              "    fill: var(--fill-color);\n",
              "    height: 32px;\n",
              "    padding: 0;\n",
              "    width: 32px;\n",
              "  }\n",
              "\n",
              "  .colab-df-quickchart:hover {\n",
              "    background-color: var(--hover-bg-color);\n",
              "    box-shadow: 0 1px 2px rgba(60, 64, 67, 0.3), 0 1px 3px 1px rgba(60, 64, 67, 0.15);\n",
              "    fill: var(--button-hover-fill-color);\n",
              "  }\n",
              "\n",
              "  .colab-df-quickchart-complete:disabled,\n",
              "  .colab-df-quickchart-complete:disabled:hover {\n",
              "    background-color: var(--disabled-bg-color);\n",
              "    fill: var(--disabled-fill-color);\n",
              "    box-shadow: none;\n",
              "  }\n",
              "\n",
              "  .colab-df-spinner {\n",
              "    border: 2px solid var(--fill-color);\n",
              "    border-color: transparent;\n",
              "    border-bottom-color: var(--fill-color);\n",
              "    animation:\n",
              "      spin 1s steps(1) infinite;\n",
              "  }\n",
              "\n",
              "  @keyframes spin {\n",
              "    0% {\n",
              "      border-color: transparent;\n",
              "      border-bottom-color: var(--fill-color);\n",
              "      border-left-color: var(--fill-color);\n",
              "    }\n",
              "    20% {\n",
              "      border-color: transparent;\n",
              "      border-left-color: var(--fill-color);\n",
              "      border-top-color: var(--fill-color);\n",
              "    }\n",
              "    30% {\n",
              "      border-color: transparent;\n",
              "      border-left-color: var(--fill-color);\n",
              "      border-top-color: var(--fill-color);\n",
              "      border-right-color: var(--fill-color);\n",
              "    }\n",
              "    40% {\n",
              "      border-color: transparent;\n",
              "      border-right-color: var(--fill-color);\n",
              "      border-top-color: var(--fill-color);\n",
              "    }\n",
              "    60% {\n",
              "      border-color: transparent;\n",
              "      border-right-color: var(--fill-color);\n",
              "    }\n",
              "    80% {\n",
              "      border-color: transparent;\n",
              "      border-right-color: var(--fill-color);\n",
              "      border-bottom-color: var(--fill-color);\n",
              "    }\n",
              "    90% {\n",
              "      border-color: transparent;\n",
              "      border-bottom-color: var(--fill-color);\n",
              "    }\n",
              "  }\n",
              "</style>\n",
              "\n",
              "  <script>\n",
              "    async function quickchart(key) {\n",
              "      const quickchartButtonEl =\n",
              "        document.querySelector('#' + key + ' button');\n",
              "      quickchartButtonEl.disabled = true;  // To prevent multiple clicks.\n",
              "      quickchartButtonEl.classList.add('colab-df-spinner');\n",
              "      try {\n",
              "        const charts = await google.colab.kernel.invokeFunction(\n",
              "            'suggestCharts', [key], {});\n",
              "      } catch (error) {\n",
              "        console.error('Error during call to suggestCharts:', error);\n",
              "      }\n",
              "      quickchartButtonEl.classList.remove('colab-df-spinner');\n",
              "      quickchartButtonEl.classList.add('colab-df-quickchart-complete');\n",
              "    }\n",
              "    (() => {\n",
              "      let quickchartButtonEl =\n",
              "        document.querySelector('#df-d6a217c4-1d06-44fe-9d7c-4a8c5953470a button');\n",
              "      quickchartButtonEl.style.display =\n",
              "        google.colab.kernel.accessAllowed ? 'block' : 'none';\n",
              "    })();\n",
              "  </script>\n",
              "</div>\n",
              "    </div>\n",
              "  </div>\n"
            ]
          },
          "metadata": {},
          "execution_count": 8
        },
        {
          "output_type": "display_data",
          "data": {
            "text/plain": [
              "<google.colab._quickchart_helpers.SectionTitle at 0x7ef879b9b820>"
            ],
            "text/html": [
              "<h4 class=\"colab-quickchart-section-title\">Distributions</h4>\n",
              "<style>\n",
              "  .colab-quickchart-section-title {\n",
              "      clear: both;\n",
              "  }\n",
              "</style>"
            ]
          },
          "metadata": {}
        },
        {
          "output_type": "display_data",
          "data": {
            "text/plain": [
              "from matplotlib import pyplot as plt\n",
              "_df_0['1970'].plot(kind='hist', bins=20, title='1970')\n",
              "plt.gca().spines[['top', 'right',]].set_visible(False)"
            ],
            "text/html": [
              "      <div class=\"colab-quickchart-chart-with-code\" id=\"chart-7678df21-36b1-4e23-8b82-96f10c88b900\">\n",
              "        <img style=\"width: 180px;\" src=\"data:image/png;base64,iVBORw0KGgoAAAANSUhEUgAAAiAAAAG5CAYAAAC3CI8KAAAAOXRFWHRTb2Z0d2FyZQBNYXRwbG90\n",
              "bGliIHZlcnNpb24zLjcuMSwgaHR0cHM6Ly9tYXRwbG90bGliLm9yZy/bCgiHAAAACXBIWXMAAA9h\n",
              "AAAPYQGoP6dpAAAeUUlEQVR4nO3dfZBV5X3A8d/dxa4YYRGQhkiAoICBUd50S1HTmJiKxoBVEhNr\n",
              "1UoCwTjGwVbDxEmipW4yTRM1HerLIB3jjOIL0RaidrD4ktLwGohJJhjeRCyIRVkQ4SK7p3843vEG\n",
              "0L2451n27uczc2e85557zvPM9Yxfzz17TyHLsiwAABKqae8BAACdjwABAJITIABAcgIEAEhOgAAA\n",
              "yQkQACA5AQIAJCdAAIDkBAgAkJwAAQCSEyDAYXnwwQfjrLPOiu7du0ehUIj9+/eXvT5//vwYM2ZM\n",
              "dO/ePfr37x+NjY1lr5933nlx7LHHlh4f+chHolAoxI9//OPSOps2bYoLLrggunXrFr17945rrrkm\n",
              "9u3bl2R+QL4ECHBYjjvuuLj66qvjtttuO+C1ZcuWxaRJk+I73/lO7NixIx5//PG4/fbb44477iit\n",
              "88QTT8Sbb75ZejzwwANx1FFHxZe//OWIiGhpaYkLLrggevbsGa+88kqsWLEinnvuufj7v//7VFME\n",
              "clRwMzrgw3jmmWfi7LPPjrfffju6dOkSERE33nhjrF69Op588snSejfddFPMnTs3/vCHPxx0O+PH\n",
              "j4/6+vqYO3duREQ8++yzcc4558SWLVuid+/eERHx+OOPx6WXXhrbt2+Po48+OueZAXlyBgRoc1mW\n",
              "xR//v01LS0usXbs2du3adcD669ati//8z/+Mq6++urRs1apVMWjQoFJ8REScfvrp8dZbb8WLL76Y\n",
              "3+CBJAQI0OYmTJgQixYtinnz5sX+/ftj+fLlce+990ZExM6dOw9Y/1//9V9j2LBh8Rd/8RelZTt3\n",
              "7owePXqUrXfccccdchtAxyJAgDZ35plnxv333x8zZ86MPn36xDe+8Y2YNm1a1NTUlCLiXXv37o05\n",
              "c+bEtGnTypZ37949duzYUbbsjTfeKL0GdGwCBMjFl770pVi5cmW8/vrrsWTJktixY0f8+Z//eRxz\n",
              "zDFl6z344IOxb9++uPzyy8uWjxw5MjZs2BDbt28vLVu+fHkcc8wxMWTIkCRzAPIjQIDD0tzcHHv3\n",
              "7i39WWyxWIy9e/dGS0tLtLS0xNKlS2P//v3x1ltvxX333Rf33ntv/OAHPzhgO7NmzYrLLrssunXr\n",
              "Vrb8rLPOipNPPjmuv/762LVrV2zatCm+853vxOTJk12AClVAgACH5ac//Wl07do1zj333IiIOPbY\n",
              "Y6Nr167x3HPPRXNzc1xzzTXRs2fP6NOnT9x7772xYMGCOOOMM8q2sWLFili2bFnZxafvqqmpif/4\n",
              "j/+I1157Lfr27RujRo2KM888M/7pn/4pyfyAfPkzXAAgOWdAAIDkBAgAkJwAAQCSEyAAQHICBABI\n",
              "ToAAAMkJEAAguSM2QG6//fb2HgIAkJMjNkBeeuml9h4CAJCTIzZAAIDqJUAAgOQECACQnAABAJIT\n",
              "IABAcgIEAEhOgAAAyQkQACA5AQIAJCdAAIDkBAgAkJwAAQCS65LXhrdv3x6f/exnS8/feuutWL9+\n",
              "fWzbti169uyZ124BgA4gtwDp1atXrFq1qvT8hz/8YTz77LPiAwDIL0D+2OzZs6OxsfGgrxWLxSgW\n",
              "i2XLmpubUwwLAGgHSQJk8eLF8cYbb8QFF1xw0NcbGxvj5ptvLls2duzY3MYz8FsLctnuxu9/Ppft\n",
              "AkC1SXIR6uzZs+Pyyy+PLl0O3jszZsyIpqamskdDQ0OKoQEA7SD3MyBvvvlmPPTQQ7Fs2bJDrlNX\n",
              "Vxd1dXVly2pra/MeGgDQTnI/AzJ37twYMWJEnHzyyXnvCgDoIHIPkNmzZ8fkyZPz3g0A0IHk/hXM\n",
              "4sWL894FANDB+CVUACA5AQIAJCdAAIDkBAgAkJwAAQCSEyAAQHICBABIToAAAMkJEAAgOQECACQn\n",
              "QACA5AQIAJCcAAEAkhMgAEByAgQASE6AAADJCRAAIDkBAgAkJ0AAgOQECACQnAABAJITIABAcgIE\n",
              "AEhOgAAAyQkQACA5AQIAJCdAAIDkBAgAkJwAAQCSEyAAQHICBABIToAAAMkJEAAgOQECACQnQACA\n",
              "5AQIAJCcAAEAkhMgAEByAgQASE6AAADJCRAAILlcA6RYLMY111wTgwcPjlNOOSUuu+yyPHcHAHQQ\n",
              "XfLc+Le+9a0oFArx4osvRqFQiK1bt+a5OwCgg8gtQHbv3h2zZ8+OzZs3R6FQiIiIj370owddt1gs\n",
              "RrFYLFvW3Nyc19AAgHaW21cw69ati549e8att94ap512Wpx11lnx9NNPH3TdxsbGqK+vL3ssXbo0\n",
              "r6EBAO0stwDZv39/vPTSSzFs2LBYvnx53HHHHXHJJZfEq6++esC6M2bMiKamprJHQ0NDXkMDANpZ\n",
              "bl/B9O/fP2pqauKv//qvIyJi1KhR8YlPfCJeeOGF+NM//dOydevq6qKurq5sWW1tbV5DAwDaWW5n\n",
              "QHr37h2f/exn46mnnoqIiA0bNsSGDRvik5/8ZF67BAA6iFz/CubOO++MyZMnx4033hg1NTVx1113\n",
              "xQknnJDnLgGADiDXABk0aFAsWrQoz10AAB2QX0IFAJITIABAcgIEAEhOgAAAyQkQACA5AQIAJCdA\n",
              "AIDkBAgAkJwAAQCSEyAAQHICBABIToAAAMkJEAAgOQECACQnQACA5AQIAJCcAAEAkhMgAEByAgQA\n",
              "SE6AAADJCRAAIDkBAgAkJ0AAgOQECACQnAABAJITIABAcgIEAEhOgAAAyQkQACA5AQIAJCdAAIDk\n",
              "BAgAkJwAAQCSEyAAQHICBABIToAAAMkJEAAgOQECACQnQACA5AQIAJCcAAEAkhMgAEByuQbIwIED\n",
              "Y+jQoTFy5MgYOXJkzJ07N8/dAQAdRJe8dzB37twYOXJk3rsBADqQ3AOkNYrFYhSLxbJlzc3N7TQa\n",
              "ACBvuV8Dcvnll8cpp5wSkydPjtdee+2g6zQ2NkZ9fX3ZY+nSpXkPDQBoJ7kGyHPPPRe//vWvY+XK\n",
              "ldG7d++44oorDrrejBkzoqmpqezR0NCQ59AAgHaU61cw/fv3j4iIo446Kq677roYMmTIQderq6uL\n",
              "urq6smW1tbV5Dg0AaEe5nQHZvXt37Nixo/T8gQceiFGjRuW1OwCgA8ntDMirr74aF198cTQ3N0eW\n",
              "ZTFo0KC477778todANCB5BYggwYNil/96ld5bR4A6MD8EioAkJwAAQCSEyAAQHICBABIToAAAMkJ\n",
              "EAAgOQECACQnQACA5AQIAJCcAAEAkhMgAEByAgQASE6AAADJCRAAIDkBAgAkJ0AAgOQECACQnAAB\n",
              "AJITIABAcgIEAEhOgAAAyQkQACA5AQIAJCdAAIDkBAgAkJwAAQCSEyAAQHICBABIToAAAMkJEAAg\n",
              "OQECACQnQACA5AQIAJCcAAEAkhMgAEByFQfIU089lcc4AIBOpOIAueWWW2Lo0KFx++23x86dO/MY\n",
              "EwBQ5SoOkP/+7/+OBx98MH7zm9/EkCFD4uqrr47f/e53eYwNAKhSh3UNyKhRo+Kee+6JJ598MubP\n",
              "nx+nnnpqfO5zn4sXXnihrccHAFShwwqQhQsXxsSJE+Oiiy6Kb3zjG7F169aYOnVq/NVf/VVbjw8A\n",
              "qEJdKn3DJz/5yejdu3dce+21cdFFF0VtbW1EREyaNClmz57d5gMEAKpPxWdA7r///nj++efji1/8\n",
              "Yik+3vXEE08c9D1z5syJQqEQjz322GENEgCoLhUHyIoVK+L1118vPd++fXvcc889h1x/48aNcc89\n",
              "98TYsWMPb4QAQNWpOEBmzZoVPXv2LD3v1atXzJo166DrtrS0xFe/+tX4yU9+EnV1dYfcZrFYjJ07\n",
              "d5Y9mpubKx0aANBBVBwgWZYdsOxQsfCjH/0ozjjjjBgzZsz7brOxsTHq6+vLHkuXLq10aABAB1Fx\n",
              "gPTt2zceeuih0vO5c+dG3759D1jvN7/5TTz66KNx0003feA2Z8yYEU1NTWWPhoaGSocGAHQQFf8V\n",
              "zG233RYTJ06MG264ISIijjnmmHj88ccPWO/555+PjRs3xuDBgyMiYuvWrTFlypTYsmVLTJs2rWzd\n",
              "urq6A76i+eMLXAGA6lFxgJx88snxu9/9LtasWRMREUOHDj1oLEybNq0sND796U/HddddFxdeeOHh\n",
              "jxYAqAoVB0hERKFQiB49esT+/fvjlVdeiYiI/v37t+nAAIDqVXGA/Nu//Vtce+21cdRRR0VNzTuX\n",
              "kBQKhdi2bdv7vu+ZZ545rAECANWn4gD5h3/4h1i2bFkMHTo0j/EAAJ1AxX8F07t3b/EBAHwoFQfI\n",
              "hRdeGLfddlts27at7IfDAABaq+KvYL797W9HRMT06dOjUChElmVRKBT8cikA0GoVB0hLS0se4wAA\n",
              "OpGKv4KJeOeGdD/96U8jImLHjh2xZcuWNh0UAFDdDutmdFdddVV873vfi4h37oZ76aWXtvW4AIAq\n",
              "VnGA3H333fHLX/4yunfvHhERJ554Yrz22mttPjAAoHpVHCB1dXXRtWvXsmVduhzWD6oCAJ1UxQFy\n",
              "/PHHx4svvhiFQiEi3vllVD/DDgBU4rDuhvuVr3wlfv/738fHP/7x6N69e8yfPz+PsQEAVariADnp\n",
              "pJNiyZIlsWbNmsiy7JB3wwUAOJSKA2TTpk0REfGRj3wkIsLdcAGAilUcIGPGjCn9AurevXvjrbfe\n",
              "il69en3g3XABAN5VcYD88Z/czps3L1avXt1mAwIAqt9h/RLqe1100UWxYMGCthgLANBJVHwG5L13\n",
              "vm1ubo4lS5a4Gy4AUJGKA6RHjx6la0Bqa2tj8ODBcccdd+QxNgCgSrkbLgCQ3Ie+BgQAoFIVnwGp\n",
              "qakp/Qz7e2VZFoVCIZqbm9tkYABA9ao4QG655ZbYs2dPTJs2LSIi7rzzzujatWtcd911bT02AKBK\n",
              "VRwgP/vZz2LFihWl5zNnzowxY8bEt7/97TYdGABQvSq+BmTXrl1lv3q6bdu22LVrV5sOCgCobhWf\n",
              "Abn++utjxIgRcf7550dExJNPPhnf+9732npcAEAVqzhApk6dGmeccUYsWrQoIiKmT58ew4cPb/OB\n",
              "AQDVq+IAiYjo1atXnHLKKfHpT3869u/fH/v27Ys/+ZM/aeuxAQBVquJrQB555JEYO3Zs/O3f/m1E\n",
              "RPz2t7+NCy+8sK3HBQBUsYoDpLGxMVauXBk9evSIiIgRI0bESy+91NbjAgCqWMUBUltbG7169Spb\n",
              "5usXAKASFQdIt27d4tVXXy39GurTTz8dPXv2bPOBAQDVq+KLUH/wgx/EeeedF+vXr48zzzwzNmzY\n",
              "EAsWLMhjbABAlaooQFpaWqK5uTkWLVoUixcvjizLYty4caXrQQAAWqOiAKmpqYkpU6bE6tWr47zz\n",
              "zstrTABAlav4GpDBgwfH2rVr8xgLANBJVHwNyOuvvx4jR46McePGxbHHHltaPm/evDYdGABQvVod\n",
              "IFOmTIm77747rrjiipgwYUIcd9xxeY4LAKhirQ6Q5cuXR0TEFVdcEaNHj46VK1fmNigAoLpVfA1I\n",
              "RESWZW09DgCgE2n1GZA9e/bECy+8EFmWxd69e0v//K5TTz01lwECANWnogCZMGFC6fl7/7lQKMT6\n",
              "9evbdmQAQNVqdYBs3Lix4o3/5V/+ZWzdujVqamqiW7ducccdd8SoUaMq3g4AUF0q/jPcSjz00EOl\n",
              "X0n92c9+FldeeWWsXr06z10CAB1ArgHy3p9ob2pqKt3A7o8Vi8UoFotly5qbm/McGgDQjnINkIiI\n",
              "yy+/PBYtWhQRET//+c8Puk5jY2PcfPPNZcvGjh2b99AAgHZyWH+GW4n77rsvXn755Zg5c2bceOON\n",
              "B11nxowZ0dTUVPZoaGjIe2gAQDvJPUDedcUVV8SiRYti+/btB7xWV1cX3bt3L3vU1tamGhoAkFhu\n",
              "AbJjx4743//939Lzxx57LHr16hU9e/bMa5cAQAeR2zUgTU1N8cUvfjH27NkTNTU1cfzxx8f8+fMP\n",
              "eSEqANB55BYgAwYMiKVLl+a1eQCgA0t2DQgAwLsECACQnAABAJITIABAcgIEAEhOgAAAyQkQACA5\n",
              "AQIAJCdAAIDkBAgAkJwAAQCSEyAAQHICBABIToAAAMkJEAAgOQECACQnQACA5AQIAJCcAAEAkhMg\n",
              "AEByAgQASE6AAADJCRAAIDkBAgAkJ0AAgOQECACQnAABAJITIABAcgIEAEhOgAAAyQkQACA5AQIA\n",
              "JCdAAIDkBAgAkJwAAQCSEyAAQHICBABIToAAAMkJEAAgOQECACQnQACA5HILkL1798aFF14YQ4YM\n",
              "iREjRsTnPve5WLt2bV67AwA6kFzPgEyZMiXWrFkTq1evjokTJ8ZXv/rVPHcHAHQQuQXI0UcfHeef\n",
              "f34UCoWIiBg7dmxs3Lgxr90BAB1Il1Q7uv3222PixIkHfa1YLEaxWCxb1tzcnGJYAEA7SHIR6q23\n",
              "3hpr166NxsbGg77e2NgY9fX1ZY+lS5emGBoA0A5yD5Af/vCHMW/evHjiiSfimGOOOeg6M2bMiKam\n",
              "prJHQ0ND3kMDANpJrl/B/OhHP4oHHnggFi5cGD169DjkenV1dVFXV1e2rLa2Ns+hAQDtKLcA2bx5\n",
              "c1x//fUxaNCgOPvssyPindBYsmRJXrsEADqI3AKkX79+kWVZXpsHADowv4QKACQnQACA5AQIAJCc\n",
              "AAEAkhMgAEByAgQASE6AAADJCRAAIDkBAgAkJ0AAgOQECACQnAABAJITIABAcgIEAEhOgAAAyQkQ\n",
              "ACA5AQIAJCdAAIDkBAgAkJwAAQCSEyAAQHICBABIToAAAMkJEAAgOQECACQnQACA5AQIAJCcAAEA\n",
              "khMgAEByAgQASE6AAADJCRAAIDkBAgAkJ0AAgOQECACQnAABAJITIABAcgIEAEhOgAAAyQkQACA5\n",
              "AQIAJCdAAIDkcg2Qa6+9NgYOHBiFQiFWrVqV564AgA4k1wCZNGlS/OIXv4gBAwbkuRsAoIPpkufG\n",
              "P/WpT7VqvWKxGMVisWxZc3NzHkMCAI4AuQZIazU2NsbNN99ctmzs2LHtNBoAODIM/NaC3La98fuf\n",
              "z23brXFEXIQ6Y8aMaGpqKns0NDS097AAgJwcEWdA6urqoq6urmxZbW1tO40GAMjbEXEGBADoXHIN\n",
              "kKlTp0a/fv1i8+bNce6558ZJJ52U5+4AgA4i169g7rrrrjw3DwB0UL6CAQCSEyAAQHICBABIToAA\n",
              "AMkJEAAgOQECACQnQACA5AQIAJCcAAEAkhMgAEByAgQASE6AAADJCRAAIDkBAgAkJ0AAgOQECACQ\n",
              "nAABAJITIABAcgIEAEhOgAAAyQkQACA5AQIAJCdAAIDkBAgAkJwAAQCSEyAAQHICBABIToAAAMkJ\n",
              "EAAgOQECACQnQACA5AQIAJCcAAEAkhMgAEByAgQASE6AAADJCRAAIDkBAgAkJ0AAgOQECACQnAAB\n",
              "AJLLNUD+8Ic/xLhx42LIkCFx+umnx29/+9s8dwcAdBC5BsjUqVNjypQp8eKLL8aNN94YV155ZZ67\n",
              "AwA6iNwCZNu2bbF8+fK47LLLIiLi4osvjpdffjnWrl17wLrFYjF27txZ9mhubs5raABAO+uS14Zf\n",
              "fvnl6Nu3b3Tp8s4uCoVC9O/fPzZt2hQnnXRS2bqNjY1x8803ly07+eSTY/r06W0+rubm5ui7dGk0\n",
              "NDREbW1tm257+vSn23R7H1Zzc3MszWmuRxpzrV6dab7mWp0+zFwvymlMEfn9N2vAgAHxzW9+8wPX\n",
              "K2RZluUxgBUrVsSll14aa9asKS1raGiI73//+/GZz3ymbN1isRjFYrFsWV1dXdTV1bX5uHbu3Bn1\n",
              "9fXR1NQU3bt3b/PtH0nMtTp1prlGdK75mmt16kxzrURuZ0A+/vGPx5YtW2L//v3RpUuXyLIsNm3a\n",
              "FP379z9g3bxiAwA4MuV2DUifPn1i9OjRcf/990dExKOPPhr9+vU74OsXAKDzye0MSETEXXfdFVde\n",
              "eWXceuut0b1795gzZ06euwMAOohcA2To0KHxP//zP3nuomJ1dXXx3e9+t1N85WOu1akzzTWic83X\n",
              "XKtTZ5prJXK7CBUA4FD8FDsAkJwAAQCSEyAAQHICBABIrmoCpLV33p09e3YMHjw4TjzxxPja174W\n",
              "b7/9dqteO5K0Zq7/9V//FQ0NDTFs2LAYPnx43HDDDdHS0hIRERs3boza2toYOXJk6bFu3brU02i1\n",
              "1sz3mWeeia5du5bNac+ePaXXq+mznTNnTtk8e/fuHRdd9M4PNneUz/baa6+NgQMHRqFQiFWrVh1y\n",
              "vWo4XiNaN99qOWZbM9dqOV5bM9dqOF5zk1WJs88+O5szZ06WZVn28MMPZ6eddtoB66xfvz7r27dv\n",
              "tmXLlqylpSX7whe+kP3Lv/zLB752pGnNXFeuXJmtW7cuy7Is27NnT3bGGWeU3rNhw4asvr4+0Wg/\n",
              "vNbMd9GiRdmIESMO+v5q+2z/2PDhw7NHHnkky7KO89k+++yz2csvv5wNGDAg+9WvfnXQdarleM2y\n",
              "1s23Wo7Z1sy1Wo7X1sz1j3XE4zUvVXEGpLV33n3kkUdiwoQJ8dGPfjQKhUJ8/etfjwceeOADXzuS\n",
              "tHauo0aNikGDBkVExNFHHx0jR46MjRs3ph7uh1bJXZUPpdo+2/dasmRJbNu2LSZMmJBqmG3iU5/6\n",
              "VPTr1+9916mG4/VdrZlvtRyzrZnr++lIn22lc+2ox2teqiJA3u/Ou++1adOmGDBgQOn5wIEDS+u8\n",
              "32tHktbO9b22bt0ajzzySFxwwQWlZbt3747TTz89Ro8eHbfccks0NzfnPvbDUcl8161bF6NHj47T\n",
              "Tz89Zs2aVVpezZ/t7Nmz42/+5m/iqKOOKi3rKJ/tB6mG4/VwdeRjtrU6+vF6OKr5eD0cuf4SKu1v\n",
              "586d8YUvfCFuuOGGOO200yIiom/fvvHKK69Enz594vXXX49LLrkk/vmf/zluuOGGdh7t4Rs9enRs\n",
              "3rw56uvrY/PmzXH++edH796940tf+lJ7Dy03u3fvjgcffDB++ctflpZV42fb2XSGY9bx+o5q+1wr\n",
              "VRVnQN57592IOOSdd/v37x8vvfRS6fnGjRtL67zfa0eS1s41ImLXrl0xfvz4mDhxYkyfPr20vK6u\n",
              "Lvr06RMRET179oyrrroqnn/++TQTqFBr59u9e/eor6+PiIh+/frFV77yldKcqvGzjYh4+OGHY/jw\n",
              "4TFs2LDSso702X6QajheK1UNx2xrVMPxWqlqP14PR1UESGvvvHvxxRfHv//7v8fWrVsjy7K48847\n",
              "48tf/vIHvnYkae1c33zzzRg/fnyMHz8+brrpprLXtm3bVrqqvFgsxrx582LUqFFpJlCh1s53y5Yt\n",
              "pb8Y2LVrV8yfP780p2r7bN81e/bsmDx5ctmyjvTZfpBqOF4rUS3HbGtUw/FaqWo/Xg9Le1392tZ+\n",
              "//vfZ2PHjs0GDx6cjRkzJvv1r3+dZVmWTZ48OXv88cdL6919993ZoEGDskGDBmVXXXVVtm/fvla9\n",
              "diRpzVxnzpyZdenSJRsxYkTpMXPmzCzLsuzRRx/Nhg8fnp166qnZsGHDsmuuuSbbu3dvu83ng7Rm\n",
              "vj/5yU+yYcOGleb03e9+N2tpaSlto5o+23fXO/bYY7OdO3eWvb+jfLZTpkzJTjjhhKy2tjbr06dP\n",
              "duKJJ2ZZVp3Ha5a1br7Vcsy2Zq7Vcry29t/jjn685sXN6ACA5KriKxgAoGMRIABAcgIEAEhOgAAA\n",
              "yQkQACA5AQIAnUBr70L9XpMmTYqPfexjUSgUYseOHaXlu3fvjj/7sz+LESNGxIgRI2L8+PEV37tI\n",
              "gABAJzBp0qT4xS9+UXavnQ/y9a9//aCx0rVr11i4cGGsXr06Vq9eHeeee25885vfrGg8AgQAOoFD\n",
              "3b132bJl8ZnPfCZOO+20GDVqVDz88MOl184555zSz8W/V01NTXTr1i0i3rltxM6dO6NQKFQ0Hjej\n",
              "A4BOaseOHTFlypT4+c9/Hn379o3/+7//i9GjR8e4cePihBNO+MD3n3POOfHCCy/E8ccfH0899VRF\n",
              "+3YGBAA6qcWLF8f69evjvPPOi5EjR8Y555wTERFr1qxp1fsXLlwYW7ZsiUsuuST+8R//saJ9OwMC\n",
              "AJ1UlmUxfPjwWLx48WFvo6amJr72ta/F4MGDY9asWa1/32HvEQDo0MaNGxcbNmyIhQsXlpatWrUq\n",
              "9u3b977v27p1a7zxxhul53Pnzo1TTz21on27GR0AdAJTp06NBQsWxNatW6NXr17RrVu3WLt2baxc\n",
              "uTL+7u/+LrZv3x5vv/129O/fPx577LE4+uij4/Of/3ysXr06XnnllfjYxz4WgwcPjmeeeSaWLl0a\n",
              "U6dOjebm5siyLE488cT48Y9/HJ/4xCdaPR4BAgAk5ysYACA5AQIAJCdAAIDkBAgAkJwAAQCSEyAA\n",
              "QHICBABIToAAAMkJEAAgOQECACT3/8p2t3/CyyfSAAAAAElFTkSuQmCC\n",
              "\">\n",
              "      </div>\n",
              "      <script type=\"text/javascript\">\n",
              "        (() => {\n",
              "          const chartElement = document.getElementById(\"chart-7678df21-36b1-4e23-8b82-96f10c88b900\");\n",
              "          async function getCodeForChartHandler(event) {\n",
              "            const chartCodeResponse =  await google.colab.kernel.invokeFunction(\n",
              "                'getCodeForChart', [\"chart-7678df21-36b1-4e23-8b82-96f10c88b900\"], {});\n",
              "            const responseJson = chartCodeResponse.data['application/json'];\n",
              "            await google.colab.notebook.addCell(responseJson.code, 'code');\n",
              "          }\n",
              "          chartElement.onclick = getCodeForChartHandler;\n",
              "        })();\n",
              "      </script>\n",
              "      <style>\n",
              "        .colab-quickchart-chart-with-code  {\n",
              "            display: block;\n",
              "            float: left;\n",
              "            border: 1px solid transparent;\n",
              "        }\n",
              "\n",
              "        .colab-quickchart-chart-with-code:hover {\n",
              "            cursor: pointer;\n",
              "            border: 1px solid #aaa;\n",
              "        }\n",
              "      </style>"
            ]
          },
          "metadata": {}
        },
        {
          "output_type": "display_data",
          "data": {
            "text/plain": [
              "from matplotlib import pyplot as plt\n",
              "_df_1['1971'].plot(kind='hist', bins=20, title='1971')\n",
              "plt.gca().spines[['top', 'right',]].set_visible(False)"
            ],
            "text/html": [
              "      <div class=\"colab-quickchart-chart-with-code\" id=\"chart-4b9fe3b9-3490-42bf-928b-93eceea891bc\">\n",
              "        <img style=\"width: 180px;\" src=\"data:image/png;base64,iVBORw0KGgoAAAANSUhEUgAAAiAAAAG5CAYAAAC3CI8KAAAAOXRFWHRTb2Z0d2FyZQBNYXRwbG90\n",
              "bGliIHZlcnNpb24zLjcuMSwgaHR0cHM6Ly9tYXRwbG90bGliLm9yZy/bCgiHAAAACXBIWXMAAA9h\n",
              "AAAPYQGoP6dpAAAfIklEQVR4nO3dfZBV5X3A8d/dxdz4wouApEQCBgQMjLy7pWASTbSCiUIRY5Ja\n",
              "NWKgxAxxTEbDxI7RUjftWBO1Q3wZQiZ1RvGFaAZ8abFoTakCEtGYgvKmYEFSDQshcIHd0z8cd9yA\n",
              "upfseXbv5fOZuTPcc86e8zxzOfrl3rP3FLIsywIAIKGa9h4AAHDkESAAQHICBABIToAAAMkJEAAg\n",
              "OQECACQnQACA5AQIAJCcAAEAkhMgAEByAgQ4LPfdd198+tOfji5dukShUIgDBw60WL9o0aIYPXp0\n",
              "dOnSJfr27Rv19fUt1k+cODGOO+645sexxx4bhUIhfvjDHzZvc8UVV8TQoUOjU6dOcfHFFyeZF5BG\n",
              "p/YeAFCZjj/++PjGN74Re/bsiWnTprVYt2LFipg6dWosWLAgzjvvvFi9enVMnDgxjj322Jg1a1ZE\n",
              "RDz22GMtfuYXv/hFTJ06Nb785S83Lxs2bFhceOGFceedd+Y/ISCpgpvRAX+Kp556Ks4888zYv39/\n",
              "dOr0zr9prr322li9enU8/vjjzdtdd911sWDBgnj11VcPuZ8JEyZE165dY8GCBQetu+yyy+LAgQNx\n",
              "zz335DMJIDnvgABtLsuy+ON/2zQ1NcW6deti165d0blz5xbr1q9fH//2b/8WS5cuTTlMoB25BgRo\n",
              "c+eff34sXbo0Fi5cGAcOHIiVK1fGT37yk4iI2Llz50Hb//jHP44hQ4bEZz/72dRDBdqJAAHa3Omn\n",
              "nx733HNPzJkzJ3r16hVXXnllzJw5M2pqauL4449vse3evXtj/vz5MXPmzHYaLdAeBAiQiy996Uux\n",
              "atWqePvtt+O5556LHTt2xF/8xV/EMccc02K7++67L/bt2xeXXHJJO40UaA+uAQEOS2NjY+zfvz/2\n",
              "7dsXERGlUikOHDgQH/nIRyIiYuXKlTFq1KjYt29fPPjgg/GTn/wkHn300YP2M3fu3Lj44osPui4k\n",
              "ImLfvn3R1NQUjY2N0dTUFHv37o1CoRDFYjHfyQG581swwGH56U9/Gl/72tcOWr506dIYP358jB8/\n",
              "PtasWRNNTU0xZsyYmDNnTpx++ukttn3++edjzJgx8eKLL8app5560L7OOOOMePrpp1ss69evX2za\n",
              "tKlN5wKkJ0AAgORcAwIAJCdAAIDkBAgAkJwAAQCSEyAAQHICBABIToAAAMl12AC59dZb23sIAEBO\n",
              "OmyAvPbaa+09BAAgJx02QACA6iVAAIDkBAgAkJwAAQCSEyAAQHICBABIToAAAMkJEAAgOQECACQn\n",
              "QACA5AQIAJCcAAEAkuuU147feuut+PznP9/8/A9/+ENs2LAhtm/fHt27d8/rsABABcgtQHr06BEv\n",
              "vPBC8/Obb745nn76afEBAOQXIH9s3rx5UV9ff8h1pVIpSqVSi2WNjY0phgUAtIMkAbJs2bL43e9+\n",
              "F1/84hcPub6+vj5uuOGGFsvGjh2b23hO+u7iXPa76QdfyGW/AFBtklyEOm/evLjkkkuiU6dD987s\n",
              "2bOjoaGhxaOuri7F0ACAdpD7OyC///3v4/77748VK1a87zbFYjGKxWKLZbW1tXkPDQBoJ7m/A7Jg\n",
              "wYIYPnx4nHLKKXkfCgCoELkHyLx582LatGl5HwYAqCC5fwSzbNmyvA8BAFQY34QKACQnQACA5AQI\n",
              "AJCcAAEAkhMgAEByAgQASE6AAADJCRAAIDkBAgAkJ0AAgOQECACQnAABAJITIABAcgIEAEhOgAAA\n",
              "yQkQACA5AQIAJCdAAIDkBAgAkJwAAQCSEyAAQHICBABIToAAAMkJEAAgOQECACQnQACA5AQIAJCc\n",
              "AAEAkhMgAEByAgQASE6AAADJCRAAIDkBAgAkJ0AAgOQECACQnAABAJITIABAcgIEAEhOgAAAyQkQ\n",
              "ACA5AQIAJJdrgJRKpfjmN78ZAwcOjFNPPTUuvvjiPA8HAFSITnnu/Lvf/W4UCoV45ZVXolAoxLZt\n",
              "2/I8HABQIXILkN27d8e8efNiy5YtUSgUIiLiz/7szw65balUilKp1GJZY2NjXkMDANpZbh/BrF+/\n",
              "Prp37x433XRTjBkzJj796U/Hk08+echt6+vro2vXri0ey5cvz2toAEA7yy1ADhw4EK+99loMGTIk\n",
              "Vq5cGbfddltcdNFF8eabbx607ezZs6OhoaHFo66uLq+hAQDtLLePYPr27Rs1NTXx13/91xERMXLk\n",
              "yPjkJz8ZL730UnzsYx9rsW2xWIxisdhiWW1tbV5DAwDaWW7vgPTs2TM+//nPxxNPPBERERs3boyN\n",
              "GzfGpz71qbwOCQBUiFx/C+aOO+6IadOmxbXXXhs1NTVx5513xoknnpjnIQGACpBrgPTv3z+WLl2a\n",
              "5yEAgArkm1ABgOQECACQnAABAJITIABAcgIEAEhOgAAAyQkQACA5AQIAJCdAAIDkBAgAkJwAAQCS\n",
              "EyAAQHICBABIToAAAMkJEAAgOQECACQnQACA5AQIAJCcAAEAkhMgAEByAgQASE6AAADJCRAAIDkB\n",
              "AgAkJ0AAgOQECACQnAABAJITIABAcgIEAEhOgAAAyQkQACA5AQIAJCdAAIDkBAgAkJwAAQCSEyAA\n",
              "QHICBABIToAAAMkJEAAgOQECACQnQACA5AQIAJBcrgFy0kknxeDBg2PEiBExYsSIWLBgQZ6HAwAq\n",
              "RKe8D7BgwYIYMWJE3ocBACpI7gHSGqVSKUqlUotljY2N7TQaACBvuV8Dcskll8Spp54a06ZNi9/+\n",
              "9reH3Ka+vj66du3a4rF8+fK8hwYAtJNcA+Q///M/48UXX4xVq1ZFz54949JLLz3kdrNnz46GhoYW\n",
              "j7q6ujyHBgC0o1w/gunbt29ERBx11FFx1VVXxaBBgw65XbFYjGKx2GJZbW1tnkMDANpRbu+A7N69\n",
              "O3bs2NH8/N57742RI0fmdTgAoILk9g7Im2++GRdccEE0NjZGlmXRv3//+NnPfpbX4QCACpJbgPTv\n",
              "3z9+9atf5bV7AKCC+SZUACA5AQIAJCdAAIDkBAgAkJwAAQCSEyAAQHICBABIToAAAMkJEAAgOQEC\n",
              "ACQnQACA5AQIAJCcAAEAkhMgAEByAgQASE6AAADJCRAAIDkBAgAkJ0AAgOQECACQnAABAJITIABA\n",
              "cgIEAEhOgAAAyQkQACA5AQIAJCdAAIDkBAgAkJwAAQCSEyAAQHICBABIToAAAMkJEAAgOQECACQn\n",
              "QACA5MoOkCeeeCKPcQAAR5CyA+TGG2+MwYMHx6233ho7d+7MY0wAQJUrO0D+67/+K+6777749a9/\n",
              "HYMGDYpvfOMb8Zvf/CaPsQEAVeqwrgEZOXJk3H333fH444/HokWLYtiwYXH22WfHSy+91NbjAwCq\n",
              "0GEFyJIlS2LSpEkxZcqUuPLKK2Pbtm0xY8aM+Ku/+qu2Hh8AUIU6lfsDn/rUp6Jnz54xa9asmDJl\n",
              "StTW1kZExNSpU2PevHltPkAAoPqU/Q7IPffcE88880xceOGFzfHxrscee+yQPzN//vwoFArx8MMP\n",
              "H9YgAYDqUnaAPP/88/H22283P3/rrbfi7rvvft/tN23aFHfffXeMHTv28EYIAFSdsgNk7ty50b17\n",
              "9+bnPXr0iLlz5x5y26amprjiiivi9ttvj2Kx+L77LJVKsXPnzhaPxsbGcocGAFSIsgMky7KDlr1f\n",
              "LNxyyy0xfvz4GD169Afus76+Prp27drisXz58nKHBgBUiLIDpHfv3nH//fc3P1+wYEH07t37oO1+\n",
              "/etfx0MPPRTXXXfdh+5z9uzZ0dDQ0OJRV1dX7tAAgApR9m/B/OhHP4pJkybFNddcExERxxxzTDzy\n",
              "yCMHbffMM8/Epk2bYuDAgRERsW3btpg+fXps3bo1Zs6c2WLbYrF40Ec0f3yBKwBQPcoOkFNOOSV+\n",
              "85vfxNq1ayMiYvDgwYeMhZkzZ7YIjTPOOCOuuuqqmDx58uGPFgCoCmUHSEREoVCIbt26xYEDB+KN\n",
              "N96IiIi+ffu26cAAgOpVdoD89Kc/jVmzZsVRRx0VNTXvXEJSKBRi+/btH/hzTz311GENEACoPmUH\n",
              "yN///d/HihUrYvDgwXmMBwA4ApT9WzA9e/YUHwDAn6TsAJk8eXL86Ec/iu3bt7f44jAAgNYq+yOY\n",
              "733vexERcfXVV0ehUIgsy6JQKPjmUgCg1coOkKampjzGAQAcQcr+CCbinRvS/eu//mtEROzYsSO2\n",
              "bt3apoMCAKrbYd2M7vLLL4/vf//7EfHO3XC/+tWvtvW4AIAqVnaA3HXXXfHss89Gly5dIiJiwIAB\n",
              "8dvf/rbNBwYAVK+yA6RYLMbRRx/dYlmnTof1haoAwBGq7AA54YQT4pVXXolCoRAR73wzqq9hBwDK\n",
              "cVh3w/3KV74Sa9asiU984hPRpUuXWLRoUR5jAwCqVNkBcvLJJ8dzzz0Xa9eujSzL3vduuAAA76fs\n",
              "AHn99dcjIuLYY4+NiHA3XACgbGUHyOjRo5u/AXXv3r3xhz/8IXr06PGhd8MFAHhX2QHyx79yu3Dh\n",
              "wli9enWbDQgAqH6H9U2o7zVlypRYvHhxW4wFADhClP0OyHvvfNvY2BjPPfecu+ECAGUpO0C6devW\n",
              "fA1IbW1tDBw4MG677bY8xgYAVCl3wwUAkvuTrwEBAChX2e+A1NTUNH8N+3tlWRaFQiEaGxvbZGAA\n",
              "QPUqO0BuvPHG2LNnT8ycOTMiIu644444+uij46qrrmrrsQEAVarsAPn5z38ezz//fPPzOXPmxOjR\n",
              "o+N73/temw4MAKheZV8DsmvXrhbferp9+/bYtWtXmw4KAKhuZb8D8u1vfzuGDx8e5557bkREPP74\n",
              "4/H973+/rccFAFSxsgNkxowZMX78+Fi6dGlERFx99dUxdOjQNh8YAFC9yg6QiIgePXrEqaeeGmec\n",
              "cUYcOHAg9u3bFx/5yEfaemwAQJUq+xqQBx98MMaOHRtf+9rXIiLi5ZdfjsmTJ7f1uACAKlZ2gNTX\n",
              "18eqVauiW7duERExfPjweO2119p6XABAFSs7QGpra6NHjx4tlvn4BQAoR9kB0rlz53jzzTebvw31\n",
              "ySefjO7du7f5wACA6lX2Raj/+I//GBMnTowNGzbE6aefHhs3bozFixfnMTYAoEqVFSBNTU3R2NgY\n",
              "S5cujWXLlkWWZTFu3Ljm60EAAFqjrACpqamJ6dOnx+rVq2PixIl5jQkAqHJlXwMycODAWLduXR5j\n",
              "AQCOEGVfA/L222/HiBEjYty4cXHcccc1L1+4cGGbDgwAqF6tDpDp06fHXXfdFZdeemmcf/75cfzx\n",
              "x+c5LgCgirU6QFauXBkREZdeemmMGjUqVq1aldugAIDqVvY1IBERWZa19TgAgCNIq98B2bNnT7z0\n",
              "0kuRZVns3bu3+c/vGjZsWC4DBACqT1kBcv755zc/f++fC4VCbNiwoW1HBgBUrVYHyKZNm8re+V/+\n",
              "5V/Gtm3boqamJjp37hy33XZbjBw5suz9AADVpexfwy3H/fff3/wtqT//+c/jsssui9WrV+d5SACg\n",
              "AuQaIO/9ivaGhobmG9j9sVKpFKVSqcWyxsbGPIcGALSjXAMkIuKSSy6JpUuXRkTEo48+esht6uvr\n",
              "44YbbmixbOzYsXkPDQBoJ4f1a7jl+NnPfhabN2+OOXPmxLXXXnvIbWbPnh0NDQ0tHnV1dXkPDQBo\n",
              "J7kHyLsuvfTSWLp0abz11lsHrSsWi9GlS5cWj9ra2lRDAwASyy1AduzYEf/7v//b/Pzhhx+OHj16\n",
              "RPfu3fM6JABQIXK7BqShoSEuvPDC2LNnT9TU1MQJJ5wQixYtet8LUQGAI0duAdKvX79Yvnx5XrsH\n",
              "ACpYsmtAAADeJUAAgOQECACQnAABAJITIABAcgIEAEhOgAAAyQkQACA5AQIAJCdAAIDkBAgAkJwA\n",
              "AQCSEyAAQHICBABIToAAAMkJEAAgOQECACQnQACA5AQIAJCcAAEAkhMgAEByAgQASE6AAADJCRAA\n",
              "IDkBAgAkJ0AAgOQECACQnAABAJITIABAcgIEAEhOgAAAyQkQACA5AQIAJCdAAIDkBAgAkJwAAQCS\n",
              "EyAAQHICBABIToAAAMkJEAAgOQECACSXW4Ds3bs3Jk+eHIMGDYrhw4fH2WefHevWrcvrcABABcn1\n",
              "HZDp06fH2rVrY/Xq1TFp0qS44oor8jwcAFAhcguQj370o3HuuedGoVCIiIixY8fGpk2b8jocAFBB\n",
              "OqU60K233hqTJk065LpSqRSlUqnFssbGxhTDAgDaQZKLUG+66aZYt25d1NfXH3J9fX19dO3atcVj\n",
              "+fLlKYYGALSD3APk5ptvjoULF8Zjjz0WxxxzzCG3mT17djQ0NLR41NXV5T00AKCd5PoRzC233BL3\n",
              "3ntvLFmyJLp16/a+2xWLxSgWiy2W1dbW5jk0AKAd5RYgW7ZsiW9/+9vRv3//OPPMMyPindB47rnn\n",
              "8jokAFAhcguQPn36RJZlee0eAKhgvgkVAEhOgAAAyQkQACA5AQIAJCdAAIDkBAgAkJwAAQCSEyAA\n",
              "QHICBABIToAAAMkJEAAgOQECACQnQACA5AQIAJCcAAEAkhMgAEByAgQASE6AAADJCRAAIDkBAgAk\n",
              "J0AAgOQECACQnAABAJITIABAcgIEAEhOgAAAyQkQACA5AQIAJCdAAIDkBAgAkJwAAQCSEyAAQHIC\n",
              "BABIToAAAMkJEAAgOQECACQnQACA5AQIAJCcAAEAkhMgAEByAgQASE6AAADJ5Rogs2bNipNOOikK\n",
              "hUK88MILeR4KAKgguQbI1KlT45e//GX069cvz8MAABWmU547/8xnPtOq7UqlUpRKpRbLGhsb8xgS\n",
              "ANAB5BogrVVfXx833HBDi2Vjx45tp9EAQMdw0ncX57bvTT/4Qm77bo0OcRHq7Nmzo6GhocWjrq6u\n",
              "vYcFAOSkQ7wDUiwWo1gstlhWW1vbTqMBAPLWId4BAQCOLLkGyIwZM6JPnz6xZcuWOOecc+Lkk0/O\n",
              "83AAQIXI9SOYO++8M8/dAwAVykcwAEByAgQASE6AAADJCRAAIDkBAgAkJ0AAgOQECACQnAABAJIT\n",
              "IABAcgIEAEhOgAAAyQkQACA5AQIAJCdAAIDkBAgAkJwAAQCSEyAAQHICBABIToAAAMkJEAAgOQEC\n",
              "ACQnQACA5AQIAJCcAAEAkhMgAEByAgQASE6AAADJCRAAIDkBAgAkJ0AAgOQECACQnAABAJITIABA\n",
              "cgIEAEhOgAAAyQkQACA5AQIAJCdAAIDkBAgAkJwAAQCSEyAAQHK5Bsirr74a48aNi0GDBsVpp50W\n",
              "L7/8cp6HAwAqRK4BMmPGjJg+fXq88sorce2118Zll12W5+EAgAqRW4Bs3749Vq5cGRdffHFERFxw\n",
              "wQWxefPmWLdu3UHblkql2LlzZ4tHY2NjXkMDANpZp7x2vHnz5ujdu3d06vTOIQqFQvTt2zdef/31\n",
              "OPnkk1tsW19fHzfccEOLZaecckpcffXVbT6uxsbG6L18edTV1UVtbW2b7vvqq59s0/0drsbGxlie\n",
              "0xw7gmqfX4Q5Votqn2O1zy+i/ec4Jcd9v/v/rLaeY79+/eJb3/rWh25XyLIs+5OPdgjPP/98fPWr\n",
              "X421a9c2L6urq4sf/OAH8bnPfa7FtqVSKUqlUotlxWIxisVim49r586d0bVr12hoaIguXbq0+f47\n",
              "gmqfY7XPL8Icq0W1z7Ha5xdhjnnK7R2QT3ziE7F169Y4cOBAdOrUKbIsi9dffz369u170LZ5xQYA\n",
              "0DHldg1Ir169YtSoUXHPPfdERMRDDz0Uffr0OejjFwDgyJPbOyAREXfeeWdcdtllcdNNN0WXLl1i\n",
              "/vz5eR4OAKgQuQbI4MGD47//+7/zPETZisViXH/99VX9kU+1z7Ha5xdhjtWi2udY7fOLMMc85XYR\n",
              "KgDA+/FV7ABAcgIEAEhOgAAAyQkQACC5qgmQ1t55d968eTFw4MAYMGBAfP3rX4/9+/e3al1H0Jo5\n",
              "/sd//EfU1dXFkCFDYujQoXHNNddEU1NTRERs2rQpamtrY8SIEc2P9evXp57GB2rNHJ966qk4+uij\n",
              "W8xjz549zes78uvYmvnNnz+/xdx69uwZU6a884XMlfAazpo1K0466aQoFArxwgsvvO92lXoutmZ+\n",
              "lX4etmaOlXweRrRujpV8Lu7duzcmT54cgwYNiuHDh8fZZ599yHuxRUQsWrQoTjnllBg4cGBMmTIl\n",
              "du7c2ap1f7KsSpx55pnZ/PnzsyzLsgceeCAbM2bMQdts2LAh6927d7Z169asqakpO++887J/+Zd/\n",
              "+dB1HUVr5rhq1aps/fr1WZZl2Z49e7Lx48c3/8zGjRuzrl27Jhrt4WnNHJcuXZoNHz78kD/f0V/H\n",
              "1szvjw0dOjR78MEHsyyrjNfw6aefzjZv3pz169cv+9WvfnXIbSr5XGzN/Cr9PGzNHCv5PMyy1s3x\n",
              "j1XSubhnz55s8eLFWVNTU5ZlWXb77bdnn/3sZw/abteuXVmvXr2y//mf/8myLMuuvPLK7Dvf+c6H\n",
              "rmsLVREgb775Zta5c+ds//79WZZlWVNTU/axj30se/XVV1ts90//9E/ZjBkzmp8vXrw4Gz9+/Ieu\n",
              "6whaO8c/duWVV2bXX399lmUd/4Rp7Rw/6D98Hfl1PJzX8Nlnn81OOOGEbN++fVmWdfzX8L0+6D/s\n",
              "lXwuvquc/3FV0nn4XocbIJXyGmZZ61/HSj4XsyzLVqxYkfXr1++g5ffff392zjnnND9/+eWXsxNP\n",
              "PPFD17WFqvgI5oPuvPter7/+evTr16/5+UknndS8zQet6whaO8f32rZtWzz44IPxxS9+sXnZ7t27\n",
              "47TTTotRo0bFjTfeGI2NjbmPvbXKmeP69etj1KhRcdppp8XcuXObl3fk1/FwXsN58+bF3/zN38RR\n",
              "Rx3VvKwjv4atVcnnYrkq7TwsRyWeh4er0s/FW2+9NSZNmnTQ8kO9Vu/ex+2D1rWFXL8Jlfazc+fO\n",
              "OO+88+Kaa66JMWPGRERE796944033ohevXrF22+/HRdddFH88z//c1xzzTXtPNryjBo1KrZs2RJd\n",
              "u3aNLVu2xLnnnhs9e/aML33pS+09tDa1e/fuuO++++LZZ59tXlYtr+GRwnlYHSr9XLzpppti3bp1\n",
              "8eSTT7b3UFqoindA3nvn3Yh43zvv9u3bN1577bXm55s2bWre5oPWdQStnWNExK5du2LChAkxadKk\n",
              "uPrqq5uXF4vF6NWrV0REdO/ePS6//PJ45pln0kygFVo7xy5dukTXrl0jIqJPnz7xla98pXkeHfl1\n",
              "LOc1jIh44IEHYujQoTFkyJDmZR39NWytSj4XW6tSz8PWqtTz8HBU8rl48803x8KFC+Oxxx6LY445\n",
              "5qD1h3qt3n2n9oPWtYWqCJDW3nn3ggsuiF/84hexbdu2yLIs7rjjjvjyl7/8oes6gtbO8fe//31M\n",
              "mDAhJkyYENddd12Lddu3b2++Er1UKsXChQtj5MiRaSbQCq2d49atW5t/o2DXrl2xaNGi5nl05Nex\n",
              "3DtEz5s3L6ZNm9ZiWUd/DVurks/F1qjk87C1KvU8PByVei7ecsstce+998a///u/R7du3Q65zYQJ\n",
              "E2LVqlWxZs2aiIiYO3du82v1QevaRJtdTdLO1qxZk40dOzYbOHBgNnr06OzFF1/MsizLpk2blj3y\n",
              "yCPN2911111Z//79s/79+2eXX3558wVFH7auI2jNHOfMmZN16tQpGz58ePNjzpw5WZZl2UMPPZQN\n",
              "HTo0GzZsWDZkyJDsm9/8ZrZ37952m8+htGaOt99+ezZkyJDmeVx//fXNV3pnWcd+HVv793TNmjXZ\n",
              "cccdl+3cubPFz1fCazh9+vTsxBNPzGpra7NevXplAwYMyLKses7F1syv0s/D1syxks/DLGv939NK\n",
              "PRc3b96cRUTWv3//5r+DdXV1WZZl2d/93d9lP/7xj5u3feSRR7LBgwdnAwYMyCZNmpTt2LGjVev+\n",
              "VG5GBwAkVxUfwQAAlUWAAADJCRAAIDkBAgAkJ0AAgOQECAAcAVp7p+r3mjp1anz84x+PQqEQO3bs\n",
              "aF6+e/fu+PM///MYPnx4DB8+PCZMmBCbNm0qazwCBACOAFOnTo1f/vKXLe7v8mH+9m//9pCxcvTR\n",
              "R8eSJUti9erVsXr16jjnnHPiW9/6VlnjESAAcAT4zGc+E3369Dlo+YoVK+Jzn/tcjBkzJkaOHBkP\n",
              "PPBA87qzzjqr+Svn36umpiY6d+4cEe/cVmLnzp1RKBTKGo+b0QHAEWrHjh0xffr0ePTRR6N3797x\n",
              "f//3fzFq1KgYN25cnHjiiR/682eddVa89NJLccIJJ8QTTzxR1rG9AwIAR6hly5bFhg0bYuLEiTFi\n",
              "xIg466yzIiJi7dq1rfr5JUuWxNatW+Oiiy6Kf/iHfyjr2N4BAYAjVJZlMXTo0Fi2bNlh76Ompia+\n",
              "/vWvx8CBA2Pu3Lmt/7nDPiIAUNHGjRsXGzdujCVLljQve+GFF2Lfvn0f+HPbtm2L3/3ud83PFyxY\n",
              "EMOGDSvr2G5GBwBHgBkzZsTixYtj27Zt0aNHj+jcuXOsW7cuVq1aFd/5znfirbfeiv3790ffvn3j\n",
              "4Ycfjo9+9KPxhS98IVavXh1vvPFGfPzjH4+BAwfGU089FcuXL48ZM2ZEY2NjZFkWAwYMiB/+8Ifx\n",
              "yU9+stXjESAAQHI+ggEAkhMgAEByAgQASE6AAADJCRAAIDkBAgAkJ0AAgOQECACQnAABAJITIABA\n",
              "cv8PZz49i7gLaakAAAAASUVORK5CYII=\n",
              "\">\n",
              "      </div>\n",
              "      <script type=\"text/javascript\">\n",
              "        (() => {\n",
              "          const chartElement = document.getElementById(\"chart-4b9fe3b9-3490-42bf-928b-93eceea891bc\");\n",
              "          async function getCodeForChartHandler(event) {\n",
              "            const chartCodeResponse =  await google.colab.kernel.invokeFunction(\n",
              "                'getCodeForChart', [\"chart-4b9fe3b9-3490-42bf-928b-93eceea891bc\"], {});\n",
              "            const responseJson = chartCodeResponse.data['application/json'];\n",
              "            await google.colab.notebook.addCell(responseJson.code, 'code');\n",
              "          }\n",
              "          chartElement.onclick = getCodeForChartHandler;\n",
              "        })();\n",
              "      </script>\n",
              "      <style>\n",
              "        .colab-quickchart-chart-with-code  {\n",
              "            display: block;\n",
              "            float: left;\n",
              "            border: 1px solid transparent;\n",
              "        }\n",
              "\n",
              "        .colab-quickchart-chart-with-code:hover {\n",
              "            cursor: pointer;\n",
              "            border: 1px solid #aaa;\n",
              "        }\n",
              "      </style>"
            ]
          },
          "metadata": {}
        },
        {
          "output_type": "display_data",
          "data": {
            "text/plain": [
              "from matplotlib import pyplot as plt\n",
              "_df_2['1972'].plot(kind='hist', bins=20, title='1972')\n",
              "plt.gca().spines[['top', 'right',]].set_visible(False)"
            ],
            "text/html": [
              "      <div class=\"colab-quickchart-chart-with-code\" id=\"chart-e997292b-937e-4b5d-9bcd-150ebc679817\">\n",
              "        <img style=\"width: 180px;\" src=\"data:image/png;base64,iVBORw0KGgoAAAANSUhEUgAAAiAAAAG5CAYAAAC3CI8KAAAAOXRFWHRTb2Z0d2FyZQBNYXRwbG90\n",
              "bGliIHZlcnNpb24zLjcuMSwgaHR0cHM6Ly9tYXRwbG90bGliLm9yZy/bCgiHAAAACXBIWXMAAA9h\n",
              "AAAPYQGoP6dpAAAc/klEQVR4nO3df5CVdb3A8c/ZxY6/+CEgSRIQuEA2uvywjYtZWXoTKyEl+3Ed\n",
              "NSkQbYjR5hpTTVletybHUu+QP4ZsyhnFlLQB0Xuh1WuXGz8kNrMrhoBCF6RUFjI4sIfn/uG048aS\n",
              "e2if73KW12vmzHie85zn+TDPnOndc549TyHLsiwAABKq6e4BAIAjjwABAJITIABAcgIEAEhOgAAA\n",
              "yQkQACA5AQIAJCdAAIDkBAgAkJwAAQCSEyDAIbnvvvvirLPOij59+kShUIjW1tZ2ry9atCgmTJgQ\n",
              "ffr0iaFDh0ZjY2O71ydPnhzHH3982+O4446LQqEQ3/ve9yIi4rnnnouLL744hgwZEr17945Ro0bF\n",
              "d7/73XD3COgZenX3AEB1OuGEE+Kqq66K3bt3x/Tp09u9tmrVqpg2bVosWLAgPvaxj0Vzc3NMnjw5\n",
              "jjvuuJg9e3ZERCxZsqTde37+85/HtGnT4lOf+lRERLz66qtx1llnxc033xwnn3xyrF27Nj760Y/G\n",
              "UUcdFXPmzEnybwTyU3AzOuAf8fjjj8fZZ58d+/bti169Xv//NNddd100NzfHo48+2rbeV7/61Viw\n",
              "YEH8/ve/73A75513XvTt2zcWLFhw0H3NmTMnNm7cGA8//HDX/iOA5HwFA3S5LMsO+Kpk//79sX79\n",
              "+ti1a9cB6z///PPxH//xH3HVVVcddJutra3R1NQU48aN6/J5gfQECNDlLrjggmhqaoqFCxdGa2tr\n",
              "rF69On74wx9GRMTOnTsPWP8HP/hBnHrqqfH+97+/w+1lWRZXXnll7Nu3L6699tpcZwfSECBAl3vv\n",
              "e98b99xzT9xwww0xaNCguPrqq2PWrFlRU1MTJ5xwQrt19+zZE3fffXfMmjWrw22Vy+W44oorYsWK\n",
              "FfGLX/wievfuneKfAORMgAC5uPjii2PNmjXxyiuvxIoVK2LHjh3xT//0T3Hssce2W+++++6LvXv3\n",
              "xqWXXnrANkqlUkybNi2eeeaZeOKJJ+Kkk05KNT6QM38FAxyScrkc+/bti71790bE67HQ2toab3nL\n",
              "WyIiYvXq1TF+/PjYu3dvPPDAA/HDH/4wHnnkkQO2M2/evLjkkksOOLPx5z//OaZMmRKtra2xbNky\n",
              "Zz6ghxEgwCH5yU9+Ep/97Gfbnh9//PEREdHU1BRnnnlmfOELX4hnn3029u/fH2eccUYsXrw4zjzz\n",
              "zHbbeOqpp2LVqlUxf/78A7b/4IMPxi9+8Ys4+uijY/DgwW3Lhw0bFs8880xO/yogFX+GCwAk5xoQ\n",
              "ACA5AQIAJCdAAIDkBAgAkJwAAQCSEyAAQHICBABI7rANkFtuuaW7RwAAcnLYBsgLL7zQ3SMAADk5\n",
              "bAMEAOi5BAgAkJwAAQCSEyAAQHICBABIToAAAMkJEAAgOQECACQnQACA5AQIAJCcAAEAkhMgAEBy\n",
              "vfLa8Msvvxwf+tCH2p7/5S9/iQ0bNsT27dujf//+ee0WAKgCuQXIgAEDYu3atW3Pb7rppnjiiSfE\n",
              "BwCQX4D8rfnz50djY2OHr5VKpSiVSu2WlcvlFGMBAN0gSYAsX748Xn311fjoRz/a4euNjY1x/fXX\n",
              "t1s2ceLE3OYZ/uXFuWx307c/kst2AaCnSXIR6vz58+PSSy+NXr067p25c+dGS0tLu0dDQ0OK0QCA\n",
              "bpD7GZA///nPcf/998eqVasOuk6xWIxisdhuWW1tbd6jAQDdJPczIAsWLIj6+voYM2ZM3rsCAKpE\n",
              "7gEyf/78mD59et67AQCqSO5fwSxfvjzvXQAAVcYvoQIAyQkQACA5AQIAJCdAAIDkBAgAkJwAAQCS\n",
              "EyAAQHICBABIToAAAMkJEAAgOQECACQnQACA5AQIAJCcAAEAkhMgAEByAgQASE6AAADJCRAAIDkB\n",
              "AgAkJ0AAgOQECACQnAABAJITIABAcgIEAEhOgAAAyQkQACA5AQIAJCdAAIDkBAgAkJwAAQCSEyAA\n",
              "QHICBABIToAAAMkJEAAgOQECACQnQACA5AQIAJCcAAEAkhMgAEByAgQASE6AAADJ5RogpVIpvvCF\n",
              "L0RdXV2cdtppcckll+S5OwCgSvTKc+Nf/vKXo1AoxHPPPReFQiG2bduW5+4AgCqRW4C89tprMX/+\n",
              "/NiyZUsUCoWIiDjppJM6XLdUKkWpVGq3rFwu5zUaANDNcvsK5vnnn4/+/fvHjTfeGGeccUacddZZ\n",
              "sWzZsg7XbWxsjL59+7Z7rFy5Mq/RAIBulluAtLa2xgsvvBCnnnpqrF69Om699db45Cc/GS+99NIB\n",
              "686dOzdaWlraPRoaGvIaDQDoZrl9BTN06NCoqamJf/mXf4mIiHHjxsU73vGOePrpp+Otb31ru3WL\n",
              "xWIUi8V2y2pra/MaDQDoZrmdARk4cGB86EMfisceeywiIjZu3BgbN26Md77znXntEgCoErn+Fczt\n",
              "t98e06dPj+uuuy5qamrijjvuiJNPPjnPXQIAVSDXABkxYkQ0NTXluQsAoAr5JVQAIDkBAgAkJ0AA\n",
              "gOQECACQnAABAJITIABAcgIEAEhOgAAAyQkQACA5AQIAJCdAAIDkBAgAkJwAAQCSEyAAQHICBABI\n",
              "ToAAAMkJEAAgOQECACQnQACA5AQIAJCcAAEAkhMgAEByAgQASE6AAADJCRAAIDkBAgAkJ0AAgOQE\n",
              "CACQnAABAJITIABAcgIEAEhOgAAAyQkQACA5AQIAJCdAAIDkBAgAkJwAAQCSEyAAQHICBABIToAA\n",
              "AMkJEAAgOQECACSXa4AMHz48Ro8eHWPHjo2xY8fGggUL8twdAFAleuW9gwULFsTYsWPz3g0AUEVy\n",
              "D5DOKJVKUSqV2i0rl8vdNA0AkLfcrwG59NJL47TTTovp06fHH//4xw7XaWxsjL59+7Z7rFy5Mu/R\n",
              "AIBukmuA/Nd//Vf85je/iTVr1sTAgQPjsssu63C9uXPnRktLS7tHQ0NDnqMBAN0o169ghg4dGhER\n",
              "Rx11VMyZMydGjRrV4XrFYjGKxWK7ZbW1tXmOBgB0o9zOgLz22muxY8eOtuf33ntvjBs3Lq/dAQBV\n",
              "JLczIC+99FJcdNFFUS6XI8uyGDFiRPz4xz/Oa3cAQBXJLUBGjBgRv/71r/PaPABQxfwSKgCQnAAB\n",
              "AJITIABAcgIEAEhOgAAAyQkQACA5AQIAJCdAAIDkBAgAkJwAAQCSEyAAQHICBABIToAAAMkJEAAg\n",
              "OQECACQnQACA5AQIAJCcAAEAkhMgAEByAgQASE6AAADJCRAAIDkBAgAkJ0AAgOQECACQnAABAJIT\n",
              "IABAcgIEAEhOgAAAyQkQACA5AQIAJCdAAIDkBAgAkJwAAQCSEyAAQHIVB8hjjz2WxxwAwBGk4gD5\n",
              "5je/GaNHj45bbrkldu7cmcdMAEAPV3GA/Pd//3fcd9998dvf/jZGjRoVV111Vfzud7/LYzYAoIc6\n",
              "pGtAxo0bF3fddVc8+uijsWjRojj99NPj3HPPjaeffrqr5wMAeqBDCpClS5fGlClT4sILL4yrr746\n",
              "tm3bFjNnzoyPf/zjXT0fANAD9ar0De985ztj4MCBMXv27LjwwgujtrY2IiKmTZsW8+fP7/IBAYCe\n",
              "p+IzIPfcc088+eST8YlPfKItPv5qyZIlHb7n7rvvjkKhEA899NAhDQkA9CwVB8hTTz0Vr7zyStvz\n",
              "l19+Oe66666Drr9p06a46667YuLEiYc2IQDQ41QcIPPmzYv+/fu3PR8wYEDMmzevw3X3798fn/vc\n",
              "5+K2226LYrF40G2WSqXYuXNnu0e5XK50NACgSlQcIFmWHbDsYLFw8803x5lnnhkTJkz4u9tsbGyM\n",
              "vn37tnusXLmy0tEAgCpRcYAMHjw47r///rbnCxYsiMGDBx+w3m9/+9t48MEH46tf/eqbbnPu3LnR\n",
              "0tLS7tHQ0FDpaABAlaj4r2C+//3vx5QpU+Jf//VfIyLi2GOPjYcffviA9Z588snYtGlT1NXVRUTE\n",
              "tm3bYsaMGbF169aYNWtWu3WLxeIBX9H87QWuAEDPUXGAjBkzJn73u9/FunXrIiJi9OjRHcbCrFmz\n",
              "2oXGBz7wgZgzZ05MnTr10KcFAHqEigMkIqJQKES/fv2itbU1/vCHP0RExNChQ7t0MACg56o4QH70\n",
              "ox/F7Nmz46ijjoqamtcvISkUCrF9+/a/+77HH3/8kAYEAHqeigPkW9/6VqxatSpGjx6dxzwAwBGg\n",
              "4r+CGThwoPgAAP4hFQfI1KlT4/vf/35s37693Q+HAQB0VsVfwXzlK1+JiIhrrrkmCoVCZFkWhULB\n",
              "L5cCAJ1WcYDs378/jzkAgCNIxV/BRLx+Q7qf/OQnERGxY8eO2Lp1a5cOBQD0bId0M7orrrgivvGN\n",
              "b0TE63fD/cxnPtPVcwEAPVjFAXLnnXfGr371q+jTp09ERIwcOTL++Mc/dvlgAEDPVXGAFIvFOOaY\n",
              "Y9ot69XrkH5QFQA4QlUcICeeeGI899xzUSgUIuL1X0b1M+wAQCUO6W64n/70p+PZZ5+Nt7/97dGn\n",
              "T59YtGhRHrMBAD1UxQFyyimnxIoVK2LdunWRZdlB74YLAHAwFQfIiy++GBERxx13XESEu+ECABWr\n",
              "OEAmTJjQ9guoe/bsib/85S8xYMCAN70bLgDAX1UcIH/7J7cLFy6M5ubmLhsIAOj5DumXUN/owgsv\n",
              "jMWLF3fFLADAEaLiMyBvvPNtuVyOFStWuBsuAFCRigOkX79+bdeA1NbWRl1dXdx66615zAYA9FDu\n",
              "hgsAJPcPXwMCAFCpis+A1NTUtP0M+xtlWRaFQiHK5XKXDAYA9FwVB8g3v/nN2L17d8yaNSsiIm6/\n",
              "/fY45phjYs6cOV09GwDQQ1UcID/72c/iqaeeant+ww03xIQJE+IrX/lKlw4GAPRcFV8DsmvXrna/\n",
              "erp9+/bYtWtXlw4FAPRsFZ8Bufbaa6O+vj7OP//8iIh49NFH4xvf+EZXzwUA9GAVB8jMmTPjzDPP\n",
              "jKampoiIuOaaa+Jd73pXlw8GAPRcFQdIRMSAAQPitNNOiw984APR2toae/fujbe85S1dPRsA0ENV\n",
              "fA3IAw88EBMnTozPfvazERHxzDPPxNSpU7t6LgCgB6s4QBobG2PNmjXRr1+/iIior6+PF154oavn\n",
              "AgB6sIoDpLa2NgYMGNBuma9fAIBKVBwgvXv3jpdeeqnt11CXLVsW/fv37/LBAICeq+KLUL/zne/E\n",
              "5MmTY8OGDfHe9743Nm7cGIsXL85jNgCgh6ooQPbv3x/lcjmamppi+fLlkWVZTJo0qe16EACAzqgo\n",
              "QGpqamLGjBnR3NwckydPzmsmAKCHq/gakLq6uli/fn0eswAAR4iKrwF55ZVXYuzYsTFp0qQ4/vjj\n",
              "25YvXLiwSwcDAHquTgfIjBkz4s4774zLLrssLrjggjjhhBPynAsA6ME6HSCrV6+OiIjLLrssxo8f\n",
              "H2vWrMltKACgZ6v4GpCIiCzLunoOAOAI0ukzILt3746nn346siyLPXv2tP33X51++um5DAgA9DwV\n",
              "BcgFF1zQ9vyN/10oFGLDhg1dOxkA0GN1OkA2bdpU8cb/+Z//ObZt2xY1NTXRu3fvuPXWW2PcuHEV\n",
              "bwcA6Fkq/jPcStx///1tv5L6s5/9LC6//PJobm7Oc5cAQBXINUDe+BPtLS0tbTew+1ulUilKpVK7\n",
              "ZeVyOc/RAIBulGuARERceuml0dTUFBERjzzySIfrNDY2xvXXX99u2cSJE/MeDQDoJof0Z7iV+PGP\n",
              "fxybN2+OG264Ia677roO15k7d260tLS0ezQ0NOQ9GgDQTXIPkL+67LLLoqmpKV5++eUDXisWi9Gn\n",
              "T592j9ra2lSjAQCJ5RYgO3bsiP/7v/9re/7QQw/FgAEDon///nntEgCoErldA9LS0hKf+MQnYvfu\n",
              "3VFTUxMnnnhiLFq06KAXogIAR47cAmTYsGGxcuXKvDYPAFSxZNeAAAD8lQABAJITIABAcgIEAEhO\n",
              "gAAAyQkQACA5AQIAJCdAAIDkBAgAkJwAAQCSEyAAQHICBABIToAAAMkJEAAgOQECACQnQACA5AQI\n",
              "AJCcAAEAkhMgAEByAgQASE6AAADJCRAAIDkBAgAkJ0AAgOQECACQnAABAJITIABAcgIEAEhOgAAA\n",
              "yQkQACA5AQIAJCdAAIDkBAgAkJwAAQCSEyAAQHICBABIToAAAMkJEAAgOQECACQnQACA5AQIAJBc\n",
              "bgGyZ8+emDp1aowaNSrq6+vj3HPPjfXr1+e1OwCgiuR6BmTGjBmxbt26aG5ujilTpsTnPve5PHcH\n",
              "AFSJ3ALk6KOPjvPPPz8KhUJEREycODE2bdqU1+4AgCrSK9WObrnllpgyZUqHr5VKpSiVSu2Wlcvl\n",
              "FGMBAN0gyUWoN954Y6xfvz4aGxs7fL2xsTH69u3b7rFy5coUowEA3SD3ALnpppti4cKFsWTJkjj2\n",
              "2GM7XGfu3LnR0tLS7tHQ0JD3aABAN8n1K5ibb7457r333li6dGn069fvoOsVi8UoFovtltXW1uY5\n",
              "GgDQjXILkC1btsS1114bI0aMiLPPPjsiXg+NFStW5LVLAKBK5BYgQ4YMiSzL8to8AFDF/BIqAJCc\n",
              "AAEAkhMgAEByAgQASE6AAADJCRAAIDkBAgAkJ0AAgOQECACQnAABAJITIABAcgIEAEhOgAAAyQkQ\n",
              "ACA5AQIAJCdAAIDkBAgAkJwAAQCSEyAAQHICBABIToAAAMkJEAAgOQECACQnQACA5AQIAJCcAAEA\n",
              "khMgAEByAgQASE6AAADJCRAAIDkBAgAkJ0AAgOQECACQnAABAJITIABAcgIEAEhOgAAAyQkQACA5\n",
              "AQIAJCdAAIDkBAgAkJwAAQCSyzVAZs+eHcOHD49CoRBr167Nc1cAQBXJNUCmTZsWv/zlL2PYsGF5\n",
              "7gYAqDK98tz4+973vk6tVyqVolQqtVtWLpfzGAkAOAzkGiCd1djYGNdff327ZRMnTuymaQDg8DD8\n",
              "y4tz2/amb38kt213xmFxEercuXOjpaWl3aOhoaG7xwIAcnJYnAEpFotRLBbbLautre2maQCAvB0W\n",
              "Z0AAgCNLrgEyc+bMGDJkSGzZsiU+/OEPxymnnJLn7gCAKpHrVzB33HFHnpsHAKqUr2AAgOQECACQ\n",
              "nAABAJITIABAcgIEAEhOgAAAyQkQACA5AQIAJCdAAIDkBAgAkJwAAQCSEyAAQHICBABIToAAAMkJ\n",
              "EAAgOQECACQnQACA5AQIAJCcAAEAkhMgAEByAgQASE6AAADJCRAAIDkBAgAkJ0AAgOQECACQnAAB\n",
              "AJITIABAcgIEAEhOgAAAyQkQACA5AQIAJCdAAIDkBAgAkJwAAQCSEyAAQHICBABIToAAAMkJEAAg\n",
              "OQECACQnQACA5HINkN///vcxadKkGDVqVLz73e+OZ555Js/dAQBVItcAmTlzZsyYMSOee+65uO66\n",
              "6+Lyyy/Pc3cAQJXILUC2b98eq1evjksuuSQiIi666KLYvHlzrF+//oB1S6VS7Ny5s92jXC7nNRoA\n",
              "0M165bXhzZs3x+DBg6NXr9d3USgUYujQofHiiy/GKaec0m7dxsbGuP7669stGzNmTFxzzTVdPle5\n",
              "XI7BK1dGQ0ND1NbWdum2r7lmWZdu70hXLpdjZU7Hiq7lWFUXx6t6TMnxWOX1v1nDhg2LL37xi2+6\n",
              "XiHLsiyPAZ566qn4zGc+E+vWrWtb1tDQEN/+9rfjgx/8YLt1S6VSlEqldsuKxWIUi8Uun2vnzp3R\n",
              "t2/faGlpiT59+nT59uk6jlX1cKyqi+NVPXryscrtDMjb3/722Lp1a7S2tkavXr0iy7J48cUXY+jQ\n",
              "oQesm1dsAACHp9yuARk0aFCMHz8+7rnnnoiIePDBB2PIkCEHfP0CABx5cjsDEhFxxx13xOWXXx43\n",
              "3nhj9OnTJ+6+++48dwcAVIlcA2T06NHxP//zP3nuomLFYjG+/vWv+8qnCjhW1cOxqi6OV/Xoyccq\n",
              "t4tQAQAOxk+xAwDJCRAAIDkBAgAkJ0AAgOR6bIB09k688+fPj7q6uhg5cmR8/vOfj3379iWelM4c\n",
              "q8cffzyOOeaYGDt2bNtj9+7d3TDtkW327NkxfPjwKBQKsXbt2oOu53PV/TpzrHyuDg979uyJqVOn\n",
              "xqhRo6K+vj7OPffcDu+bFhGxaNGiGDNmTNTV1cWFF14YO3fuTDxtF8p6qLPPPju7++67syzLsp/+\n",
              "9KfZGWecccA6GzZsyAYPHpxt3bo1279/f/axj30s+/d///fEk9KZY9XU1JTV19enHYwDPPHEE9nm\n",
              "zZuzYcOGZb/+9a87XMfn6vDQmWPlc3V42L17d7Z48eJs//79WZZl2W233Za9//3vP2C9Xbt2ZYMG\n",
              "Dcr+93//N8uyLLv66quzL33pSylH7VI98gxIZ+/E+8ADD8QFF1wQJ510UhQKhbjyyivj3nvv7Y6R\n",
              "j1iV3DWZ7ve+970vhgwZ8nfX8bk6PHTmWHF4OProo+P888+PQqEQERETJ06MTZs2HbDekiVLYty4\n",
              "cTFmzJiIiLjqqquq+rPVIwPk792J941efPHFGDZsWNvz4cOHH7AO+erssYqIeP7552P8+PHx7ne/\n",
              "O+bNm5d6VDrJ56q6+Fwdfm655ZaYMmXKAcs7+mz99Z5r1SjXX0KFrjJ+/PjYsmVL9O3bN7Zs2RLn\n",
              "n39+DBw4MC6++OLuHg2qls/V4efGG2+M9evXx7Jly7p7lNz1yDMgb7wTb0Qc9E68Q4cOjRdeeKHt\n",
              "+aZNmzq8Wy/56eyx6tOnT/Tt2zciIoYMGRKf/vSn48knn0w+L2/O56p6+FwdXm666aZYuHBhLFmy\n",
              "JI499tgDXu/os/XGM8jVpkcGSGfvxHvRRRfFz3/+89i2bVtkWRa33357fOpTn+qOkY9YnT1WW7du\n",
              "jf3790dExK5du2LRokUxbty45PPy5nyuqofP1eHj5ptvjnvvvTf+8z//M/r169fhOuedd16sWbMm\n",
              "nn322YiImDdvXnV/trr3Gtj8PPvss9nEiROzurq6bMKECdlvfvObLMuybPr06dnDDz/ctt6dd96Z\n",
              "jRgxIhsxYkR2xRVXZHv37u2ukY9YnTlWt912W3bqqadmp59+enbqqadmX//619uuGCedGTNmZCef\n",
              "fHJWW1ubDRo0KBs5cmSWZT5Xh6POHCufq8PD5s2bs4jIRowYkdXX12f19fVZQ0NDlmVZ9rWvfS37\n",
              "wQ9+0Lbuww8/nI0ePTobOXJkNmXKlGzHjh3dNfY/zM3oAIDkeuRXMADA4U2AAADJCRAAIDkBAgAk\n",
              "J0AAgOQECAAcATp7N+s3mjZtWrztbW+LQqEQO3bsaFv+2muvxXve856or6+P+vr6OO+88zq8f83f\n",
              "I0AA4Agwbdq0+OUvf9nufjJv5sorr+wwVo455phYunRpNDc3R3Nzc3z4wx+OL37xixXNI0AA4Ahw\n",
              "sDskr1q1Kj74wQ/GGWecEePGjYuf/vSnba+dc845MWjQoAPeU1NTE717946I12+hsXPnzra7+XZW\n",
              "df6APADwD9uxY0fMmDEjHnnkkRg8eHD86U9/ivHjx8ekSZPi5JNPftP3n3POOfH000/HiSeeGI89\n",
              "9lhF+3YGBACOUMuXL48NGzbE5MmTY+zYsXHOOedERMS6des69f6lS5fG1q1b45Of/GT827/9W0X7\n",
              "dgYEAI5QWZbFu971rli+fPkhb6OmpiY+//nPR11dXcybN6/z7zvkPQIAVW3SpEmxcePGWLp0aduy\n",
              "tWvXxt69e//u+7Zt2xavvvpq2/MFCxbE6aefXtG+3YwOAI4AM2fOjMWLF8e2bdtiwIAB0bt371i/\n",
              "fn2sWbMmvvSlL8XLL78c+/bti6FDh8ZDDz0URx99dHzkIx+J5ubm+MMf/hBve9vboq6uLh5//PFY\n",
              "uXJlzJw5M8rlcmRZFiNHjozvfe978Y53vKPT8wgQACA5X8EAAMkJEAAgOQECACQnQACA5AQIAJCc\n",
              "AAEAkhMgAEByAgQASE6AAADJCRAAILn/BziXdbvfbMwuAAAAAElFTkSuQmCC\n",
              "\">\n",
              "      </div>\n",
              "      <script type=\"text/javascript\">\n",
              "        (() => {\n",
              "          const chartElement = document.getElementById(\"chart-e997292b-937e-4b5d-9bcd-150ebc679817\");\n",
              "          async function getCodeForChartHandler(event) {\n",
              "            const chartCodeResponse =  await google.colab.kernel.invokeFunction(\n",
              "                'getCodeForChart', [\"chart-e997292b-937e-4b5d-9bcd-150ebc679817\"], {});\n",
              "            const responseJson = chartCodeResponse.data['application/json'];\n",
              "            await google.colab.notebook.addCell(responseJson.code, 'code');\n",
              "          }\n",
              "          chartElement.onclick = getCodeForChartHandler;\n",
              "        })();\n",
              "      </script>\n",
              "      <style>\n",
              "        .colab-quickchart-chart-with-code  {\n",
              "            display: block;\n",
              "            float: left;\n",
              "            border: 1px solid transparent;\n",
              "        }\n",
              "\n",
              "        .colab-quickchart-chart-with-code:hover {\n",
              "            cursor: pointer;\n",
              "            border: 1px solid #aaa;\n",
              "        }\n",
              "      </style>"
            ]
          },
          "metadata": {}
        },
        {
          "output_type": "display_data",
          "data": {
            "text/plain": [
              "from matplotlib import pyplot as plt\n",
              "_df_3['1973'].plot(kind='hist', bins=20, title='1973')\n",
              "plt.gca().spines[['top', 'right',]].set_visible(False)"
            ],
            "text/html": [
              "      <div class=\"colab-quickchart-chart-with-code\" id=\"chart-1689b8d3-f177-4258-895e-9bdeb84d92f1\">\n",
              "        <img style=\"width: 180px;\" src=\"data:image/png;base64,iVBORw0KGgoAAAANSUhEUgAAAiAAAAG5CAYAAAC3CI8KAAAAOXRFWHRTb2Z0d2FyZQBNYXRwbG90\n",
              "bGliIHZlcnNpb24zLjcuMSwgaHR0cHM6Ly9tYXRwbG90bGliLm9yZy/bCgiHAAAACXBIWXMAAA9h\n",
              "AAAPYQGoP6dpAAAdH0lEQVR4nO3df5TVdZ348dedQa+aDAiIkTgQOEB2dBigWRaytHQN2gSRci2P\n",
              "WhhEdsi1zhq1u0XrOu05rqXuIX8cck+5RzEj7IDmLp6xtWVXQISsFlxEEFqQVmNAhQvMfL5/eJqv\n",
              "E0PNpfm8h7k8Hufcc7if+5nP5zXnc+7heT73M/dTyLIsCwCAhKp6egAA4PgjQACA5AQIAJCcAAEA\n",
              "khMgAEByAgQASE6AAADJCRAAIDkBAgAkJ0AAgOQECHBUHnzwwTj//POjpqYmCoVCHDp0qMPry5Yt\n",
              "i/Hjx0dNTU3U1tZGU1NTh9enTJkSp556avvjbW97WxQKhfjmN78ZERGvvfZaXHjhhXHGGWdETU1N\n",
              "nHXWWfGXf/mXsX///mS/I5CfgnvBAEfj8ccfj1dffTX27dsXs2bNioMHD0afPn0iImL16tVx/vnn\n",
              "x+LFi+MjH/lIrF+/PqZMmRJf/vKXY968eZ1u70c/+lHMnDkztm7dGkOGDImDBw/Ghg0bYvTo0XHi\n",
              "iSfGzp0744orrogJEybEP/7jP6b8VYEcOAMCHJVLLrkkrrzyyhgxYsRhrz388MNxwQUXxLRp06Kq\n",
              "qioaGhriuuuuizvvvPOI21u4cGFcdtllMWTIkIiIOOGEE+Lcc8+NE088sX2dqqqq2LhxY/f/MkBy\n",
              "fXp6AKDyZFkWv3tyta2tLTZt2hR79+6Nvn37dnjthRdeiH/913+N5ubmw7b1iU98IpYuXRpvvPFG\n",
              "nHbaabF06dI8RwcScQYE6HaXXnppNDc3x5IlS+LQoUOxZs2a+M53vhMREXv27Dls/W9/+9txzjnn\n",
              "xPvf//7DXvuXf/mXeO2112LdunUxZ86cqK2tzX1+IH8CBOh2733ve+P++++Pm2++OQYPHhzXX399\n",
              "zJ07N6qqquK0007rsO7+/fvjvvvui7lz5x5xe4VCIerr66OhoSEuv/zyvMcHEhAgQC4+9rGPxdq1\n",
              "a+PVV1+Np59+Onbv3h1/+qd/GqecckqH9R588ME4cOBAXH311X9wmwcPHnQNCFQI14AAR6W1tTUO\n",
              "HjwYBw4ciIiIUqkUhw4dar9odM2aNTFu3Lg4cOBAPPzww/Gd73wnHn300cO2s3DhwrjqqqsOuy5k\n",
              "1apV0dLSEpMnT46TTjopnn322ViwYEFMnTo1/18OyJ0AAY7K9773vfjkJz/Z/vzUU0+NiIjm5uaY\n",
              "PHlyfO5zn4sNGzZEW1tbTJgwIZYvXx6TJ0/usI1nnnkmVq9eHYsWLTps+wcOHIgvf/nL8fzzz0db\n",
              "W1ucccYZcdlll8Xf/u3f5vuLAUn4HhAAIDnXgAAAyQkQACA5AQIAJCdAAIDkBAgAkJwAAQCSEyAA\n",
              "QHLHbIDcfvvtPT0CAJCTYzZAtm7d2tMjAAA5OWYDBACoXAIEAEhOgAAAyQkQACA5AQIAJCdAAIDk\n",
              "BAgAkJwAAQCSEyAAQHICBABIToAAAMkJEAAguT55bfiVV16JD37wg+3P33jjjdi8eXPs2rUrBgwY\n",
              "kNduAYBeILcAGThwYKxbt679+a233ho/+clPxAcAkF+A/K5FixZFU1NTp6+VSqUolUodlrW2tqYY\n",
              "CwDoAUkCZOXKlfGb3/wm/vzP/7zT15uammLBggUdlk2cODG3eYZ/aXku293yjQ/nsl0AqDRJLkJd\n",
              "tGhRXH311dGnT+e9M3/+/GhpaenwaGxsTDEaANADcj8D8tprr8VDDz0Uq1evPuI6xWIxisVih2XV\n",
              "1dV5jwYA9JDcz4AsXrw46uvrY8yYMXnvCgDoJXIPkEWLFsWsWbPy3g0A0Ivk/hHMypUr894FANDL\n",
              "+CZUACA5AQIAJCdAAIDkBAgAkJwAAQCSEyAAQHICBABIToAAAMkJEAAgOQECACQnQACA5AQIAJCc\n",
              "AAEAkhMgAEByAgQASE6AAADJCRAAIDkBAgAkJ0AAgOQECACQnAABAJITIABAcgIEAEhOgAAAyQkQ\n",
              "ACA5AQIAJCdAAIDkBAgAkJwAAQCSEyAAQHICBABIToAAAMkJEAAgOQECACQnQACA5AQIAJCcAAEA\n",
              "khMgAEByAgQASE6AAADJCRAAILlcA6RUKsXnPve5qKuri3PPPTeuuuqqPHcHAPQSffLc+Je+9KUo\n",
              "FArx/PPPR6FQiJ07d+a5OwCgl8gtQF5//fVYtGhRbN++PQqFQkREvP3tb+903VKpFKVSqcOy1tbW\n",
              "vEYDAHpYbh/BvPDCCzFgwIC45ZZbYsKECXH++efHE0880em6TU1N0a9fvw6PVatW5TUaANDDcguQ\n",
              "Q4cOxdatW+Occ86JNWvWxB133BFXXHFFvPzyy4etO3/+/GhpaenwaGxszGs0AKCH5fYRTG1tbVRV\n",
              "VcUnPvGJiIhoaGiId77znfHcc8/FGWec0WHdYrEYxWKxw7Lq6uq8RgMAelhuZ0AGDRoUH/zgB+Px\n",
              "xx+PiIgXX3wxXnzxxXjXu96V1y4BgF4i17+Cueuuu2LWrFlx0003RVVVVdx9991x5pln5rlLAKAX\n",
              "yDVARowYEc3NzXnuAgDohXwTKgCQnAABAJITIABAcgIEAEhOgAAAyQkQACA5AQIAJCdAAIDkBAgA\n",
              "kJwAAQCSEyAAQHICBABIToAAAMkJEAAgOQECACQnQACA5AQIAJCcAAEAkhMgAEByAgQASE6AAADJ\n",
              "CRAAIDkBAgAkJ0AAgOQECACQnAABAJITIABAcgIEAEhOgAAAyQkQACA5AQIAJCdAAIDkBAgAkJwA\n",
              "AQCSEyAAQHICBABIToAAAMkJEAAgOQECACQnQACA5AQIAJCcAAEAkss1QIYPHx6jR4+OsWPHxtix\n",
              "Y2Px4sV57g4A6CX65L2DxYsXx9ixY/PeDQDQi+QeIF1RKpWiVCp1WNba2tpD0wAAecv9GpCrr746\n",
              "zj333Jg1a1b8+te/7nSdpqam6NevX4fHqlWr8h4NAOghuQbIv//7v8fPfvazWLt2bQwaNCiuueaa\n",
              "TtebP39+tLS0dHg0NjbmORoA0INy/QimtrY2IiJOOOGEuOGGG2LUqFGdrlcsFqNYLHZYVl1dnedo\n",
              "AEAPyu0MyOuvvx67d+9uf/7AAw9EQ0NDXrsDAHqR3M6AvPzyy3H55ZdHa2trZFkWI0aMiO9+97t5\n",
              "7Q4A6EVyC5ARI0bEs88+m9fmAYBezDehAgDJCRAAIDkBAgAkJ0AAgOQECACQnAABAJITIABAcgIE\n",
              "AEhOgAAAyQkQACA5AQIAJCdAAIDkBAgAkJwAAQCSEyAAQHICBABIToAAAMkJEAAgOQECACQnQACA\n",
              "5AQIAJCcAAEAkhMgAEByAgQASE6AAADJCRAAIDkBAgAkJ0AAgOQECACQnAABAJITIABAcgIEAEhO\n",
              "gAAAyQkQACA5AQIAJFd2gDz++ON5zAEAHEfKDpCvf/3rMXr06Lj99ttjz549ecwEAFS4sgPkP/7j\n",
              "P+LBBx+Mn//85zFq1Kj47Gc/G7/85S/zmA0AqFBHdQ1IQ0ND3HvvvfHjH/84li1bFuedd15cfPHF\n",
              "8dxzz3X3fABABTqqAFmxYkVMmzYtZsyYEddff33s3Lkz5syZE5dddll3zwcAVKA+5f7Au971rhg0\n",
              "aFDMmzcvZsyYEdXV1RERMXPmzFi0aFG3DwgAVJ6yz4Dcf//98dRTT8VHP/rR9vj4rccee6zTn7nv\n",
              "vvuiUCjE0qVLj2pIAKCylB0gzzzzTLz66qvtz1955ZW49957j7j+li1b4t57742JEyce3YQAQMUp\n",
              "O0AWLlwYAwYMaH8+cODAWLhwYafrtrW1xXXXXRd33nlnFIvFI26zVCrFnj17OjxaW1vLHQ0A6CXK\n",
              "DpAsyw5bdqRYuO2222Ly5Mkxfvz437vNpqam6NevX4fHqlWryh0NAOglyg6QIUOGxEMPPdT+fPHi\n",
              "xTFkyJDD1vv5z38eP/jBD+Kv//qv/+A258+fHy0tLR0ejY2N5Y4GAPQSZf8VzLe+9a2YNm1a/NVf\n",
              "/VVERJxyyinxyCOPHLbeU089FVu2bIm6urqIiNi5c2fMnj07duzYEXPnzu2wbrFYPOwjmt+9wBUA\n",
              "qBxlB8iYMWPil7/8ZWzcuDEiIkaPHt1pLMydO7dDaFxwwQVxww03xPTp049+WgCgIpQdIBERhUIh\n",
              "+vfvH4cOHYpf/epXERFRW1vbrYMBAJWr7AD553/+55g3b16ccMIJUVX15iUkhUIhdu3a9Xt/7skn\n",
              "nzyqAQGAylN2gPzd3/1drF69OkaPHp3HPADAcaDsv4IZNGiQ+AAA/ihlB8j06dPjW9/6VuzatavD\n",
              "F4cBAHRV2R/BfOUrX4mIiBtvvDEKhUJkWRaFQsE3lwIAXVZ2gLS1teUxBwBwHCn7I5iIN29I973v\n",
              "fS8iInbv3h07duzo1qEAgMp2VDej+9SnPhVf+9rXIuLNu+F+/OMf7+65AIAKVnaA3HPPPfFf//Vf\n",
              "UVNTExERI0eOjF//+tfdPhgAULnKDpBisRgnn3xyh2V9+hzVF6oCAMepsgPk9NNPj+effz4KhUJE\n",
              "vPnNqL6GHQAox1HdDffKK6+MDRs2xFlnnRU1NTWxbNmyPGYDACpU2QFy9tlnx9NPPx0bN26MLMuO\n",
              "eDdcAIAjKTtAXnrppYiIeNvb3hYR4W64AEDZyg6Q8ePHt38D6v79++ONN96IgQMH/sG74QIA/FbZ\n",
              "AfK7f3K7ZMmSWL9+fbcNBABUvqP6JtS3mjFjRixfvrw7ZgEAjhNlnwF5651vW1tb4+mnn3Y3XACg\n",
              "LGUHSP/+/duvAamuro66urq444478pgNAKhQ7oYLACT3R18DAgBQrrLPgFRVVbV/DftbZVkWhUIh\n",
              "Wltbu2UwAKBylR0gX//612Pfvn0xd+7ciIi466674uSTT44bbrihu2cDACpU2QHywx/+MJ555pn2\n",
              "5zfffHOMHz8+vvKVr3TrYABA5Sr7GpC9e/d2+NbTXbt2xd69e7t1KACgspV9BuQLX/hC1NfXx9Sp\n",
              "UyMi4sc//nF87Wtf6+65AIAKVnaAzJkzJyZPnhzNzc0REXHjjTfGu9/97m4fDACoXGUHSETEwIED\n",
              "49xzz40LLrggDh06FAcOHIgTTzyxu2cDACpU2deAPPzwwzFx4sT45Cc/GRERv/jFL2L69OndPRcA\n",
              "UMHKDpCmpqZYu3Zt9O/fPyIi6uvrY+vWrd09FwBQwcoOkOrq6hg4cGCHZT5+AQDKUXaA9O3bN15+\n",
              "+eX2b0N94oknYsCAAd0+GABQucq+CPUf/uEfYsqUKbF58+Z473vfGy+++GIsX748j9kAgApVVoC0\n",
              "tbVFa2trNDc3x8qVKyPLspg0aVL79SAAAF1RVoBUVVXF7NmzY/369TFlypS8ZgIAKlzZ14DU1dXF\n",
              "pk2b8pgFADhOlH0NyKuvvhpjx46NSZMmxamnntq+fMmSJd06GABQubocILNnz4577rknrrnmmrj0\n",
              "0kvjtNNOy3MuAKCCdTlA1qxZExER11xzTYwbNy7Wrl2b21AAQGUr+xqQiIgsy7p7DgDgONLlMyD7\n",
              "9u2L5557LrIsi/3797f/+7fOO++8XAYEACpPWQFy6aWXtj9/678LhUJs3ry5eycDACpWlwNky5Yt\n",
              "ZW/8z/7sz2Lnzp1RVVUVffv2jTvuuCMaGhrK3g4AUFnK/jPccjz00EPt35L6wx/+MK699tpYv359\n",
              "nrsEAHqBXAPkrV/R3tLS0n4Du99VKpWiVCp1WNba2prnaABAD8o1QCIirr766mhubo6IiEcffbTT\n",
              "dZqammLBggUdlk2cODHv0QCAHnJUf4Zbju9+97uxbdu2uPnmm+Omm27qdJ358+dHS0tLh0djY2Pe\n",
              "owEAPST3APmta665Jpqbm+OVV1457LVisRg1NTUdHtXV1alGAwASyy1Adu/eHf/7v//b/nzp0qUx\n",
              "cODAGDBgQF67BAB6idyuAWlpaYmPfvSjsW/fvqiqqorTTz89li1bdsQLUQGA40duATJs2LBYtWpV\n",
              "XpsHAHqxZNeAAAD8lgABAJITIABAcgIEAEhOgAAAyQkQACA5AQIAJCdAAIDkBAgAkJwAAQCSEyAA\n",
              "QHICBABIToAAAMkJEAAgOQECACQnQACA5AQIAJCcAAEAkhMgAEByAgQASE6AAADJCRAAIDkBAgAk\n",
              "J0AAgOQECACQnAABAJITIABAcgIEAEhOgAAAyQkQACA5AQIAJCdAAIDkBAgAkJwAAQCSEyAAQHIC\n",
              "BABIToAAAMkJEAAgOQECACQnQACA5AQIAJBcbgGyf//+mD59eowaNSrq6+vj4osvjk2bNuW1OwCg\n",
              "F8n1DMjs2bNj48aNsX79+pg2bVpcd911ee4OAOglcguQk046KaZOnRqFQiEiIiZOnBhbtmzJa3cA\n",
              "QC/SJ9WObr/99pg2bVqnr5VKpSiVSh2Wtba2phgLAOgBSS5CveWWW2LTpk3R1NTU6etNTU3Rr1+/\n",
              "Do9Vq1alGA0A6AG5B8itt94aS5YsicceeyxOOeWUTteZP39+tLS0dHg0NjbmPRoA0ENy/Qjmtttu\n",
              "iwceeCBWrFgR/fv3P+J6xWIxisVih2XV1dV5jgYA9KDcAmT79u3xhS98IUaMGBEXXnhhRLwZGk8/\n",
              "/XReuwQAeoncAmTo0KGRZVlemwcAejHfhAoAJCdAAIDkBAgAkJwAAQCSEyAAQHICBABIToAAAMkJ\n",
              "EAAgOQECACQnQACA5AQIAJCcAAEAkhMgAEByAgQASE6AAADJCRAAIDkBAgAkJ0AAgOQECACQnAAB\n",
              "AJITIABAcgIEAEhOgAAAyQkQACA5AQIAJCdAAIDkBAgAkJwAAQCSEyAAQHICBABIToAAAMkJEAAg\n",
              "OQECACQnQACA5AQIAJCcAAEAkhMgAEByAgQASE6AAADJCRAAIDkBAgAkJ0AAgORyDZB58+bF8OHD\n",
              "o1AoxLp16/LcFQDQi+QaIDNnzoyf/vSnMWzYsDx3AwD0Mn3y3Pj73ve+Lq1XKpWiVCp1WNba2prH\n",
              "SADAMSDXAOmqpqamWLBgQYdlEydO7KFpAODYMPxLy3Pb9pZvfDi3bXfFMXER6vz586OlpaXDo7Gx\n",
              "safHAgByckycASkWi1EsFjssq66u7qFpAIC8HRNnQACA40uuATJnzpwYOnRobN++PS655JI4++yz\n",
              "89wdANBL5PoRzN13353n5gGAXspHMABAcgIEAEhOgAAAyQkQACA5AQIAJCdAAIDkBAgAkJwAAQCS\n",
              "EyAAQHICBABIToAAAMkJEAAgOQECACQnQACA5AQIAJCcAAEAkhMgAEByAgQASE6AAADJCRAAIDkB\n",
              "AgAkJ0AAgOQECACQnAABAJITIABAcgIEAEhOgAAAyQkQACA5AQIAJCdAAIDkBAgAkJwAAQCSEyAA\n",
              "QHICBABIToAAAMkJEAAgOQECACQnQACA5AQIAJCcAAEAkhMgAEByuQbI//zP/8SkSZNi1KhR8Z73\n",
              "vCd+8Ytf5Lk7AKCXyDVA5syZE7Nnz47nn38+brrpprj22mvz3B0A0EvkFiC7du2KNWvWxFVXXRUR\n",
              "EZdffnls27YtNm3adNi6pVIp9uzZ0+HR2tqa12gAQA/rk9eGt23bFkOGDIk+fd7cRaFQiNra2njp\n",
              "pZfi7LPP7rBuU1NTLFiwoMOyMWPGxI033tjtc7W2tsaQVauisbExqquru3XbN974RLdu73jR2toa\n",
              "q3I6JpTP8Tj2OCbHnlTHZEZuW87v/6xhw4bF5z//+T+4XiHLsiyPAZ555pn4+Mc/Hhs3bmxf1tjY\n",
              "GN/4xjfiAx/4QId1S6VSlEqlDsuKxWIUi8Vun2vPnj3Rr1+/aGlpiZqamm7fPuVzTI4tjsexxzE5\n",
              "9jgmf7zczoCcddZZsWPHjjh06FD06dMnsiyLl156KWpraw9bN6/YAACOTbldAzJ48OAYN25c3H//\n",
              "/RER8YMf/CCGDh162McvAMDxJ7czIBERd999d1x77bVxyy23RE1NTdx333157g4A6CVyDZDRo0fH\n",
              "f/7nf+a5i7IVi8X46le/6iOfY4hjcmxxPI49jsmxxzH54+V2ESoAwJH4KnYAIDkBAgAkJ0AAgOQE\n",
              "CACQXMUGSFfvxLto0aKoq6uLkSNHxqc//ek4ePBg4kmPD105Hk8++WScfPLJMXbs2PbHvn37emDa\n",
              "48O8efNi+PDhUSgUYt26dUdcz3skja4cD++RtPbv3x/Tp0+PUaNGRX19fVx88cWd3s8sImLZsmUx\n",
              "ZsyYqKurixkzZsSePXsST9sLZRXqwgsvzO67774sy7Ls+9//fjZhwoTD1tm8eXM2ZMiQbMeOHVlb\n",
              "W1v2kY98JPunf/qnxJMeH7pyPJqbm7P6+vq0gx3HfvKTn2Tbtm3Lhg0blj377LOdruM9kk5Xjof3\n",
              "SFr79u3Lli9fnrW1tWVZlmV33nln9v73v/+w9fbu3ZsNHjw4++///u8sy7Ls+uuvz774xS+mHLVX\n",
              "qsgzIF29E+/DDz8cl156abz97W+PQqEQn/nMZ+KBBx7oiZErWjl3Riad973vfTF06NDfu473SDpd\n",
              "OR6kddJJJ8XUqVOjUChERMTEiRNjy5Yth6332GOPRUNDQ4wZMyYiIj772c96n3RBRQbI77sT71u9\n",
              "9NJLMWzYsPbnw4cPP2wd/nhdPR4RES+88EKMGzcu3vOe98TChQtTj8rv8B459niP9Jzbb789pk2b\n",
              "dtjyzt4nv70XGkeW6zehQjnGjRsX27dvj379+sX27dtj6tSpMWjQoPjYxz7W06PBMcF7pOfccsst\n",
              "sWnTpnjiiXxuYX88qsgzIG+9E29EHPFOvLW1tbF169b251u2bOn0br38cbp6PGpqaqJfv34RETF0\n",
              "6NC48sor46mnnko+L/+f98ixxXukZ9x6662xZMmSeOyxx+KUU0457PXO3idvPetL5yoyQLp6J97L\n",
              "L788fvSjH8XOnTsjy7K466674i/+4i96YuSK1tXjsWPHjmhra4uIiL1798ayZcuioaEh+bz8f94j\n",
              "xxbvkfRuu+22eOCBB+Lf/u3fon///p2u86EPfSjWrl0bGzZsiIiIhQsXep90Rc9eA5ufDRs2ZBMn\n",
              "Tszq6uqy8ePHZz/72c+yLMuyWbNmZY888kj7evfcc082YsSIbMSIEdmnPvWp7MCBAz01ckXryvG4\n",
              "8847s3POOSc777zzsnPOOSf76le/2n71Od1v9uzZ2ZlnnplVV1dngwcPzkaOHJllmfdIT+nK8fAe\n",
              "SWvbtm1ZRGQjRozI6uvrs/r6+qyxsTHLsiz7m7/5m+zb3/52+7qPPPJINnr06GzkyJHZtGnTst27\n",
              "d/fU2L2Gm9EBAMlV5EcwAMCxTYAAAMkJEAAgOQECACQnQACA5AQIABwHunoH7LeaOXNmvOMd74hC\n",
              "oRC7d+9uX/7666/Hn/zJn0R9fX3U19fHhz70oU7vk/P7CBAAOA7MnDkzfvrTn3a4b80f8pnPfKbT\n",
              "WDn55JNjxYoVsX79+li/fn1ccskl8fnPf76seQQIABwHjnTH5dWrV8cHPvCBmDBhQjQ0NMT3v//9\n",
              "9tcuuuiiGDx48GE/U1VVFX379o2IN2+vsWfPnva7BneVL6oHgOPU7t27Y/bs2fHoo4/GkCFD4v/+\n",
              "7/9i3LhxMWnSpDjzzDP/4M9fdNFF8dxzz8Xpp58ejz/+eFn7dgYEAI5TK1eujM2bN8eUKVNi7Nix\n",
              "cdFFF0VExMaNG7v08ytWrIgdO3bEFVdcEX//939f1r6dAQGA41SWZfHud787Vq5cedTbqKqqik9/\n",
              "+tNRV1cXCxcu7PrPHfUeAYBebdKkSfHiiy/GihUr2petW7cuDhw48Ht/bufOnfGb3/ym/fnixYvj\n",
              "vPPOK2vfbkYHAMeBOXPmxPLly2Pnzp0xcODA6Nu3b2zatCnWrl0bX/ziF+OVV16JgwcPRm1tbSxd\n",
              "ujROOumk+PCHPxzr16+PX/3qV/GOd7wj6urq4sknn4xVq1bFnDlzorW1NbIsi5EjR8Y3v/nNeOc7\n",
              "39nleQQIAJCcj2AAgOQECACQnAABAJITIABAcgIEAEhOgAAAyQkQACA5AQIAJCdAAIDkBAgAkNz/\n",
              "A0AkdIrbv+PyAAAAAElFTkSuQmCC\n",
              "\">\n",
              "      </div>\n",
              "      <script type=\"text/javascript\">\n",
              "        (() => {\n",
              "          const chartElement = document.getElementById(\"chart-1689b8d3-f177-4258-895e-9bdeb84d92f1\");\n",
              "          async function getCodeForChartHandler(event) {\n",
              "            const chartCodeResponse =  await google.colab.kernel.invokeFunction(\n",
              "                'getCodeForChart', [\"chart-1689b8d3-f177-4258-895e-9bdeb84d92f1\"], {});\n",
              "            const responseJson = chartCodeResponse.data['application/json'];\n",
              "            await google.colab.notebook.addCell(responseJson.code, 'code');\n",
              "          }\n",
              "          chartElement.onclick = getCodeForChartHandler;\n",
              "        })();\n",
              "      </script>\n",
              "      <style>\n",
              "        .colab-quickchart-chart-with-code  {\n",
              "            display: block;\n",
              "            float: left;\n",
              "            border: 1px solid transparent;\n",
              "        }\n",
              "\n",
              "        .colab-quickchart-chart-with-code:hover {\n",
              "            cursor: pointer;\n",
              "            border: 1px solid #aaa;\n",
              "        }\n",
              "      </style>"
            ]
          },
          "metadata": {}
        },
        {
          "output_type": "display_data",
          "data": {
            "text/plain": [
              "<google.colab._quickchart_helpers.SectionTitle at 0x7ef879b9b850>"
            ],
            "text/html": [
              "<h4 class=\"colab-quickchart-section-title\">2-d distributions</h4>\n",
              "<style>\n",
              "  .colab-quickchart-section-title {\n",
              "      clear: both;\n",
              "  }\n",
              "</style>"
            ]
          },
          "metadata": {}
        },
        {
          "output_type": "display_data",
          "data": {
            "text/plain": [
              "from matplotlib import pyplot as plt\n",
              "_df_4.plot(kind='scatter', x='1970', y='1971', s=32, alpha=.8)\n",
              "plt.gca().spines[['top', 'right',]].set_visible(False)"
            ],
            "text/html": [
              "      <div class=\"colab-quickchart-chart-with-code\" id=\"chart-63be5688-228c-4551-bc13-20d9b5c59c91\">\n",
              "        <img style=\"width: 180px;\" src=\"data:image/png;base64,iVBORw0KGgoAAAANSUhEUgAAAjEAAAGzCAYAAADe/0a6AAAAOXRFWHRTb2Z0d2FyZQBNYXRwbG90\n",
              "bGliIHZlcnNpb24zLjcuMSwgaHR0cHM6Ly9tYXRwbG90bGliLm9yZy/bCgiHAAAACXBIWXMAAA9h\n",
              "AAAPYQGoP6dpAAAoqklEQVR4nO3df1BUV5738U/baOtEIDHIAwYbwq9kwQh0BF3NWOOMWckPcUpM\n",
              "NBtTK/6CnZoxzzKzptj8Kk0c8sdKHmdSjlpDMTvlrKZEJ0vl1+xQWTOwJqJjIImZGEGwwQWZGOXX\n",
              "mBbwPn/4pJ/0iNoYmubA+1V1qtLnnHv7e+rmpj659zbXZlmWJQAAAMOMC3YBAAAAN4MQAwAAjESI\n",
              "AQAARiLEAAAAIxFiAACAkQgxAADASIQYAABgJEIMAAAwEiEGAAAYaUyEmA0bNiguLk42m021tbV+\n",
              "bbNs2TJNmzZNNptNFy5c8Pb39PRo9uzZSktLU1pamrKzs9XU1BSQugEAwLWNiRCzbNkyVVdXKzY2\n",
              "1u9tCgoKBgw8kyZNUmVlperq6lRXV6dFixbpySefHMJqAQCAP8ZEiJk/f75iYmKu6j9y5Ii++93v\n",
              "atasWcrIyNC+ffu8YwsXLlRkZORV24wbN06hoaGSJMuy1NnZKZvNFrjiAQDAgEKCXUCwXLhwQevX\n",
              "r9ebb76p6Ohoff7553K5XJo7d67uuOOOG26/cOFCffTRR5o6dap+97vfDUPFAADg68bElZiBHDp0\n",
              "SKdOndIDDzyg9PR0LVy4UJJ04sQJv7avrKxUa2urli9fri1btgSyVAAAMIAxeyXGsiylpqbq0KFD\n",
              "N72PcePGad26dUpKStL27duHsDoAAHAjY/ZKzNy5c9XY2KjKykpvX21trS5dunTd7dra2nT+/Hnv\n",
              "51dffVUzZ84MWJ0AAGBgNsuyrGAXEWj5+fl644031NbWpttvv12hoaGqr6/XsWPH9JOf/ETnzp1T\n",
              "b2+vnE6nXnvtNU2cOFEPPfSQ6urqdObMGU2bNk1JSUk6ePCgampqlJ+fr/7+flmWpYSEBL388su6\n",
              "8847g71MAADGlDERYgAAwOgzZm8nAQAAsxFiAACAkQgxAADASKM+xGzbti3YJQAAgAAY9SHm9OnT\n",
              "wS4BAAAEwKgPMQAAYHQixAAAACMRYgAAgJEIMQAAwEiEGAAAYCRCDAAAMBIhBgAAGIkQAwAAjESI\n",
              "AQAARgpYiPnyyy/1/e9/X8nJyUpLS9P999+v+vr6Aee+/vrruvvuu5WUlKSlS5eqs7PTrzEAABAc\n",
              "X/b26/Nuj77s7Q9aDQG9ErN+/XqdOHFCdXV1WrJkidauXXvVnO7ubq1Zs0avvfaaTp48qWnTpumF\n",
              "F1644RgAABh+f+7y6OXfn9CSV/5bS7cf0pJX/lv/5/ef6fNuz7DXErAQM3HiRD344IOy2WySpDlz\n",
              "5qipqemqeW+99ZYyMjJ09913S5J+8IMfaM+ePTccG4jH41FnZ6dP6+8PXkIEAGA0+XOXRz/a84F+\n",
              "c9itHk+fQsbZ1OPp0+7Dp/XDf/9g2IPMsD0Ts23bNi1ZsuSqfrfbrdjYWO/nuLg4tba2qq+v77pj\n",
              "AykuLlZ4eLhPq6mpGfrFAAAwBu1+v0n17V2aOtmh226ZoFscIbrtlgmaOtmh+vYu7X5veF+6PCwh\n",
              "5qc//anq6+tVXFwc0O8pKipSR0eHT8vKygrodwIAMBZ82duvtz8+q4khdoXYfeNDiH2cHCF2vXW8\n",
              "bVifkQl4iPnXf/1XHThwQG+99Za+9a1vXTXudDp1+vT/T25NTU2Kjo5WSEjIdccG4nA4FBYW5tPs\n",
              "dvvQLwoAgDGm29Oni739mhAycHRwhIzTxUv96vYMfLckEAIaYkpKSrRnzx79/ve/16233jrgnOzs\n",
              "bB07dkyffvqpJGn79u1asWLFDccAAMDwmewI0aTxdl3quzzguKfvsiZNsGuyY+ALDYEQsG9qaWnR\n",
              "j3/8Y8XHx2vBggWSrlwpOXz4sJ577jlNmzZNBQUFCg0N1S9/+Ut9//vfV19fn2bMmKF/+7d/k6Tr\n",
              "jgEAgOEzcbxd2TP+l35z2K2+/ss+t5T6+i/L09evR1JjNHH88N0BsVmWZQ3btwVBYWGhSkpKgl0G\n",
              "AADG+7zbox/++weqb++SI8QuR8g4efquBJikyFD9/O8zFDHZMWz18Bd7AQCAXyImO/TK32do5exY\n",
              "TZ4Yor7LliZPDNHK2bHDHmCkAN5OAgAAo0/EZIf+9/3JKvhOgro9fZrsCBnWW0hfR4gBAACDNnG8\n",
              "PWjh5SvcTgIAAEYixAAAACMRYgAAgJEIMQAAwEiEGAAAYCRCDAAAMBIhBgAAGIkQAwAAjESIAQAA\n",
              "RiLEAAAAIxFiAACAkQgxAADASIQYAABgJEIMAAAwEiEGAAAYiRADAACMRIgBAABGIsQAAAAjEWIA\n",
              "AICRCDEAAMBIhBgAAGAkQgwAADASIQYAABiJEAMAAIxEiAEAAEYixAAAACMRYgAAgJEIMQAAwEiE\n",
              "GAAAYCRCDAAAMFJAQ8yGDRsUFxcnm82m2traAeeUlZUpPT3d2yIiIrR06VJJUlNTk+x2u894Q0ND\n",
              "IEsGAACGCAnkzpctW6aNGzfqvvvuu+acvLw85eXleT/PmDFDjz/+uPdzaGjoNQMQAAAYuwIaYubP\n",
              "nz+o+YcPH1Z7e7tycnJu6vs8Ho88Ho9PX39//03tCwAAjGwj6pmY0tJSPfHEExo/fry3r6enR5mZ\n",
              "mXK5XNq8efN1Q0lxcbHCw8N9Wk1NzXCUDgAAhtmICTE9PT3au3ev1qxZ4+2Ljo7WmTNndOTIEVVW\n",
              "Vqqqqkpbt2695j6KiorU0dHh07KysoajfAAAMMxGTIjZt2+fUlNTlZKS4u1zOByKjIyUJE2ZMkWr\n",
              "V69WVVXVNffhcDgUFhbm0+x2e8BrBwAAw2/EhJjS0lKfqzCS1N7ert7eXklXnnc5cOCAMjIyglEe\n",
              "AAAYYQIaYvLz8xUTE6OWlhYtWrRIiYmJkqS1a9eqoqLCO+/EiROqra3V8uXLfbavrq5WRkaG0tLS\n",
              "5HK5FBUVpaeffjqQJQMAAEPYLMuygl1EIBUWFqqkpCTYZQAAgCE2Ym4nAQAADAYhBgAAGIkQAwAA\n",
              "jESIAQAARiLEAAAAIxFiAACAkQgxAADASIQYAABgJEIMAAAwEiEGAAAYiRADAACMRIgBAABGIsQA\n",
              "AAAjEWIAAICRCDEAAMBIhBgAAGAkQgwAADASIQYAABiJEAMAAIxEiAEAAEYixAAAACMRYgAAgJEI\n",
              "MQAAwEiEGAAAYCRCDAAAMBIhBgAAGIkQAwAAjESIAQAARiLEAAAAIxFiAACAkQgxAADASIQYAABg\n",
              "JEIMAAAwUkBDzIYNGxQXFyebzaba2toB5xw8eFCTJk1Senq6t128eNE7XlpaqqSkJCUkJGjdunXq\n",
              "7e0NZMkAAMAQAQ0xy5YtU3V1tWJjY68776677lJtba23TZo0SZLU2NioZ599VlVVVaqvr9fZs2e1\n",
              "a9euQJYMAAAMEdAQM3/+fMXExNz09uXl5crJyVFUVJRsNpsKCgq0Z8+eIawQAACYKiTYBUhSQ0OD\n",
              "XC6X7Ha78vLy9IMf/ECS5Ha7fa7ixMXFye12X3M/Ho9HHo/Hp6+/vz8wRQMAgKAKeohxuVxqaWlR\n",
              "eHi4Wlpa9OCDDyoiIkKPPvrooPdVXFysTZs2+fTNmTNnqEoFAAAjSNB/nRQWFqbw8HBJUkxMjB57\n",
              "7DFVVVVJkpxOp06fPu2d29TUJKfTec19FRUVqaOjw6dlZWUFdgEAACAogh5iWltbdfnyZUlSV1eX\n",
              "Xn/9dWVkZEiScnNzVVFRoba2NlmWpR07dmjFihXX3JfD4VBYWJhPs9vtw7IOAAAwvAIaYvLz8xUT\n",
              "E6OWlhYtWrRIiYmJkqS1a9eqoqJCkrR//37dc889SktL05w5c3T//fcrLy9PkhQfH69NmzZp3rx5\n",
              "SkxM1NSpU5Wfnx/IkgEAgCFslmVZwS4ikAoLC1VSUhLsMgAAwBAL+u0kAACAm0GIAQAARiLEAAAA\n",
              "IxFiAACAkQgxAADASIQYAABgJEIMAAAwEiEGAAAYiRADAACMRIgBAABGIsQAAAAjEWIAAICRCDEA\n",
              "AMBIhBgAAGAkQgwAADASIQYAABiJEAMAAIxEiAEAAEYixAAAACMRYgAAgJEIMQAAwEiEGAAAYCRC\n",
              "DAAAMBIhBgAAGIkQAwAAjESIAQAARiLEAAAAIxFiAACAkQgxAADASIQYAABgJEIMAAAwEiEGAAAY\n",
              "iRADAACMRIgBAABGCmiI2bBhg+Li4mSz2VRbWzvgnHfeeUdZWVlKSUlRamqqNm7cqMuXL0uSmpqa\n",
              "ZLfblZ6e7m0NDQ2BLBkAABgioCFm2bJlqq6uVmxs7DXn3Hbbbdq7d68++eQT/fGPf9ShQ4f061//\n",
              "2jseGhqq2tpab0tISAhkyQAAwBAhgdz5/PnzbzgnIyPD+88TJ05Uenq6mpqabur7PB6PPB6PT19/\n",
              "f/9N7QsAAIxsI+qZmLa2NpWXl+vhhx/29vX09CgzM1Mul0ubN2++bigpLi5WeHi4T6upqRmO0gEA\n",
              "wDAbMSGms7NTixcv1saNGzVr1ixJUnR0tM6cOaMjR46osrJSVVVV2rp16zX3UVRUpI6ODp+WlZU1\n",
              "XEsAAADDaESEmK6uLmVnZ2vJkiUqLCz09jscDkVGRkqSpkyZotWrV6uqquqa+3E4HAoLC/Npdrs9\n",
              "4PUDAIDhF/QQ093drezsbGVnZ+uZZ57xGWtvb1dvb6+kK8+7HDhwwOcZGgAAMHYFNMTk5+crJiZG\n",
              "LS0tWrRokRITEyVJa9euVUVFhSRp27Ztqqmp0YEDB7w/o96yZYskqbq6WhkZGUpLS5PL5VJUVJSe\n",
              "fvrpQJYMAAAMYbMsywp2EYFUWFiokpKSYJcBAACGWNBvJwEAANwMQgwAADASIQYAABiJEAMAAIxE\n",
              "iAEAAEYixAAAACMRYgAAgJEIMQAAwEiEGAAAYCRCDAAAMBIhBgAAGIkQAwAAjESIAQAARiLEAAAA\n",
              "IxFiAACAkQgxAADASIQYAABgJEIMAAAwEiEGAAAYiRADAACMRIgBAABGIsQAAAAjEWIAAICRCDEA\n",
              "AMBIhBgAAGAkQgwAADASIQYAABhpSEJMXV3dUOwGAADAb0MSYhYvXjwUuwEAAPBbiL8Tf/aznw3Y\n",
              "b1mWuru7h6wgAAAAf/gdYn784x/r8ccfl81mu2qst7d3SIsCAAC4Eb9DzN/8zd+oqKhId91111Vj\n",
              "lZWVQ1oUAADAjfj9TMw//dM/6dKlSwOOvfjii0NWEAAAgD/8DjF5eXm65557Bhz7h3/4hwH7N2zY\n",
              "oLi4ONlsNtXW1l5z36WlpUpKSlJCQoLWrVvnc3vqemMAAGDs8jvEfPzxx4Pe+bJly1RdXa3Y2Nhr\n",
              "zmlsbNSzzz6rqqoq1dfX6+zZs9q1a9cNxwAAwNjmd4iZOXOm0tLS9LOf/UxffPGFX9vMnz9fMTEx\n",
              "151TXl6unJwcRUVFyWazqaCgQHv27Lnh2EA8Ho86Ozt9Wn9/v79LBAAABvE7xKSmpuq5557T22+/\n",
              "LafTqRUrVgzJA71ut9vnSk1cXJzcbvcNxwZSXFys8PBwn1ZTU/ONawQAACOP3yFm/Pjxys3N1Ztv\n",
              "vqk//elPmjFjhvLz8xUXF6fNmzcHska/FRUVqaOjw6dlZWUFuywAABAAN/UXe6dPn65nnnlGDQ0N\n",
              "Ki0t1YkTJ266AKfTqdOnT3s/NzU1yel03nBsIA6HQ2FhYT7NbrffdG0AAGDk8jvETJgwYcD+733v\n",
              "e/rNb35z0wXk5uaqoqJCbW1tsixLO3bs0IoVK244BgAAxja/Q8z7778/6J3n5+crJiZGLS0tWrRo\n",
              "kRITEyVJa9euVUVFhSQpPj5emzZt0rx585SYmKipU6cqPz//hmMAAGBss1mWZQ1mg9raWjU1NSkk\n",
              "JEQpKSmKj48PVG1DorCwUCUlJcEuAwAADDG/Xzvw4Ycf6vHHH5fb7VZ3d7dSUlJ05swZfe9731Np\n",
              "aanCwsICWScAAIAPv28nFRQU6Be/+IU6Ojr029/+VgsWLFBbW5vuuusu/ehHPwpkjQAAAFfxO8T8\n",
              "5S9/0X333SdJysnJ0XvvvacJEyboxRdf1HvvvRewAgEAAAYyqL8T8+mnn0q68pDvLbfc4h3jZ8wA\n",
              "AGC4+f1MzAsvvKD77rtPEREROnfunMrLyyVJbW1t+va3vx2wAgEAAAbid4jJzs5WfX29GhoalJSU\n",
              "5H2QNyoqipcyAgCAYTeov9h766236t57773ql0jJyclDWhQAAMCNDOon1tfS1dU1JMUAAAD4y+8Q\n",
              "k56erri4OA30t/HOnTs3pEUBAADciN8hJjY2VtXV1Zo2bdpVY9OnTx/SogAAAG7E72dicnJydOrU\n",
              "qQHHHnrooSErCAAAwB9+X4nZtm3bNcd27NgxJMUAAAD4a1C/TgIAABgpCDEAAMBIhBgAAGAkQgwA\n",
              "ADASIQYAABiJEAMAAIxEiAEAAEYixAAAACMRYgAAgJEIMQAAwEiEGAAAYCRCDAAAMBIhBgAAGIkQ\n",
              "AwAAjESIAQAARiLEAAAAIxFiAACAkQgxAADASIQYAABgJEIMAAAwEiEGAAAYKaAh5uTJk5o7d66S\n",
              "k5OVmZmp48ePXzWnrKxM6enp3hYREaGlS5dKkpqammS3233GGxoaAlkyAAAwREggd56fn6/169dr\n",
              "1apVKi8v16pVq3TkyBGfOXl5ecrLy/N+njFjhh5//HHv59DQUNXW1gayTAAAYKCAXYlpb2/X0aNH\n",
              "tXLlSklSbm6umpubVV9ff81tDh8+rPb2duXk5NzUd3o8HnV2dvq0/v7+m9oXAAAY2QIWYpqbmxUd\n",
              "Ha2QkCsXe2w2m5xOp9xu9zW3KS0t1RNPPKHx48d7+3p6epSZmSmXy6XNmzdfN5QUFxcrPDzcp9XU\n",
              "1AzdogAAwIgxYh7s7enp0d69e7VmzRpvX3R0tM6cOaMjR46osrJSVVVV2rp16zX3UVRUpI6ODp+W\n",
              "lZU1HOUDAIBhFrAQM336dLW2tqqvr0+SZFmW3G63nE7ngPP37dun1NRUpaSkePscDociIyMlSVOm\n",
              "TNHq1atVVVV1ze90OBwKCwvzaXa7fQhXBQAARoqAhZjIyEi5XC7t3r1bkrR//37FxMQoMTFxwPml\n",
              "paU+V2GkK8/V9Pb2SrryvMuBAweUkZERqJIBAIBBAno7aefOndq5c6eSk5P10ksvqaysTJK0du1a\n",
              "VVRUeOedOHFCtbW1Wr58uc/21dXVysjIUFpamlwul6KiovT0008HsmQAAGAIm2VZVrCLCKTCwkKV\n",
              "lJQEuwwAADDERsyDvQAAAINBiAEAAEYixAAAACMRYgAAgJEIMQAAwEiEGAAAYCRCDAAAMBIhBgAA\n",
              "GIkQAwAAjESIAQAARiLEAAAAIxFiAACAkQgxAADASIQYAABgJEIMAAAwEiEGAAAYiRADAACMRIgB\n",
              "AABGIsQAAAAjEWIAAICRCDEAAMBIhBgAAGAkQgwAADASIQYAABiJEAMAAIxEiAEAAEYixAAAACMR\n",
              "YgAAgJEIMQAAwEiEGAAAYCRCDAAAMBIhBgAAGIkQAwAAjBTQEHPy5EnNnTtXycnJyszM1PHjx6+a\n",
              "c/DgQU2aNEnp6enedvHiRe94aWmpkpKSlJCQoHXr1qm3tzeQJQMAAEMENMTk5+dr/fr1+uyzz/TU\n",
              "U09p1apVA8676667VFtb622TJk2SJDU2NurZZ59VVVWV6uvrdfbsWe3atSuQJQMAAEMELMS0t7fr\n",
              "6NGjWrlypSQpNzdXzc3Nqq+v93sf5eXlysnJUVRUlGw2mwoKCrRnz55AlQwAAAwSsBDT3Nys6Oho\n",
              "hYSESJJsNpucTqfcbvdVcxsaGuRyuZSZmant27d7+91ut2JjY72f4+LiBtz+Kx6PR52dnT6tv79/\n",
              "CFcFAABGipBgF+ByudTS0qLw8HC1tLTowQcfVEREhB599NFB76u4uFibNm3y6ZszZ85QlQoAAEaQ\n",
              "gF2JmT59ulpbW9XX1ydJsixLbrdbTqfTZ15YWJjCw8MlSTExMXrsscdUVVUlSXI6nTp9+rR3blNT\n",
              "01Xbf11RUZE6Ojp8WlZW1lAvDQAAjAABCzGRkZFyuVzavXu3JGn//v2KiYlRYmKiz7zW1lZdvnxZ\n",
              "ktTV1aXXX39dGRkZkq48R1NRUaG2tjZZlqUdO3ZoxYoV1/xOh8OhsLAwn2a32wO0QgAAEEwB/XXS\n",
              "zp07tXPnTiUnJ+ull15SWVmZJGnt2rWqqKiQdCXc3HPPPUpLS9OcOXN0//33Ky8vT5IUHx+vTZs2\n",
              "ad68eUpMTNTUqVOVn58fyJIBAIAhbJZlWcEuIpAKCwtVUlIS7DIAAMAQ4y/2AgAAIxFiAACAkQgx\n",
              "AADASIQYAABgJEIMAAAwEiEGAAAYiRADAACMRIgBAABGIsQAAAAjEWIAAICRCDEAAMBIhBgAAGAk\n",
              "QgwAADASIQYAABiJEAMAAIxEiAEAAEYixAAAACMRYgAAgJEIMQAAwEiEGAAAYCRCDAAAMBIhBgAA\n",
              "GIkQAwAAjESIAQAARiLEAAAAIxFiAACAkQgxAADASIQYAABgJEIMAAAwEiEGAAAYiRADAACMRIgB\n",
              "AABGIsQAAAAjEWIAAICRAhpiTp48qblz5yo5OVmZmZk6fvz4VXPeeecdZWVlKSUlRampqdq4caMu\n",
              "X74sSWpqapLdbld6erq3NTQ0BLJkAABgiICGmPz8fK1fv16fffaZnnrqKa1ateqqObfddpv27t2r\n",
              "Tz75RH/84x916NAh/frXv/aOh4aGqra21tsSEhICWTIAADBEwEJMe3u7jh49qpUrV0qScnNz1dzc\n",
              "rPr6ep95GRkZio+PlyRNnDhR6enpampquqnv9Hg86uzs9Gn9/f3faB0AAGBkCliIaW5uVnR0tEJC\n",
              "QiRJNptNTqdTbrf7mtu0tbWpvLxcDz/8sLevp6dHmZmZcrlc2rx583VDSXFxscLDw31aTU3N0C0K\n",
              "AACMGCPmwd7Ozk4tXrxYGzdu1KxZsyRJ0dHROnPmjI4cOaLKykpVVVVp69at19xHUVGROjo6fFpW\n",
              "VtZwLQEAAAyjgIWY6dOnq7W1VX19fZIky7LkdrvldDqvmtvV1aXs7GwtWbJEhYWF3n6Hw6HIyEhJ\n",
              "0pQpU7R69WpVVVVd8zsdDofCwsJ8mt1uH+KVAQCAkSBgISYyMlIul0u7d++WJO3fv18xMTFKTEz0\n",
              "mdfd3a3s7GxlZ2frmWee8Rlrb29Xb2+vpCvPuxw4cEAZGRmBKhkAABgkoLeTdu7cqZ07dyo5OVkv\n",
              "vfSSysrKJElr165VRUWFJGnbtm2qqanRgQMHvD+j3rJliySpurpaGRkZSktLk8vlUlRUlJ5++ulA\n",
              "lgwAAAxhsyzLCnYRgVRYWKiSkpJglwEAAIbYiHmwFwAAYDAIMQAAwEiEGAAAYCRCDAAAMBIhBgAA\n",
              "GIkQAwAAjESIAQAARiLEAAAAIxFiAACAkQgxAADASIQYAABgJEIMAAAwEiEGAAAYiRADAACMRIgB\n",
              "AABGIsQAAAAjEWIAAICRCDEAAMBIhBgAAGAkQgwAADASIQYAABiJEAMAAIxEiAEAAEYixAAAACMR\n",
              "YgAAgJEIMQAAwEiEGAAAYCRCDAAAMBIh5hv6srdfn3d79GVvf7BLAQBgTAkJdgGm+nOXR7vfb9Lb\n",
              "H5/Vxd5+TRpv1wMzorTyb2MVMdkR7PIAABj1uBJzE/7c5dGP9nyg3xx2q8fTp5BxNvV4+rT78Gn9\n",
              "8N8/0OfdnmCXCADAqEeIuQklv/9UdS1f6FsTbLrtlgm6xRGi226ZoKmTHapv79Lu904Hu0QAAEY9\n",
              "bicNwi/fbdCWtz6V9f8+u7/wSPIoKsyhqaETFWIfJ0eIXW8db1PBdxI0cbw9mOUCADCqBfRKzMmT\n",
              "JzV37lwlJycrMzNTx48fH3BeaWmpkpKSlJCQoHXr1qm3t9evseH0y3cb9OLXAszXtXV69OeuLyVJ\n",
              "jpBxunipX92evuEtEACAMSagISY/P1/r16/XZ599pqeeekqrVq26ak5jY6OeffZZVVVVqb6+XmfP\n",
              "ntWuXbtuODbctrz16XXH2zqvPAfj6busSRPsmuzgIhcAAIEUsBDT3t6uo0ePauXKlZKk3NxcNTc3\n",
              "q76+3mdeeXm5cnJyFBUVJZvNpoKCAu3Zs+eGYwPxeDzq7Oz0af393/ynz5/8z4UBr8D8tY6LX8rT\n",
              "168HUqO4lQQAQIAFLMQ0NzcrOjpaISFXrkjYbDY5nU653W6feW63W7Gxsd7PcXFx3jnXGxtIcXGx\n",
              "wsPDfVpNTc03XsvhxvN+zfu8+5KSIkO18m9jbzwZAAB8I6Pq10lFRUXq6OjwaVlZWd94v7PvvM2v\n",
              "eUvS79DP/z6DvxMDAMAwCNiDG9OnT1dra6v6+voUEhIiy7LkdrvldDp95jmdTjU0NHg/NzU1eedc\n",
              "b2wgDodDDodvgLDbv/ltnZRpt8omXfeW0jibVLw07Rt/FwAA8E/ArsRERkbK5XJp9+7dkqT9+/cr\n",
              "JiZGiYmJPvNyc3NVUVGhtrY2WZalHTt2aMWKFTccG27PLU657vizD19/HAAADK2A3k7auXOndu7c\n",
              "qeTkZL300ksqKyuTJK1du1YVFRWSpPj4eG3atEnz5s1TYmKipk6dqvz8/BuODbe8eXfq+cUpGmfz\n",
              "7R9nk55fnKK8eXcGpS4AAMYqm2VZ/vzwxliFhYUqKSkZ0n1+8j8XdLjxvGbfeZtSpt06pPsGAAD+\n",
              "4Y+Z3ISUabcSXgAACLJR9eskAAAwdhBiAACAkQgxAADASIQYAABgJEIMAAAwEiEGAAAYiRADAACM\n",
              "RIgBAABGIsQAAAAjEWIAAICRRv27k5YuXaq4uLgh3Wd/f79qamqUlZUlu90+pPseicbSelnr6MRa\n",
              "R6+xtN6xtFZJio2N1ZNPPnndOaM+xARCZ2enwsPD1dHRobCwsGCXE3Bjab2sdXRiraPXWFrvWFqr\n",
              "v7idBAAAjESIAQAARiLEAAAAIxFiboLD4dDzzz8vh8MR7FKGxVhaL2sdnVjr6DWW1juW1uovHuwF\n",
              "AABG4koMAAAwEiEGAAAYiRADAACMRIj5KydPntTcuXOVnJyszMxMHT9+fMB5paWlSkpKUkJCgtat\n",
              "W6fe3l6/xkYSf9b6zjvvKCsrSykpKUpNTdXGjRt1+fJlSVJTU5PsdrvS09O9raGhYbiX4Rd/1nrw\n",
              "4EFNmjTJZz0XL170jo+m41pWVuazzoiICC1dulSSWcd1w4YNiouLk81mU21t7TXnjYbz1Z+1jpbz\n",
              "VfJvvaPlnPVnraPlnB1yFnwsWLDAKisrsyzLsvbt22fNmjXrqjmnTp2yoqOjrdbWVuvy5cvW4sWL\n",
              "rVdeeeWGYyONP2s9duyY1dDQYFmWZV28eNGaN2+ed5vGxkYrPDx8mKr9ZvxZ63/9139ZaWlpA24/\n",
              "2o7rX0tNTbXKy8styzLruL777rtWc3OzFRsba33wwQcDzhkt56s/ax0t56tl+bfe0XLO+rPWv2bq\n",
              "OTvUuBLzNe3t7Tp69KhWrlwpScrNzVVzc7Pq6+t95pWXlysnJ0dRUVGy2WwqKCjQnj17bjg2kvi7\n",
              "1oyMDMXHx0uSJk6cqPT0dDU1NQ13ud+Iv2u9ntF2XL/u8OHDam9vV05OznCVOWTmz5+vmJiY684Z\n",
              "Deer5N9aR8P5+hV/1ns9o+3Yfp3J5+xQI8R8TXNzs6KjoxUSEiJJstlscjqdcrvdPvPcbrdiY2O9\n",
              "n+Pi4rxzrjc2kvi71q9ra2tTeXm5Hn74YW9fT0+PMjMz5XK5tHnzZvX39we89sEazFobGhrkcrmU\n",
              "mZmp7du3e/tH83EtLS3VE088ofHjx3v7TDiu/hoN5+vNMPV8HSzTz9mbMdrP2cEICXYBMENnZ6cW\n",
              "L16sjRs3atasWZKk6OhonTlzRpGRkfriiy+0fPlybd26VRs3bgxytTfH5XKppaVF4eHhamlp0YMP\n",
              "PqiIiAg9+uijwS4tYHp6erR37169//773r7RdlzHorFwvkqcs18ZjcfWX1yJ+Zrp06ertbVVfX19\n",
              "kiTLsuR2u+V0On3mOZ1OnT592vu5qanJO+d6YyOJv2uVpK6uLmVnZ2vJkiUqLCz09jscDkVGRkqS\n",
              "pkyZotWrV6uqqmp4FjAI/q41LCxM4eHhkqSYmBg99thj3vWMxuMqSfv27VNqaqpSUlK8faYcV3+N\n",
              "hvN1MEw/XwdjNJyzgzUWztnBIMR8TWRkpFwul3bv3i1J2r9/v2JiYpSYmOgzLzc3VxUVFWpra5Nl\n",
              "WdqxY4dWrFhxw7GRxN+1dnd3Kzs7W9nZ2XrmmWd8xtrb271P+3s8Hh04cEAZGRnDs4BB8Hetra2t\n",
              "3l9ydHV16fXXX/euZ7Qd16+UlpZqzZo1Pn2mHFd/jYbz1V+j4XwdjNFwzg7WWDhnByVYTxSPVJ9+\n",
              "+qk1Z84cKykpybr33nutDz/80LIsy1qzZo31H//xH955u3btsuLj4634+Hhr9erV1qVLl/waG0n8\n",
              "WeuLL75ohYSEWGlpad724osvWpZlWfv377dSU1OtmTNnWikpKdYPf/hD68svvwzaeq7Hn7X+/Oc/\n",
              "t1JSUrzref75563Lly979zGajutX8yZPnmx1dnb6bG/ScV2/fr11xx13WHa73YqMjLQSEhIsyxqd\n",
              "56s/ax0t56tl+bfe0XLO+vvv8Wg4Z4ca704CAABG4nYSAAAwEiEGAAAYiRADAACMRIgBMCJc6/0x\n",
              "b7/9tmbNmqWZM2dqzpw5qqur847Nnj3b+66YGTNmyGaz6cMPP5Qk/eUvf9Fjjz2mxMREJScnq7y8\n",
              "fLiXBCDAeLAXwIjwhz/8QfHx8brvvvv02muvKT09XefPn1diYqL+8Ic/KDU1VVVVVfrHf/xHffzx\n",
              "x1dtX15erk2bNumjjz6SJG3evFmnTp3Sr371KzU2Nmr27Nn605/+pNtvv324lwYgQLgSA2BEGOj9\n",
              "MQ0NDbr99tuVmpoqSfr2t78tt9utY8eOXbX9X//9jFdffVUFBQWSpDvvvFPf+c539Nvf/jaAKwAw\n",
              "3AgxAEaspKQknTt3TocOHZIkVVRUqKur66qXGjY3N+vdd9/1vvhSGt3vzgGC5Vq3fa9n2bJlmjZt\n",
              "mmw2my5cuODt7+np0ezZs5WWlqa0tDRlZ2cP+oWlhBgAI1Z4eLjKy8tVVFSke++9V//5n/+plJQU\n",
              "7wsuv/KrX/1KDz/8sCIiIoJUKTA2LFu2TNXV1T7/g3AjBQUFAwaeSZMmqbKyUnV1daqrq9OiRYv0\n",
              "5JNPDqoeXgAJYERbsGCBFixYIOnKn1SPioryeW+MZVkqKyvTL37xC5/tvnp3TnR0tKQr7875u7/7\n",
              "u+ErHBiF5s+fP2D/kSNH9NRTT6mzs1P9/f36l3/5Fz3yyCOSpIULFw64zbhx4xQaGirpynnc2dkp\n",
              "m802qHoIMQBGtNbWVm8QeeGFF/Td737X511Q77zzjvr6+nT//ff7bPfII49ox44dmjNnjhobG3Xw\n",
              "4EFt3759WGsHxoILFy5o/fr1evPNNxUdHa3PP/9cLpdLc+fO1R133HHD7RcuXKiPPvpIU6dO1e9+\n",
              "97tBfTe3kwCMCPn5+YqJiVFLS4sWLVrkDSrPPfec7r77biUmJur06dMqLS312a60tFR5eXkaN873\n",
              "P2f//M//rIsXLyohIUGLFi3SK6+8wu0mIAAOHTqkU6dO6YEHHlB6err3ysuJEyf82r6yslKtra1a\n",
              "vny5tmzZMqjv5ifWAABgUOLi4rx/CuGNN97Qli1bvA/gX4vNZtP58+d16623Djje1tampKQkdXV1\n",
              "+V0HV2IAAMBNmzt3rhobG1VZWentq62t1aVLl667XVtbm86fP+/9/Oqrr2rmzJmD+m6uxAAAAL/k\n",
              "5+frjTfeUFtbm26//XaFhoaqvr5ex44d009+8hOdO3dOvb29cjqdeu211zRx4kQ99NBDqqur05kz\n",
              "ZzRt2jQlJSXp4MGDqqmpUX5+vvr7+2VZlhISEvTyyy/rzjvv9LseQgwAADASt5MAAICRCDEAAMBI\n",
              "hBgAAGAkQgwAADASIQYAABiJEAMAAIxEiAEAAEYixAAAACMRYgAAgJEIMQAAwEj/F2wPrfSOrMLt\n",
              "AAAAAElFTkSuQmCC\n",
              "\">\n",
              "      </div>\n",
              "      <script type=\"text/javascript\">\n",
              "        (() => {\n",
              "          const chartElement = document.getElementById(\"chart-63be5688-228c-4551-bc13-20d9b5c59c91\");\n",
              "          async function getCodeForChartHandler(event) {\n",
              "            const chartCodeResponse =  await google.colab.kernel.invokeFunction(\n",
              "                'getCodeForChart', [\"chart-63be5688-228c-4551-bc13-20d9b5c59c91\"], {});\n",
              "            const responseJson = chartCodeResponse.data['application/json'];\n",
              "            await google.colab.notebook.addCell(responseJson.code, 'code');\n",
              "          }\n",
              "          chartElement.onclick = getCodeForChartHandler;\n",
              "        })();\n",
              "      </script>\n",
              "      <style>\n",
              "        .colab-quickchart-chart-with-code  {\n",
              "            display: block;\n",
              "            float: left;\n",
              "            border: 1px solid transparent;\n",
              "        }\n",
              "\n",
              "        .colab-quickchart-chart-with-code:hover {\n",
              "            cursor: pointer;\n",
              "            border: 1px solid #aaa;\n",
              "        }\n",
              "      </style>"
            ]
          },
          "metadata": {}
        },
        {
          "output_type": "display_data",
          "data": {
            "text/plain": [
              "from matplotlib import pyplot as plt\n",
              "_df_5.plot(kind='scatter', x='1971', y='1972', s=32, alpha=.8)\n",
              "plt.gca().spines[['top', 'right',]].set_visible(False)"
            ],
            "text/html": [
              "      <div class=\"colab-quickchart-chart-with-code\" id=\"chart-88b16ab7-4dc6-46dd-a98a-da8b60da8fef\">\n",
              "        <img style=\"width: 180px;\" src=\"data:image/png;base64,iVBORw0KGgoAAAANSUhEUgAAAioAAAGzCAYAAAABsTylAAAAOXRFWHRTb2Z0d2FyZQBNYXRwbG90\n",
              "bGliIHZlcnNpb24zLjcuMSwgaHR0cHM6Ly9tYXRwbG90bGliLm9yZy/bCgiHAAAACXBIWXMAAA9h\n",
              "AAAPYQGoP6dpAAAhbElEQVR4nO3de3DU5aH/8c8mCwtKEk+FlEBIYm5wCBAIEGhQFIVDvIFDsKLi\n",
              "jMolTG3xDHVw6PGuiNNaLLWD4DRFp5xD5aLIgNfUYmEQghMTlBFkAyGBSaAiJIHCkmye3x8M+3NN\n",
              "AhvJZp/dvF8z+8d+v89unmeWb333+92LwxhjBAAAYKGoUE8AAACgLYQKAACwFqECAACsRagAAABr\n",
              "ESoAAMBahAoAALAWoQIAAKxFqAAAAGsRKgAAwFoREyrz589XSkqKHA6HysrKAnrM9OnT1a9fPzkc\n",
              "Dp06dcq3/cyZMxozZoyys7OVnZ2t/Px8VVZWBmXeAACgbRETKtOnT9f27duVnJwc8GPmzZvXatT0\n",
              "7NlTxcXFKi8vV3l5uSZPnqxHH320A2cLAAACETGhMn78eCUmJrbYvnv3bt18880aNWqURowYoXXr\n",
              "1vn2TZw4UfHx8S0eExUVpZiYGEmSMUb19fVyOBzBmzwAAGiVM9QTCKZTp05p7ty5eu+995SQkKBv\n",
              "v/1WOTk5ysvLU//+/S/7+IkTJ+rLL79Unz599OGHH3bCjAEAwPdFzBmV1uzYsUMHDx7UrbfequHD\n",
              "h2vixImSpP379wf0+OLiYtXU1Oiee+7R4sWLgzlVAADQiog+o2KMUVZWlnbs2PGjnyMqKkpz5sxR\n",
              "RkaGli9f3oGzAwAAlxPRZ1Ty8vJ06NAhFRcX+7aVlZXp/Pnzl3xcbW2tTp486bv/1ltvadiwYUGb\n",
              "JwAAaJ3DGGNCPYmOUFhYqC1btqi2tlbXXnutYmJi5Ha7VVpaqscee0wnTpxQY2OjkpKStHHjRvXo\n",
              "0UO33367ysvLdfToUfXr108ZGRnaunWrSkpKVFhYKK/XK2OM0tLS9Morr+i6664L9TIBAOhSIiZU\n",
              "AABA5InoSz8AACC8ESoAAMBahAoAALBWRITKsmXLQj0FAAAQBBERKocPHw71FAAAQBBERKgAAIDI\n",
              "RKgAAABrESoAAMBahAoAALAWoQIAAKxFqAAAAGsRKgAAwFqECgAAsBahAgAArEWoAACAVp1r9Orb\n",
              "0x6da/SGbA7OkP1lAABgpX81eLR6Z6U++OqYzjZ61bNbtG4d0lczf5as3r1cnToXzqgAAACffzV4\n",
              "9Ks1X+h/d1XpjKdJziiHzniatHrXYf3y/77Qt6c9nTofQgUAAPis3lkp9/EG9enl0n9c3V1Xu5z6\n",
              "j6u7q08vl9zHG7T6s879IWBCBQAASLrwnpQPvjqmHs5oOaP9E8EZHSWXM1rv763t1PesECoAAECS\n",
              "dNrTpLONXnV3tp4HLmeUzp736rSnqdPmRKgAAABJUi+XUz27Ret8U3Or+z1NzerZPVq9XJ33WRxC\n",
              "BQAASJJ6dItW/pCf6lyTV01e/1hp8jbL0+TVrVl91aNbdKfNiY8nAwAAnwd+lqJdh07KfbxBLme0\n",
              "XM4oeZouREpGfIxm/iy5U+fDGRUAAODTu5dLf7pvhGaOSVavHk41NRv16uHUzDHJevW+EZ3+PSqc\n",
              "UQEAAH5693Lpvydlat5NaTrtaVIvl7NTL/d8H6ECAABa1aNbdMgC5SIu/QAAAGsRKgAAwFqECgAA\n",
              "sBahAgAArEWoAAAAaxEqAADAWkELlXPnzumuu+5SZmamsrOzNWnSJLnd7lbHbt68WYMGDVJGRoam\n",
              "TZum+vr6YE0LAACEkaCeUZk7d67279+v8vJyTZ06VbNnz24x5vTp05o1a5Y2btyoAwcOqF+/fnr+\n",
              "+eeDOS0AABAmghYqPXr00G233SaHwyFJGjt2rCorK1uMe//99zVixAgNGjRIkvSLX/xCa9asafN5\n",
              "PR6P6uvr/W5erzcoawAAAKHVae9RWbZsmaZOndpie1VVlZKT//8PHKWkpKimpkZNTU2tPs+SJUsU\n",
              "FxfndyspKQnavAEAQOh0Sqi8+OKLcrvdWrJkyRU/16JFi1RXV+d3y83N7YBZAgAA2wT9t35efvll\n",
              "vf322youLtZVV13VYn9SUpI+/vhj3/3KykolJCTI6Wx9ai6XSy6X/y83RkeH9ncIAABAcAT1jMrS\n",
              "pUu1Zs0affzxx7rmmmtaHZOfn6/S0lLt27dPkrR8+XLNmDEjmNMCAABhImhnVI4cOaJf//rXSk1N\n",
              "1YQJEyRdOBuya9cuPfXUU+rXr5/mzZunmJgY/fnPf9Zdd92lpqYmDRkyRG+++WawpgUAAMKIwxhj\n",
              "Qj2JK7VgwQItXbo01NMAAAAdjG+mBQAA1iJUAACAtQgVAABgLUIFAABYi1ABAADWIlQAAIC1CBUA\n",
              "AGAtQgUAAFiLUAEAANYiVAAAgLUIFQAAYC1CBQAAWItQAQAA1iJUAACAtQgVAABgLUIFAABYi1AB\n",
              "AADWIlQAAIC1CBUAAGAtQgUAAFiLUAEAANYiVAAAgLUIFQAAYC1CBQAAWItQAQAA1iJUAACAtQgV\n",
              "AABgLUIFAABYi1ABAADWIlQAAIC1CBUAAGAtQgUAAFiLUAEAANYiVAAAgLUIFQAAYC1CBQAAWItQ\n",
              "AQAA1iJUAACAtQgVAABgLUIFAABYi1ABAADWIlQAAIC1CBUAAGAtQgUAAFiLUAEAANYiVAAAgLUI\n",
              "FQAAYC1CBQAAWItQAQAA1iJUAACAtQgVAABgLUIFAABYi1ABAADWIlQAAIC1CBUAAGAtQgUAAFiL\n",
              "UAEAANYiVAAAgLUIFQAAYC1CBQAAWItQAQAA1iJUAACAtQgVAABgLUIFAABYi1ABAADWIlQAAIC1\n",
              "CBUAAGAtQgUAAFiLUAEAANYiVAAAgLUIFQAAYK2ghsr8+fOVkpIih8OhsrKyVsds3bpVPXv21PDh\n",
              "w323s2fPBnNaAAAgTDiD+eTTp0/XwoULdf31119y3MCBA9sMGQAA0HUFNVTGjx/f4c/p8Xjk8Xj8\n",
              "tnm93g7/OwAAIPSseI9KRUWFcnJyNHr0aC1fvvySY5csWaK4uDi/W0lJSSfNFAAAdKaQh0pOTo6O\n",
              "HDmi0tJSvfPOO1qxYoXWrl3b5vhFixaprq7O75abm9uJMwYAAJ0l5KESGxuruLg4SVJiYqLuvfde\n",
              "bdu2rc3xLpdLsbGxfrfo6OjOmi4AAOhEIQ+VmpoaNTc3S5IaGhq0efNmjRgxIsSzAgAANghqqBQW\n",
              "FioxMVFHjhzR5MmTlZ6eLkmaPXu2Nm3aJEnasGGDhg4dquzsbI0dO1aTJk3SQw89FMxpAQCAMOEw\n",
              "xphQT+JKLViwQEuXLg31NAAAQAcL+aUfAACAthAqAADAWoQKAACwFqECAACsRagAAABrESoAAMBa\n",
              "hAoAALAWoQIAAKxFqAAAAGsRKgAAwFqECgAAsBahAgAArEWoAAAAaxEqAADAWoQKAACwFqECAACs\n",
              "RagAAABrESoAAMBahAoAALAWoQIAAKxFqAAAAGsRKgAAwFqECgAAsBahAgAArEWoAAAAaxEqAADA\n",
              "WoQKAACwFqECAACsRagAAABrESoAAMBahAoAALAWoQIAAKxFqAAAAGsRKgAAwFqECgAAsBahAgAA\n",
              "rEWoAAAAaxEqAADAWoQKAACwFqECAACsRagAAABrESoAAMBahAoAALAWoQIAAKxFqAAAAGsRKgAA\n",
              "wFqECgAAsBahAgAArEWoAAAAaxEqAADAWoQKAACwFqECAACsRagAAABrESoAAMBahAoAALAWoQIA\n",
              "AKzVrlA5e/asqqqqWmzfu3dvh00IAADgooBD5aOPPlJCQoKGDh2qnJwcud1u374HHnggKJMDAABd\n",
              "W8Ch8sQTT+if//ynTp06pUceeUQTJ07UV199JUkyxgRtggAAoOtyBjqwsbFRw4YNkyTNmjVLKSkp\n",
              "uuOOO/Tuu+/K4XAEbYIAAKDrCjhUzp07J4/HI5fLJUm65ZZb9Oabb2rKlCk6f/580CYIAAC6roAv\n",
              "/UybNk1bt27123bjjTfqr3/9q2JiYjp6XgAAAIGfUVm8eHGr28ePH69vvvmmwyYEAABwUcBnVC6+\n",
              "cRYAAKCzBBwqw4YNU3Z2tv74xz/qu+++C+acAAAAJLUjVLKysvTUU0/pgw8+UFJSkmbMmKHi4uJg\n",
              "zg0AAHRxAYdKt27dVFBQoPfee09ff/21hgwZosLCQqWkpOi5554L5hwBAEAX9aN+62fAgAF64okn\n",
              "VFFRoaKiIu3fv7+j5wUAABD4p366d+/e6vZbbrlFt9xyS4dNCAAA4KKAz6js3LkzmPMAAABoIeAz\n",
              "KheVlZWpsrJSTqdTgwcPVmpqajDmBQAAEPgZlT179mjo0KG68cYbVVBQoEWLFmnUqFG6++67VV9f\n",
              "3+pj5s+fr5SUFDkcDpWVlbX53EVFRcrIyFBaWprmzJmjxsbGdi8EAABEnoBDZd68eXrttddUV1en\n",
              "d955RxMmTFBtba0GDhyoX/3qV60+Zvr06dq+fbuSk5PbfN5Dhw7pySef1LZt2+R2u3Xs2DG9/vrr\n",
              "7V8JAACIOAGHyr///W9df/31kqQpU6bos88+U/fu3fXCCy/os88+a/Ux48ePV2Ji4iWfd/369Zoy\n",
              "ZYr69u0rh8OhefPmac2aNW2O93g8qq+v97t5vd5AlwEAAMJIu75HZd++fZIuvLH26quv9u2Ljo7+\n",
              "0ROoqqryO+OSkpKiqqqqNscvWbJEcXFxfreSkpIf/fcBAIC9Ag6V559/Xtdff70GDRqkO++8U88+\n",
              "+6wkqba2VjfccEPQJvhDixYtUl1dnd8tNze30/4+AADoPAF/6ic/P19ut1sVFRXKyMhQbGysJKlv\n",
              "375X9J6SpKQkVVRU+O5XVlYqKSmpzfEul0sul8tv25Wc0QEAAPZq1zfTXnPNNRo5cqQvUi7KzMz8\n",
              "0RMoKCjQpk2bVFtbK2OMVqxYoRkzZvzo5wMAAJEj4DMqe/bsaXNfQ0NDq9sLCwu1ZcsW1dbWavLk\n",
              "yYqJiZHb7dbs2bM1ZcoUTZkyRampqXr22Wc1btw4SdJNN92kwsLCdi4DAABEIocxxgQyMCoqSikp\n",
              "KWpt+NGjR3X+/PkOn1ygFixYoKVLl4bs7wMAgOAI+IxKcnKytm/frn79+rXYN2DAgA6dFAAAgNSO\n",
              "96hMmTJFBw8ebHXf7bff3mETAgAAuCjgMyrLli1rc9+KFSs6ZDIAAADf165P/QAAAHQmQgUAAFiL\n",
              "UAEAANYiVAAAgLUIFQAAYC1CBQAAWItQAQAA1iJUAACAtQgVAABgLUIFAABYi1ABAADWIlQAAIC1\n",
              "CBUAAGAtQgUAAFiLUAEAANYiVAAAgLUIFQAAYC1CBQAAWItQAQAA1iJUAACAtQgVAABgLUIFAABY\n",
              "i1ABAADWIlQAAIC1CBUAAGAtQgUAAFiLUAEAANYiVAAAgLUIFQAAYC1CBQAAWItQAQAA1iJUAACA\n",
              "tQgVAABgLUIFAABYi1ABAADWIlQAAIC1CBUAAGAtQgUAAFiLUAEAANYiVAAAgLUIFQAAYC1CBQAA\n",
              "WItQAQAA1iJUAACAtQgVAABgLUIFAABYi1ABAADWIlQAAIC1CBUAAGAtQgUAAFiLUAEAANYiVAAA\n",
              "gLUIFQAAYC1CBQAAWItQAQAA1iJUAACAtQgVAABgLUIFAABYi1ABAADWIlQAAIC1CBUAAGAtQgUA\n",
              "AFiLUAEAANYiVAAAgLUIFQAAYC1CBQAAWItQAQAA1iJUAACAtYIaKgcOHFBeXp4yMzM1evRo7d27\n",
              "t8WYrVu3qmfPnho+fLjvdvbs2WBOCwAAhAlnMJ+8sLBQc+fO1YMPPqj169frwQcf1O7du1uMGzhw\n",
              "oMrKyoI5FQAAEIaCdkbl+PHj+vzzzzVz5kxJUkFBgaqrq+V2u6/oeT0ej+rr6/1uXq+3I6YMAAAs\n",
              "E7RQqa6uVkJCgpzOCydtHA6HkpKSVFVV1WJsRUWFcnJyNHr0aC1fvvySz7tkyRLFxcX53UpKSoKy\n",
              "BgAAEFohfzNtTk6Ojhw5otLSUr3zzjtasWKF1q5d2+b4RYsWqa6uzu+Wm5vbiTMGAACdJWihMmDA\n",
              "ANXU1KipqUmSZIxRVVWVkpKS/MbFxsYqLi5OkpSYmKh7771X27Zta/N5XS6XYmNj/W7R0dHBWgYA\n",
              "AAihoIVKfHy8cnJytHr1aknShg0blJiYqPT0dL9xNTU1am5uliQ1NDRo8+bNGjFiRLCmBQAAwkhQ\n",
              "L/2sXLlSK1euVGZmpl566SWtWrVKkjR79mxt2rRJ0oWAGTp0qLKzszV27FhNmjRJDz30UDCnBQAA\n",
              "woTDGGNCPYkrtWDBAi1dujTU0wAAAB0s5G+mBQAAaAuhAgAArEWoAAAAaxEqAADAWoQKAACwFqEC\n",
              "AACsRagAAABrESoAAMBahAoAALAWoQIAAKxFqAAAAGsRKgAAwFqECgAAsBahAgAArEWoAAAAaxEq\n",
              "AADAWoQKAACwFqECAACsRagAAABrESoAAMBahAoAALAWoQIAAKxFqAAAAGsRKgAAwFqECgAAsBah\n",
              "AgAArEWoAAAAaxEqAADAWoQKAACwFqECAACsRagAAABrESoAAMBahAoAALAWoQIAAKxFqAAAAGsR\n",
              "KgAAwFqECgAAsBahAgAArEWoAAAAaxEqAADAWoQKAACwFqECAACsRagAAABrESoAAMBahAoAALAW\n",
              "oQIAAKxFqAAAAGsRKgAAwFqECgAAsBahAgAArEWoAAAAaxEqAADAWoQKAACwFqECAACsRagAAABr\n",
              "ESoAAMBahAoAALAWoQIAAKxFqAAAAGsRKgAAwFqECgAAsBahAgAArEWoAAAAaxEqAADAWoQKAACw\n",
              "FqECAACsRai0w7lGr7497dG5Rm+opwIAQJfgDPUEwsG/GjxavbNSH3x1TGcbverZLVq3DumrmT9L\n",
              "Vu9erlBPDwCAiMUZlcv4V4NHv1rzhf53V5XOeJrkjHLojKdJq3cd1i//7wt9e9oT6ikCABCxOKPS\n",
              "Bvfxen1e+Z0+rzylA8caFB/jkjP6Qtdd7ZKavM1yH2/Q6s8O678nZYZ4tgAARCZC5Qfe2lWl/9n4\n",
              "pZqM/3ZPU5MG/ORqOaMuxIozOkouZ7Te31ureTelqUe36BDMFgCAyBbUSz8HDhxQXl6eMjMzNXr0\n",
              "aO3du7fVcUVFRcrIyFBaWprmzJmjxsbGYE6rTW/tqtLj77SMFEk67WlWxbEGNTU3+7a5nFE6e96r\n",
              "056mTpwlAABdR1BDpbCwUHPnztU333yjxx9/XA8++GCLMYcOHdKTTz6pbdu2ye1269ixY3r99deD\n",
              "Oa02PfHul5fcf75ZOnH6vO++p6lZPbtHq5eLE1MAAARD0ELl+PHj+vzzzzVz5kxJUkFBgaqrq+V2\n",
              "u/3GrV+/XlOmTFHfvn3lcDg0b948rVmzps3n9Xg8qq+v97t5vVf+cWH38Xo1Nl9+3IkGj5qNUZO3\n",
              "WZ4mr27N6stlHwAAgiRooVJdXa2EhAQ5nRfONjgcDiUlJamqqspvXFVVlZKTk333U1JSWoz5viVL\n",
              "liguLs7vVlJScsXzLauuC2icV9J3Z87rX6c9yoiP0cyfJV/2MQAA4McJu48nL1q0SHV1dX633Nzc\n",
              "K37e4QPiAhrnkBTTw6mZY5L16n0j+B4VAACCKGhvrhgwYIBqamrU1NQkp9MpY4yqqqqUlJTkNy4p\n",
              "KUkVFRW++5WVlS3GfJ/L5ZLL5R8H0dFXfuklPT5W3aJ02cs/c264Tgv+ayCXewAA6ARBO6MSHx+v\n",
              "nJwcrV69WpK0YcMGJSYmKj093W9cQUGBNm3apNraWhljtGLFCs2YMSNY07qkJQXDLrk/tfdVmnsj\n",
              "H0UGAKCzBPXSz8qVK7Vy5UplZmbqpZde0qpVqyRJs2fP1qZNmyRJqampevbZZzVu3Dilp6erT58+\n",
              "KiwsDOa02jR95AC9fPcwdYtytNg36T/7aO28PC71AADQiRzGmFa+NSS8LFiwQEuXLu3Q57z4zbTp\n",
              "fWI0JPEazqIAABACfAFIG9LjY5UeHxvqaQAA0KWF3ad+AABA10GoAAAAaxEqAADAWoQKAACwFqEC\n",
              "AACsRagAAABrESoAAMBahAoAALAWoQIAAKxFqAAAAGtFxG/9TJs2TSkpKR36nF6vVyUlJcrNzVV0\n",
              "dGT+zg9rjAyRvsZIX5/EGiNFpK8xGOtLTk7Wo48+eskxEREqwVBfX6+4uDjV1dUpNjYyf/OHNUaG\n",
              "SF9jpK9PYo2RItLXGKr1cekHAABYi1ABAADWIlQAAIC1CJU2uFwuPf3003K5XKGeStCwxsgQ6WuM\n",
              "9PVJrDFSRPoaQ7U+3kwLAACsxRkVAABgLUIFAABYi1ABAADW6pKhcuDAAeXl5SkzM1OjR4/W3r17\n",
              "Wx1XVFSkjIwMpaWlac6cOWpsbAxonw0CWeMnn3yi3NxcDR48WFlZWVq4cKGam5slSZWVlYqOjtbw\n",
              "4cN9t4qKis5eRpsCWd/WrVvVs2dPvzWcPXvWtz8SXsNVq1b5ra93796aNm2aJPtfw/nz5yslJUUO\n",
              "h0NlZWVtjgvn4zCQNYbzcSgFtsZwPhYDWV84H4eSdO7cOd11113KzMxUdna2Jk2aJLfb3erYzZs3\n",
              "a9CgQcrIyNC0adNUX18f0L4rYrqgCRMmmFWrVhljjFm3bp0ZNWpUizEHDx40CQkJpqamxjQ3N5s7\n",
              "77zT/OlPf7rsPlsEssbS0lJTUVFhjDHm7NmzZty4cb7HHDp0yMTFxXXSbNsvkPX94x//MNnZ2a0+\n",
              "PlJewx/Kysoy69evN8bY/xp++umnprq62iQnJ5svvvii1THhfhwGssZwPg6NCWyN4XwsBrK+Hwqn\n",
              "49CYC//utmzZYpqbm40xxrz66qvmxhtvbDGuoaHBxMfHm6+//toYY8wjjzxiHnvsscvuu1JdLlSO\n",
              "HTtmYmJiTGNjozHGmObmZvPTn/7UHDhwwG/cb3/7W1NYWOi7v2XLFjNu3LjL7rNBoGv8oUceecQ8\n",
              "/fTTxhi7D65A13ep/3GMxNdw586dpk+fPub8+fPGGLtfw++71H8Awvk4/L72/EcuXI7DH/qxoRIu\n",
              "r2Ogr2G4Hofft3v3bpOcnNxi+9q1a83kyZN99/fu3Wv69+9/2X1Xqstd+qmurlZCQoKcTqckyeFw\n",
              "KCkpSVVVVX7jqqqqlJyc7LufkpLiG3OpfTYIdI3fV1tbq/Xr1+uOO+7wbTtz5oxGjx6tnJwcPffc\n",
              "c/J6vUGfeyDas76Kigrl5ORo9OjRWr58uW97JL6GRUVFeuCBB9StWzffNltfw0CF83H4Y4TTcdhe\n",
              "4XostlckHIfLli3T1KlTW2xv7bWqqalRU1PTJfddKecVPwPCXn19ve68804tXLhQo0aNkiQlJCTo\n",
              "6NGjio+P13fffad77rlHv//977Vw4cIQzzZwOTk5OnLkiOLi4nTkyBHddttt6t27t37+85+Hemod\n",
              "7syZM/rb3/6mnTt3+rZFwmvYlUTqcSh1nWMxEo7DF198UW63W3//+99DPRWfLndGZcCAAX6VZ4xR\n",
              "VVWVkpKS/MYlJSXp8OHDvvuVlZW+MZfaZ4NA1yhJDQ0Nys/P19SpU7VgwQLfdpfLpfj4eEnST37y\n",
              "Ez388MPatm1b5yzgMgJdX2xsrOLi4iRJiYmJuvfee31riKTXUJLWrVunrKwsDR482LfN5tcwUOF8\n",
              "HLZHOB6H7RHOx2J7hPtx+PLLL+vtt9/W+++/r6uuuqrF/tZeq4tnfi+170p1uVCJj49XTk6OVq9e\n",
              "LUnasGGDEhMTlZ6e7jeuoKBAmzZtUm1trYwxWrFihWbMmHHZfTYIdI2nT59Wfn6+8vPz9cQTT/jt\n",
              "O378uO+d9x6PR2+//bZGjBjROQu4jEDXV1NT4/v0RENDgzZv3uxbQ6S8hhcVFRVp1qxZfttsfg0D\n",
              "Fc7HYaDC9Thsj3A+FtsjnI/DpUuXas2aNfr44491zTXXtDomPz9fpaWl2rdvnyRp+fLlvtfqUvuu\n",
              "WIe80yXM7Nu3z4wdO9ZkZGSYkSNHmj179hhjjJk1a5Z59913feNef/11k5qaalJTU83DDz/se3PU\n",
              "5fbZIJA1vvDCC8bpdJrs7Gzf7YUXXjDGGLNhwwaTlZVlhg0bZgYPHmx++ctfmnPnzoVsPT8UyPpe\n",
              "ffVVM3jwYN8ann76ad+72o2JjNfw4rhevXqZ+vp6v8fb/hrOnTvX9O/f30RHR5v4+HiTlpZmjIms\n",
              "4zCQNYbzcWhMYGsM52Mx0H+n4XocGmNMdXW1kWRSU1N9/wZzc3ONMcY8+eST5rXXXvONfffdd83A\n",
              "gQNNWlqamTp1qjl16lRA+64Ev/UDAACs1eUu/QAAgPBBqAAAAGsRKgAAwFqECoBO09bvpnzwwQca\n",
              "NWqUhg0bprFjx6q8vNy3b8yYMb7fSBkyZIgcDof27NkjSfrLX/6ioUOHyul06g9/+EMnrwZAZyBU\n",
              "AHSa6dOna/v27X7fYHny5Endf//9evPNN7Vnzx797ne/0/333+/bv2vXLpWVlamsrEzPPPOMhgwZ\n",
              "omHDhkmSRo4cqbVr1+q+++7r9LUA6Bx8My2ATjN+/PgW2yoqKnTttdcqKytLknTDDTeoqqpKpaWl\n",
              "ysnJ8Rv7w++pyM7OliRFRfH/uYBIxdENIKQyMjJ04sQJ7dixQ5K0adMmNTQ0qLKy0m9cdXW1Pv30\n",
              "U82cOTMEswS6jrYu0V7K9OnT1a9fPzkcDp06dcq3/cyZMxozZoyys7OVnZ2t/Pz8Fsf25RAqAEIq\n",
              "Li5O69ev16JFizRy5Eh99NFHGjx4cIuv3n7jjTd0xx13qHfv3iGaKdA1tHaJ9nLmzZvXatT07NlT\n",
              "xcXFKi8vV3l5uSZPnqxHH320XfPh0g+AkJswYYImTJgg6cLXjPft29fv91KMMVq1apVee+21UE0R\n",
              "6DJau0QrSbt379bjjz+u+vp6eb1e/eY3v9Hdd98tSZo4cWKrj4mKilJMTIykC8dxfX29HA5Hu+ZD\n",
              "qAAIuZqaGiUkJEiSnn/+ed18881+v2v0ySefqKmpSZMmTQrVFIEu7dSpU5o7d67ee+89JSQk6Ntv\n",
              "v1VOTo7y8vLUv3//yz5+4sSJ+vLLL9WnTx99+OGH7frbXPoB0GkKCwuVmJioI0eOaPLkyb4Yeeqp\n",
              "pzRo0CClp6fr8OHDKioq8ntcUVGRHnrooRZvmn3jjTeUmJiodevW6ZlnnlFiYqK++OKLTlsP0FXs\n",
              "2LFDBw8e1K233qrhw4f7zqDs378/oMcXFxerpqZG99xzjxYvXtyuv81v/QAAgBZSUlK0ceNGDR8+\n",
              "XFu2bNHixYt9b3pvi8Ph0MmTJ9v8Beba2lplZGSooaEh4HlwRgUAAFxSXl6eDh06pOLiYt+2srIy\n",
              "nT9//pKPq62t1cmTJ33333rrLd/3IAWKMyoAAMCnsLBQW7ZsUW1tra699lrFxMTI7XartLRUjz32\n",
              "mE6cOKHGxkYlJSVp48aN6tGjh26//XaVl5fr6NGj6tevnzIyMrR161aVlJSosLBQXq9XxhilpaXp\n",
              "lVde0XXXXRfwfAgVAABgLS79AAAAaxEqAADAWoQKAACwFqECAACsRagAAABrESoAAMBahAoAALAW\n",
              "oQIAAKxFqAAAAGsRKgAAwFr/D9YNkPo4Z+UFAAAAAElFTkSuQmCC\n",
              "\">\n",
              "      </div>\n",
              "      <script type=\"text/javascript\">\n",
              "        (() => {\n",
              "          const chartElement = document.getElementById(\"chart-88b16ab7-4dc6-46dd-a98a-da8b60da8fef\");\n",
              "          async function getCodeForChartHandler(event) {\n",
              "            const chartCodeResponse =  await google.colab.kernel.invokeFunction(\n",
              "                'getCodeForChart', [\"chart-88b16ab7-4dc6-46dd-a98a-da8b60da8fef\"], {});\n",
              "            const responseJson = chartCodeResponse.data['application/json'];\n",
              "            await google.colab.notebook.addCell(responseJson.code, 'code');\n",
              "          }\n",
              "          chartElement.onclick = getCodeForChartHandler;\n",
              "        })();\n",
              "      </script>\n",
              "      <style>\n",
              "        .colab-quickchart-chart-with-code  {\n",
              "            display: block;\n",
              "            float: left;\n",
              "            border: 1px solid transparent;\n",
              "        }\n",
              "\n",
              "        .colab-quickchart-chart-with-code:hover {\n",
              "            cursor: pointer;\n",
              "            border: 1px solid #aaa;\n",
              "        }\n",
              "      </style>"
            ]
          },
          "metadata": {}
        },
        {
          "output_type": "display_data",
          "data": {
            "text/plain": [
              "from matplotlib import pyplot as plt\n",
              "_df_6.plot(kind='scatter', x='1972', y='1973', s=32, alpha=.8)\n",
              "plt.gca().spines[['top', 'right',]].set_visible(False)"
            ],
            "text/html": [
              "      <div class=\"colab-quickchart-chart-with-code\" id=\"chart-af9b5206-eec3-4996-8147-4877f4233297\">\n",
              "        <img style=\"width: 180px;\" src=\"data:image/png;base64,iVBORw0KGgoAAAANSUhEUgAAAioAAAGzCAYAAAABsTylAAAAOXRFWHRTb2Z0d2FyZQBNYXRwbG90\n",
              "bGliIHZlcnNpb24zLjcuMSwgaHR0cHM6Ly9tYXRwbG90bGliLm9yZy/bCgiHAAAACXBIWXMAAA9h\n",
              "AAAPYQGoP6dpAAAfk0lEQVR4nO3dfZDW9X3v/9fC6kIU8PxUDuCyrMAiP7xZQEVCDIlRjnetOkIb\n",
              "be2MVgWanOgZ6jRjftWMtYZ0JkPGpoPolLGd8RzGBO+od6mk9W5MRIeAN6PWRXHBgkajgFZXdvme\n",
              "P/xlJ1vALJVr9wM8HjPfmVzX9bku3jvf+Waefr/XTV1VVVUAAAo0oL8HAADYHaECABRLqAAAxRIq\n",
              "AECxhAoAUCyhAgAUS6gAAMUSKgBAsYQKAFCs/SZUrrrqqjQ3N6euri5r1qzp1XPmzJmTUaNGpa6u\n",
              "Lu+//373/R9++GFOOeWUtLa2prW1NWeddVbWr19fk7kBgN3bb0Jlzpw5efLJJzNmzJheP2f+/Pm7\n",
              "jJrBgwdn5cqVWbt2bdauXZszzzwzV1999V6cFgDojf0mVGbOnJnGxsad7n/mmWfyta99LSeddFKm\n",
              "TJmSn/zkJ92PnXHGGRk+fPhOzxkwYECGDBmSJKmqKlu3bk1dXV3thgcAdqm+vweopffffz9z587N\n",
              "gw8+mJEjR+add97J1KlTM2PGjBx11FG/8/lnnHFGnn/++Rx55JH56U9/2gcTAwC/bb85o7IrTz31\n",
              "VF577bWcffbZmTx5cs4444wkySuvvNKr569cuTKbNm3K17/+9dx00021HBUA2IX9+oxKVVU59thj\n",
              "89RTT/2XX2PAgAG58sor09LSksWLF+/F6QCA32W/PqMyY8aMvP7661m5cmX3fWvWrMknn3zymc/b\n",
              "vHlz3nvvve7bd955Z0444YSazQkA7FpdVVVVfw+xN8ybNy8PPPBANm/enMMPPzxDhgxJW1tbVq9e\n",
              "nWuuuSbvvvtutm/fnqamptx7770ZNGhQzj333KxduzZvvvlmRo0alZaWljz66KNZtWpV5s2bl66u\n",
              "rlRVlXHjxuWHP/xhjj766P7+MwHggLLfhAoAsP/Zry/9AAD7NqECABRLqAAAxdovQuXmm2/u7xEA\n",
              "gBrYL0LljTfe6O8RAIAa2C9CBQDYPwkVAKBYQgUAKJZQAQCKJVQAgGIJFQCgWEIFACiWUAEAiiVU\n",
              "AIBiCRUAYJc+3t6Vdz7oyMfbu/pthvp++5cBgCL9altH7vjF+jz8wlv5aHtXBh80MGcfNyKXfHFM\n",
              "jji0oU9ncUYFAOj2q20d+dayX+Z/P92eDzs6Uz+gLh92dOaOp9/I//w/v8w7H3T06TxCBQDodscv\n",
              "1qft7W058tCG/LdDDs4hDfX5b4ccnCMPbUjb29tyx8/79oeAhQoAkOTT96Q8/MJbGVQ/MPUDeyZC\n",
              "/cABaagfmIde3Nyn71kRKgBAkuSDjs58tL0rB9fvOg8a6gfko0+68kFHZ5/NJFQAgCTJoQ31GXzQ\n",
              "wHzSuWOXj3d07sjggwfm0Ia++yyOUAEAkiSDDhqYs4777/m4syudXT1jpbNrRzo6u3L2sSMy6KCB\n",
              "fTaTjycDAN3+5IvNefr199L29rY01A9MQ/2AdHR+Giktw4fkki+O6dN5nFEBALodcWhD/u6PpuSS\n",
              "U8bk0EH16dxR5dBB9bnklDH50R9N6fPvUXFGBQDo4YhDG/K/Zk3I/K+OywcdnTm0ob5PL/f8NqEC\n",
              "AOzSoIMG9lug/IZLPwBAsYQKAFAsoQIAFEuoAADFEioAQLGECgBQLKECABRLqAAAxRIqAECxhAoA\n",
              "UCyhAgAUS6gAAMUSKgBAsYQKAFAsoQIAFEuoAADFEioAQLGECgBQLKECABRLqAAAxRIqAECxhAoA\n",
              "UCyhAgAUS6gAAMUSKgBAsYQKAFCsmoXKxx9/nAsuuCATJkxIa2trZs2alba2tl2uvf/++zNx4sS0\n",
              "tLTkwgsvzNatW2s1FgCwD6npGZW5c+fmlVdeydq1a3P++efniiuu2GnNBx98kMsvvzz33ntvXn31\n",
              "1YwaNSo33nhjLccCAPYRNQuVQYMG5ZxzzkldXV2SZPr06Vm/fv1O6x566KFMmTIlEydOTJJ84xvf\n",
              "yLJly3b7uh0dHdm6dWuPraurqyZ/AwDQv/rsPSo333xzzj///J3ub29vz5gxY7pvNzc3Z9OmTens\n",
              "7Nzl6yxcuDDDhg3rsa1atapmcwMA/adPQuV73/te2trasnDhws/9Wtdee222bNnSY5s2bdpemBIA\n",
              "KE19rf+BH/zgB7n77ruzcuXKfOELX9jp8aampjzyyCPdt9evX5+RI0emvn7XozU0NKShoaHHfQMH\n",
              "Dty7QwMARajpGZVFixZl2bJleeSRR3LYYYftcs1ZZ52V1atX5+WXX06SLF68OBdddFEtxwIA9hE1\n",
              "O6OycePG/Pmf/3nGjh2b0047LcmnZ0OefvrpXH/99Rk1alTmz5+fIUOG5O///u9zwQUXpLOzM8cd\n",
              "d1z+8R//sVZjAQD7kLqqqqr+HuLzWrBgQRYtWtTfYwAAe5lvpgUAiiVUAIBiCRUAoFhCBQAollAB\n",
              "AIolVACAYgkVAKBYQgUAKJZQAQCKJVQAgGIJFQCgWEIFACiWUAEAiiVUAIBiCRUAoFhCBQAollAB\n",
              "AIolVACAYgkVAKBYQgUAKJZQAQCKJVQAgGIJFQCgWEIFACiWUAEAiiVUAIBiCRUAoFhCBQAollAB\n",
              "AIolVACAYgkVAKBYQgUAKJZQAQCKJVQAgGIJFQCgWEIFACiWUAEAiiVUAIBiCRUAoFhCBQAollAB\n",
              "AIolVACAYgkVAKBYQgUAKJZQAQCKJVQAgGIJFQCgWEIFACiWUAEAiiVUAIBiCRUAoFhCBQAollAB\n",
              "AIolVACAYgkVAKBYQgUAKJZQAQCKJVQAgGIJFQCgWEIFACiWUAEAiiVUAIBiCRUAoFhCBQAollAB\n",
              "AIolVACAYtU0VK666qo0Nzenrq4ua9as2eWaRx99NIMHD87kyZO7t48++qiWYwEA+4j6Wr74nDlz\n",
              "8hd/8Rc59dRTP3PdMcccs9uQAQAOXDUNlZkzZ+711+zo6EhHR0eP+7q6uvb6vwMA9L8i3qOybt26\n",
              "TJ06NSeffHIWL178mWsXLlyYYcOG9dhWrVrVR5MCAH2p30Nl6tSp2bhxY1avXp177rknS5YsyY9/\n",
              "/OPdrr/22muzZcuWHtu0adP6cGIAoK/0e6gMHTo0w4YNS5I0Njbm4osvzhNPPLHb9Q0NDRk6dGiP\n",
              "beDAgX01LgDQh/o9VDZt2pQdO3YkSbZt25b7778/U6ZM6eepAIAS1DRU5s2bl8bGxmzcuDFnnnlm\n",
              "xo8fnyS54oorsmLFiiTJXXfdleOPPz6tra2ZPn16Zs2alcsuu6yWYwEA+4i6qqqq/h7i81qwYEEW\n",
              "LVrU32MAAHtZv1/6AQDYHaECABRLqAAAxRIqAECxhAoAUCyhAgAUS6gAAMUSKgBAsYQKAFAsoQIA\n",
              "FEuoAADFEioAQLGECgBQLKECABRLqAAAxRIqAECxhAoAUCyhAgAUS6gAAMUSKgBAsYQKAFAsoQIA\n",
              "FEuoAADFEioAQLGECgBQLKECABRLqAAAxRIqAECxhAoAUCyhAgAUS6gAAMUSKgBAsYQKAFAsoQIA\n",
              "FEuoAADFEioAQLGECgBQLKECABRLqAAAxRIqAECxhAoAUKw9CpVf//rXeeedd5Ik7733Xu655568\n",
              "8sorNRkMAKDXoXLnnXfm6KOPzrhx43LnnXfmK1/5Sm677bZ89atfzd13313LGQGAA1R9bxf+zd/8\n",
              "TV566aVs27YtJ510Up566qkcf/zxWbduXS6++OJceOGFtZwTADgA9TpUqqrKqFGjkiRHHXVUjj/+\n",
              "+CTJuHHjsn379tpMBwAc0Hp96aerq6v7f3/zm9/s8VhnZ+femwgA4P/X61A577zzsnXr1iTJt771\n",
              "re77X3rppTQ3N+/1wQAA6qqqqvp7iM9rwYIFWbRoUX+PAQDsZb0+o/LCCy/Ucg4AgJ30OlROOOGE\n",
              "tLa25m//9m/z61//upYzAQAk2YNQOfbYY3P99dfn4YcfTlNTUy666KKsXLmylrMBAAe4XofKQQcd\n",
              "lNmzZ+fBBx/MSy+9lOOOOy7z5s1Lc3Nz/uqv/qqWMwIAB6j/0m/9jB49On/5l3+ZdevWZenSpb5G\n",
              "HwCoiV5/4dvBBx+8y/tPP/30nH766XttIACA3+j1GZVf/OIXtZwDAGAnvT6j8htr1qzJ+vXrU19f\n",
              "n0mTJmXs2LG1mAsAoPeh8txzz+WP//iP097eng8++CCTJk3Km2++mdNPPz1Lly7N0KFDazknAHAA\n",
              "6vWln/nz5+eWW27Jli1bcs899+S0007L5s2bc8wxx/T4Sn0AgL2l16HyH//xHzn11FOTfPq7Pz//\n",
              "+c9z8MEH56//+q/z85//vGYDAgAHrj36HpWXX345yadvrD3kkEO6Hxs4cODenwwAOOD1+j0qN954\n",
              "Y0499dQcccQReffdd7N8+fIkyebNm/PlL3+5ZgMCAAeuXofKWWedlba2tqxbty4tLS3db54dMWJE\n",
              "brvttpoNCAAcuPbom2kPO+ywnHjiiTt9wmfChAl7dSgAgGQPP568O9u2bdsrwwAA/LZeh8rkyZPT\n",
              "3Nycqqp2euzdd9/dq0MBACR7ECpjxozJk08+mVGjRu302OjRo/fqUAAAyR68R+W8887La6+9tsvH\n",
              "zj333F3ef9VVV6W5uTl1dXVZs2bNbl976dKlaWlpybhx43LllVdm+/btvR0LANiP9TpUbr755u4v\n",
              "fPvPlixZssv758yZkyeffDJjxozZ7eu+/vrrue666/LEE0+kra0tb731lk8RAQBJ9vBTP3tq5syZ\n",
              "aWxs/Mw1y5cvz3nnnZcRI0akrq4u8+fPz7Jly3a7vqOjI1u3bu2xdXV17e3RAYAC1DRUeqO9vb3H\n",
              "GZfm5ua0t7fvdv3ChQszbNiwHtuqVav6YlQAoI/1e6jsqWuvvTZbtmzpsU2bNq2/xwIAaqDXn/qp\n",
              "laampqxbt6779vr169PU1LTb9Q0NDWloaOhxn98aAoD9U7+fUZk9e3ZWrFiRzZs3p6qqLFmyJBdd\n",
              "dFF/jwUAFKCmoTJv3rw0NjZm48aNOfPMMzN+/PgkyRVXXJEVK1YkScaOHZsbbrghX/rSlzJ+/Pgc\n",
              "eeSRmTdvXi3HAgD2EXXVrr5qdh+zYMGCLFq0qL/HAAD2sn6/9AMAsDtCBQAollABAIolVACAYgkV\n",
              "AKBYQgUAKJZQAQCKJVQAgGIJFQCgWEIFACiWUAEAiiVUAIBiCRUAoFhCBQAollABAIolVACAYgkV\n",
              "AKBYQgUAKJZQAQCKJVQAgGIJFQCgWEIFACiWUAEAiiVUAIBiCRUAoFhCBQAollABAIolVACAYgkV\n",
              "AKBYQgUAKJZQAQCKJVQAgGIJFQCgWEIFACiWUAEAiiVUAIBiCRUAoFhCBQAollABAIolVACAYgkV\n",
              "AKBYQgUAKJZQAQCKJVQAgGIJFQCgWEIFACiWUAEAiiVUAIBiCRUAoFhCBQAollABAIolVACAYgkV\n",
              "AKBYQgUAKJZQAQCKJVQAgGIJFQCgWEIFACiWUAEAiiVUAIBiCRUAoFhCBQAollABAIolVACAYgkV\n",
              "AKBYQgUAKFZNQ+XVV1/NjBkzMmHChJx88sl58cUXd1rz6KOPZvDgwZk8eXL39tFHH9VyLABgH1Ff\n",
              "yxefN29e5s6dm0svvTTLly/PpZdemmeeeWandcccc0zWrFlTy1EAgH1Qzc6ovP3223n22WdzySWX\n",
              "JElmz56dDRs2pK2t7XO9bkdHR7Zu3dpj6+rq2hsjAwCFqVmobNiwISNHjkx9/acnberq6tLU1JT2\n",
              "9vad1q5bty5Tp07NySefnMWLF3/m6y5cuDDDhg3rsa1ataomfwMA0L/6/c20U6dOzcaNG7N69erc\n",
              "c889WbJkSX784x/vdv21116bLVu29NimTZvWhxMDAH2lZqEyevTobNq0KZ2dnUmSqqrS3t6epqam\n",
              "HuuGDh2aYcOGJUkaGxtz8cUX54knntjt6zY0NGTo0KE9toEDB9bqzwAA+lHNQmX48OGZOnVq7rjj\n",
              "jiTJXXfdlcbGxowfP77Huk2bNmXHjh1Jkm3btuX+++/PlClTajUWALAPqemln1tvvTW33nprJkyY\n",
              "kO9///u5/fbbkyRXXHFFVqxYkeTTgDn++OPT2tqa6dOnZ9asWbnssstqORYAsI+oq6qq6u8hPq8F\n",
              "CxZk0aJF/T0GALCX9fubaQEAdkeoAADFEioAQLGECgBQLKECABRLqAAAxRIqAECxhAoAUCyhAgAU\n",
              "S6gAAMUSKgBAsYQKAFAsoQIAFEuoAADFEioAQLGECgBQLKECABRLqAAAxRIqAECxhAoAUCyhAgAU\n",
              "S6gAAMUSKgBAsYQKAFAsoQIAFEuoAADFEioAQLGECgBQLKECABRLqAAAxRIqAECxhAoAUCyhAgAU\n",
              "S6gAAMUSKgBAsYQKAFAsoQIAFEuoAADFEioAQLGECgBQLKECABRLqAAAxRIqAECxhAoAUCyhAgAU\n",
              "S6gAAMUSKgBAsYQKAFAsoQIAFEuoAADFEioAQLGECgBQLKECABRLqAAAxRIqAECxhAoAUCyhAgAU\n",
              "S6gAAMUSKgBAsYQKAFAsoQIAFEuo7IGPt3flnQ868vH2rv4eBQAOCPX9PcC+4FfbOnLHL9bn4Rfe\n",
              "ykfbuzL4oIE5+7gRueSLY3LEoQ39PR4A7LecUfkdfrWtI99a9sv876fb82FHZ+oH1OXDjs7c8fQb\n",
              "+Z//55d554OO/h4RAPZbzqjsRtvbW/Ps+l/n2fXv59W3tmX4kIbUD/y06w5pSDq7dqTt7W254+dv\n",
              "5H/NmtDP0wLA/kmo/Cd3Pt2e/+/e59NZ9by/o7Mzo/+fQ1I/4NNYqR84IA31A/PQi5sz/6vjMuig\n",
              "gf0wLQDs32p66efVV1/NjBkzMmHChJx88sl58cUXd7lu6dKlaWlpybhx43LllVdm+/bttRxrt+58\n",
              "uj3fvmfnSEmSDzp2ZN1b29K5Y0f3fQ31A/LRJ135oKOzD6cEgANHTUNl3rx5mTt3bv7t3/4t3/72\n",
              "t3PppZfutOb111/PddddlyeeeCJtbW156623ctttt9VyrN36y/ue/8zHP9mRvPvBJ923Ozp3ZPDB\n",
              "A3NogxNTAFALNQuVt99+O88++2wuueSSJMns2bOzYcOGtLW19Vi3fPnynHfeeRkxYkTq6uoyf/78\n",
              "LFu2bLev29HRka1bt/bYuro+/8eF297emu07fve6d7d1ZEdVpbNrRzo6u3L2sSNc9gGAGqlZqGzY\n",
              "sCEjR45Mff2nZxvq6urS1NSU9vb2Huva29szZsyY7tvNzc07rfltCxcuzLBhw3psq1at+tzzrtmw\n",
              "pVfrupL8+sNP8qsPOtIyfEgu+eKY3/kcAOC/Zp/7ePK1116bLVu29NimTZv2uV938uhhvVpXl2TI\n",
              "oPpccsqY/OiPpvgeFQCooZq9uWL06NHZtGlTOjs7U19fn6qq0t7enqamph7rmpqasm7duu7b69ev\n",
              "32nNb2toaEhDQ884GDjw8196GT98aA4akN95+efKLx+dBf/jGJd7AKAP1OyMyvDhwzN16tTccccd\n",
              "SZK77rorjY2NGT9+fI91s2fPzooVK7J58+ZUVZUlS5bkoosuqtVYn2nh7BM+8/GxR3whc7/io8gA\n",
              "0Fdqeunn1ltvza233poJEybk+9//fm6//fYkyRVXXJEVK1YkScaOHZsbbrghX/rSlzJ+/PgceeSR\n",
              "mTdvXi3H2q05J47OD/7ghBw0oG6nx2b9v0fmx/NnuNQDAH2orqqqXXxryL5lwYIFWbRo0V59zd98\n",
              "M+34I4fkuMbDnEUBgH7gC0B2Y/zwoRk/fGh/jwEAB7R97lM/AMCBQ6gAAMUSKgBAsYQKAFAsoQIA\n",
              "FEuoAADFEioAQLGECgBQLKECABRLqAAAxdovfuvnwgsvTHNz8159za6urqxatSrTpk3LwIF+56d0\n",
              "9te+w77ad9hX+5Z9cX+NGTMmV1999Weu2S9CpRa2bt2aYcOGZcuWLRk61G/+lM7+2nfYV/sO+2rf\n",
              "sr/uL5d+AIBiCRUAoFhCBQAollDZjYaGhnz3u99NQ0NDf49CL9hf+w77at9hX+1b9tf95c20AECx\n",
              "nFEBAIolVACAYgkVAKBYB3yovPrqq5kxY0YmTJiQk08+OS+++OIu1y1dujQtLS0ZN25crrzyymzf\n",
              "vr2PJyXp3f569NFHM3jw4EyePLl7++ijj/ph2gPXVVddlebm5tTV1WXNmjW7Xee4KkNv9pfjqgwf\n",
              "f/xxLrjggkyYMCGtra2ZNWtW2tradrn2/vvvz8SJE9PS0pILL7wwW7du7eNp95LqAHfaaadVt99+\n",
              "e1VVVfWTn/ykOumkk3Za89prr1UjR46sNm3aVO3YsaP6/d///erv/u7v+nhSqqp3++tf//Vfq9bW\n",
              "1r4djB4ee+yxasOGDdWYMWOqX/7yl7tc47gqR2/2l+OqDB999FH1wAMPVDt27Kiqqqp+9KMfVV/5\n",
              "yld2Wrdt27Zq+PDh1UsvvVRVVVV985vfrK655pq+HHWvOaDPqLz99tt59tlnc8kllyRJZs+enQ0b\n",
              "NuxUp8uXL895552XESNGpK6uLvPnz8+yZcv6Y+QDWm/3F/1v5syZaWxs/Mw1jqty9GZ/UYZBgwbl\n",
              "nHPOSV1dXZJk+vTpWb9+/U7rHnrooUyZMiUTJ05MknzjG9/YZ4+vAzpUNmzYkJEjR6a+vj5JUldX\n",
              "l6amprS3t/dY197enjFjxnTfbm5u3mkNtdfb/ZUk69aty9SpU3PyySdn8eLFfT0qveC42vc4rspz\n",
              "88035/zzz9/p/l0dX5s2bUpnZ2dfjrdX1Pf3ALC3TZ06NRs3bsywYcOycePGnHPOOTniiCPyh3/4\n",
              "h/09GuyzHFfl+d73vpe2trb87Gc/6+9RauqAPqMyevToHoVZVVXa29vT1NTUY11TU1PeeOON7tvr\n",
              "16/faQ2119v9NXTo0AwbNixJ0tjYmIsvvjhPPPFEn8/LZ3Nc7VscV2X5wQ9+kLvvvjsPPfRQvvCF\n",
              "L+z0+K6Or98+I70vOaBDZfjw4Zk6dWruuOOOJMldd92VxsbGjB8/vse62bNnZ8WKFdm8eXOqqsqS\n",
              "JUty0UUX9cfIB7Te7q9NmzZlx44dSZJt27bl/vvvz5QpU/p8Xj6b42rf4rgqx6JFi7Js2bI88sgj\n",
              "Oeyww3a55qyzzsrq1avz8ssvJ0kWL1687x5f/fte3v738ssvV9OnT69aWlqqE088sXruueeqqqqq\n",
              "yy+/vLrvvvu61912223V2LFjq7Fjx1Z/+qd/Wn3yySf9NfIBrTf760c/+lE1adKk6oQTTqgmTZpU\n",
              "ffe73+1+hzx9Y+7cudVRRx1VDRw4sBo+fHg1bty4qqocV6Xqzf5yXJVhw4YNVZJq7NixVWtra9Xa\n",
              "2lpNmzatqqqquu6666pbbrmle+19991XHXPMMdW4ceOq888/v3r//ff7a+zPxW/9AADFOqAv/QAA\n",
              "ZRMqAECxhAoAUCyhAvSZ3f2mzMMPP5yTTjopJ5xwQqZPn561a9d2P3bKKad0/7bMcccdl7q6ujz3\n",
              "3HNJku985zuZOHFiWltbc9JJJ+WnP/1pX/9JQI15My3QZx5//PGMHTs2p556au69995Mnjw57733\n",
              "XsaPH5/HH388xx57bJ544on82Z/9WV544YWdnr98+fLccMMNef7555N8+jXhX/3qVzN48OCsXbs2\n",
              "M2fOzL//+7/nkEMO6es/DagRZ1SAPrOr35RZt25dDj/88Bx77LFJki9/+ctpb2/P6tWrd3r+0qVL\n",
              "c/nll3ffPvvsszN48OAkyfHHH5+qqvKrX/2qhn8B0NeECtCvWlpa8u677+app55KkqxYsSLbtm3b\n",
              "6YfWNmzYkMcee6z7Ryn/s9tvvz1jx47t8fsmwJ7b3SXazzJnzpyMGjUqdXV1ef/997vv//DDD3PK\n",
              "KaektbU1ra2tOeuss3b5I4qfRagA/WrYsGFZvnx5rr322px44on553/+50yaNGmnr/r+h3/4h/ze\n",
              "7/1ejjjiiJ1e42c/+1luuOGG3Hnnnd2/Kgv818yZMydPPvnkHkX//Pnzdxk1gwcPzsqVK7N27dqs\n",
              "Xbs2Z555Zq6++uo9mmff+9J/YL9z2mmn5bTTTkuSdHR0ZMSIEZk0aVL341VV5fbbb88tt9yy03Mf\n",
              "e+yxXHbZZfmnf/qnHHPMMX02M+yvZs6cucv7n3nmmXz729/O1q1b09XVle985zv5gz/4gyTJGWec\n",
              "scvnDBgwIEOGDEny6XG8devWPf6PCaEC9LtNmzZl5MiRSZIbb7wxX/va13r8htO//Mu/pLOzM7Nm\n",
              "zerxvMcffzx/8id/kvvuuy+tra19OjMcSN5///3MnTs3Dz74YEaOHJl33nknU6dOzYwZM3LUUUf9\n",
              "zuefccYZef7553PkkUfu8afzXPoB+sy8efPS2NiYjRs35swzz+yOkeuvvz4TJ07M+PHj88Ybb2Tp\n",
              "0qU9nrd06dJcdtllGTCg5/9lXX755eno6Mhll13W/RHm33wiCNh7nnrqqbz22ms5++yzM3ny5O4z\n",
              "KK+88kqvnr9y5cps2rQpX//613PTTTft0b/t48kAwE6am5u7v0bggQceyE033dT9pvfdqaury3vv\n",
              "vbfbX3XevHlzWlpasm3btl7P4YwKAPCZZsyYkddffz0rV67svm/NmjX55JNPPvN5mzdvznvvvdd9\n",
              "+84778wJJ5ywR/+2MyoAQLd58+blgQceyObNm3P44YdnyJAhaWtry+rVq3PNNdfk3Xffzfbt29PU\n",
              "1JR77703gwYNyrnnnpu1a9fmzTffzKhRo9LS0pJHH300q1atyrx589LV1ZWqqjJu3Lj88Ic/zNFH\n",
              "H93reYQKAFAsl34AgGIJFQCgWEIFACiWUAEAiiVUAIBiCRUAoFhCBQAollABAIolVACAYgkVAKBY\n",
              "/xeBZ6m2TeOPugAAAABJRU5ErkJggg==\n",
              "\">\n",
              "      </div>\n",
              "      <script type=\"text/javascript\">\n",
              "        (() => {\n",
              "          const chartElement = document.getElementById(\"chart-af9b5206-eec3-4996-8147-4877f4233297\");\n",
              "          async function getCodeForChartHandler(event) {\n",
              "            const chartCodeResponse =  await google.colab.kernel.invokeFunction(\n",
              "                'getCodeForChart', [\"chart-af9b5206-eec3-4996-8147-4877f4233297\"], {});\n",
              "            const responseJson = chartCodeResponse.data['application/json'];\n",
              "            await google.colab.notebook.addCell(responseJson.code, 'code');\n",
              "          }\n",
              "          chartElement.onclick = getCodeForChartHandler;\n",
              "        })();\n",
              "      </script>\n",
              "      <style>\n",
              "        .colab-quickchart-chart-with-code  {\n",
              "            display: block;\n",
              "            float: left;\n",
              "            border: 1px solid transparent;\n",
              "        }\n",
              "\n",
              "        .colab-quickchart-chart-with-code:hover {\n",
              "            cursor: pointer;\n",
              "            border: 1px solid #aaa;\n",
              "        }\n",
              "      </style>"
            ]
          },
          "metadata": {}
        },
        {
          "output_type": "display_data",
          "data": {
            "text/plain": [
              "from matplotlib import pyplot as plt\n",
              "_df_7.plot(kind='scatter', x='1973', y='1974', s=32, alpha=.8)\n",
              "plt.gca().spines[['top', 'right',]].set_visible(False)"
            ],
            "text/html": [
              "      <div class=\"colab-quickchart-chart-with-code\" id=\"chart-6b244829-f634-414e-b883-45763c832201\">\n",
              "        <img style=\"width: 180px;\" src=\"data:image/png;base64,iVBORw0KGgoAAAANSUhEUgAAAioAAAGzCAYAAAABsTylAAAAOXRFWHRTb2Z0d2FyZQBNYXRwbG90\n",
              "bGliIHZlcnNpb24zLjcuMSwgaHR0cHM6Ly9tYXRwbG90bGliLm9yZy/bCgiHAAAACXBIWXMAAA9h\n",
              "AAAPYQGoP6dpAAAfiElEQVR4nO3df3CV9Z3o8c8h0UAVYq/ABQxJCgQUkUBUQGrtUqEg7qIj1MVd\n",
              "7oysSFi31Tus0w7bqkNdpX906Fg7KM4ydmfYZb3F1jL4oyvbpcXBig6CP7ayJoABh4hSIcHFSJLn\n",
              "/uFtxtwkGlZO8gVer5kzw3nO9xw+mWeemfc8z/mRy7IsCwCABPXp7QEAALoiVACAZAkVACBZQgUA\n",
              "SJZQAQCSJVQAgGQJFQAgWUIFAEiWUAEAknXahMrtt98e5eXlkcvlYseOHd16zrx582LYsGGRy+Xi\n",
              "8OHDbds/+OCDmDx5clRWVkZlZWXMmjUr9u7dm5e5AYCunTahMm/evHjuueeirKys289ZsmRJp1HT\n",
              "r1+/2LRpU+zcuTN27twZM2fOjDvuuOMkTgsAdMdpEypXXXVVlJSUdNj+4osvxte+9rW47LLLYuLE\n",
              "ifGzn/2s7bHp06fH4MGDOzynT58+0b9//4iIyLIsGhoaIpfL5W94AKBThb09QD4dPnw4Fi9eHE89\n",
              "9VQMHTo03nvvvaiqqoqpU6fGBRdc8JnPnz59erz66qsxaNCg+NWvftUDEwMAn3TanFHpzNatW2P3\n",
              "7t1xzTXXxIQJE2L69OkREbFr165uPX/Tpk1x4MCB+PM///O477778jkqANCJ0/qMSpZlcfHFF8fW\n",
              "rVv/26/Rp0+fuPXWW6OioiJWrVp1EqcDAD7LaX1GZerUqbFnz57YtGlT27YdO3bERx999KnPq6+v\n",
              "j/fff7/t/mOPPRbjx4/P25wAQOdyWZZlvT3EyVBdXR1PPvlk1NfXx/nnnx/9+/ePmpqa2L59e9x5\n",
              "551x6NChOH78eJSWlsYTTzwRffv2jWuvvTZ27twZb7/9dgwbNiwqKipi8+bNsW3btqiuro6WlpbI\n",
              "sixGjhwZP/rRj+JLX/pSb/+ZAHBGOW1CBQA4/ZzWl34AgFObUAEAkiVUAIBknRah8sADD/T2CABA\n",
              "HpwWofLWW2/19ggAQB6cFqECAJyehAoAkCyhAgAkS6gAAMkSKgBAsoQKAJAsoQIAJEuoAADJEioA\n",
              "QLKECgDQqQ+Pt8R7R5viw+MtvTZDYa/9zwBAkt5tbIq1v9sbz7z2Thw73hL9ziqIa8YNiQVXlMXA\n",
              "c4t6dBZnVACANu82NsW31r0c//RCXXzQ1ByFfXLxQVNzrH3hrfjmP78c7x1t6tF5hAoA0Gbt7/ZG\n",
              "zcHGGHRuUXzxnLPjnKLC+OI5Z8egc4ui5mBjrH2+Z38IWKgAABHx8XtSnnntnehbWBCFBe0TobCg\n",
              "TxQVFsTTr9f36HtWhAoAEBERR5ua49jxlji7sPM8KCrsE8c+aomjTc09NpNQAQAiIuLcosLod1ZB\n",
              "fNTc2unjTc2t0e/sgji3qOc+iyNUAICIiOh7VkHMGvc/48PmlmhuaR8rzS2t0dTcEtdcPCT6nlXQ\n",
              "YzP5eDIA0OZ/XVEeL+x5P2oONkZRYUEUFfaJpuaPI6VicP9YcEVZj87jjAoA0GbguUXxk7+YGAsm\n",
              "l8W5fQujuTWLc/sWxoLJZfHgX0zs8e9RcUYFAGhn4LlF8b9njI4lfzIyjjY1x7lFhT16ueeThAoA\n",
              "0Km+ZxX0WqD8kUs/AECyhAoAkCyhAgAkS6gAAMkSKgBAsoQKAJAsoQIAJEuoAADJEioAQLKECgCQ\n",
              "LKECACRLqAAAyRIqAECyhAoAkCyhAgAkS6gAAMkSKgBAsoQKAJAsoQIAJEuoAADJEioAQLKECgCQ\n",
              "LKECACRLqAAAyRIqAECyhAoAkCyhAgAkS6gAAMkSKgBAsoQKAJAsoQIAJEuoAADJyluofPjhh3H9\n",
              "9dfH6NGjo7KyMmbMmBE1NTWdrt24cWNceOGFUVFRETfccEM0NDTkaywA4BSS1zMqixcvjl27dsXO\n",
              "nTvjuuuui0WLFnVYc/To0bjlllviiSeeiDfffDOGDRsW9957bz7HAgBOEXkLlb59+8bs2bMjl8tF\n",
              "RMSUKVNi7969HdY9/fTTMXHixLjwwgsjIuK2226LdevWdfm6TU1N0dDQ0O7W0tKSl78BAOhdPfYe\n",
              "lQceeCCuu+66Dtvr6uqirKys7X55eXkcOHAgmpubO32dFStWRHFxcbvbtm3b8jY3ANB7eiRU7r//\n",
              "/qipqYkVK1Z87tdatmxZHDlypN1t0qRJJ2FKACA1hfn+D374wx/Gz3/+89i0aVN84Qtf6PB4aWlp\n",
              "PPvss2339+7dG0OHDo3Cws5HKyoqiqKionbbCgoKTu7QAEAS8npGZeXKlbFu3bp49tln47zzzut0\n",
              "zaxZs2L79u3xxhtvRETEqlWrYv78+fkcCwA4ReTtjMr+/fvjb//2b2PEiBExbdq0iPj4bMgLL7wQ\n",
              "d999dwwbNiyWLFkS/fv3j3/4h3+I66+/Ppqbm2PcuHHxj//4j/kaCwA4heSyLMt6e4jPa+nSpbFy\n",
              "5creHgMAOMl8My0AkCyhAgAkS6gAAMkSKgBAsoQKAJAsoQIAJEuoAADJEioAQLKECgCQLKECACRL\n",
              "qAAAyRIqAECyhAoAkCyhAgAkS6gAAMkSKgBAsoQKAJAsoQIAJEuoAADJEioAQLKECgCQLKECACRL\n",
              "qAAAyRIqAECyhAoAkCyhAgAkS6gAAMkSKgBAsoQKAJAsoQIAJEuoAADJEioAQLKECgCQLKECACRL\n",
              "qAAAyRIqAECyhAoAkCyhAgAkS6gAAMkSKgBAsoQKAJAsoQIAJEuoAADJEioAQLKECgCQLKECACRL\n",
              "qAAAyRIqAECyhAoAkCyhAgAkS6gAAMkSKgBAsoQKAJAsoQIAJEuoAADJEioAQLKECgCQLKECACRL\n",
              "qAAAyRIqAECyhAoAkCyhAgAkS6gAAMkSKgBAsvIaKrfffnuUl5dHLpeLHTt2dLpm8+bN0a9fv5gw\n",
              "YULb7dixY/kcCwA4RRTm88XnzZsX3/72t+PKK6/81HVjxozpMmQAgDNXXkPlqquuyufLAwCnubyG\n",
              "SnfV1tZGVVVVFBQUxMKFC+O2227rcm1TU1M0NTW129bS0pLvEQGAXtDroVJVVRX79++P4uLi2L9/\n",
              "f8yePTsGDhwYN954Y6frV6xYEcuXL2+3bcqUKT0xKgDQw3r9Uz8DBgyI4uLiiIgoKSmJm266KbZs\n",
              "2dLl+mXLlsWRI0fa3SZNmtRT4wIAPajXQ+XAgQPR2toaERGNjY2xcePGmDhxYpfri4qKYsCAAe1u\n",
              "BQUFPTUuANCD8hoq1dXVUVJSEvv374+ZM2fGqFGjIiJi0aJFsWHDhoiIePzxx+OSSy6JysrKmDJl\n",
              "SsyYMSMWLlyYz7EAgFNELsuyrLeH+LyWLl0aK1eu7O0xAICTrNcv/QAAdEWoAADJEioAQLKECgCQ\n",
              "LKECACRLqAAAyRIqAECyhAoAkCyhAgAkS6gAAMkSKgBAsoQKAJAsoQIAJEuoAADJEioAQLKECgCQ\n",
              "LKECACRLqAAAyRIqAECyhAoAkCyhAgAkS6gAAMkSKgBAsoQKAJAsoQIAJEuoAADJEioAQLKECgCQ\n",
              "LKECACRLqAAAyRIqAECyhAoAkCyhAgAkS6gAAMkSKgBAsoQKAJAsoQIAJOtzhcrChQtP1hwAAB0U\n",
              "dnfh0qVLO2z7xS9+EV/84hcjImLlypUnbyoAgDiBMyqrV6+Od999N4qLi9tuuVyu7d8AACdbt8+o\n",
              "vPTSS1FdXR2TJ0+Ob37zmxER8dOf/jTuueeevA0HAJzZun1G5aKLLopf//rXcfDgwfj6178eb731\n",
              "VuRyuXzOBgCc4bp9RiUiorCwML7//e/HCy+8EHPnzo0PPvggX3MBAJxYqPzR5MmTY8uWLVFbW3uy\n",
              "5wEAaNPtSz+vvfZau/v9+vWLcePGnfSBAAD+qNuhMn78+KisrIwf//jH8Yc//CGfMwEARMQJhMrF\n",
              "F18cd999dzzzzDNRWloa8+fPj02bNuVzNgDgDNftUDnrrLNi7ty58dRTT8Xvf//7GDduXFRXV0d5\n",
              "eXl8//vfz+eMAMAZ6r/1FfrDhw+P733ve1FbWxtr1qyJXbt2ney5AAC6/6mfs88+u9PtV199dVx9\n",
              "9dUnbSAAgD/q9hmV3/3ud/mcAwCggxP+HpUdO3bE3r17o7CwMMaOHRsjRozIx1wAAN0PlVdeeSX+\n",
              "8i//Murq6uLo0aMxduzYePvtt+Pqq6+ONWvWxIABA/I5JwBwBur2pZ8lS5bEQw89FEeOHIlf/OIX\n",
              "MW3atKivr48xY8bEt771rXzOCACcobodKv/1X/8VV155ZUREzJkzJ55//vk4++yz4+///u/j+eef\n",
              "z9uAAMCZ64S+R+WNN96IiI/fWHvOOee0PVZQUHDyJwMAznjdfo/KvffeG1deeWUMHDgwDh06FOvX\n",
              "r4+IiPr6+vjKV76StwEBgDNXt0Nl1qxZUVNTE7W1tVFRUdH25tkhQ4bEI488krcBAYAz1wl9M+15\n",
              "550Xl156aYdP+IwePfqkDgUAEHGCH0/uSmNj40kZBgDgk7odKhMmTIjy8vLIsqzDY4cOHTqpQwEA\n",
              "RJxAqJSVlcVzzz0Xw4YN6/DY8OHDT+pQAAARJ/AelTlz5sTu3bs7fezaa689aQMBAPxRt8+oPPDA\n",
              "A10+9vDDD5+UYQAAPumEPvUDANCT8hoqt99+e5SXl0cul4sdO3Z0uW7NmjVRUVERI0eOjFtvvTWO\n",
              "Hz+ez7EAgFNEXkNl3rx58dxzz0VZWVmXa/bs2RN33XVXbNmyJWpqauKdd97xBXIAQETkOVSuuuqq\n",
              "KCkp+dQ169evjzlz5sSQIUMil8vFkiVLYt26dV2ub2pqioaGhna3lpaWkz06AJCAXn+PSl1dXbsz\n",
              "LuXl5VFXV9fl+hUrVkRxcXG727Zt23piVACgh/V6qJyoZcuWxZEjR9rdJk2a1NtjAQB50O2PJ+dL\n",
              "aWlp1NbWtt3fu3dvlJaWdrm+qKgoioqK2m0rKCjI23wAQO/p9TMqc+fOjQ0bNkR9fX1kWRYPP/xw\n",
              "zJ8/v7fHAgASkNdQqa6ujpKSkti/f3/MnDkzRo0aFRERixYtig0bNkRExIgRI2L58uXx5S9/OUaN\n",
              "GhWDBg2K6urqfI4FAJwicllnvzJ4ilm6dGmsXLmyt8cAAE6yXr/0AwDQFaECACRLqAAAyRIqAECy\n",
              "hAoAkCyhAgAkS6gAAMkSKgBAsoQKAJAsoQIAJEuoAADJEioAQLKECgCQLKECACRLqAAAyRIqAECy\n",
              "hAoAkCyhAgAkS6gAAMkSKgBAsoQKAJAsoQIAJEuoAADJEioAQLKECgCQLKECACRLqAAAyRIqAECy\n",
              "hAoAkCyhAgAkS6gAAMkSKgBAsoQKAJAsoQIAJEuoAADJEioAQLKECgCQLKECACRLqAAAyRIqAECy\n",
              "hAoAkCyhAgAkS6gAAMkSKgBAsoQKAJAsoQIAJEuoAADJEioAQLKECgCQLKECACRLqAAAyRIqAECy\n",
              "hAoAkCyhAgAkS6gAAMkSKgBAsoQKAJAsoQIAJEuoAADJEioAQLKECgCQLKECACRLqAAAyRIqAECy\n",
              "8hoqb775ZkydOjVGjx4dl19+ebz++usd1mzevDn69esXEyZMaLsdO3Ysn2MBAKeIwny+eHV1dSxe\n",
              "vDhuvvnmWL9+fdx8883x4osvdlg3ZsyY2LFjRz5HAQBOQXk7o3Lw4MF46aWXYsGCBRERMXfu3Ni3\n",
              "b1/U1NTk678EAE4zeQuVffv2xdChQ6Ow8OOTNrlcLkpLS6Ourq7D2tra2qiqqorLL788Vq1a9amv\n",
              "29TUFA0NDe1uLS0tefkbAIDelddLP91RVVUV+/fvj+Li4ti/f3/Mnj07Bg4cGDfeeGOn61esWBHL\n",
              "ly9vt23KlCk9MSoA0MPydkZl+PDhceDAgWhubo6IiCzLoq6uLkpLS9utGzBgQBQXF0dERElJSdx0\n",
              "002xZcuWLl932bJlceTIkXa3SZMm5evPAAB6Ud5CZfDgwVFVVRVr166NiIjHH388SkpKYtSoUe3W\n",
              "HThwIFpbWyMiorGxMTZu3BgTJ07s8nWLiopiwIAB7W4FBQX5+jMAgF6U148nr169OlavXh2jR4+O\n",
              "H/zgB/Hoo49GRMSiRYtiw4YNEfFxwFxyySVRWVkZU6ZMiRkzZsTChQvzORYAcIrIZVmW9fYQn9fS\n",
              "pUtj5cqVvT0GAHCS+WZaACBZQgUASJZQAQCSJVQAgGQJFQAgWUIFAEiWUAEAkiVUAIBkCRUAIFlC\n",
              "BQBIllABAJIlVACAZAkVACBZQgUASJZQAQCSJVQAgGQJFQAgWUIFAEiWUAEAkiVUAIBkCRUAIFlC\n",
              "BQBIllABAJIlVACAZAkVACBZQgUASJZQAQCSJVQAgGQJFQAgWUIFAEiWUAEAkiVUAIBkCRUAIFlC\n",
              "BQBIllABAJIlVACAZAkVACBZQgUASJZQAQCSJVQAgGQJFQAgWUIFAEiWUAEAkiVUAIBkCRUAIFlC\n",
              "BQBIllABAJIlVACAZAkVACBZQgUASJZQAQCSJVQAgGQJFQAgWUIFAEiWUAEAkiVUAIBkCRUAIFlC\n",
              "BQBIllABAJIlVACAZAmVE/Dh8ZZ472hTfHi8pbdHAYAzQmFvD3AqeLexKdb+bm8889o7cex4S/Q7\n",
              "qyCuGTckFlxRFgPPLert8QDgtOWMymd4t7EpvrXu5finF+rig6bmKOyTiw+ammPtC2/FN//55Xjv\n",
              "aFNvjwgApy1nVLpQc7AhXtr7h3hp7+F4853GGNy/KAoLPu66c4oimltao+ZgY6x9/q343zNG9/K0\n",
              "AHB6Eir/n8deqIvvPvFqNGfttzc1N8fw/3FOFPb5OFYKC/pEUWFBPP16fSz5k5HR96yCXpgWAE5v\n",
              "eb308+abb8bUqVNj9OjRcfnll8frr7/e6bo1a9ZERUVFjBw5Mm699dY4fvx4Psfq0mMv1MV3ftEx\n",
              "UiIijja1Ru07jdHc2tq2raiwTxz7qCWONjX34JQAcObIa6hUV1fH4sWL4z//8z/jO9/5Ttx8880d\n",
              "1uzZsyfuuuuu2LJlS9TU1MQ777wTjzzySD7H6tL3fvnqpz7+UWvEoaMftd1vam6NfmcXxLlFTkwB\n",
              "QD7kLVQOHjwYL730UixYsCAiIubOnRv79u2LmpqaduvWr18fc+bMiSFDhkQul4slS5bEunXrunzd\n",
              "pqamaGhoaHdrafn8HxeuOdgQx1s/e92hxqZozbJobmmNpuaWuObiIS77AECe5C1U9u3bF0OHDo3C\n",
              "wo/PNuRyuSgtLY26urp26+rq6qKsrKztfnl5eYc1n7RixYooLi5ud9u2bdvnnnfHviPdWtcSEX/4\n",
              "4KN492hTVAzuHwuuKPvM5wAA/z2n3MeTly1bFkeOHGl3mzRp0ud+3QnDi7u1LhcR/fsWxoLJZfHg\n",
              "X0z0PSoAkEd5e3PF8OHD48CBA9Hc3ByFhYWRZVnU1dVFaWlpu3WlpaVRW1vbdn/v3r0d1nxSUVFR\n",
              "FBW1j4OCgs9/6WXU4AFxVp/4zMs/t37lS7H062Nc7gGAHpC3MyqDBw+OqqqqWLt2bUREPP7441FS\n",
              "UhKjRo1qt27u3LmxYcOGqK+vjyzL4uGHH4758+fna6xPtWLu+E99fMTAL8Tir/ooMgD0lLxe+lm9\n",
              "enWsXr06Ro8eHT/4wQ/i0UcfjYiIRYsWxYYNGyIiYsSIEbF8+fL48pe/HKNGjYpBgwZFdXV1Psfq\n",
              "0rxLh8cPvzE+zuqT6/DYjIsGxf9ZMtWlHgDoQbksyzr51pBTy9KlS2PlypUn9TX/+M20owb1j3El\n",
              "5zmLAgC9wBeAdGHU4AExavCA3h4DAM5op9ynfgCAM4dQAQCSJVQAgGQJFQAgWUIFAEiWUAEAkiVU\n",
              "AIBkCRUAIFlCBQBIllABAJJ1WvzWzw033BDl5eUn9TVbWlpi27ZtMWnSpCgo8Ds/KbBP0mOfpMc+\n",
              "SYv98enKysrijjvu+NQ1p0Wo5ENDQ0MUFxfHkSNHYsAAv/mTAvskPfZJeuyTtNgfn59LPwBAsoQK\n",
              "AJAsoQIAJEuodKGoqCjuueeeKCoq6u1R+H/sk/TYJ+mxT9Jif3x+3kwLACTLGRUAIFlCBQBIllAB\n",
              "AJJ1xofKm2++GVOnTo3Ro0fH5ZdfHq+//nqn69asWRMVFRUxcuTIuPXWW+P48eM9POmZozv7ZPPm\n",
              "zdGvX7+YMGFC2+3YsWO9MO3p7/bbb4/y8vLI5XKxY8eOLtc5RnpOd/aJY6TnfPjhh3H99dfH6NGj\n",
              "o7KyMmbMmBE1NTWdrt24cWNceOGFUVFRETfccEM0NDT08LSnoOwMN23atOzRRx/NsizLfvazn2WX\n",
              "XXZZhzW7d+/Ohg4dmh04cCBrbW3N/uzP/iz7yU9+0sOTnjm6s0/+/d//PausrOzZwc5Qv/nNb7J9\n",
              "+/ZlZWVl2csvv9zpGsdIz+rOPnGM9Jxjx45lTz75ZNba2pplWZY9+OCD2Ve/+tUO6xobG7PBgwdn\n",
              "v//977Msy7K/+Zu/ye68886eHPWUdEafUTl48GC89NJLsWDBgoiImDt3buzbt69DCa9fvz7mzJkT\n",
              "Q4YMiVwuF0uWLIl169b1xsinve7uE3rOVVddFSUlJZ+6xjHSs7qzT+g5ffv2jdmzZ0cul4uIiClT\n",
              "psTevXs7rHv66adj4sSJceGFF0ZExG233eY46YYzOlT27dsXQ4cOjcLCwoiIyOVyUVpaGnV1de3W\n",
              "1dXVRVlZWdv98vLyDms4Obq7TyIiamtro6qqKi6//PJYtWpVT4/KJzhG0uQY6R0PPPBAXHfddR22\n",
              "d3acHDhwIJqbm3tyvFNOYW8PAP8dVVVVsX///iguLo79+/fH7NmzY+DAgXHjjTf29miQBMdI77j/\n",
              "/vujpqYm/u3f/q23RzltnNFnVIYPH96uZrMsi7q6uigtLW23rrS0NN566622+3v37u2whpOju/tk\n",
              "wIABUVxcHBERJSUlcdNNN8WWLVt6fF4+5hhJj2Ok5/3whz+Mn//85/H000/HF77whQ6Pd3acfPIM\n",
              "Mp07o0Nl8ODBUVVVFWvXro2IiMcffzxKSkpi1KhR7dbNnTs3NmzYEPX19ZFlWTz88MMxf/783hj5\n",
              "tNfdfXLgwIFobW2NiIjGxsbYuHFjTJw4scfn5WOOkfQ4RnrWypUrY926dfHss8/Geeed1+maWbNm\n",
              "xfbt2+ONN96IiIhVq1Y5Trqjd9/L2/veeOONbMqUKVlFRUV26aWXZq+88kqWZVl2yy23ZL/85S/b\n",
              "1j3yyCPZiBEjshEjRmR/9Vd/lX300Ue9NfJprzv75MEHH8zGjh2bjR8/Phs7dmx2zz33tL3jnpNr\n",
              "8eLF2QUXXJAVFBRkgwcPzkaOHJllmWOkN3VnnzhGes6+ffuyiMhGjBiRVVZWZpWVldmkSZOyLMuy\n",
              "u+66K3vooYfa1v7yl7/MxowZk40cOTK77rrrssOHD/fW2KcMv/UDACTrjL70AwCkTagAAMkSKgBA\n",
              "soQK0GO6+o2aZ555Ji677LIYP358TJkyJXbu3Nn22OTJk9t+q2bcuHGRy+XilVdeiYiI7373u3HJ\n",
              "JZe0Pf4v//IvPf0nAXnmzbRAj/ntb38bI0aMiCuvvDKeeOKJmDBhQrz//vsxatSo+O1vfxsXX3xx\n",
              "bNmyJf76r/86XnvttQ7PX79+fSxfvjxeffXViIg4fPhw20dB33777bjoooti9+7dMXDgwJ78s4A8\n",
              "ckYF6DGd/UZNbW1tnH/++XHxxRdHRMRXvvKVqKuri+3bt3d4/po1a+KWW25pu//J76s4evRoZFnW\n",
              "9t0hwOlBqAC9qqKiIg4dOhRbt26NiIgNGzZEY2Njhx9127dvX/zmN79p+8HKP/rxj38cY8aMiaqq\n",
              "qnjkkUdi8ODBPTU6nJa6ukT7aebNmxfDhg2LXC4Xhw8fbtv+wQcfxOTJk6OysjIqKytj1qxZnf5g\n",
              "46cRKkCvKi4ujvXr18eyZcvi0ksvjX/913+NsWPHdvha8Z/+9Kfxp3/6px0u69x+++2xa9eu2Lp1\n",
              "a9x///1x6NChnhwfTjvz5s2L5557rt0PKH6WJUuWdBo1/fr1i02bNsXOnTtj586dMXPmzLjjjjtO\n",
              "aB4/MAD0umnTpsW0adMiIqKpqSmGDBkSY8eObXs8y7J49NFH46GHHuryNSorK+OCCy6IzZs3x9y5\n",
              "c/M+M5yurrrqqk63v/jii/Gd73wnGhoaoqWlJf7u7/4uvvGNb0RExPTp0zt9Tp8+faJ///4R8fFx\n",
              "3NDQELlc7oTmESpArztw4EAMHTo0IiLuvffe+NrXvtbu951+/etfR3Nzc8yYMaPd8/7jP/6jLWhq\n",
              "a2vj5Zdfbhc4wMlx+PDhWLx4cTz11FMxdOjQeO+996KqqiqmTp0aF1xwwWc+f/r06fHqq6/GoEGD\n",
              "4le/+tUJ/d9CBegx1dXV8eSTT0Z9fX3MnDkz+vfvHzU1NXH33XfHli1borm5Oa644opYs2ZNu+et\n",
              "WbMmFi5cGH36tL9a/e1vfzv27NkTZ511VhQWFsZPfvKTuOiii3ryT4IzwtatW2P37t1xzTXXtNu+\n",
              "a9euboXKpk2borW1Ne6777647777YtWqVd3+v308GQDooLy8vO1rBJ588sm477772t703pVcLhfv\n",
              "v/9+l78gXV9fHxUVFdHY2NjtObyZFgD4VFOnTo09e/bEpk2b2rbt2LEjPvroo099Xn19fbz//vtt\n",
              "9x977LEYP378Cf3fzqgAAG0+eYn2/PPPb7tEu3379rjzzjvj0KFDcfz48SgtLY0nnngi+vbtG9de\n",
              "e23s3Lkz3n777Rg2bFhUVFTE5s2bY9u2bVFdXR0tLS2RZVmMHDkyfvSjH8WXvvSlbs8jVACAZLn0\n",
              "AwAkS6gAAMkSKgBAsoQKAJAsoQIAJEuoAADJEioAQLKECgCQLKECACRLqAAAyfq/SBuXbt5HtJoA\n",
              "AAAASUVORK5CYII=\n",
              "\">\n",
              "      </div>\n",
              "      <script type=\"text/javascript\">\n",
              "        (() => {\n",
              "          const chartElement = document.getElementById(\"chart-6b244829-f634-414e-b883-45763c832201\");\n",
              "          async function getCodeForChartHandler(event) {\n",
              "            const chartCodeResponse =  await google.colab.kernel.invokeFunction(\n",
              "                'getCodeForChart', [\"chart-6b244829-f634-414e-b883-45763c832201\"], {});\n",
              "            const responseJson = chartCodeResponse.data['application/json'];\n",
              "            await google.colab.notebook.addCell(responseJson.code, 'code');\n",
              "          }\n",
              "          chartElement.onclick = getCodeForChartHandler;\n",
              "        })();\n",
              "      </script>\n",
              "      <style>\n",
              "        .colab-quickchart-chart-with-code  {\n",
              "            display: block;\n",
              "            float: left;\n",
              "            border: 1px solid transparent;\n",
              "        }\n",
              "\n",
              "        .colab-quickchart-chart-with-code:hover {\n",
              "            cursor: pointer;\n",
              "            border: 1px solid #aaa;\n",
              "        }\n",
              "      </style>"
            ]
          },
          "metadata": {}
        },
        {
          "output_type": "display_data",
          "data": {
            "text/plain": [
              "<google.colab._quickchart_helpers.SectionTitle at 0x7ef879b9b6a0>"
            ],
            "text/html": [
              "<h4 class=\"colab-quickchart-section-title\">Values</h4>\n",
              "<style>\n",
              "  .colab-quickchart-section-title {\n",
              "      clear: both;\n",
              "  }\n",
              "</style>"
            ]
          },
          "metadata": {}
        },
        {
          "output_type": "display_data",
          "data": {
            "text/plain": [
              "from matplotlib import pyplot as plt\n",
              "_df_8['1970'].plot(kind='line', figsize=(8, 4), title='1970')\n",
              "plt.gca().spines[['top', 'right']].set_visible(False)"
            ],
            "text/html": [
              "      <div class=\"colab-quickchart-chart-with-code\" id=\"chart-ab96f66b-897f-4dba-9e44-3e9f21a0712d\">\n",
              "        <img style=\"width: 180px;\" src=\"data:image/png;base64,iVBORw0KGgoAAAANSUhEUgAAAqIAAAFuCAYAAABaw3qhAAAAOXRFWHRTb2Z0d2FyZQBNYXRwbG90\n",
              "bGliIHZlcnNpb24zLjcuMSwgaHR0cHM6Ly9tYXRwbG90bGliLm9yZy/bCgiHAAAACXBIWXMAAA9h\n",
              "AAAPYQGoP6dpAAA3S0lEQVR4nO3de3xU9Z3/8fdkEhJuCYQQLuZGSALlloskIndaLdha7AN4iFjt\n",
              "AgKh6GIXW11+lO5iV7G7irp9bCs+SvFhXYGKrLL2YksNGLAV0A1aLZAEQggGIrckBDLJzHx/fyQz\n",
              "MhIgQy5nZvJ6Ph7n4eTMOZPPOYT45ny/53NsxhgjAAAAoJOFWV0AAAAAuiaCKAAAACxBEAUAAIAl\n",
              "CKIAAACwBEEUAAAAliCIAgAAwBIEUQAAAFiCIAoAAABLEEQBAABgCYIoAAAALEEQBYB2sHnzZk2a\n",
              "NEnR0dGy2WxyOp0+77/11lu6+eabFR0draSkJK1du9bn/TvuuEO9evXyLj179pTNZtOzzz7r3aa8\n",
              "vFx33nmnevfurbi4OD300ENqaGjolOMDgI5AEAWAdtC3b18tW7ZMzz333BXv7du3T3PmzNGPf/xj\n",
              "nT9/Xm+++aaef/55/ed//qd3m9///ve6cOGCd9m0aZMiIiJ0zz33SJLcbrfuvPNOxcbG6sSJE/rg\n",
              "gw/07rvv6oc//GFnHSIAtDubMcZYXQQAhIqdO3dq2rRpamxsVHh4uCTpscce04EDB/SHP/zBu92P\n",
              "fvQjbdmyRcXFxS1+zowZMxQTE6MtW7ZIknbt2qXbbrtNlZWViouLkyS9+eabuvfee3XmzBlFRUV1\n",
              "8JEBQPvjiigAdDBjjL78b363262SkhLV1tZesX1paan++Mc/atmyZd51RUVFSk1N9YZQScrNzdXF\n",
              "ixd1+PDhjiseADoQQRQAOtjMmTNVUFCgbdu2yel0av/+/frVr34lSaqpqbli+1/84hcaMWKEpkyZ\n",
              "4l1XU1OjPn36+GzXt2/fq34GAASDoA2iy5cvV0pKimw2m4qKilq1z5w5czR48GDZbDadP3/eu76u\n",
              "rk633HKLMjMzlZmZqRkzZqisrKxD6gbQ9UycOFGvvPKK/u3f/k3x8fF68MEH9b3vfU9hYWHeMOlR\n",
              "X1+vjRs36nvf+57P+ujoaJ/fW5J07tw573sAEIyCNojOmTNHu3fvVnJycqv3Wbp0aYuhtXv37tqx\n",
              "Y4cOHDigAwcOaPr06Xr44YfbsVoAXd3dd9+tDz/8UGfPntX777+v8+fP69Zbb1WPHj18ttu8ebMa\n",
              "Ghr03e9+12d9VlaWjh49qjNnznjX7d+/Xz169FBGRkanHAMAtLegDaKTJ09WQkLCFev37dunr371\n",
              "qxo7dqyys7P12muved+77bbbFB8ff8U+YWFh6t27t6SmuVw1NTWy2WwdVzyAkONyuVRfX+9tp+Rw\n",
              "OFRfXy+32y232629e/fK6XTq4sWLevnll/WrX/1KP/3pT6/4nJ///Oe67777vL+TPCZNmqThw4fr\n",
              "kUceUW1trcrLy/XjH/9YDzzwADcqAQha4VYX0J7Onz+vJUuW6He/+50GDRqk06dPKycnR+PHj9dN\n",
              "N9103f1vu+02ffzxx+rfv7/efvvtTqgYQKj49a9/rQULFni/7tWrlySpoKBAEyZM0EMPPaSDBw/K\n",
              "7XZr7Nix+u1vf6sJEyb4fMYHH3ygffv2acOGDVd8flhYmP73f/9Xy5Yt06BBgxQZGal58+bpP/7j\n",
              "Pzr2wACgAwV9+6aUlBS98cYbysrK0u9+9zvNmzdPQ4YM8b5/9uxZvfTSS/rqV7/qXWez2XTu3Lkr\n",
              "Jv5LTXeyPvHEE6qsrNTPf/7zzjgEAACALimkrogaYzRy5Ei99957N/wZYWFhWrx4sdLT0wmiAAAA\n",
              "HSho54i2ZPz48Tp69Kh27NjhXVdUVHTdR+CdPHnSe/epJG3ZskVjxozpsDoBAAAQxEPz+fn5+u1v\n",
              "f6uTJ0+qX79+6t27t0pKSvThhx/qBz/4gc6cOaPGxkYlJSXpjTfeUFRUlL75zW/qwIEDOnHihAYP\n",
              "Hqz09HTt3LlTe/fuVX5+vlwul4wxGjp0qJ599lmfIX4AAAC0r6ANogAAAAhuITU0DwAAgOBBEAUA\n",
              "AIAlCKIAAACwRNAF0eeff97qEgAAANAOgi6IHjt2zOoSAAAA0A6CLogCAAAgNBBEAQAAYAmCKAAA\n",
              "ACxBEAUAAIAlCKIAAACwBEEUAAAAliCIAgAAwBIEUQAAAFiCIAoAAABLEEQBAABgCYIoAABACDPG\n",
              "WF3CVRFEAQAAQtgTv/277nnxL3r38OdWl3IFgigAAECIMsboj5+e0l+PnFV9o8vqcq5AEAUAAAhR\n",
              "R0/XqfzsRUXYbZqQFmd1OVcgiAIAAISonYeahuPzhsSqZ2S4xdVciSAKAAAQogoOVUmSpg2Lt7iS\n",
              "lhFEAQAAQtDFBqfeP3pWkjR1WH+Lq2kZQRQAACAE/aX0jBqcbiX07a6h/XtZXU6LCKIAAAAh6PJh\n",
              "eZvNZnE1LSOIAgAAhBhjjPdGpUAdlpcIogAAACGn9PMLqjh3Sd3Cw3Tr0H5Wl3NVBFEAAIAQU3Cw\n",
              "6WrouNR+6tEt8No2eRBEAQAAQszOw03zQ6dmBO6wvEQQBQAACCkXHE7tbW7bNG14YPYP9SCIAgAA\n",
              "hJD3Sk6r0WWU3K+HhsT1tLqcayKIAgAAhJCC5rvlA/VpSpcjiAIAAISIprZNzfNDA7htkwdBFAAA\n",
              "IEQcPnVBldX1igwP07jUwG3b5EEQBQAACBGepymNH9pPURF2i6u5PoIoAABAiPAMywf63fIeBFEA\n",
              "AIAQUFPfqP1l5yRJUzNCMIguX75cKSkpstlsKioqanGbjRs3Kisry7vExcVp1qxZkqSysjLZ7Xaf\n",
              "90tLS9t8EAAAAF3dnuLTcrqNUvv3VFK/HlaX0yp+PfNpzpw5evTRRzVx4sSrbrNgwQItWLDA+/Wo\n",
              "UaP0ne98x/t17969rxpiAQAAcGN2NrdtCparoZKfQXTy5Ml+ffj777+vqqoqzZw506/9AAAA0HrG\n",
              "GO+NStOGB37bJg+/gqi/NmzYoPvvv18RERHedXV1dcrNzZXL5dK3v/1trVq1SnZ7y3d1ORwOORwO\n",
              "n3Uul6sjSwYAAAg6n1bWqKrWoe4RduUNibW6nFbrsJuV6urqtHnzZj3wwAPedYMGDdKJEye0b98+\n",
              "7dixQ4WFhXrmmWeu+hlr165VTEyMz7J3796OKhkAACAoeYblJ6T1U2R44Ldt8uiwIPraa69p5MiR\n",
              "GjFihHddZGSk4uOb5i3ExsZq4cKFKiwsvOpnrFy5UtXV1T5LXl5eR5UMAAAQlL54mlLwzA+VOnBo\n",
              "fsOGDT5XQyWpqqpKffv2VUREhBwOh7Zt26bs7OyrfkZkZKQiIyN91l1tGB8AAKArqr7YqA/Lz0sK\n",
              "jsd6Xs6vK6L5+flKSEhQRUWFpk+frrS0NEnSokWLtH37du92hw4dUlFRkebOneuz/+7du5Wdna3M\n",
              "zEzl5ORo4MCBWrVqVTscBgAAQNdUWPK5XG6j9PheSugbHG2bPPy6Irp+/foW1//yl7/0+XrYsGGq\n",
              "ra29YrtZs2Z5e4oCAACg7QoONs0PDZanKV2OJysBAAAEKbfbaNdhT//Q4BqWlwiiAAAAQeuTz2p0\n",
              "+oJDPbvZNTYleNo2eRBEAQAAgpSnif3E9Dh1Cw++WBd8FQMAAEBS8LZt8iCIAgAABKFzdQ36v+Pn\n",
              "JQVf2yYPgigAAEAQerf4cxkjDR/YW4Niultdzg0hiAIAAAQhz2M9g3VYXiKIAgAABJ3L2zZNC9Jh\n",
              "eYkgCgAAEHQ+OlGts3UN6h0ZrpzkvlaXc8MIogAAAEGm4GDT3fKTMuIUYQ/eOBe8lQMAAHRRO71P\n",
              "Uwre+aESQRQAACConL7g0EcV5yVJU4J4fqhEEAUAAAgq7x5uats0cnC0BkRHWV1OmxBEAQAAgsgX\n",
              "bZuC+2qoRBAFAAAIGi6ftk3BPT9UIogCAAAEjaLj51R9qVEx3SOUldjH6nLajCAKAAAQJDzD8pPS\n",
              "4xQexG2bPIL/CAAAALqIgkNN/UNDYVheIogCAAAEharaev3tRI0kaXJG8N+oJBFEAQAAgsKu5mH5\n",
              "MQkx6t870uJq2gdBFAAAIAh80bYpNIblJYIoAABAwHO63Hq3OHT6h3oQRAEAAALch+XnVVvvVN8e\n",
              "EcpM6GN1Oe2GIAoAABDgdjbfLT85o7/sYTaLq2k/BFEAAIAAV3AodJ6mdDmCKAAAQAA7WV2vv1fW\n",
              "yGYLnbZNHgRRAACAALbrcNOwfGZCH8X27GZxNe2LIAoAABDACg6G5rC85GcQXb58uVJSUmSz2VRU\n",
              "VNTiNjt37lT37t2VlZXlXS5duuR9f8OGDUpPT9fQoUO1ePFiNTY2tukAAAAAQlWD063dJaclSdOG\n",
              "h9awvORnEJ0zZ452796t5OTka243bNgwFRUVeZfu3btLko4eParVq1ersLBQJSUlOnXqlF588cUb\n",
              "rx4AACCEfXDsnC44nIrr1U2jBsdYXU678yuITp48WQkJCTf8zbZu3aqZM2dq4MCBstlsWrp0qTZt\n",
              "2nTDnwcAABDKLm/bFBZCbZs8wjviQ0tLS5WTkyO73a4FCxZo2bJlkqTy8nKfq6kpKSkqLy+/6uc4\n",
              "HA45HA6fdS6XqyNKBgAACDih+FjPy7V7EM3JyVFFRYViYmJUUVGhb3zjG4qLi9Pdd9/t92etXbtW\n",
              "a9as8Vk3bty49ioVAAAgYJ04f0mHTtUqzCZNTo+zupwO0e53zUdHRysmpmkOQ0JCgubNm6fCwkJJ\n",
              "UlJSko4dO+bdtqysTElJSVf9rJUrV6q6utpnycvLa++SAQAAAo5nWD4nqa/69Aittk0e7R5EKysr\n",
              "5Xa7JUm1tbV66623lJ2dLUmaPXu2tm/frpMnT8oYoxdeeEH33HPPVT8rMjJS0dHRPovdbm/vkgEA\n",
              "AALOF8PyoXe3vIdfQTQ/P18JCQmqqKjQ9OnTlZaWJklatGiRtm/fLkl6/fXXNXr0aGVmZmrcuHG6\n",
              "/fbbtWDBAklSamqq1qxZowkTJigtLU39+/dXfn5+Ox8SAABAcHM4XdrT3LYpVOeHSpLNGGOsLsIf\n",
              "K1as0Lp166wuAwAAoMPsKTmt7/zyffXvHam9/+9rstlC7455iScrAQAABJyCg03zQ6dm9A/ZECoR\n",
              "RAEAAAJOQfONStOGh+6wvEQQBQAACCjHz15U6ed1sofZNCEtNNs2eRBEAQAAAoinbdPNyX0V0z3C\n",
              "4mo6FkEUAAAggBQ0t22aFsJ3y3sQRAEAAAJEfaNL75V62jaFbv9QD4IoAABAgHj/6FnVN7o1MDpK\n",
              "wwf2trqcDkcQBQAACBCe+aFTh4V22yYPgigAAECA+OKxnqE/P1QiiAIAAASEstN1Onq6ThF2myak\n",
              "9bO6nE5BEAUAAAgAnmH5scmx6h0V2m2bPAiiAAAAAcDbtml46N8t70EQBQAAsNilBpf+cuSMpK4z\n",
              "P1QiiAIAAFjur0fOqMHp1k19uis9vpfV5XQagigAAIDFCrpY2yYPgigAAICFjDFdrm2TB0EUAADA\n",
              "QkdO16n87EV1s4dp/NCu0bbJgyAKAABgoYKDTcPyt6TGqmdkuMXVdC6CKAAAgIV2HW4alp+S0XXa\n",
              "NnkQRAEAACxS53Dq/SNnJUnThnet+aESQRQAAMAyfyk9owaXW4mx3ZUa19PqcjodQRQAAMAinrZN\n",
              "04bFd6m2TR4EUQAAAAtc3rZpWhdr2+RBEAUAALBASdUFnTh/Sd3CwzQutWu1bfIgiAIAAFjAMyx/\n",
              "a2o/de9mt7gaaxBEAQAALFBw0PM0pa7XtsmDIAoAANDJausbtf9Yc9umLjo/VCKIAgAAdLo9JWfU\n",
              "6DIaEtdTKV2wbZOHX0F0+fLlSklJkc1mU1FRUYvbvPPOO8rLy9OIESM0cuRIPfroo3K73ZKksrIy\n",
              "2e12ZWVleZfS0tI2HwQAAEAw2XW4aX5oV3ya0uX8CqJz5szR7t27lZycfNVt+vbtq82bN+vTTz/V\n",
              "Bx98oPfee08vv/yy9/3evXurqKjIuwwdOvTGqwcAAAgyxhjv/NCu+DSly4X7s/HkyZOvu012drb3\n",
              "dVRUlLKyslRWVuZ3YZLkcDjkcDh81rlcrhv6LAAAgEBw8GStTtbUKyoiTLcMibW6HEt16BzRkydP\n",
              "auvWrbrzzju96+rq6pSbm6ucnBw9/vjj1wyWa9euVUxMjM+yd+/ejiwZAACgQ3ma2I8fGqeoiK7Z\n",
              "tsmjw4JoTU2NvvWtb+nRRx/V2LFjJUmDBg3SiRMntG/fPu3YsUOFhYV65plnrvoZK1euVHV1tc+S\n",
              "l5fXUSUDAAB0uC8e69m154dKHRREa2trNWPGDN11111asWKFd31kZKTi45vmQsTGxmrhwoUqLCy8\n",
              "6udERkYqOjraZ7Hbu/a/HAAAQPCqqW/UB8fOSZKmduG2TR7tHkQvXLigGTNmaMaMGfrRj37k815V\n",
              "VZUaGxslNc3/3LZtm8+cUgAAgFC2u/i0XG6jof17KjG2h9XlWM6vIJqfn6+EhARVVFRo+vTpSktL\n",
              "kyQtWrRI27dvlyQ9//zz2rt3r7Zt2+Zt0fTEE09Iknbv3q3s7GxlZmYqJydHAwcO1KpVq9r5kAAA\n",
              "AAJTwUHPsDxXQyXJZowxVhfhjxUrVmjdunVWlwEAAOAXY4zynvyzPq916JUHbtHE9DirS7IcT1YC\n",
              "AADoBJ98VqPPax3q0c2u3CF9rS4nIBBEAQAAOsHO5rvlxw+NU2Q4N19LBFEAAIBO4ekfOm04bZs8\n",
              "CKIAAAAd7PzFBn1YTtumLyOIAgAAdLDC4tNyGyljQC/d1Ke71eUEDIIoAABAB/viaUpcDb0cQRQA\n",
              "AKADud1Gu5rnhzIs74sgCgAA0IH+9lm1ztQ1qFdkuMam0LbpcgRRAACADlRwsOlq6MS0OEXYiV6X\n",
              "42wAAAB0IM/80KnDaNv0ZQRRAACADnK2rkEHKs5LYn5oSwiiAAAAHeTdw5/LGOkrg6I1MCbK6nIC\n",
              "DkEUAACgg+xkWP6aCKIAAAAdwOU22nW4+bGeDMu3iCAKAADQAQ5UnNe5i43qHRWunKQ+VpcTkAii\n",
              "AAAAHWBncxP7yen9FU7bphZxVgAAADoA80OvjyAKAADQzj6vdeijimpJ0hSC6FURRAEAANrZu803\n",
              "KY26KVrxvWnbdDUEUQAAgHbmeZoSd8tfG0EUAACgHTldbhUWn5bE/NDrIYgCAAC0o6Lj51V9qVF9\n",
              "ekQoK7Gv1eUENIIoAABAO/IMy09K7y97mM3iagIbQRQAAKAdefqHTmNY/roIogAAAO2kqqZen3xW\n",
              "I5tNmpxBEL0egigAAEA72dnctmnMTTGK6xVpcTWBjyAKAADQTr54mhJtm1rDryC6fPlypaSkyGaz\n",
              "qaio6KrbbdiwQenp6Ro6dKgWL16sxsbGVr0HAAAQrBpdbhUepm2TP/wKonPmzNHu3buVnJx81W2O\n",
              "Hj2q1atXq7CwUCUlJTp16pRefPHF674HAAAQzD48dk61Dqdie3bTmIQ+VpcTFPwKopMnT1ZCQsI1\n",
              "t9m6datmzpypgQMHymazaenSpdq0adN13wMAAAhmBc13y0/JoG1Ta4W39weWl5f7XDFNSUlReXn5\n",
              "dd9ricPhkMPh8FnncrnauWIAAIC2+2J+KMPyrRXQNyutXbtWMTExPsvevXutLgsAAMBHZfUlHTxZ\n",
              "29S2KZ0g2lrtHkSTkpJ07Ngx79dlZWVKSkq67nstWblypaqrq32WvLy89i4ZAACgTTxN7LMT+6hv\n",
              "z24WVxM82j2Izp49W9u3b9fJkydljNELL7yge+6557rvtSQyMlLR0dE+i91ub++SAQAA2oS2TTfG\n",
              "ryCan5+vhIQEVVRUaPr06UpLS5MkLVq0SNu3b5ckpaamas2aNZowYYLS0tLUv39/5efnX/c9AACA\n",
              "YNTgdGt3cVPbpmkEUb/YjDHG6iL8sWLFCq1bt87qMgAAACRJ75Wc1r2/fF9xvbpp7/+7TWHcMd9q\n",
              "AX2zEgAAQKDzPNZzSkY8IdRPBFEAAIA2KDjYND902nDulvcXQRQAAOAGVZy7qOKqCwqzSZPSCKL+\n",
              "IogCAADcIE/bppuT+yqmR4TF1QQfgigAAMANom1T2xBEAQAAboDD6dKekjOSeKznjSKIAgAA3IC9\n",
              "R8/qUqNL8b0jNWJQtNXlBCWCKAAAwA0oONg0P3TqsP6y2WjbdCMIogAAADdg5+Hmtk3MD71hBFEA\n",
              "AAA/lZ+5qCOf1yk8zKYJ6XFWlxO0CKIAAAB+8lwNvTm5r6KjaNt0owiiAAAAfvriaUoMy7cFQRQA\n",
              "AMAP9Y0uvVdK26b2QBAFAADww1+PnJHD6dagmCgNG9Db6nKCGkEUAADAD57Hek4dFk/bpjYiiAIA\n",
              "APjhi8d6MizfVgRRAACAVjp6uk5lZy4qwm7ThDTaNrUVQRQAAKCVPHfL56bEqldkuMXVBD+CKAAA\n",
              "QCvtPNw0P5SnKbUPgigAAEArXGxw6q9Hmto2TRvO/ND2QBAFAABohb+UnlGD062b+nTX0P69rC4n\n",
              "JBBEAQAAWsHTtmna8P60bWonBFEAAIDrMMaooLltE/ND2w9BFAAA4DpKP69TxblL6mYP061D+1ld\n",
              "TsggiAIAAFyHp4n9Lamx6tGNtk3thSAKAABwHQXepykxLN+eCKIAAADXUOdwau/Rs5KkaTzWs10R\n",
              "RAEAAK5hT8lpNbqMkvv10JC4nlaXE1L8DqLFxcUaP368MjIylJubq08++eSKbTZu3KisrCzvEhcX\n",
              "p1mzZkmSysrKZLfbfd4vLS1t+5EAAAB0AM/TlKZm0Lapvfk92zY/P19LlizR/PnztXXrVs2fP1/7\n",
              "9u3z2WbBggVasGCB9+tRo0bpO9/5jvfr3r17q6io6MarBgAA6ATGGO1sfr781OHMD21vfl0Rraqq\n",
              "0v79+3XfffdJkmbPnq3jx4+rpKTkqvu8//77qqqq0syZM9tWKQAAQCc7fOqCPquuV2R4mG5NpW1T\n",
              "e/MriB4/flyDBg1SeHjThVSbzaakpCSVl5dfdZ8NGzbo/vvvV0REhHddXV2dcnNzlZOTo8cff1wu\n",
              "l6vFfR0Oh2pqanyWq20LAADQ3jxtm24d2k9REXaLqwk9HXqzUl1dnTZv3qwHHnjAu27QoEE6ceKE\n",
              "9u3bpx07dqiwsFDPPPNMi/uvXbtWMTExPsvevXs7smQAAAAvnqbUsfwKoomJiaqsrJTT6ZTUNG+i\n",
              "vLxcSUlJLW7/2muvaeTIkRoxYoR3XWRkpOLjm/4wY2NjtXDhQhUWFra4/8qVK1VdXe2z5OXl+VMy\n",
              "AADADamtb9T+snOSpKm0beoQfgXR+Ph45eTk6JVXXpEkvf7660pISFBaWlqL22/YsMHnaqjUNM+0\n",
              "sbFRUtPQ+7Zt25Sdnd3i/pGRkYqOjvZZ7HYuiwMAgI63p+S0nG6j1LieSu5H26aO4PfQ/Pr167V+\n",
              "/XplZGToqaee0saNGyVJixYt0vbt273bHTp0SEVFRZo7d67P/rt371Z2drYyMzOVk5OjgQMHatWq\n",
              "VW08DAAAgPZVcLC5bRPD8h3GZowxVhfhjxUrVmjdunVWlwEAAEKYMUbj1v5Zp2ocenlhniZnMDTf\n",
              "EXiyEgAAwJf8vbJWp2oc6h5hV96QWKvLCVkEUQAAgC/x3C0/nrZNHYogCgAA8CW7DjXPD+VpSh2K\n",
              "IAoAAHCZ6ouN+qC8uW0Tc0M7FEEUAADgMoUln8vlNkqL76XE2B5WlxPSCKIAAACX2dk8LD+NJvYd\n",
              "jiAKAADQzO023iBK/9CORxAFAABo9mlljU5fcKhnN7vGpvS1upyQRxAFAABoVnCwqW3ThLQ4RYbT\n",
              "tqmjEUQBAACaefqHMizfOQiiAAAAks7VNajo+HlJ0lRuVOoUBFEAAABJ7xZ/LreRhg/srcF9ultd\n",
              "TpdAEAUAANAXT1OawtXQTkMQBQAAXZ7bbbTzsKd/KPNDOwtBFAAAdHkfnajW2boG9Y4M183JtG3q\n",
              "LARRAADQ5e1svlt+YnqcIuzEo87CmQYAAF1ewSGG5a1AEAUAAF3amQsOfVRxXhI3KnU2gigAAOjS\n",
              "3i3+XMZIIwZFa0B0lNXldCkEUQAA0KUVHGwalqeJfecjiAIAgC7L5TZ6t7h5fuhw5od2NoIoAADo\n",
              "soqOn9f5i42KjgpXdmIfq8vpcgiiAACgy/K0bZqU0V/htG3qdJxxAADQZe2kbZOlCKIAAKBLqqqt\n",
              "18cnqiVJUzK4UckKBFEAANAlvXv4tCRp9E0x6t870uJquiaCKAAA6JIKmueHTqNtk2UIogAAoMtx\n",
              "utwqPNw0P3QK80Mt43cQLS4u1vjx45WRkaHc3Fx98sknV2yzc+dOde/eXVlZWd7l0qVL3vc3bNig\n",
              "9PR0DR06VIsXL1ZjY2PbjgIAAMAP/3f8vGrqnerTI0JZtG2yjN9BND8/X0uWLNHhw4f12GOPaf78\n",
              "+S1uN2zYMBUVFXmX7t27S5KOHj2q1atXq7CwUCUlJTp16pRefPHFNh0EAACAPwoONg3LT8noL3uY\n",
              "zeJqui6/gmhVVZX279+v++67T5I0e/ZsHT9+XCUlJa3+jK1bt2rmzJkaOHCgbDabli5dqk2bNvlX\n",
              "NQAAQBsUHOKxnoHAryB6/PhxDRo0SOHh4ZIkm82mpKQklZeXX7FtaWmpcnJylJubq5///Ofe9eXl\n",
              "5UpOTvZ+nZKS0uL+kuRwOFRTU+OzuFwuf0oGAADwcbK6Xn+vrJHNJk1OJ4haKbwjPjQnJ0cVFRWK\n",
              "iYlRRUWFvvGNbyguLk533323X5+zdu1arVmzxmfduHHj2rNUAADQxew63DQsPyahj/r1om2Tlfy6\n",
              "IpqYmKjKyko5nU5JkjFG5eXlSkpK8tkuOjpaMTExkqSEhATNmzdPhYWFkqSkpCQdO3bMu21ZWdkV\n",
              "+3usXLlS1dXVPkteXp4/JQMAAPj44mlKXA21ml9BND4+Xjk5OXrllVckSa+//roSEhKUlpbms11l\n",
              "ZaXcbrckqba2Vm+99Zays7MlNc0r3b59u06ePCljjF544QXdc889LX6/yMhIRUdH+yx2u93vgwQA\n",
              "AJCkRpdbhcVNjex5rKf1/L5rfv369Vq/fr0yMjL01FNPaePGjZKkRYsWafv27ZKaAuro0aOVmZmp\n",
              "cePG6fbbb9eCBQskSampqVqzZo0mTJigtLQ09e/fX/n5+e14SAAAAC3bX3ZOFxxO9evZTaNvirG6\n",
              "nC7PZowxVhfhjxUrVmjdunVWlwEAAILQ2t//Xet3HdGs7Ju0bm6W1eV0eTxZCQAAdBk7Dza3bRrO\n",
              "sHwgIIgCAIAu4bPzl3ToVK3CbNLk9Diry4EIogAAoIvw3C2fndRXfXp0s7gaSARRAADQRRQcauof\n",
              "OjWDtk2BgiAKAABCnsPp0nslzW2bmB8aMAiiAAAg5O0vO6e6Bpf6947UiEHRVpeDZgRRAAAQ8goO\n",
              "Ng3LT8nor7Awm8XVwIMgCgAAQt7Ow57HejIsH0gIogAAIKQdP3tRJVUXZA+zaSJtmwIKQRQAAIQ0\n",
              "z9XQm5P6KqZ7hMXV4HIEUQAAENJ2Ns8PnTqctk2BhiAKAABCVn2jS3tKm9o2Tc1gfmigIYgCAICQ\n",
              "tffoWdU3ujUgOlJfGdTb6nLwJQRRAAAQsjxPU5o2LF42G22bAg1BFAAAhCzP8+WnDmN+aCAiiAIA\n",
              "gJBUdrpOR0/XKTzMpglptG0KRARRAAAQknY2D8uPTemr3lG0bQpEBFEAABCSeJpS4COIAgCAkHOp\n",
              "waW/lJ6RJE0bThANVARRAAAQcv565IwcTrcGx0QpPb6X1eXgKgiiAAAg5Hjmh04dTtumQEYQBQAA\n",
              "IcUYowJP26YM2jYFMoIoAAAIKUdP16n87EVF2GnbFOgIogAAIKR4robeMqSfekaGW1wNroUgCgAA\n",
              "Qop3fihPUwp4BFEAABAyLjY49f6Rs5KkqfQPDXgEUQAAEDLeKzmjBpdbibHdNbR/T6vLwXUQRAEA\n",
              "QMgo8AzLZ9C2KRj4HUSLi4s1fvx4ZWRkKDc3V5988skV27zzzjvKy8vTiBEjNHLkSD366KNyu92S\n",
              "pLKyMtntdmVlZXmX0tLSth8JAADo0owx2tl8o9K04cwPDQZ+B9H8/HwtWbJEhw8f1mOPPab58+df\n",
              "sU3fvn21efNmffrpp/rggw/03nvv6eWXX/a+37t3bxUVFXmXoUOHtukgAAAASqou6MT5S+oWHqZb\n",
              "U2nbFAz8CqJVVVXav3+/7rvvPknS7Nmzdfz4cZWUlPhsl52drdTUVElSVFSUsrKyVFZW1j4VAwAA\n",
              "tMBzNXRcaj9172a3uBq0hl9B9Pjx4xo0aJDCw5t6ctlsNiUlJam8vPyq+5w8eVJbt27VnXfe6V1X\n",
              "V1en3Nxc5eTk6PHHH5fL5WpxX4fDoZqaGp/latsCAICuzTM/dBptm4JGh96sVFNTo29961t69NFH\n",
              "NXbsWEnSoEGDdOLECe3bt087duxQYWGhnnnmmRb3X7t2rWJiYnyWvXv3dmTJAAAgCF1wOLWvjLZN\n",
              "wcavIJqYmKjKyko5nU5JTZOCy8vLlZSUdMW2tbW1mjFjhu666y6tWLHCuz4yMlLx8U0/ILGxsVq4\n",
              "cKEKCwtb/H4rV65UdXW1z5KXl+dPyQAAoAvYU3JajS6jlH49NCSOtk3Bwq8gGh8fr5ycHL3yyiuS\n",
              "pNdff10JCQlKS0vz2e7ChQuaMWOGZsyYoR/96Ec+71VVVamxsVFS09D7tm3blJ2d3eL3i4yMVHR0\n",
              "tM9itzPnAwAA+PriaUpcDQ0mfg/Nr1+/XuvXr1dGRoaeeuopbdy4UZK0aNEibd++XZL0/PPPa+/e\n",
              "vdq2bZu3RdMTTzwhSdq9e7eys7OVmZmpnJwcDRw4UKtWrWrHQwIAAF3J5W2beKxncLEZY4zVRfhj\n",
              "xYoVWrdundVlAACAAHHwZI1mPFeoqIgwFf3464qKYPQ0WPBkJQAAENQKDjZdDb01tR8hNMgQRAEA\n",
              "QFDzzA+dNpz5ocGGIAoAAIJWTX2j9h87J6np+fIILgRRAAAQtHYXn5bLbZTav6eS+vWwuhz4iSAK\n",
              "AACClndYnrZNQYkgCgAAghJtm4IfQRQAAASlTytrVFXrUPcIu/KGxFpdDm4AQRQAAAQlz9XQCWlx\n",
              "igynbVMwIogCAICgVHDQ81hPhuWDFUEUAAAEneqLjfqwvLltE0E0aBFEAQBA0Hm3+HO5jZQe30sJ\n",
              "fWnbFKwIogAAIOgU8DSlkEAQBQAAQcXtNnr3MG2bQgFBFAAABJW/fVat0xca1LObXWOTadsUzAii\n",
              "AAAgqHjaNk1Mj1O3cKJMMONPDwAABJUCHusZMgiiAAAgaJyta1DR8fOSpCnMDw16BFEAABA0Cos/\n",
              "lzHS8IG9NSimu9XloI0IogAAIGh88TQlhuVDAUEUAAAEBZfb6N3i05KkaQzLhwSCKAAACAofVZzX\n",
              "2boG9Y4KV05yX6vLQTsgiAIAgKBQ0Ny2aVJ6nCLsRJhQwJ8iAAAICrsOMT801BBEAQBAwPu81qED\n",
              "FdWSpKkZzA8NFQRRAAAQ8DzPlh85OFrx0VEWV4P2QhAFAAABb2dzEOVpSqGFIAoAAAKa0+X2XhGd\n",
              "StumkOJ3EC0uLtb48eOVkZGh3NxcffLJJy1ut2HDBqWnp2vo0KFavHixGhsbW/UeAADA5Q5UnFf1\n",
              "pUbFdI9QVmIfq8tBOwr3d4f8/HwtWbJE8+fP19atWzV//nzt27fPZ5ujR49q9erV+vDDDzVgwADd\n",
              "ddddevHFF/Xggw9e8z0g2Bhj1OgycrrdanQaNbjc3teNbrcaXW45XU3rG51uOd3N27iMGl3u5sU0\n",
              "b+dWg8vI+eX1bqMwm03d7DaF28MUYQ9ThN3W/N9rvw63h6mbPUwR4TaFh135Oty7vU02m83q0wkA\n",
              "LSo42HQ1dHJGf4XTtimk+BVEq6qqtH//fv3xj3+UJM2ePVsPPfSQSkpKlJaW5t1u69atmjlzpgYO\n",
              "HChJWrp0qZ588kk9+OCD13wPXZcxRk53czhrIcR5gltLIc7ZvL7xKiGuwen2ee0bFE1zQPQNgZe/\n",
              "vlYNTrex+tS1m/Aw25VhNtymiLAvXn85zEbYw9TtKq+/vG/Ta5siwsOaXoc3fZ/wsKb9rvm6ua5u\n",
              "l72OCAtTWBjhGegKCjxtm7hbPuT4FUSPHz+uQYMGKTy8aTebzaakpCSVl5f7BNHy8nIlJyd7v05J\n",
              "SVF5efl13/syh8Mhh8Phs87lcvlTcpv8+e+n9Iudpdfdzp8oYkzrtm7tZ7by41pfYzvXJzU9ks0b\n",
              "HptDoNPtbg6IzVcTXaET6CLsnjBmU7fwpkB1eSjzXIX88hXJKwOXJ5DZ5Da64grqtV57r8JeHqCb\n",
              "r8h6tv0yp9vI6XbpUhDNlLGH2a57dTi8+RwSWYHgZCR98lmNJGkK80NDjt9D851p7dq1WrNmjc+6\n",
              "cePGddr3P33Bof3HznXa94OviMuCWHsEOu9wdViYuoV/8brpCp3N+5ndrnYFzh7ms01ES983LDiG\n",
              "uK92BbrF183/YPC89uzX0NLr5qvPja143dLVas/rRmfzVenLvn+Dy33FcbjcRi63UX3jle8BCC15\n",
              "Q2IV1yvS6jLQzvwKoomJiaqsrJTT6VR4eLiMMSovL1dSUpLPdklJSSot/eJKYllZmXeba733ZStX\n",
              "rtSKFSt81q1evdqfkttk/NA4vXDfza3a1p/s0dpNWxtoWv957bxdK7+zzaaQDXTBymb74kqiulld\n",
              "TesY0xQ6Lw/F17o6fPmUDZeboAoEM5vNpryUWKvLQAfwK4jGx8crJydHr7zyiubPn6/XX39dCQkJ\n",
              "PsPyUtPc0YkTJ+pf//VfNWDAAL3wwgu65557rvvel0VGRioy0vdfP3a73Z+S2yQxtocSY3t02vcD\n",
              "cHU2m03hdpvC7VJ3dd7vAQBAx/H71rP169dr/fr1ysjI0FNPPaWNGzdKkhYtWqTt27dLklJTU7Vm\n",
              "zRpNmDBBaWlp6t+/v/Lz86/7HgAAALoOm2nt3TMBYsWKFVq3bp3VZQAAAKCNaMYFAAAASxBEAQAA\n",
              "YAmCKAAAACxBEAUAAIAlCKIAAACwBEEUAAAAliCIAgAAwBIEUQAAAFiCIAoAAABLBN2TlWbNmqWU\n",
              "lJRO+34ul0t79+5VXl5epz7nPlRw/tqOc9g2nL+24xy2Deev7TiHbWPF+UtOTtbDDz983e2CLoh2\n",
              "tpqaGsXExKi6ulrR0dFWlxN0OH9txzlsG85f23EO24bz13acw7YJ5PPH0DwAAAAsQRAFAACAJQii\n",
              "AAAAsARB9DoiIyP1L//yL4qMjLS6lKDE+Ws7zmHbcP7ajnPYNpy/tuMctk0gnz9uVgIAAIAluCIK\n",
              "AAAASxBEAQAAYAmCKAAAACxBEO0Azz33nE6ePGl1GQhyZWVleuGFF665zdixY7Vz587OKSjIffbZ\n",
              "Z5o0aZLVZQSM+vp6ffvb31ZGRoYyMzN1++23q6SkRJI0depUDRkyRFlZWcrKytKzzz7r3S8/P1+j\n",
              "R4/WV7/6VVVXV0uSjDG64447VFpaasmxWCklJUXDhg3znqstW7ZIkoqLizV+/HhlZGQoNzdXn3zy\n",
              "iSSpsbFR3/72t5WZmalZs2bJ6XRKavrzmDx5ss6dO2fZsXS2M2fOeM9bVlaWMjIyFB4errNnz/Iz\n",
              "2IUQRDsAQRTtoTVBFK03ePBgFRYWWl1GQFmyZIkOHTqkAwcO6K677tKiRYu87z377LMqKipSUVGR\n",
              "/umf/kmS9Le//U3FxcX6+OOPNXXqVP3617+WJP3yl7/UtGnTNHToUEuOw2pbtmzxnqu5c+dKagpL\n",
              "S5Ys0eHDh/XYY49p/vz5kqS3335bsbGxOnDggPr06aM//OEPkqSf/OQneuihh9S3b1+rDqPT9evX\n",
              "z3veioqKtGTJEt1xxx2KjY2VxM9gV9Glguhf/vIXTZw4UZmZmRozZozefPNN7d+/X+PHj9eYMWOU\n",
              "l5enPXv2SGoKAX369PHue+HCBdlsNu/XNptNTz75pPLy8jRkyBBt3LhRkvT444/rs88+09y5c5WV\n",
              "laWioqLOPMQOY7PZ9MQTT+iWW25RSkqK3njjDa1du1Zjx45Venq6z1W5t99+WxMnTtTNN9+svLw8\n",
              "FRQUSJJOnjypadOm6eabb9bIkSP10EMPye12S5Jeeukl3XbbbZo3b55Gjx6tsWPH6siRI1YcqiUu\n",
              "XbqkuXPnasSIEcrMzNTXv/51LV26VIcOHVJWVpZmzpwpSXrvvfeUlZWlUaNGacGCBd6rKV1Za382\n",
              "v/x3+mp/h7uKqKgofeMb3/D+Xhs3bpzKysquuU9ERIQcDofcbrfq6urUrVs3VVZWatOmTVqxYkUn\n",
              "VB0cqqqqtH//ft13332SpNmzZ+v48eMqKSlRRESELl68KEm6ePGiunXrpo8++kgHDx7U3XffbWXZ\n",
              "ltuwYYMeeOCBa27Dz6Cv1v7+czqdmj59usaOHauRI0fq3nvvVV1dnSTpv//7vzV27Fg5HA4ZY/St\n",
              "b31LTzzxROcdhOkizpw5Y+Lj4827775rjDHG5XKZU6dOmcTERPOHP/zBGGNMYWGhGTBggKmtrTVH\n",
              "jx41MTEx3v1ra2vN5adLknn66aeNMcb8/e9/N7169TKNjY3GGGOSk5PN//3f/3XOgXUSSea5554z\n",
              "xhizY8cO07NnT7Nx40ZjjDG/+c1vzNixY40xxpSWlppx48aZ6upqY4wxxcXFZuDAgaa+vt5cunTJ\n",
              "1NbWGmOMcTqd5pvf/KbZtGmTMcaYjRs3mujoaHPkyBFjjDGPPfaYWbJkSWceoqW2bdtmvv71r3u/\n",
              "PnPmjCkoKDCZmZnedQ6HwyQkJJg//elPxhhj3n77bSPJFBQUdHK1gaW1P5tf/jt9rb/DXdF9991n\n",
              "li9fbowxZsqUKWbYsGFm1KhR5u677zalpaXe7VatWmUyMzPNnDlzTF1dnZk7d67Zv3+/VWVbLjk5\n",
              "2YwePdqMGjXKLFy40FRVVZn9+/ebjIwMn+1yc3PNn//8Z+NyucyiRYvMmDFjzJIlS0xjY6P52te+\n",
              "Zo4fP27REQSGPXv2mAEDBnj/DvIz2Dqt/f3ndrvN6dOnva+XLl1q1q5d6/2cJUuWmAcffND8+7//\n",
              "u5kxY4Zxu92ddwyd9p0s9tZbb5lJkyb5rPvoo49McnKyz7oxY8aYwsLCVgXRyspK79d9+vTx/iIJ\n",
              "1SDqOd7z588bSebSpUvGGGPKysq85+q//uu/TFxcnMnMzPQugwcPNocPHzZ1dXVm2bJlZsyYMWb0\n",
              "6NFmwIAB5rHHHjPGNAXR6dOne7/fG2+8Yb72ta917kFaqLS01CQmJprvfe97ZvPmzaampuaKIHrg\n",
              "wAGTkpLis19qaipBtJU/my0F0av9He5qnnjiCTNu3DhTV1dnjDGmvLzcGNP0P6yf/exn5itf+UqL\n",
              "+73xxhvmBz/4gTl9+rSZP3++mTVrltm8eXOn1R0Ijh07ZowxpqGhwTz66KPmjjvuuGYQ/bJnn33W\n",
              "/OxnPzNHjx418+bNM7NmzWpxu1C3cOFC88Mf/tD7NT+DrdPa338ul8usWrXKZGVlmVGjRpnExEQz\n",
              "d+5c7+dcunTJjBkzxiQmJprPP/+8U4+hSw3Nt4ZnmCo8PFwul8u7vr6+/opto6KivK/tdnvID5N6\n",
              "jtdut1/xtefYjTG6/fbbfeb9nDhxQunp6Vq3bp2qqqr0/vvv66OPPtK9997rc1672vm8XGpqqj79\n",
              "9FPNmDFDe/bs0ahRo1p108Ll00W6stb8bF5rv9ZsG6qefvppbdu2Tb///e/Vo0cPSVJiYqKkpp+v\n",
              "hx56SEeOHNGZM2d89qupqdHTTz+tNWvW6LnnntOUKVO0ZcsWPf7447p06VKnH4dVkpKSJDUNGX//\n",
              "+99XYWGhEhMTVVlZ6fN7sby83Lutx7Fjx/S73/1Oy5Yt0+rVq7VkyRK99NJL+sd//MdOPw4rXbhw\n",
              "Qb/5zW+0cOFC7zp+BluvNb//Xn31Vb3zzjvatWuXPv74Y/3gBz/w+f9vVVWVzp07J7fbrfPnz3dq\n",
              "/V0miI4fP17FxcXemxXcbrcGDBggt9utP/3pT5Ka5t+dPHlSWVlZGjhwoIwx+vTTTyVJL7/8cqu/\n",
              "V3R0tPdOvq5m+vTp2rFjhz766CPvur1790qSzp07p4EDByoqKkonT57Ua6+9ZlWZAaeiokI2m00z\n",
              "Z87U008/LWOM+vXr5/NzNHz4cDmdTu+c2x07dnCHKNpk3bp12rRpk/70pz955886nU6dOnXKu83r\n",
              "r7+uAQMGqF+/fj77/vM//7N+/OMfq0ePHqqrq5PNZpPNZlNjY6MaGho68zAsU1dX5/M/7U2bNik7\n",
              "O1vx8fHKycnRK6+8IqnpHCYkJCgtLc1n/4cffljPPvuswsLCvOfQ87or2bJlizIzMzV8+HBJ/Ax2\n",
              "hHPnzikuLk7R0dGqra3VSy+95H3P6XTqnnvu0U9+8hOtW7dOd999txwOR6fVFt5p38liffv21f/8\n",
              "z//okUceUW1trcLCwvSTn/xE27Zt0/Lly/XII48oKipKW7duVa9evSRJP/vZz3TnnXeqX79+mjNn\n",
              "Tqu/1/Lly7V48WL16NFDL730krKysjroqAJPWlqaXn31VeXn5+vixYtqaGhQdna2Xn31VT388MOa\n",
              "M2eORo4cqcGDB+u2226zutyA8fHHH2vlypUyxsjpdOr+++/X+PHjNXLkSI0aNUqpqanavn27tmzZ\n",
              "omXLlsnlcik3N1eZmZlWl44gVVFRoUceeUSpqamaNm2apKbnUb/zzjv65je/KYfDobCwMMXFxWn7\n",
              "9u0+++7Zs0eXLl3S7bffLkl68MEHNW/ePP30pz/V/fffr5iYmE4/HiucOnVKs2fPlsvlkjFGqamp\n",
              "3osW69ev1/z58/Xkk08qOjr6ipvhXn31VWVmZmrkyJGSmkLV4sWL1dDQoNWrV3f6sVhpw4YNWrx4\n",
              "sfdrh8PBz2A7++53v6s333xTw4YNU//+/TVp0iQdO3ZMUtPP3rBhw/QP//APkqRdu3bp+9//vn7x\n",
              "i190Sm08ax4AAACW6DJD8wAAAAgsBFEAAABYgiAKAAAASxBEAQAAYAmCKAAAACxBEAUAAIAlCKIA\n",
              "AACwBEEUAAAAliCIAgAAwBIEUQAAAFiCIAoAAABL/H9BCtsC6v96hAAAAABJRU5ErkJggg==\n",
              "\">\n",
              "      </div>\n",
              "      <script type=\"text/javascript\">\n",
              "        (() => {\n",
              "          const chartElement = document.getElementById(\"chart-ab96f66b-897f-4dba-9e44-3e9f21a0712d\");\n",
              "          async function getCodeForChartHandler(event) {\n",
              "            const chartCodeResponse =  await google.colab.kernel.invokeFunction(\n",
              "                'getCodeForChart', [\"chart-ab96f66b-897f-4dba-9e44-3e9f21a0712d\"], {});\n",
              "            const responseJson = chartCodeResponse.data['application/json'];\n",
              "            await google.colab.notebook.addCell(responseJson.code, 'code');\n",
              "          }\n",
              "          chartElement.onclick = getCodeForChartHandler;\n",
              "        })();\n",
              "      </script>\n",
              "      <style>\n",
              "        .colab-quickchart-chart-with-code  {\n",
              "            display: block;\n",
              "            float: left;\n",
              "            border: 1px solid transparent;\n",
              "        }\n",
              "\n",
              "        .colab-quickchart-chart-with-code:hover {\n",
              "            cursor: pointer;\n",
              "            border: 1px solid #aaa;\n",
              "        }\n",
              "      </style>"
            ]
          },
          "metadata": {}
        },
        {
          "output_type": "display_data",
          "data": {
            "text/plain": [
              "from matplotlib import pyplot as plt\n",
              "_df_9['1971'].plot(kind='line', figsize=(8, 4), title='1971')\n",
              "plt.gca().spines[['top', 'right']].set_visible(False)"
            ],
            "text/html": [
              "      <div class=\"colab-quickchart-chart-with-code\" id=\"chart-1f5286a5-768e-441f-9074-cd807f3cbfe5\">\n",
              "        <img style=\"width: 180px;\" src=\"data:image/png;base64,iVBORw0KGgoAAAANSUhEUgAAAqIAAAFuCAYAAABaw3qhAAAAOXRFWHRTb2Z0d2FyZQBNYXRwbG90\n",
              "bGliIHZlcnNpb24zLjcuMSwgaHR0cHM6Ly9tYXRwbG90bGliLm9yZy/bCgiHAAAACXBIWXMAAA9h\n",
              "AAAPYQGoP6dpAAA4u0lEQVR4nO3de3TU9Z3/8ddkEhJuCZcQLs3NEAIlSC5CSgGBWC1oK3qAFWyx\n",
              "BQRC1cUudnX5UbqLrmL3KNbTs1Y8pbiWFajI2hxba2VNNGhXQBu0WiCJhBAMRG5JCGSSmfn8/khm\n",
              "YCSBDLl8ZybPxzlzmvleZt7fr4G++H4+3/fXZowxAgAAALpZmNUFAAAAoGciiAIAAMASBFEAAABY\n",
              "giAKAAAASxBEAQAAYAmCKAAAACxBEAUAAIAlCKIAAACwBEEUAAAAliCIAgAAwBIEUQDoBNu2bdON\n",
              "N96o6Oho2Ww2OZ1On/Wvv/66brjhBkVHRysxMVHr16/3WX/rrbeqX79+3lffvn1ls9n0zDPPeLdZ\n",
              "unSp0tPTFR4eroULF3bLcQFAVwq3ugAACAUDBw7UfffdpwsXLujee+/1Wbd3717NmzdP27dv1+23\n",
              "3679+/fr1ltvVd++fbVy5UpJ0htvvOGzT35+vubNm6cFCxZ4l40fP17/8A//oI0bN3b9AQFAN7AZ\n",
              "Y4zVRQBAqCgsLFRubq6ampoUHt78b/1HHnlE+/fv15/+9Cfvdj/96U+1fft2lZSUtPo5s2bNUkxM\n",
              "jLZv337ZukWLFsnpdGrLli1dcxAA0E24IgoAXcwYo6/+m9/tdqu0tFR1dXXq37+/z7qysjL9+c9/\n",
              "VkFBQXeWCQDdjjmiANDFZs+erYKCAu3cuVNOp1P79u3Tb37zG0lSbW3tZdv/6le/0tixYzV9+vTu\n",
              "LhUAulXQBtGVK1cqOTlZNptNxcXF7dpn3rx5GjFihGw2m86ePetdXl9fr2984xvKyMhQRkaGZs2a\n",
              "pfLy8i6pG0DPM3XqVG3ZskX//u//rri4ON1///360Y9+pLCwMA0cONBn24aGBm3evFk/+tGPLKoW\n",
              "ALpP0AbRefPmaffu3UpKSmr3PitWrGg1tPbu3Vu7du3S/v37tX//fs2cOVMPPvhgJ1YLoKe76667\n",
              "9NFHH+n06dP64IMPdPbsWX3zm99Unz59fLbbtm2bGhsb9YMf/MCiSgGg+wRtEJ02bZri4+MvW753\n",
              "717ddNNNmjBhgrKysvTKK6941918882Ki4u7bJ+wsDDvHC1jjGpra2Wz2bqueAAhx+VyqaGhQY2N\n",
              "jZIkh8OhhoYGud1uud1u7dmzR06nU+fPn9dLL72k3/zmN/r5z39+2ec899xzWrhw4WXzRiWpsbFR\n",
              "DQ0NcrlccrvdamhokMPh6PJjA4CuElI3K509e1bLly/XH//4Rw0fPlwnT55Udna2Jk+erK997WtX\n",
              "3f/mm2/WJ598oiFDhujNN9/shooBhIrf/va3Wrx4sfd9v379JEkFBQWaMmWKHnjgAR04cEBut1sT\n",
              "JkzQH/7wB02ZMsXnMz788EPt3btXmzZtavU7vv3tb+udd97xvt+6dauSkpKYSgQgaAV9+6bk5GS9\n",
              "9tpryszM1B//+Efdfffduu6667zrT58+rRdffFE33XSTd5nNZtOZM2c0YMCAyz7P7Xbr8ccfV1VV\n",
              "lZ577rnuOAQAAIAeKaSuiBpjlJ6ervfff/+aPyMsLEzLli3TqFGjCKIAAABdKGjniLZm8uTJOnz4\n",
              "sHbt2uVdVlxc7J2z1Zbjx4/rzJkz3vfbt2/X+PHju6xOAAAABPHQfF5env7whz/o+PHjGjx4sPr3\n",
              "76/S0lJ99NFH+slPfqJTp06pqalJiYmJeu211xQVFaXvfOc72r9/v44dO6YRI0Zo1KhRKiws1J49\n",
              "e5SXlyeXyyVjjEaOHKlnnnnGZ4gfAAAAnStogygAAACCW0gNzQMAACB4EEQBAABgCYIoAAAALBF0\n",
              "QfTZZ5+1ugQAAAB0gqALokeOHLG6BAAAAHSCoAuiAAAACA0EUQAAAFiCIAoAAABLEEQBAABgCYIo\n",
              "AAAALEEQBQAAgCX8CqINDQ268847lZaWpoyMDN1yyy0qLS1tddvXX39dY8aM0ahRozRnzhzV1ta2\n",
              "ax0AAAB6Br+viC5fvlwHDx7U/v37dccdd2jp0qWXbXPu3Dnde++9eu2111RSUqIRI0boscceu+o6\n",
              "AAAA9Bx+BdGoqCjddtttstlskqRJkyapvLz8su3eeOMNZWVlacyYMZKk++67T1u3br3qOgAAAPQc\n",
              "4R3Z+dlnn9Udd9xx2fKKigolJSV53ycnJ6uqqkpOp/OK68LDfctxOBxyOBw+y1wuV0dKBgAAQIC4\n",
              "5puVnnjiCZWWlmr9+vWdWY+P9evXKyYmxue1Z8+eLvs+AACAUGOMsbqENl1TEH3qqae0c+dOvfHG\n",
              "G+rTp89l6xMTE32eCV9eXq7hw4crPDz8iuu+avXq1aqpqfF55eTkXEvJAAAAPdLjf/i7FrzwF717\n",
              "6EurS7mM30F0w4YN2rp1q9566y0NGDCg1W1mzZqljz76SAcOHJAkPffcc1qwYMFV131VZGSkoqOj\n",
              "fV52u93fkgEAAHokY4z+/NkJ/d/np9XQFHjTG/2aI1pZWamHHnpIKSkpys3NldQcFj/44AP97Gc/\n",
              "04gRI7RixQr1799fv/71r3XnnXfK6XRq3Lhx+q//+i9JuuI6AAAAdJ7DJ+tVcfq8Iuw2TUmNtbqc\n",
              "y9hMIE8caMWqVau0YcMGq8sAAAAIeL/ZfViPvv6ZpqQO1n8vnWR1OZfhyUoAAAAhquBgtSQpd3Sc\n",
              "xZW0jiAKAAAQgs43OvXB4dOSpBmjh1hcTesIogAAACHoL2Wn1Oh0K35gb40c0s/qclpFEAUAAAhB\n",
              "lw7Le56KGWgIogAAACHGGKPCg819QwN1WF4iiAIAAIScsi/PqfLMBfUKD9M3Rw62upw2EUQBAABC\n",
              "TMGB5quhk1IGq08vv9rGdyuCKAAAQIgpPNQ8P3RGWuAOy0sEUQAAgJByzuHUnpa2TbljArN/qAdB\n",
              "FAAAIIS8X3pSTS6jpMF9dF1sX6vLuSKCKAAAQAgpaLlbPlCfpnQpgigAAECIaG7b1DI/NIDbNnkQ\n",
              "RAEAAELEoRPnVFXToMjwME1KCdy2TR4EUQAAgBDheZrS5JGDFRVht7iaqyOIAgAAhAjPsHyg3y3v\n",
              "QRAFAAAIAbUNTdpXfkaSNCONIAoAAIBu8l7JSTndRilD+ipxcB+ry2kXgigAAEAIKGxp2xQsV0Ml\n",
              "gigAAEDQM8Z4b1TKHRP4bZs8CKIAAABB7rOqWlXXOdQ7wq6c6wZZXU67EUQBAACCnGdYfkrqYEWG\n",
              "B37bJg+CKAAAQJC7+DSl4JkfKhFEAQAAglrN+SZ9VHFWUnA81vNSBFEAAIAgVlT6pVxuo1Fx/RQ/\n",
              "MDjaNnkQRAEAAIJYwYHm+aHB8jSlSxFEAQAAgpTbbfTOIU//0OAalpcIogAAAEHr0y9qdfKcQ317\n",
              "2TUhOXjaNnn4FURXrlyp5ORk2Ww2FRcXt7rN5s2blZmZ6X3FxsZqzpw5kqTy8nLZ7Xaf9WVlZR0+\n",
              "CAAAgJ7I08R+6qhY9QoPvuuL4f5sPG/ePD388MOaOnVqm9ssXrxYixcv9r4fN26cvv/973vf9+/f\n",
              "v80QCwAAgPYL1rZNHn4F0WnTpvn14R988IGqq6s1e/Zsv/YDAADAlZ2pb9Rfj56VFHxtmzz8CqL+\n",
              "2rRpk+655x5FRER4l9XX12vixIlyuVy68847tWbNGtntrT8BwOFwyOFw+CxzuVxdWTIAAEBQeLfk\n",
              "SxkjjRnWX8NjeltdzjXpsskE9fX12rZtm+69917vsuHDh+vYsWPau3evdu3apaKiIj399NNtfsb6\n",
              "9esVExPj89qzZ09XlQwAABA0PI/1DNZheakLg+grr7yi9PR0jR071rssMjJScXHNJ2vQoEFasmSJ\n",
              "ioqK2vyM1atXq6amxueVk5PTVSUDAAAEhUvbNuUG6bC81IVD85s2bfK5GipJ1dXVGjhwoCIiIuRw\n",
              "OLRz505lZWW1+RmRkZGKjIz0WdbWMD4AAEBP8fGxGp2ub1T/yHBlJw20upxr5tcV0by8PMXHx6uy\n",
              "slIzZ85UamqqJGnp0qXKz8/3bnfw4EEVFxdr/vz5Pvvv3r1bWVlZysjIUHZ2toYNG6Y1a9Z0wmEA\n",
              "AAD0HAUHmu+WvzEtVhH24Gvb5GEzxhiri/DHqlWrtGHDBqvLAAAAsMwd//me9h89q/+YO153TUyw\n",
              "upxrFrwRGgAAoAc6ec6hjyvPSpKmB/H8UIkgCgAAEFTePdTctil9RLSGRkdZXU6HEEQBAACCyMW2\n",
              "TcF9NVQiiAIAAAQNl0/bpuDtH+pBEAUAAAgSxUfPqOZCk2J6RygzYYDV5XQYQRQAACBIeIblbxwV\n",
              "q/AgbtvkEfxHAAAA0EMUHGzuHxoKw/ISQRQAACAoVNc16G/HaiVJ09KC/0YliSAKAAAQFN5pGZYf\n",
              "Hx+jIf0jr7J1cCCIAgAABIGLbZtCY1heIogCAAAEPKfLrXdLQqd/qAdBFAAAIMB9VHFWdQ1ODewT\n",
              "oYz4AVaX02kIogAAAAGusOVu+WlpQ2QPs1lcTechiAIAAAS4goOh8zSlSxFEAQAAAtjxmgb9vapW\n",
              "NlvotG3yIIgCAAAEsHcONQ/LZ8QP0KC+vSyupnMRRAEAAAJYwYHQHJaXCKIAAAABq9Hp1u7Sk5Kk\n",
              "3DGhNSwvEUQBAAAC1odHzuicw6nYfr00bkSM1eV0OoIoAABAgLq0bVNYCLVt8iCIAgAABKhQfKzn\n",
              "pQiiAAAAAejY2Qs6eKJOYTZp2qhYq8vpEgRRAACAAOQZls9OHKgBfUKrbZMHQRQAACAAXRyWD727\n",
              "5T0IogAAAAHG4XTpvZa2TaE6P1QiiAIAAAScfeVndL7RpSH9I5U+ItrqcrqMX0F05cqVSk5Ols1m\n",
              "U3FxcavbFBYWqnfv3srMzPS+Lly44F2/adMmjRo1SiNHjtSyZcvU1NTUoQMAAAAINQUHmueHzkgb\n",
              "Ipst9No2efgVROfNm6fdu3crKSnpituNHj1axcXF3lfv3r0lSYcPH9batWtVVFSk0tJSnThxQi+8\n",
              "8MK1Vw8AABCCClpuVModE7rD8pKfQXTatGmKj4+/5i/bsWOHZs+erWHDhslms2nFihXaunXrNX8e\n",
              "AABAqDl6+rzKvqyXPcymKamh2bbJI7wrPrSsrEzZ2dmy2+1avHix7rvvPklSRUWFz9XU5ORkVVRU\n",
              "tPk5DodDDofDZ5nL5eqKkgEAAAKCp23TDUkDFdM7wuJqulanB9Hs7GxVVlYqJiZGlZWVuu222xQb\n",
              "G6u77rrL789av3691q1b57Ns0qRJnVUqAABAwCloaduUG8J3y3t0+l3z0dHRiomJkSTFx8fr7rvv\n",
              "VlFRkSQpMTFRR44c8W5bXl6uxMTENj9r9erVqqmp8Xnl5OR0dskAAAABoaHJpffLPG2bQrd/qEen\n",
              "B9Gqqiq53W5JUl1dnV5//XVlZWVJkubOnav8/HwdP35cxhg9//zzWrBgQZufFRkZqejoaJ+X3W7v\n",
              "7JIBAAACwgeHT6uhya1h0VEaM6y/1eV0Ob+CaF5enuLj41VZWamZM2cqNTVVkrR06VLl5+dLkl59\n",
              "9VVdf/31ysjI0KRJk3TLLbdo8eLFkqSUlBStW7dOU6ZMUWpqqoYMGaK8vLxOPiQAAIDg5JkfOmN0\n",
              "aLdt8rAZY4zVRfhj1apV2rBhg9VlAAAAdLrcpwp1+GS9nl94g2aNG2Z1OV2OJysBAAAEgPKT9Tp8\n",
              "sl4RdpumpA62upxuQRAFAAAIAJ5h+QlJg9Q/KrTbNnkQRAEAAAKAt23TmNC/W96DIAoAAGCxC40u\n",
              "/eXzU5KkGT2gf6gHQRQAAMBi//f5KTU63fragN4aFdfP6nK6DUEUAADAYgU9rG2TB0EUAADAQsYY\n",
              "FbbMD+1Jw/ISQRQAAMBSn5+sV8Xp8+plD9PkkT2jbZMHQRQAAMBCBQeah+W/kTJIfSPDLa6mexFE\n",
              "AQAALPTOoeZh+elpPadtkwdBFAAAwCL1Dqc++Py0JCl3TM+aHyoRRAEAACzzl7JTanS5lTCot1Ji\n",
              "+1pdTrcjiAIAAFjE07Ypd3Rcj2rb5EEQBQAAsMClbZtye1jbJg+CKAAAgAVKq8/p2NkL6hUepkkp\n",
              "PattkwdBFAAAwAKeYflvpgxW7152i6uxBkEUAADAAgUHPE9T6nltmzwIogAAAN2srqFJ+460tG3q\n",
              "ofNDJYIoAABAt3uv9JSaXEbXxfZVcg9s2+RBEAUAAOhm7xxqnh/aE5+mdCmCKAAAQDcyxnjnh/bE\n",
              "pyldiiAKAADQjQ4cr9Px2gZFRYTpG9cNsrocSxFEAQAAupGnif3kkbGKiuiZbZs8CKIAAADd6OJj\n",
              "PXv2/FCJIAoAANBtahua9OGRM5KkGT24bZMHQRQAAKCb7C45KZfbaOSQvkoY1MfqciznVxBduXKl\n",
              "kpOTZbPZVFxc3Oo2b7/9tnJycjR27Filp6fr4YcfltvtliSVl5fLbrcrMzPT+yorK+vwQQAAAASD\n",
              "ggOeYXmuhkp+BtF58+Zp9+7dSkpKanObgQMHatu2bfrss8/04Ycf6v3339dLL73kXd+/f38VFxd7\n",
              "XyNHjrz26gEAAIKEMUaFhzyP9SSISlK4PxtPmzbtqttkZWV5f46KilJmZqbKy8v9LgwAACCUfPpF\n",
              "rb6sc6hPL7smXjfQ6nICgl9B1F/Hjx/Xjh079Prrr3uX1dfXa+LEiXK5XLrzzju1Zs0a2e2tty5w\n",
              "OBxyOBw+y1wuV1eWDAAA0CUKW+6WnzwyVpHhPbttk0eX3axUW1ur22+/XQ8//LAmTJggSRo+fLiO\n",
              "HTumvXv3ateuXSoqKtLTTz/d5mesX79eMTExPq89e/Z0VckAAABdxtM/NHcMbZs8uiSI1tXVadas\n",
              "Wbrjjju0atUq7/LIyEjFxTXPiRg0aJCWLFmioqKiNj9n9erVqqmp8Xnl5OR0RckAAABd5uz5Rn1U\n",
              "Qdumr+r0oflz585p1qxZmjVrln7605/6rKuurtbAgQMVEREhh8OhnTt3+swp/arIyEhFRkb6LGtr\n",
              "GB8AACBQFZWclNtIaUP76WsDeltdTsDw64poXl6e4uPjVVlZqZkzZyo1NVWStHTpUuXn50uSnn32\n",
              "We3Zs0c7d+70tmh6/PHHJUm7d+9WVlaWMjIylJ2drWHDhmnNmjWdfEgAAACB5eLTlLgaeimbMcZY\n",
              "XYQ/Vq1apQ0bNlhdBgAAQLu43UYTH9+lU/WN2rpskr45crDVJQUMnqwEAADQhf72RY1O1TeqX2S4\n",
              "JiTTtulSBFEAAIAuVHCg+W75qamxirATvS7F2QAAAOhCnvmhM0bTtumrCKIAAABd5HR9o/ZXnpVE\n",
              "26bWEEQBAAC6yLuHvpQx0teHR2tYTJTV5QQcgigAAEAXKWRY/ooIogAAAF3A5TZ651DLYz0Zlm8V\n",
              "QRQAAKAL7K88qzPnm9Q/KlzZiQOsLicgEUQBAAC6QOHB5quh00YNUThtm1rFWQEAAOgCzA+9OoIo\n",
              "AABAJ/uyzqGPK2skSdMJom0iiAIAAHSyd1tuUhr3tWjF9adtU1sIogAAAJ3M8zQl7pa/MoIoAABA\n",
              "J3K63CoqOSmJ+aFXQxAFAADoRMVHz6rmQpMG9IlQZsJAq8sJaARRAACATuQZlr9x1BDZw2wWVxPY\n",
              "CKIAAACdyNM/NJdh+asiiAIAAHSS6toGffpFrWw2aVoaQfRqCKIAAACdpLClbdP4r8Uotl+kxdUE\n",
              "PoIoAABAJ7n4NCXaNrUHQRQAAKATNLncKjpE2yZ/EEQBAAA6wUdHzqjO4dSgvr00Pn6A1eUEBYIo\n",
              "AABAJyhouVt+ehptm9qLIAoAANAJLs4PZVi+vQiiAAAAHVRVc0EHjtc1t20aRRBtL4IoAABAB3ma\n",
              "2GclDNDAvr0sriZ4+BVEV65cqeTkZNlsNhUXF7e53aZNmzRq1CiNHDlSy5YtU1NTU7vWAQAABCPa\n",
              "Nl0bv4LovHnztHv3biUlJbW5zeHDh7V27VoVFRWptLRUJ06c0AsvvHDVdQAAAMGo0enW7pLmtk25\n",
              "BFG/+BVEp02bpvj4+Ctus2PHDs2ePVvDhg2TzWbTihUrtHXr1quuAwAACEb7yk+rvtGl2H69lD4i\n",
              "2upygkp4Z39gRUWFzxXT5ORkVVRUXHVdaxwOhxwOh88yl8vVyRUDAABcO89jPaenxSmMtk1+Ceib\n",
              "ldavX6+YmBif1549e6wuCwAAwKvgQPP80Nwx3C3vr04PoomJiTpy5Ij3fXl5uRITE6+6rjWrV69W\n",
              "TU2NzysnJ6ezSwYAALgmlWfOq6T6nMJs0o2pBFF/dXoQnTt3rvLz83X8+HEZY/T8889rwYIFV13X\n",
              "msjISEVHR/u87HZ7Z5cMAABwTTxtm25IGqiYPhEWVxN8/AqieXl5io+PV2VlpWbOnKnU1FRJ0tKl\n",
              "S5Wfny9JSklJ0bp16zRlyhSlpqZqyJAhysvLu+o6AACAYEPbpo6xGWOM1UX4Y9WqVdqwYYPVZQAA\n",
              "gB7O4XQpc91butDk0h9WTlX6iBirSwo6AX2zEgAAQKDac/i0LjS5FNc/UmOH07bpWhBEAQAArkHB\n",
              "geb5oTNGD5HNRtuma0EQBQAAuAaFh1raNjE/9JoRRAEAAPxUceq8Pv+yXuFhNk0ZFWt1OUGLIAoA\n",
              "AOAnz9XQG5IGKjqKtk3XiiAKAADgp4tPU2JYviMIogAAAH5oaHLp/bJTkppvVMK1I4gCAAD44f8+\n",
              "PyWH063hMVEaPbS/1eUENYIoAACAHzyP9ZwxOo62TR1EEAUAAPDDxcd6MizfUQRRAACAdjp8sl7l\n",
              "p84rwm7TlFTaNnUUQRQAAKCdPHfLT0wepH6R4RZXE/wIogAAAO1UeKh5fihPU+ocBFEAAIB2ON/o\n",
              "1P993ty2KXcM80M7A0EUAACgHf5SdkqNTre+NqC3Rg7pZ3U5IYEgCgAA0A6etk25Y4bQtqmTEEQB\n",
              "AACuwhijgpa2TcwP7TwEUQAAgKso+7JelWcuqJc9TN8cOdjqckIGQRQAAOAqPE3sv5EySH160bap\n",
              "sxBEAQAArqLA+zQlhuU7E0EUAADgCuodTu05fFqSlMtjPTsVQRQAAOAK3is9qSaXUdLgProutq/V\n",
              "5YQUgigAAMAVeJ6mNCONtk2djSAKAADQBmOMClueLz9jDPNDOxtBFAAAoA2HTpzTFzUNigwP0zdT\n",
              "aNvU2QiiAAAAbfC0bfrmyMGKirBbXE3oIYgCAAC0gacpdS2/g2hJSYkmT56stLQ0TZw4UZ9++ull\n",
              "22zevFmZmZneV2xsrObMmSNJKi8vl91u91lfVlbW8SMBAADoRHUNTdpXfkaSNIO2TV3C70cD5OXl\n",
              "afny5Vq0aJF27NihRYsWae/evT7bLF68WIsXL/a+HzdunL7//e973/fv31/FxcXXXjUAAEAXe6/0\n",
              "pJxuo5TYvkoaTNumruDXFdHq6mrt27dPCxculCTNnTtXR48eVWlpaZv7fPDBB6qurtbs2bM7VikA\n",
              "AEA3KjjQ0raJYfku41cQPXr0qIYPH67w8OYLqTabTYmJiaqoqGhzn02bNumee+5RRESEd1l9fb0m\n",
              "Tpyo7OxsPfroo3K5XK3u63A4VFtb6/Nqa1sAAIDOYoxR4SHPYz0Zlu8qXXqzUn19vbZt26Z7773X\n",
              "u2z48OE6duyY9u7dq127dqmoqEhPP/10q/uvX79eMTExPq89e/Z0ZckAAAD6e1WdTtQ61DvCrpzr\n",
              "BlldTsjyK4gmJCSoqqpKTqdTUvO/FioqKpSYmNjq9q+88orS09M1duxY77LIyEjFxTVf4h40aJCW\n",
              "LFmioqKiVvdfvXq1ampqfF45OTn+lAwAAOA3z93yk2nb1KX8CqJxcXHKzs7Wli1bJEmvvvqq4uPj\n",
              "lZqa2ur2mzZt8rkaKjXPM21qapLUPPS+c+dOZWVltbp/ZGSkoqOjfV52O78MAACga71zsGV+KE9T\n",
              "6lJ+D81v3LhRGzduVFpamp588klt3rxZkrR06VLl5+d7tzt48KCKi4s1f/58n/13796trKwsZWRk\n",
              "KDs7W8OGDdOaNWs6eBgAAACdo+Z8kz6saGnblMb80K5kM8YYq4vwx6pVq7RhwwarywAAACHq9Y+/\n",
              "0AMv/1Wpcf20a9V0q8sJaTxZCQAA4BKFLcPyudwt3+UIogAAAC3cbuMNovQP7XoEUQAAgBafVdXq\n",
              "5DmH+vaya0LyQKvLCXkEUQAAgBYFB5rbNk1JjVVkOJ16uhpBFAAAoIWnfyjD8t2DIAoAACDpTH2j\n",
              "io+elcRjPbsLQRQAAEDSuyVfym2kMcP6a8SA3laX0yMQRAEAAHTxaUrTuRrabQiiAACgx3O7jQoP\n",
              "efqHMj+0uxBEAQBAj/fxsRqdrm9U/8hw3ZBE26buQhAFAAA9XmHL3fJTR8Uqwk486i6caQAA0OMV\n",
              "HGRY3goEUQAA0KOdOufQx5VnJXGjUncjiAIAgB7t3ZIvZYw0dni0hkZHWV1Oj0IQBQAAPVrBgeZh\n",
              "eZrYdz+CKAAA6LFcbqN3S1rmh45hfmh3I4gCAIAeq/joWZ0936ToqHBlJQywupwehyAKAAB6LE/b\n",
              "phvThiictk3djjMOAAB6rELaNlmKIAoAAHqk6roGfXKsRpI0PY0blaxAEAUAAD3Su4dOSpKu/1qM\n",
              "hvSPtLianokgCgAAeqSClvmhubRtsgxBFAAA9DhOl1tFh5rnh05nfqhlCKIAAKDH+evRs6ptcGpA\n",
              "nwhl0rbJMgRRAADQ4xQcaB6Wn542RPYwm8XV9FwEUQAA0OMUHOSxnoHA7yBaUlKiyZMnKy0tTRMn\n",
              "TtSnn3562TaFhYXq3bu3MjMzva8LFy5412/atEmjRo3SyJEjtWzZMjU1NXXsKAAAANrpeE2D/l5V\n",
              "K5tNmjaKIGolv4NoXl6eli9frkOHDumRRx7RokWLWt1u9OjRKi4u9r569+4tSTp8+LDWrl2roqIi\n",
              "lZaW6sSJE3rhhRc6dBAAAADt9c6h5mH58fEDNLgfbZus5FcQra6u1r59+7Rw4UJJ0ty5c3X06FGV\n",
              "lpa2+zN27Nih2bNna9iwYbLZbFqxYoW2bt3qX9UAAADX6OLTlLgaajW/gujRo0c1fPhwhYeHS5Js\n",
              "NpsSExNVUVFx2bZlZWXKzs7WxIkT9dxzz3mXV1RUKCkpyfs+OTm51f0lyeFwqLa21uflcrn8KRkA\n",
              "AMCryeVWUUlzI3se62m98K740OzsbFVWViomJkaVlZW67bbbFBsbq7vuusuvz1m/fr3WrVvns2zS\n",
              "pEmdWSoAAOhB9pWf0TmHU4P79tL1X4uxupwez68rogkJCaqqqpLT6ZQkGWNUUVGhxMREn+2io6MV\n",
              "E9P8Hzc+Pl533323ioqKJEmJiYk6cuSId9vy8vLL9vdYvXq1ampqfF45OTn+lAwAAOBVeOhi26Yw\n",
              "2jZZzq8gGhcXp+zsbG3ZskWS9Oqrryo+Pl6pqak+21VVVcntdkuS6urq9PrrrysrK0tS87zS/Px8\n",
              "HT9+XMYYPf/881qwYEGr3xcZGano6Gifl91u9/sgAQAAJKnwQEvbpjEMywcCv++a37hxozZu3Ki0\n",
              "tDQ9+eST2rx5syRp6dKlys/Pl9QcUK+//nplZGRo0qRJuuWWW7R48WJJUkpKitatW6cpU6YoNTVV\n",
              "Q4YMUV5eXiceEgAAwOW+OHtBB0/UKcwmTRsVa3U5kGQzxhiri/DHqlWrtGHDBqvLAAAAQeblDyr0\n",
              "//7nE92QNFCv/miy1eVAPFkJAAD0EAUHm+eHzkijbVOgIIgCAICQ53C69H5pS9sm5ocGDIIoAAAI\n",
              "efvKz6i+0aUh/SM1dni01eWgBUEUAACEvIIDtG0KRARRAAAQ8goPeR7rybB8ICGIAgCAkHb09HmV\n",
              "Vp+TPcymqbRtCigEUQAAENI8V0NvSByomN4RFleDSxFEAQBASCtsmR86YwxtmwINQRQAAISshiaX\n",
              "3itrbts0I435oYGGIAoAAELWnsOn1dDk1tDoSH19eH+ry8FXEEQBAEDI8jxNKXd0nGw22jYFGoIo\n",
              "AAAIWYUHm29UmjGa+aGBiCAKAABCUvnJeh0+Wa/wMJumpNK2KRARRAEAQEgqbBmWn5A8UP2jaNsU\n",
              "iAiiAAAgJPE0pcBHEAUAACHnQqNLfyk7JUnKHUMQDVQEUQAAEHL+7/NTcjjdGhETpVFx/awuB20g\n",
              "iAIAgJDjmR86YwxtmwIZQRQAAIQUY4wKPG2b0mjbFMgIogAAIKQcPlmvitPnFWGnbVOgI4gCAICQ\n",
              "4rka+o3rBqtvZLjF1eBKCKIAACCkeOeH8jSlgEcQBQAAIeN8o1MffH5akjSD/qEBjyAKAABCxvul\n",
              "p9TocithUG+NHNLX6nJwFQRRAAAQMgo8w/JptG0KBgRRAAAQEowxKmy5USl3DPNDg4HfQbSkpEST\n",
              "J09WWlqaJk6cqE8//fSybd5++23l5ORo7NixSk9P18MPPyy32y1JKi8vl91uV2ZmpvdVVlbW8SMB\n",
              "AAA9Wmn1OR07e0G9wsP0zRTaNgUDv4NoXl6eli9frkOHDumRRx7RokWLLttm4MCB2rZtmz777DN9\n",
              "+OGHev/99/XSSy951/fv31/FxcXe18iRIzt0EAAAAJ6roZNSBqt3L7vF1aA9/Aqi1dXV2rdvnxYu\n",
              "XChJmjt3ro4eParS0lKf7bKyspSSkiJJioqKUmZmpsrLyzunYgAAgFZ45ofm0rYpaPgVRI8eParh\n",
              "w4crPLy5OazNZlNiYqIqKira3Of48ePasWOHvvvd73qX1dfXa+LEicrOztajjz4ql8vV6r4Oh0O1\n",
              "tbU+r7a2BQAAPdc5h1N7y2nbFGy69Gal2tpa3X777Xr44Yc1YcIESdLw4cN17Ngx7d27V7t27VJR\n",
              "UZGefvrpVvdfv369YmJifF579uzpypIBAEAQeq/0pJpcRsmD++i6WNo2BQu/gmhCQoKqqqrkdDol\n",
              "Nd+dVlFRocTExMu2raur06xZs3THHXdo1apV3uWRkZGKi2v+l8qgQYO0ZMkSFRUVtfp9q1evVk1N\n",
              "jc8rJyfHn5IBAEAPcPFpSlwNDSZ+BdG4uDhlZ2dry5YtkqRXX31V8fHxSk1N9dnu3LlzmjVrlmbN\n",
              "mqWf/vSnPuuqq6vV1NQkqXnofefOncrKymr1+yIjIxUdHe3zstuZfAwAAC66tG0Tj/UMLn4PzW/c\n",
              "uFEbN25UWlqannzySW3evFmStHTpUuXn50uSnn32We3Zs0c7d+70tmh6/PHHJUm7d+9WVlaWMjIy\n",
              "lJ2drWHDhmnNmjWdeEgAAKAnOXiiTlU1DYqKCNOklMFWlwM/2Iwxxuoi/LFq1Spt2LDB6jIAAECA\n",
              "+FVhmX7+pwPKHT1EmxczhS+Y8GQlAAAQ1DzzQ3PHMD802BBEAQBA0KptaNK+I2ckNT9fHsGFIAoA\n",
              "AILW7pKTcrmNUob0VeLgPlaXAz8RRAEAQNDyDsvTtikoEUQBAEBQom1T8COIAgCAoPRZVa2q6xzq\n",
              "HWFXznWDrC4H14AgCgAAgpLnauiU1FhFhvPAm2BEEAUAAEGp4IDnsZ4MywcrgigAAAg6Neeb9FFF\n",
              "S9smgmjQIogCAICg827Jl3IbaVRcP8UPpG1TsCKIAgCAoFPA05RCAkEUAAAEFbfb6N1DtG0KBQRR\n",
              "AAAQVP72RY1OnmtU3152TUiibVMwI4gCAICg4mnbNHVUrHqFE2WCGf/1AABAUCngsZ4hgyAKAACC\n",
              "xun6RhUfPStJms780KBHEAUAAEGjqORLGSONGdZfw2N6W10OOoggCgAAgsbFpykxLB8KCKIAACAo\n",
              "uNxG75aclCTlMiwfEgiiAAAgKHxceVan6xvVPypc2UkDrS4HnYAgCgAAgkJBS9umG0fFKsJOhAkF\n",
              "/FcEAABB4Z2DzA8NNQRRAAAQ8L6sc2h/ZY0kaUYa80NDBUEUAAAEPM+z5dNHRCsuOsriatBZCKIA\n",
              "ACDgFbYEUZ6mFFoIogAAIKA5XW7vFdEZtG0KKeH+7lBSUqIf/vCHOnnypGJiYvTiiy8qPT39su02\n",
              "bdqkJ598Um63WzfddJOee+45RUREXHUd0FMYY9TocsvhdMvR5JbD6ZLD6Vaj07Ps4nu73abI8DBF\n",
              "htsVGR6mqIiLP0dGtPxveJhsNpvVhwUAnW5/5VnVXGhSTO8IZSYMsLocdCK/g2heXp6WL1+uRYsW\n",
              "aceOHVq0aJH27t3rs83hw4e1du1affTRRxo6dKjuuOMOvfDCC7r//vuvuA7oTi63aQl9rsvCoMPp\n",
              "an7v+uryiwHx0u0a27HdVwOmw+nu9GPq1RJIL4bUS35uCa1RXwmvkeH2lu1a3y8qwnf/Vn8OtyvC\n",
              "biMIA+gSBQear4ZOSxuicNo2hRS/gmh1dbX27dunP//5z5KkuXPn6oEHHlBpaalSU1O92+3YsUOz\n",
              "Z8/WsGHDJEkrVqzQE088ofvvv/+K69BzGGPU5DK+Ae3SANjKz41tbdPWFcVWA2ZzEGx0udXkMlaf\n",
              "Bh+R4WEtQdI3DPay2+Qy5rJjbmgJtOaSw2hsOf46Obu9fptNXwmubYThrwRf36u7be13cZ+2Pt8e\n",
              "RggGQlWBp20Td8uHHL+C6NGjRzV8+HCFhzfvZrPZlJiYqIqKCp8gWlFRoaSkJO/75ORkVVRUXHXd\n",
              "VzkcDjkcDp9lLpfLn5I75H//fkK/KizzWdZadDHm8qWtb9f697S6uAOfaVrZstXtWt23te3aH9ha\n",
              "29RlTKvh0Y+P7XJhNvkGnK9cIezVjquH7bka2cse5rt/y8+97Nc2rH5poG/1SuwlPzc0udoV5H22\n",
              "beXq76X7NV5yVdcYqaHJrYamzr/S2x7hYbZWr9RGRYQp3B4mYioQnIykT7+olSRNZ35oyPF7aL47\n",
              "rV+/XuvWrfNZNmnSpG77/pPnHNp35Ey3fV9PdlmI84S/qw0htzFM7A14Ptu2HiJ72cOCdqjHZrOp\n",
              "V7hNvcLD1N+C73e7TSvTElxquFLQbSMotxWQG7zLL9/P6b74rxmn28jZ6FJ9Y/f9YxVA98m5bpBi\n",
              "+0VaXQY6mV9BNCEhQVVVVXI6nQoPD5cxRhUVFUpMTPTZLjExUWVlF68klpeXe7e50rqvWr16tVat\n",
              "WuWzbO3atf6U3CGTR8bq+YU3XLa8tQtXrV1taesKV+vbtnNZa3t3oJ5219LKlm1dwPvqYpvNdnH4\n",
              "tSX4XXq1sJc9TGEMqwalsDCbosLsioqwS+r+Gw6drkvn514agn0DcJPLmqu0ADqHzWZTTvIgq8tA\n",
              "F/AriMbFxSk7O1tbtmzRokWL9Oqrryo+Pt5nWF5qnjs6depU/du//ZuGDh2q559/XgsWLLjquq+K\n",
              "jIxUZKTvv37sdrs/JXdIwqA+ShjUp9u+D4B/wluuZvfpZXUlAIBr4fd45MaNG7Vx40alpaXpySef\n",
              "1ObNmyVJS5cuVX5+viQpJSVF69at05QpU5SamqohQ4YoLy/vqusAAADQc9iMP3eiBIBVq1Zpw4YN\n",
              "VpcBAACADgrOOzQAAAAQ9AiiAAAAsARBFAAAAJYgiAIAAMASBFEAAABYgiAKAAAASxBEAQAAYAmC\n",
              "KAAAACxBEAUAAIAlgu7JSnPmzFFycnK3fZ/L5dKePXuUk5PTrc+5DxWcv47jHHYM56/jOIcdw/nr\n",
              "OM5hx1hx/pKSkvTggw9edbugC6Ldrba2VjExMaqpqVF0dLTV5QQdzl/HcQ47hvPXcZzDjuH8dRzn\n",
              "sGMC+fwxNA8AAABLEEQBAABgCYIoAAAALEEQvYrIyEj967/+qyIjI60uJShx/jqOc9gxnL+O4xx2\n",
              "DOev4ziHHRPI54+blQAAAGAJrogCAADAEgRRAAAAWIIgCgAAAEsQRLvAL37xCx0/ftzqMhDkysvL\n",
              "9fzzz19xmwkTJqiwsLB7CgpyX3zxhW688UarywgYDQ0NuvPOO5WWlqaMjAzdcsstKi0tlSTNmDFD\n",
              "1113nTIzM5WZmalnnnnGu19eXp6uv/563XTTTaqpqZEkGWN06623qqyszJJjsVJycrJGjx7tPVfb\n",
              "t2+XJJWUlGjy5MlKS0vTxIkT9emnn0qSmpqadOeddyojI0Nz5syR0+mU1PzfY9q0aTpz5oxlx9Ld\n",
              "Tp065T1vmZmZSktLU3h4uE6fPs3vYA9CEO0CBFF0hvYEUbTfiBEjVFRUZHUZAWX58uU6ePCg9u/f\n",
              "rzvuuENLly71rnvmmWdUXFys4uJi/dM//ZMk6W9/+5tKSkr0ySefaMaMGfrtb38rSfr1r3+t3Nxc\n",
              "jRw50pLjsNr27du952r+/PmSmsPS8uXLdejQIT3yyCNatGiRJOnNN9/UoEGDtH//fg0YMEB/+tOf\n",
              "JEmPPfaYHnjgAQ0cONCqw+h2gwcP9p634uJiLV++XLfeeqsGDRokid/BnqJHBdG//OUvmjp1qjIy\n",
              "MjR+/Hj9/ve/1759+zR58mSNHz9eOTk5eu+99yQ1h4ABAwZ49z137pxsNpv3vc1m0xNPPKGcnBxd\n",
              "d9112rx5syTp0Ucf1RdffKH58+crMzNTxcXF3XmIXcZms+nxxx/XN77xDSUnJ+u1117T+vXrNWHC\n",
              "BI0aNcrnqtybb76pqVOn6oYbblBOTo4KCgokScePH1dubq5uuOEGpaen64EHHpDb7ZYkvfjii7r5\n",
              "5pt199136/rrr9eECRP0+eefW3Golrhw4YLmz5+vsWPHKiMjQ9/+9re1YsUKHTx4UJmZmZo9e7Yk\n",
              "6f3331dmZqbGjRunxYsXe6+m9GTt/d386p/ptv4M9xRRUVG67bbbvH+vTZo0SeXl5VfcJyIiQg6H\n",
              "Q263W/X19erVq5eqqqq0detWrVq1qhuqDg7V1dXat2+fFi5cKEmaO3eujh49qtLSUkVEROj8+fOS\n",
              "pPPnz6tXr176+OOPdeDAAd11111Wlm25TZs26d57773iNvwO+mrv339Op1MzZ87UhAkTlJ6eru99\n",
              "73uqr6+XJP33f/+3JkyYIIfDIWOMbr/9dj3++OPddxCmhzh16pSJi4sz7777rjHGGJfLZU6cOGES\n",
              "EhLMn/70J2OMMUVFRWbo0KGmrq7OHD582MTExHj3r6urM5eeLknmqaeeMsYY8/e//93069fPNDU1\n",
              "GWOMSUpKMn/961+758C6iSTzi1/8whhjzK5du0zfvn3N5s2bjTHG/O53vzMTJkwwxhhTVlZmJk2a\n",
              "ZGpqaowxxpSUlJhhw4aZhoYGc+HCBVNXV2eMMcbpdJrvfOc7ZuvWrcYYYzZv3myio6PN559/bowx\n",
              "5pFHHjHLly/vzkO01M6dO823v/1t7/tTp06ZgoICk5GR4V3mcDhMfHy8eeutt4wxxrz55ptGkiko\n",
              "KOjmagNLe383v/pn+kp/hnuihQsXmpUrVxpjjJk+fboZPXq0GTdunLnrrrtMWVmZd7s1a9aYjIwM\n",
              "M2/ePFNfX2/mz59v9u3bZ1XZlktKSjLXX3+9GTdunFmyZImprq42+/btM2lpaT7bTZw40fzv//6v\n",
              "cblcZunSpWb8+PFm+fLlpqmpyXzrW98yR48etegIAsN7771nhg4d6v0zyO9g+7T37z+3221Onjzp\n",
              "/XnFihVm/fr13s9Zvny5uf/++81//Md/mFmzZhm32919x9Bt32Sx119/3dx4440+yz7++GOTlJTk\n",
              "s2z8+PGmqKioXUG0qqrK+37AgAHev0hCNYh6jvfs2bNGkrlw4YIxxpjy8nLvufrP//xPExsbazIy\n",
              "MryvESNGmEOHDpn6+npz3333mfHjx5vrr7/eDB061DzyyCPGmOYgOnPmTO/3vfbaa+Zb3/pW9x6k\n",
              "hcrKykxCQoL50Y9+ZLZt22Zqa2svC6L79+83ycnJPvulpKQQRNv5u9laEG3rz3BP8/jjj5tJkyaZ\n",
              "+vp6Y4wxFRUVxpjm/8P65S9/ab7+9a+3ut9rr71mfvKTn5iTJ0+aRYsWmTlz5pht27Z1W92B4MiR\n",
              "I8YYYxobG83DDz9sbr311isG0a965plnzC9/+Utz+PBhc/fdd5s5c+a0ul2oW7Jkifnnf/5n73t+\n",
              "B9unvX//uVwus2bNGpOZmWnGjRtnEhISzPz5872fc+HCBTN+/HiTkJBgvvzyy249hh41NN8enmGq\n",
              "8PBwuVwu7/KGhobLto2KivL+bLfbQ36Y1HO8drv9sveeYzfG6JZbbvGZ93Ps2DGNGjVKGzZsUHV1\n",
              "tT744AN9/PHH+t73vudzXnva+bxUSkqKPvvsM82aNUvvvfeexo0b166bFi6dLtKTted380r7tWfb\n",
              "UPXUU09p586deuONN9SnTx9JUkJCgqTm368HHnhAn3/+uU6dOuWzX21trZ566imtW7dOv/jFLzR9\n",
              "+nRt375djz76qC5cuNDtx2GVxMRESc1Dxj/+8Y9VVFSkhIQEVVVV+fy9WFFR4d3W48iRI/rjH/+o\n",
              "++67T2vXrtXy5cv14osv6h//8R+7/TisdO7cOf3ud7/TkiVLvMv4HWy/9vz99/LLL+vtt9/WO++8\n",
              "o08++UQ/+clPfP7/t7q6WmfOnJHb7dbZs2e7tf4eE0QnT56skpIS780KbrdbQ4cOldvt1ltvvSWp\n",
              "ef7d8ePHlZmZqWHDhskYo88++0yS9NJLL7X7u6Kjo7138vU0M2fO1K5du/Txxx97l+3Zs0eSdObM\n",
              "GQ0bNkxRUVE6fvy4XnnlFavKDDiVlZWy2WyaPXu2nnrqKRljNHjwYJ/fozFjxsjpdHrn3O7atYs7\n",
              "RNEhGzZs0NatW/XWW2955886nU6dOHHCu82rr76qoUOHavDgwT77/su//It+9rOfqU+fPqqvr5fN\n",
              "ZpPNZlNTU5MaGxu78zAsU19f7/N/2lu3blVWVpbi4uKUnZ2tLVu2SGo+h/Hx8UpNTfXZ/8EHH9Qz\n",
              "zzyjsLAw7zn0/NyTbN++XRkZGRozZowkfge7wpkzZxQbG6vo6GjV1dXpxRdf9K5zOp1asGCBHnvs\n",
              "MW3YsEF33XWXHA5Ht9UW3m3fZLGBAwfqf/7nf/TQQw+prq5OYWFheuyxx7Rz506tXLlSDz30kKKi\n",
              "orRjxw7169dPkvTLX/5S3/3udzV48GDNmzev3d+1cuVKLVu2TH369NGLL76ozMzMLjqqwJOamqqX\n",
              "X35ZeXl5On/+vBobG5WVlaWXX35ZDz74oObNm6f09HSNGDFCN998s9XlBoxPPvlEq1evljFGTqdT\n",
              "99xzjyZPnqz09HSNGzdOKSkpys/P1/bt23XffffJ5XJp4sSJysjIsLp0BKnKyko99NBDSklJUW5u\n",
              "rqTm51G//fbb+s53viOHw6GwsDDFxsYqPz/fZ9/33ntPFy5c0C233CJJuv/++3X33Xfr5z//ue65\n",
              "5x7FxMR0+/FY4cSJE5o7d65cLpeMMUpJSfFetNi4caMWLVqkJ554QtHR0ZfdDPfyyy8rIyND6enp\n",
              "kppD1bJly9TY2Ki1a9d2+7FYadOmTVq2bJn3vcPh4Hewk/3gBz/Q73//e40ePVpDhgzRjTfeqCNH\n",
              "jkhq/t0bPXq0fvjDH0qS3nnnHf34xz/Wr371q26pjWfNAwAAwBI9ZmgeAAAAgYUgCgAAAEsQRAEA\n",
              "AGAJgigAAAAsQRAFAACAJQiiAAAAsARBFAAAAJYgiAIAAMASBFEAAABYgiAKAAAASxBEAQAAYIn/\n",
              "D/Kan98bL2nsAAAAAElFTkSuQmCC\n",
              "\">\n",
              "      </div>\n",
              "      <script type=\"text/javascript\">\n",
              "        (() => {\n",
              "          const chartElement = document.getElementById(\"chart-1f5286a5-768e-441f-9074-cd807f3cbfe5\");\n",
              "          async function getCodeForChartHandler(event) {\n",
              "            const chartCodeResponse =  await google.colab.kernel.invokeFunction(\n",
              "                'getCodeForChart', [\"chart-1f5286a5-768e-441f-9074-cd807f3cbfe5\"], {});\n",
              "            const responseJson = chartCodeResponse.data['application/json'];\n",
              "            await google.colab.notebook.addCell(responseJson.code, 'code');\n",
              "          }\n",
              "          chartElement.onclick = getCodeForChartHandler;\n",
              "        })();\n",
              "      </script>\n",
              "      <style>\n",
              "        .colab-quickchart-chart-with-code  {\n",
              "            display: block;\n",
              "            float: left;\n",
              "            border: 1px solid transparent;\n",
              "        }\n",
              "\n",
              "        .colab-quickchart-chart-with-code:hover {\n",
              "            cursor: pointer;\n",
              "            border: 1px solid #aaa;\n",
              "        }\n",
              "      </style>"
            ]
          },
          "metadata": {}
        },
        {
          "output_type": "display_data",
          "data": {
            "text/plain": [
              "from matplotlib import pyplot as plt\n",
              "_df_10['1972'].plot(kind='line', figsize=(8, 4), title='1972')\n",
              "plt.gca().spines[['top', 'right']].set_visible(False)"
            ],
            "text/html": [
              "      <div class=\"colab-quickchart-chart-with-code\" id=\"chart-a5f32566-5454-4bf6-9478-3c75156b95e5\">\n",
              "        <img style=\"width: 180px;\" src=\"data:image/png;base64,iVBORw0KGgoAAAANSUhEUgAAApsAAAFuCAYAAADOJdNTAAAAOXRFWHRTb2Z0d2FyZQBNYXRwbG90\n",
              "bGliIHZlcnNpb24zLjcuMSwgaHR0cHM6Ly9tYXRwbG90bGliLm9yZy/bCgiHAAAACXBIWXMAAA9h\n",
              "AAAPYQGoP6dpAAAwKElEQVR4nO3de3SU9Z3H8c/kzi0BknAzN0ISUrkkICByj5XipUWPclB6bIuK\n",
              "gMiiq25dTtfuoqvYXQ/Y41mrPVrY1hVp1UWO9VKtCSK6AqUBqwWSQAjRcAnkRkgmmZnf/pHMQEjA\n",
              "hMzMM5f365w5JE+emXyfh0n48Px+z/dnM8YYAQAAAD4QYXUBAAAACF2ETQAAAPgMYRMAAAA+Q9gE\n",
              "AACAzxA2AQAA4DOETQAAAPgMYRMAAAA+Q9gEAACAzxA2AQAA4DOETQAAAPgMYRMAuum1117TzJkz\n",
              "FR8fL5vNJofD0eHrb7/9tq666irFx8crLS1Na9eu7fD1G264Qf379/c8+vXrJ5vNpvXr10uSDh48\n",
              "qIULFyolJUUDBgxQTk6O/vM//1OsKgwgmEVZXQAABItBgwZpxYoVampq0j333NPha7t27dKCBQu0\n",
              "efNm/eAHP9DevXt1ww03qF+/flq1apUk6d133+3wnK1bt2rBggW64447JEk1NTWaOXOm1q1bpyuu\n",
              "uELFxcX6/ve/r+joaD344IN+OUYA8Dab4b/MANAjRUVFKigoUGtrq6Ki2v7P/uijj2rv3r167733\n",
              "PPv9y7/8izZv3qySkpIuX+f6669XQkKCNm/efNHv9eCDD+rw4cN66623vHsQAOAnDKMDgBcYYzoN\n",
              "d7tcLpWWlqqhoaHT/mVlZfrTn/6kFStWXPQ1HQ6HCgsLNWHCBK/XCwD+QtgEAC+YP3++CgsL9eab\n",
              "b8rhcGj37t36zW9+I0mqr6/vtP+vfvUrXXnllZo9e3aXr2eM0fLly9Xa2qqHH37Yp7UDgC8FdNhc\n",
              "tWqVMjIyZLPZVFxc3K3nLFiwQCNGjJDNZlNtba1ne2Njo66++mrl5eUpLy9P119/vcrLy31SN4Dw\n",
              "M2PGDL3yyiv693//dw0ZMkT333+/7rvvPkVERGjQoEEd9m1ubtaGDRt03333dflaTqdTd999tz7/\n",
              "/HN99NFHGjBggD8OAQB8IqDD5oIFC/TJJ58oPT29289Zvnx5l8G0T58++vDDD7V3717t3btX8+bN\n",
              "0wMPPODFagGEu4ULF2rPnj06ffq0Pv/8c9XW1uqaa65R3759O+z32muvqaWlRT/+8Y87vYbdbteC\n",
              "BQv05Zdfatu2bRo2bJi/ygcAnwjosDlr1iylpKR02r5r1y5de+21mjRpkiZMmKA//OEPnq9dd911\n",
              "GjJkSKfnREREeK4OGGNUX18vm83mu+IBhByn06nm5ma1tLRIaguGzc3Ncrlccrlc2rlzpxwOh86e\n",
              "Pavf/va3+s1vfqNf/OIXnV7n+eef15133tnpiuWZM2d044036vTp0/rzn/+swYMH++W4AMCXgq71\n",
              "UW1trZYuXap33nlHw4cPV3V1tSZOnKhp06bpiiuu+NbnX3fddfriiy+UnJys999/3w8VAwgVv/vd\n",
              "73TXXXd5Pu/fv78kqbCwUNOnT9fKlSu1f/9+uVwuTZo0SX/84x81ffr0Dq/xl7/8Rbt27dLLL7/c\n",
              "6fXfeOMNffTRR4qLi9Pw4cM929PT0/Xll1/66KgAwLeCovVRRkaGtmzZovz8fL3zzjtatGiRRo4c\n",
              "6fn66dOntXHjRl177bWebTabTTU1NRo4cGCn13O5XHryySdVVVWl559/3h+HAAAAEJaC7sqmMUZj\n",
              "xozRp59+etmvERERoXvvvVfZ2dmETQAAAB8K6DmbXZk2bZoOHz6sDz/80LOtuLjYM4fqYo4dO6aa\n",
              "mhrP55s3b9b48eN9VicAAAACfBh92bJl+uMf/6hjx44pMTFRAwYMUGlpqfbs2aNHHnlEp06dUmtr\n",
              "q9LS0rRlyxbFxcXppptu0t69e/X1119rxIgRys7OVlFRkXbu3Klly5bJ6XTKGKNRo0Zp/fr1HYbj\n",
              "AQAA4F0BHTYBAAAQ3IJuGB0AAADBg7AJAAAAnyFsAgAAwGcCMmz+8pe/tLoEAAAAeEFAhs0jR45Y\n",
              "XQIAAAC8ICDDJgAAAEIDYRMAAAA+Q9gEAACAzxA2AQAA4DOETQAAAPgMYRMAAAA+Q9gEAACAzxA2\n",
              "AQAA4DOETQAAAPgMYRMAAAA+Q9gEAAAIcsYYq0u4KMImAABAkHvyj3/XHb/+TB8fPGl1KZ0QNgEA\n",
              "AIKYMUZ/+uq4/u/QaTW3Oq0upxPCJgAAQBA7XN2oitNnFR1p0/SsJKvL6YSwCQAAEMSKDrQNnU8Z\n",
              "OVj9YqMsrqYzwiYAAEAQKzxwQpJUMHqIxZV0jbAJAAAQpM62OPT54dOSpDmjky2upmuETQAAgCD1\n",
              "WdkptThcShnUR6OS+1tdTpcImwAAAEHq/CF0m81mcTVdI2wCAAAEIWOM5+agQB1ClwibAAAAQans\n",
              "5BlV1jQpJipC14xKtLqciyJsAgAABKHC/W1XNadmJqpvTOC1PHLrUdhsbm7WLbfcopycHOXl5Wnu\n",
              "3LkqLS3tct+3335bubm5ys7O1q233qr6+nqvFAwAAACp6GDbfM05OYE7hC5dxpXNpUuX6sCBA9q7\n",
              "d69uvvlmLVmypNM+Z86c0T333KMtW7aopKREI0aM0BNPPOGVggEAAMLdGbtDO9tbHhXkBmZ/Tbce\n",
              "hc24uDjdeOONnrudpk6dqvLy8k77vfvuu5owYYJyc3MlSStWrNCmTZt6Xy0AAAD0aWm1Wp1G6Yl9\n",
              "NTKpn9XlXFKvBvh/+ctf6uabb+60vaKiQunp6Z7PMzIyVFVVJYfDoaiojt/SbrfLbrd32OZ0Bt4i\n",
              "8gAAAIGisP0u9EBdNeh8l32D0FNPPaXS0lKtXbu2VwWsXbtWCQkJHR47d+7s1WsCAACEqraWR+3z\n",
              "NQO45ZHbZYXNZ555Rm+++abeffdd9e3bt9PX09LSdOTIEc/n5eXlGj58eKermpK0evVq1dXVdXhM\n",
              "mTLlcsoCAAAIeQePn1FVXbNioyI0NTNwWx659Thsrlu3Tps2bdIHH3yggQMHdrnP9ddfrz179mj/\n",
              "/v2SpOeff1533HFHl/vGxsYqPj6+wyMyMrKnZQEAAIQF96pB00YlKi468DNTj+ZsVlZW6uGHH1Zm\n",
              "ZqYKCgoktYXFzz//XD//+c81YsQILV++XAMGDNBLL72kW265RQ6HQ2PHjtV///d/++QAAAAAwol7\n",
              "CD3Q70J361HYTElJkTGmy689/vjjHT6fP3++5s+ff/mVAQAAoIP65lbtLq+RJM3JCY6wyQpCAAAA\n",
              "QWJHSbUcLqPM5H5KS+x830wgImwCAAAEiaL2lkfBclVTImwCAAAEBWOM5+aggtzAb3nkRtgEAAAI\n",
              "Al9V1etEg119oiM1ZeRgq8vpNsImAABAEHAPoU/PSlRsVOC3PHIjbAIAAASBc6sGBc98TYmwCQAA\n",
              "EPDqzrZqT0WtpOBYovJ8hE0AAIAAt730pJwuo+wh/ZUyKDhaHrkRNgEAAAJc4f62+ZrBsmrQ+Qib\n",
              "AAAAAczlMtp20N1fM7iG0CXCJgAAQED78pt6VZ+xq19MpCZlBE/LIzfCJgAAQABzN3KfkZ2kmKjg\n",
              "i27BVzEAAEAYCdaWR26ETQAAgABV09iivx6tlRR8LY/cCJsAAAAB6uOSkzJGyh02QMMT+lhdzmUh\n",
              "bAIAAAQo9xKVwTqELhE2AQAAAtL5LY8KgnQIXSJsAgAABKR9X9fpdGOLBsRGaWL6IKvLuWyETQAA\n",
              "gABUuL/tLvSZOUmKjgzeyBa8lQMAAISwIs+qQcE7X1MibAIAAASc6jN27auslSTNDuL5mhJhEwAA\n",
              "IOB8fLCt5dGYEfEaGh9ndTm9QtgEAAAIMOdaHgX3VU2JsAkAABBQnB1aHgX3fE2JsAkAABBQio/W\n",
              "qK6pVQl9opWfOtDqcnqNsAkAABBA3EPoM7OTFBXELY/cgv8IAAAAQkjhgbb+mqEwhC4RNgEAAALG\n",
              "iYZm/e3reknSrJzgvzlIImwCAAAEjG3tQ+jjUxKUPCDW4mq8g7AJAAAQIM61PAqNIXSJsAkAABAQ\n",
              "HE6XPi4Jnf6aboRNAACAALCnolYNzQ4N6hutvJSBVpfjNYRNAACAAFDUfhf6rJxkRUbYLK7Gewib\n",
              "AAAAAaDwQOisGnQ+wiYAAIDFjtU16+9V9bLZQqflkRthEwAAwGLbDrYNoeelDNTgfjEWV+NdhE0A\n",
              "AACLFe4PzSF0ibAJAABgqRaHS5+UVkuSCnJDawhdImwCAABY6i9HanTG7lBS/xiNHZFgdTleR9gE\n",
              "AACw0PktjyJCqOWRG2ETAADAQqG4ROX5CJsAAAAW+bq2SQeONyjCJs3KTrK6HJ8gbAIAAFjEPYQ+\n",
              "MW2QBvYNrZZHboRNAAAAi5wbQg+9u9DdCJsAAAAWsDuc2tHe8ihU52tKhE0AAABL7C6v0dkWp5IH\n",
              "xGrMiHiry/EZwiYAAIAFCve3zdeck5Msmy30Wh65ETYBAAAsUNh+c1BBbugOoUuETQAAAL87evqs\n",
              "yk42KjLCpulZodnyyI2wCQAA4GfulkdXpQ9SQp9oi6vxLcImAACAnxW2tzwqCOG70N0ImwAAAH7U\n",
              "3OrUp2Xulkeh21/TjbAJAADgR58fPq3mVpeGxccpd9gAq8vxOcImAACAH7nna84ZHdotj9wImwAA\n",
              "AH50bonK0J+vKRE2AQAA/Ka8ulGHqxsVHWnT9KxEq8vxC8ImAACAn7iH0CelD9aAuNBueeTWo7C5\n",
              "atUqZWRkyGazqbi4uMt9ioqK1KdPH+Xn53seTU1N3qgVAAAgqHlaHuWG/l3oblE92XnBggX66U9/\n",
              "qhkzZlxyv9GjR180jAIAAISjphanPjt0SlL4zNeUehg2Z82a5as6AAAAQtr/HTqlFodLVwzso+wh\n",
              "/a0ux296FDa7q6ysTBMnTlRkZKTuuusurVix4qL72u122e32DtucTqcvygIAALBMYZi1PHLzetic\n",
              "OHGiKisrlZCQoMrKSt14441KSkrSwoULu9x/7dq1WrNmTYdtU6dO9XZZAAAAljHGhF3LIzev340e\n",
              "Hx+vhIQESVJKSooWLVqk7du3X3T/1atXq66ursNjypQp3i4LAADAMoeqG1Vx+qxiIiM0bVR4tDxy\n",
              "83rYrKqqksvlkiQ1NDTo7bff1oQJEy66f2xsrOLj4zs8IiMjvV0WAACAZQr3tw2hX505WP1ifTKL\n",
              "MWD1KGwuW7ZMKSkpqqys1Lx585SVlSVJWrJkibZu3SpJeuONNzRu3Djl5eVp6tSpmjt3ru666y7v\n",
              "Vw4AABAkth1sG0KfnRM+LY/cbMYYY3URF3rooYe0bt06q8sAAADotUa7QxMe/0AtTpf+/PBsjUoO\n",
              "nzvRJVYQAgAA8KnPyk6pxelS6uA+ykzqZ3U5fkfYBAAA8CF3y6OC0UPCquWRG2ETAADAR85veVQQ\n",
              "Zi2P3AibAAAAPlJ64oy+rm1STFSEpmaGV8sjN8ImAACAj7iH0K/JTFSfmPBs7UjYBAAA8JHC/e5V\n",
              "g8Kv5ZEbYRMAAMAHGppbtfvIaUnhO19TImwCAAD4xI7SU2p1Go1M6qeMMGx55EbYBAAA8IFtB9vm\n",
              "a4bjqkHnI2wCAAB4mTHGM1+zIDd8h9AlwiYAAIDX7T/WoGP1zYqLjtDVIwdbXY6lCJsAAABe5m7k\n",
              "Pm1UkuKiw7PlkRthEwAAwMvOLVEZ3vM1JcImAACAV9U3t+ovR2okSXPCuOWRG2ETAADAiz4pqZbT\n",
              "ZTQquZ9SB/e1uhzLETYBAAC8qHC/ewidq5oSYRMAAMBrjDEqOuheopKwKRE2AQAAvObLb+p1ssGu\n",
              "vjGRmjxykNXlBATCJgAAgJcUtd+FPm1UkmKjwrvlkRthEwAAwEvc/TULcml55EbYBAAA8ILasy3a\n",
              "U0HLowsRNgEAALxge0m1XEbKGdpfVwzsY3U5AYOwCQAA4AXnVg3iqub5CJsAAAC95HIZbTtAy6Ou\n",
              "EDYBAAB66W/f1OlUY4v6x0ZpUgYtj85H2AQAAOilwv1tVzVnZCUpOpJ4dT7OBgAAQC+552vOGU3L\n",
              "owsRNgEAAHrhdGOL9lbWSmK+ZlcImwAAAL3w8cGTMkb6zvB4DUuIs7qcgEPYBAAA6IUihtAvibAJ\n",
              "AABwmZwuo20H25eoZAi9S4RNAACAy7S3slY1Z1s1IC5KE9MGWl1OQCJsAgAAXKai9kbus7KTFUXL\n",
              "oy5xVgAAAC4T8zW/HWETAADgMpxssGtfZZ0kaTZh86IImwAAAJfh4/Ybg8ZeEa8hA2h5dDGETQAA\n",
              "gMvgXjWIu9AvjbAJAADQQw6nS9tLqiUxX/PbEDYBAAB6qPhoreqaWjWwb7TyUwdZXU5AI2wCAAD0\n",
              "kHsIfWZ2siIjbBZXE9gImwAAAD3k7q9ZwBD6tyJsAgAA9MCJ+mZ9+U29bDZpVg5h89sQNgEAAHqg\n",
              "qL3l0fgrEpTUP9biagIfYRMAAKAHzq0aRMuj7iBsAgAAdFOr06XtB2l51BOETQAAgG7ac6RGDXaH\n",
              "BveL0fiUgVaXExQImwAAAN1U2H4X+uwcWh51F2ETAACgm87N12QIvbsImwAAAN1QVdek/cca2loe\n",
              "ZRM2u4uwCQAA0A3uRu4TUgdqUL8Yi6sJHoRNAACAbqDl0eUhbAIAAHyLFodLn5S0tTwqIGz2CGET\n",
              "AADgW+wuP63GFqeS+sdozIh4q8sJKoRNAACAb+FeonJ2zhBF0PKoRwibAAAA36Jwf9t8zYJc7kLv\n",
              "KcImAADAJVTWnFXJiTOKsEkzswibPUXYBAAAuAR3y6Or0gcpoW+0xdUEH8ImAADAJdDyqHd6FDZX\n",
              "rVqljIwM2Ww2FRcXX3S/l19+WdnZ2Ro1apTuvfdetba29rZOAAAAv7M7nNpRekoSS1Rerh6FzQUL\n",
              "FuiTTz5Renr6Rfc5fPiwHnvsMW3fvl2lpaU6fvy4fv3rX/e6UAAAAH/befi0mlqdGjIgVlcOp+XR\n",
              "5ehR2Jw1a5ZSUlIuuc/rr7+u+fPna9iwYbLZbFq+fLk2bdrUqyIBAACsULi/bb7mnNHJstloeXQ5\n",
              "orz9ghUVFR2ufGZkZKiiouKi+9vtdtnt9g7bnE6nt8sCAADosaKD7S2PmK952Sy/QWjt2rVKSEjo\n",
              "8Ni5c6fVZQEAgDBXceqsDp1sVFSETdOzk6wuJ2h5PWympaXpyJEjns/Ly8uVlpZ20f1Xr16turq6\n",
              "Do8pU6Z4uywAAIAecV/VvCp9kOLjaHl0ubweNm+77TZt3bpVx44dkzFGL7zwgu64446L7h8bG6v4\n",
              "+PgOj8jISG+XBQAA0CPnVg1iCL03ehQ2ly1bppSUFFVWVmrevHnKysqSJC1ZskRbt26VJGVmZmrN\n",
              "mjWaPn26srKylJycrGXLlnm/cgAAAB9pbnXq0zJaHnmDzRhjrC7iQg899JDWrVtndRkAACBMFR04\n",
              "ocUbdml4Qpw+/edruRO9Fyy/QQgAACDQuJeonDN6CEGzlwibAAAAFzi3RCVD6L1F2AQAADjP4epG\n",
              "lZ86q+hIm6Zn0fKotwibAAAA53HfhT45Y7D6x3p9/ZuwQ9gEAAA4T9HBtvmarBrkHYRNAACAdmdb\n",
              "HPq/Q20tjwpyma/pDYRNAACAdp+VnVKLw6UrBvbRqOT+VpcTEgibAAAA7dwtjwpyk2l55CWETQAA\n",
              "AEnGGBW2tzxivqb3EDYBAAAklZ1sVGVNk2IiI3TNqESrywkZhE0AAACda+R+deZg9Y2h5ZG3EDYB\n",
              "AAAkzxD6HIbQvYqwCQAAwl6j3aGdh09LkgpYotKrCJsAACDs7SitVqvTKD2xr0Ym9bO6nJBC2AQA\n",
              "AGHPvWrQnBxaHnkbYRMAAIQ1Y4yK2tdDn5PLfE1vI2wCAICwdvD4GX1T16zYqAhdk0nLI28jbAIA\n",
              "gLDmbnl0zahExUVHWlxN6CFsAgCAsMaqQb5F2AQAAGGroblVu8trJElzaHnkE4RNAAAQtnaUVsvh\n",
              "MspM6qf0RFoe+QJhEwAAhK3C/e0tjxhC9xnCJgAACEvGGBUddC9RyRC6rxA2AQBAWPp7VYOO19vV\n",
              "JzpSU0YOtrqckEXYBAAAYcl9F/o0Wh75FGETAACEpW0H2udrsmqQTxE2AQBA2Kk726q/VLS3PMph\n",
              "vqYvETYBAEDY2V56Uk6XUdaQ/kod3NfqckIaYRMAAISdovYh9ALuQvc5wiYAAAgrLpfxhE36a/oe\n",
              "YRMAAISVr6rqVX3Grn4xkZqUMcjqckIeYRMAAISVwv1tLY+mZyUpNoqWR75G2AQAAGHF3V+TIXT/\n",
              "IGwCAICwUdPYouKjtZJYotJfCJsAACBsfFxyUi4j5Q4boBED+1hdTlggbAIAgLDhXjVoNlc1/Yaw\n",
              "CQAAwoLLZVR00N1fk/ma/kLYBAAAYWHf13U63diiAbFRuiqdlkf+QtgEAABhoaj9LvQZ2UmKjiQC\n",
              "+QtnGgAAhIXCAwyhW4GwCQAAQt6pM3btq6yVxM1B/kbYBAAAIe/jkpMyRrpyeLyGxsdZXU5YIWwC\n",
              "AICQV7i/bQidRu7+R9gEAAAhzeky+rikfb5mLvM1/Y2wCQAAQlrx0VrVnm1VfFyUJqQOtLqcsEPY\n",
              "BAAAIc3d8mhmTrKiaHnkd5xxAAAQ0opoeWQpwiYAAAhZJxqa9cXXdZKk2TncHGQFwiYAAAhZHx+s\n",
              "liSNuyJByQNiLa4mPBE2AQBAyCpsn69ZQMsjyxA2AQBASHI4Xdp+sG2+5mzma1qGsAkAAELSX4/W\n",
              "qr7ZoYF9o5VPyyPLEDYBAEBIKtzfNoQ+OydZkRE2i6sJX4RNAAAQkgoPsERlICBsAgCAkHOsrll/\n",
              "r6qXzSbNyiZsWomwCQAAQs62g21D6ONTBiqxPy2PrETYBAAAIefcqkFc1bQaYRMAAISUVqdL20va\n",
              "mrmzRKX1ehw2S0pKNG3aNOXk5Gjy5Mn68ssvO+1TVFSkPn36KD8/3/NoamrySsEAAACXsru8Rmfs\n",
              "DiX2i9G4KxKsLifsRfX0CcuWLdPSpUu1ePFivf7661q8eLF27drVab/Ro0eruLjYGzUCAAB0W9HB\n",
              "cy2PImh5ZLkeXdk8ceKEdu/erTvvvFOSdNttt+no0aMqLS31SXEAAAA9VbS/veVRLkPogaBHYfPo\n",
              "0aMaPny4oqLaLojabDalpaWpoqKi075lZWWaOHGiJk+erOeff/6ir2m321VfX9/h4XQ6e3gYAAAA\n",
              "0je1TTpwvEERNmlWdpLV5UCXMYzeHRMnTlRlZaUSEhJUWVmpG2+8UUlJSVq4cGGnfdeuXas1a9Z0\n",
              "2DZ16lRflAUAAEKc+y70CWmDNLBvjMXVQOrhlc3U1FRVVVXJ4XBIkowxqqioUFpaWof94uPjlZDQ\n",
              "NiE3JSVFixYt0vbt27t8zdWrV6uurq7DY8qUKZdzLAAAIMwVHmibrzknh5ZHgaJHYXPIkCGaOHGi\n",
              "XnnlFUnSG2+8oZSUFGVlZXXYr6qqSi6XS5LU0NCgt99+WxMmTOjyNWNjYxUfH9/hERkZeTnHAgAA\n",
              "wpjd4dSnpe0tj5ivGTB63ProxRdf1IsvvqicnBw9/fTT2rBhgyRpyZIl2rp1q6S2EDpu3Djl5eVp\n",
              "6tSpmjt3ru666y7vVg4AAHCe3eU1amxxKnlArK4cHm91OWjX4zmbo0eP1meffdZp+0svveT5eOXK\n",
              "lVq5cmXvKgMAAOiBwv20PApErCAEAABCQtFB9xKVDKEHEsImAAAIekdPn1XpiTOKjLBpBi2PAgph\n",
              "EwAABD33Vc2r0gYpoU+0xdXgfIRNAAAQ9Ira52vOyaXlUaAhbAIAgKDW3OrUjrK2lkdzcpivGWgI\n",
              "mwAAIKjtPHxaza0uDY2P1XeGD7C6HFyAsAkAAIKae9WggtFDZLPR8ijQEDYBAEBQc6+HPmc08zUD\n",
              "EWETAAAErfLqRh2ublRUhE3Ts2h5FIgImwAAIGgVtQ+hT8oYpAFxtDwKRIRNAAAQtFg1KPARNgEA\n",
              "QFBqanHqs7JTkqSCXMJmoCJsAgCAoPR/h07J7nBpREKcsof0t7ocXARhEwAABCX3fM05ubQ8CmSE\n",
              "TQAAEHSMMSp0tzzKoeVRICNsAgCAoHO4ulEVp88qOpKWR4GOsAkAAIKO+6rm1SMT1S82yuJqcCmE\n",
              "TQAAEHQ88zVZNSjgETYBAEBQOdvi0OeHTkuS5tBfM+ARNgEAQFD5tPSUWpwupQ7uo1HJ/awuB9+C\n",
              "sAkAAIJKoXsIPYeWR8GAsAkAAIKGMUZF7TcHFeQyXzMYEDYBAEDQKD1xRl/XNikmKkLXZNLyKBgQ\n",
              "NgEAQNBwX9WcmpmoPjGRFleD7iBsAgCAoOGer1lAy6OgQdgEAABB4YzdoV3ltDwKNoRNAAAQFHaU\n",
              "VqvVaZSR2Fcjk2h5FCwImwAAICicWzWIq5rBhLAJAAAC3vktj1iiMrgQNgEAQMA7cLxBVXXNiouO\n",
              "0NTMRKvLQQ8QNgEAQMAr3N92VfOazETFRdPyKJgQNgEAQMBzz9csyGW+ZrAhbAIAgIBW39yq3Udq\n",
              "JLWth47gQtgEAAAB7ZOSajldRpnJ/ZSW2NfqctBDhE0AABDQPEPotDwKSoRNAAAQsGh5FPwImwAA\n",
              "IGB9VVWvEw129YmO1JSRg60uB5eBsAkAAAKW+6rm9KwkxUbR8igYETYBAEDAKtzvXqKSIfRgRdgE\n",
              "AAABqe5sq/ZUtLc8ImwGLcImAAAISB+XnJTLSNlD+itlEC2PghVhEwAABKRCVg0KCYRNAAAQcFwu\n",
              "o48P0vIoFBA2AQBAwPnbN3WqPtOifjGRmpROy6NgRtgEAAABx93yaEZ2kmKiiCvBjL89AAAQcApZ\n",
              "ojJkEDYBAEBAOd3YouKjtZKk2czXDHqETQAAEFC2l5yUMVLusAEantDH6nLQS4RNAAAQUM6tGsQQ\n",
              "eiggbAIAgIDhdBl9XFItSSpgCD0kEDYBAEDA2FdZq9ONLRoQF6WJ6YOsLgdeQNgEAAABo7C95dHM\n",
              "7CRFRxJTQgF/iwAAIGBsO8B8zVBD2AQAAAHhZINdeyvrJElzcpivGSoImwAAICC410IfMyJeQ+Lj\n",
              "LK4G3kLYBAAAAaGoPWyyalBoIWwCAADLOZwuz5XNObQ8CilRPX1CSUmJfvKTn6i6uloJCQnauHGj\n",
              "xowZ02m/l19+WU8//bRcLpeuvfZaPf/884qOjvZK0UCwcLmMWpwu2Vtdsjucsjtc7Y/2j9u3tzhc\n",
              "ioq0KTYqUrFREW1/Rkcorv1P97aYqAhFRtisPiwA8Lq9lbWqa2pVQp9o5acOtLoceFGPw+ayZcu0\n",
              "dOlSLV68WK+//roWL16sXbt2ddjn8OHDeuyxx7Rnzx4NHTpUN998s37961/r/vvv91rhQHc4XaYt\n",
              "2LV2HfI821pdXYfC1gsC4oWvc95+LV3s1+J0ef2YojuE0gjFRkd2/PO8sOr5OCpCcZ79Irp+/vn7\n",
              "XPj89o9jIiNksxF2AXhf4f62q5qzcpIVRcujkNKjsHnixAnt3r1bf/rTnyRJt912m1auXKnS0lJl\n",
              "ZWV59nv99dc1f/58DRs2TJK0fPlyPfXUU4TNMGOMUavTdAhmLV2Ftk5BsGPA84S4rq4OXiREup/j\n",
              "cBmrT4OHzaYO4e/80BcdGSGXMR2Osbn13J/nH0ar06jV6dAZe2Adw4XBtENwvUjIjeuwrXNA7nh1\n",
              "N5KrukAIK3S3POIu9JDTo7B59OhRDR8+XFFRbU+z2WxKS0tTRUVFh7BZUVGh9PR0z+cZGRmqqKjo\n",
              "8jXtdrvs9o7/ajqdzp6U1St//vtx/aqorMO2ruKJMZ23dr1f19+ny829eE3TxZ5d7tflc7var/uh\n",
              "rKtdnabrK4g9eFmfi4qwdesKYMwlvtYhMLV/HBPZ9fYLrxxGRdgu+6qgw+nqMmQ3tzq/NbQ3d3EV\n",
              "98KA3uzZ3vVVXTdjpObWtte0wsX+DuOiIxQVGSGiKBCcjKQvv6mXJM1mvmbI6fEwuretXbtWa9as\n",
              "6bBt6tSpfvv+1Wfs2n2kxm/fL5x1CHFdhLKY7gQ8d9DwBLyL7Rdacx2jItvCVL9Y/39vY9rmnXpC\n",
              "6yWmJDS3dmMKwvkBuasr1q1ONZ+33/lXpx0uI0eLU40t/vsPKQD/mTJysJL6W/CLDj7Vo7CZmpqq\n",
              "qqoqORwORUVFyRijiooKpaWlddgvLS1NZWXnrhaWl5d32sdt9erVeuihhzpse+yxx3pSVq9MG5Wk\n",
              "F+68qtP2ri5AdRVVLnalqut9u7mtq2f3op5u19LFnhe7EHfhZpvNdm5INPqC8Ng+1y8iiMNeOLPZ\n",
              "3HNEIyX5/yY/h/P8+bRdBNv2sNrqg/mxAPzHZrNpSsZgq8uAD/QobA4ZMkQTJ07UK6+8osWLF+uN\n",
              "N95QSkpKhyF0qW0u54wZM/Rv//ZvGjp0qF544QXdcccdXb5mbGysYmM7/i8mMjKyh4dx+VIH91Xq\n",
              "4L5++34AesZ9VbdvjNWVAAAuR49v93rxxRf14osvKicnR08//bQ2bNggSVqyZIm2bt0qScrMzNSa\n",
              "NWs0ffp0ZWVlKTk5WcuWLfNu5QAAAAh4NtOTO0P85KGHHtK6deusLgMAAAC9RCMrAAAA+AxhEwAA\n",
              "AD5D2AQAAIDPEDYBAADgM4RNAAAA+AxhEwAAAD5D2AQAAIDPEDYBAADgM4RNAAAA+ExAriB06623\n",
              "KiMjw2/fz+l0aufOnZoyZYpf12UPFZy/3uMc9g7nr/c4h73D+es9zmHvWHH+0tPT9cADD3zrfgEZ\n",
              "Nv2tvr5eCQkJqqurU3x8vNXlBB3OX+9xDnuH89d7nMPe4fz1HuewdwL5/DGMDgAAAJ8hbAIAAMBn\n",
              "CJsAAADwGcKmpNjYWP3rv/6rYmNjrS4lKHH+eo9z2Ducv97jHPYO56/3OIe9E8jnjxuEAAAA4DNc\n",
              "2QQAAIDPEDYBAADgM4RNAAAA+Axh8zI9++yzOnbsmNVlIMiVl5frhRdeuOQ+kyZNUlFRkX8KCnLf\n",
              "fPONZs6caXUZAaO5uVm33HKLcnJylJeXp7lz56q0tFSSNGfOHI0cOVL5+fnKz8/X+vXrPc9btmyZ\n",
              "xo0bp2uvvVZ1dXWSJGOMbrjhBpWVlVlyLFbKyMjQ6NGjPedq8+bNkqSSkhJNmzZNOTk5mjx5sr78\n",
              "8ktJUmtrq2655Rbl5eXp1ltvlcPhkNT29zFr1izV1NRYdiz+durUKc95y8/PV05OjqKionT69Gne\n",
              "g2GEsHmZCJvwhu6ETXTfiBEjtH37dqvLCChLly7VgQMHtHfvXt18881asmSJ52vr169XcXGxiouL\n",
              "9Y//+I+SpL/97W8qKSnRF198oTlz5uh3v/udJOmll15SQUGBRo0aZclxWG3z5s2ec3X77bdLagtE\n",
              "S5cu1cGDB/Xoo49q8eLFkqT3339fgwcP1t69ezVw4EC99957kqQnnnhCK1eu1KBBg6w6DL9LTEz0\n",
              "nLfi4mItXbpUN9xwgwYPHiyJ92C4CLmw+dlnn2nGjBnKy8vT+PHj9dZbb2n37t2aNm2axo8frylT\n",
              "pmjHjh2S2v6hHzhwoOe5Z86ckc1m83xus9n01FNPacqUKRo5cqQ2bNggSXr88cf1zTff6Pbbb1d+\n",
              "fr6Ki4v9eYg+Y7PZ9OSTT+rqq69WRkaGtmzZorVr12rSpEnKzs7ucHXt/fff14wZM3TVVVdpypQp\n",
              "KiwslCQdO3ZMBQUFuuqqqzRmzBitXLlSLpdLkrRx40Zdd911WrRokcaNG6dJkybp0KFDVhyqJZqa\n",
              "mnT77bfryiuvVF5enr73ve9p+fLlOnDggPLz8zV//nxJ0qeffqr8/HyNHTtWd911l+eqSDjr7nvz\n",
              "wp/pi/0Mh4u4uDjdeOONnt9rU6dOVXl5+SWfEx0dLbvdLpfLpcbGRsXExKiqqkqbNm3SQw895Ieq\n",
              "g8OJEye0e/du3XnnnZKk2267TUePHlVpaamio6N19uxZSdLZs2cVExOjffv2af/+/Vq4cKGVZVvu\n",
              "5Zdf1j333HPJfXgPdtTd338Oh0Pz5s3TpEmTNGbMGP3whz9UY2OjJOl//ud/NGnSJNntdhlj9IMf\n",
              "/EBPPvmk/w7ChJBTp06ZIUOGmI8//tgYY4zT6TTHjx83qamp5r333jPGGLN9+3YzdOhQ09DQYA4f\n",
              "PmwSEhI8z29oaDDnnxJJ5plnnjHGGPP3v//d9O/f37S2thpjjElPTzd//etf/XNgfiLJPPvss8YY\n",
              "Yz788EPTr18/s2HDBmOMMb///e/NpEmTjDHGlJWVmalTp5q6ujpjjDElJSVm2LBhprm52TQ1NZmG\n",
              "hgZjjDEOh8PcdNNNZtOmTcYYYzZs2GDi4+PNoUOHjDHGPProo2bp0qX+PERLvfnmm+Z73/ue5/NT\n",
              "p06ZwsJCk5eX59lmt9tNSkqK+eCDD4wxxrz//vtGkiksLPRztYGlu+/NC3+mL/UzHI7uvPNOs2rV\n",
              "KmOMMbNnzzajR482Y8eONQsXLjRlZWWe/X72s5+ZvLw8s2DBAtPY2Ghuv/12s3v3bqvKtlx6eroZ\n",
              "N26cGTt2rLn77rvNiRMnzO7du01OTk6H/SZPnmz+/Oc/G6fTaZYsWWLGjx9vli5dalpbW813v/td\n",
              "c/ToUYuOIDDs2LHDDB061PMzyHuwe7r7+8/lcpnq6mrPx8uXLzdr1671vM7SpUvN/fffb/7jP/7D\n",
              "XH/99cblcvnvGPz2nfzg7bffNjNnzuywbd++fSY9Pb3DtvHjx5vt27d3K2xWVVV5Ph84cKDnl0Wo\n",
              "hk338dbW1hpJpqmpyRhjTHl5uedc/dd//ZdJSkoyeXl5nseIESPMwYMHTWNjo1mxYoUZP368GTdu\n",
              "nBk6dKh59NFHjTFtYXPevHme77dlyxbz3e9+178HaaGysjKTmppq7rvvPvPaa6+Z+vr6TmFz7969\n",
              "JiMjo8PzMjMzCZvdfG92FTYv9jMcbp588kkzdepU09jYaIwxpqKiwhjT9o/Sc889Z77zne90+bwt\n",
              "W7aYRx55xFRXV5vFixebW2+91bz22mt+qzsQHDlyxBhjTEtLi/npT39qbrjhhkuGzQutX7/ePPfc\n",
              "c+bw4cNm0aJF5tZbb+1yv1B39913m3/6p3/yfM57sHu6+/vP6XSan/3sZyY/P9+MHTvWpKammttv\n",
              "v93zOk1NTWb8+PEmNTXVnDx50q/HEHLD6N3hHlKKioqS0+n0bG9ubu60b1xcnOfjyMjIkB/SdB9v\n",
              "ZGRkp8/dx26M0dy5czvMw/n666+VnZ2tdevW6cSJE/r888+1b98+/fCHP+xwXsPtfJ4vMzNTX331\n",
              "la6//nrt2LFDY8eO7daNAudP7Qhn3XlvXup53dk3VD3zzDN688039e6776pv376SpNTUVElt76+V\n",
              "K1fq0KFDOnXqVIfn1dfX65lnntGaNWv07LPPavbs2dq8ebMef/xxNTU1+f04rJKWliapbXj3wQcf\n",
              "1Pbt25WamqqqqqoOvxcrKio8+7odOXJE77zzjlasWKHHHntMS5cu1caNG/UP//APfj8OK505c0a/\n",
              "//3vdffdd3u28R7svu78/nv11Vf10Ucfadu2bfriiy/0yCOPdPj398SJE6qpqZHL5VJtba1f6w+p\n",
              "sDlt2jSVlJR4bhBwuVwaOnSoXC6XPvjgA0lt8+GOHTum/Px8DRs2TMYYffXVV5Kk3/72t93+XvHx\n",
              "8Z475MLNvHnz9OGHH2rfvn2ebTt37pQk1dTUaNiwYYqLi9OxY8f0hz/8waoyA05lZaVsNpvmz5+v\n",
              "Z555RsYYJSYmdngf5ebmyuFweObAfvjhh9x5iV5Zt26dNm3apA8++MAzn9XhcOj48eOefd544w0N\n",
              "HTpUiYmJHZ77z//8z/r5z3+uvn37qrGxUTabTTabTa2trWppafHnYVimsbGxwz/MmzZt0oQJEzRk\n",
              "yBBNnDhRr7zyiqS2c5iSkqKsrKwOz3/ggQe0fv16RUREeM6h++NwsnnzZuXl5Sk3N1cS70FfqKmp\n",
              "UVJSkuLj49XQ0KCNGzd6vuZwOHTHHXfoiSee0Lp167Rw4ULZ7Xa/1Rblt+/kB4MGDdL//u//6uGH\n",
              "H1ZDQ4MiIiL0xBNP6M0339SqVav08MMPKy4uTq+//rr69+8vSXruuef0/e9/X4mJiVqwYEG3v9eq\n",
              "Vat07733qm/fvtq4caPy8/N9dFSBJysrS6+++qqWLVums2fPqqWlRRMmTNCrr76qBx54QAsWLNCY\n",
              "MWM0YsQIXXfddVaXGzC++OILrV69WsYYORwO/ehHP9K0adM0ZswYjR07VpmZmdq6das2b96sFStW\n",
              "yOl0avLkycrLy7O6dASpyspKPfzww8rMzFRBQYGktvWTP/roI910002y2+2KiIhQUlKStm7d2uG5\n",
              "O3bsUFNTk+bOnStJuv/++7Vo0SL94he/0I9+9CMlJCT4/XiscPz4cd12221yOp0yxigzM9NzYeLF\n",
              "F1/U4sWL9dRTTyk+Pr7TDWivvvqq8vLyNGbMGEltwenee+9VS0uLHnvsMb8fi5Vefvll3XvvvZ7P\n",
              "7XY770Ev+/GPf6y33npLo0ePVnJysmbOnKkjR45IanvvjR49Wj/5yU8kSdu2bdODDz6oX/3qV36p\n",
              "jbXRAQAA4DMhNYwOAACAwELYBAAAgM8QNgEAAOAzhE0AAAD4DGETAAAAPkPYBAAAgM8QNgEAAOAz\n",
              "hE0AAAD4DGETAAAAPkPYBAAAgM8QNgEAAOAz/w9K85/i7iB6swAAAABJRU5ErkJggg==\n",
              "\">\n",
              "      </div>\n",
              "      <script type=\"text/javascript\">\n",
              "        (() => {\n",
              "          const chartElement = document.getElementById(\"chart-a5f32566-5454-4bf6-9478-3c75156b95e5\");\n",
              "          async function getCodeForChartHandler(event) {\n",
              "            const chartCodeResponse =  await google.colab.kernel.invokeFunction(\n",
              "                'getCodeForChart', [\"chart-a5f32566-5454-4bf6-9478-3c75156b95e5\"], {});\n",
              "            const responseJson = chartCodeResponse.data['application/json'];\n",
              "            await google.colab.notebook.addCell(responseJson.code, 'code');\n",
              "          }\n",
              "          chartElement.onclick = getCodeForChartHandler;\n",
              "        })();\n",
              "      </script>\n",
              "      <style>\n",
              "        .colab-quickchart-chart-with-code  {\n",
              "            display: block;\n",
              "            float: left;\n",
              "            border: 1px solid transparent;\n",
              "        }\n",
              "\n",
              "        .colab-quickchart-chart-with-code:hover {\n",
              "            cursor: pointer;\n",
              "            border: 1px solid #aaa;\n",
              "        }\n",
              "      </style>"
            ]
          },
          "metadata": {}
        },
        {
          "output_type": "display_data",
          "data": {
            "text/plain": [
              "from matplotlib import pyplot as plt\n",
              "_df_11['1973'].plot(kind='line', figsize=(8, 4), title='1973')\n",
              "plt.gca().spines[['top', 'right']].set_visible(False)"
            ],
            "text/html": [
              "      <div class=\"colab-quickchart-chart-with-code\" id=\"chart-e2f7a353-bafc-4bbf-a89c-1e301bcb6953\">\n",
              "        <img style=\"width: 180px;\" src=\"data:image/png;base64,iVBORw0KGgoAAAANSUhEUgAAApsAAAFuCAYAAADOJdNTAAAAOXRFWHRTb2Z0d2FyZQBNYXRwbG90\n",
              "bGliIHZlcnNpb24zLjcuMSwgaHR0cHM6Ly9tYXRwbG90bGliLm9yZy/bCgiHAAAACXBIWXMAAA9h\n",
              "AAAPYQGoP6dpAAAwNElEQVR4nO3deXTU9b3/8ddkZ0uAhNVshGyVJQERkT1WisstWuGA9NoWlU3l\n",
              "YqveemmP3h96FXuPF+zxXCo9WritFWnRSzlWa/U2UUQrIg1YLZCwhWhYAtnIMsnMfH5/JDMQEyAh\n",
              "M/Od5fk4Z46Zb74zeX+/DOHl9/P5vj82Y4wRAAAA4AMRVhcAAACA0EXYBAAAgM8QNgEAAOAzhE0A\n",
              "AAD4DGETAAAAPkPYBAAAgM8QNgEAAOAzhE0AAAD4DGETAAAAPkPYBAAAgM8QNgGgi1599VVNmzZN\n",
              "8fHxstlscjgc7b7/xhtv6JprrlF8fLxSU1O1Zs2adt+/+eab1bdvX8+jT58+stlsWrdunSTp3Llz\n",
              "Kigo0JAhQxQfH6+UlBT96Ec/UlNTk9+OEQC8zcba6ADQNW+//bbOnj2rxsZG3XvvvWppaVFUVJQk\n",
              "6ZNPPtG0adO0ZcsWffvb39bevXt188036yc/+YlWrlzZ6ftt375d8+bN07FjxzRs2DC1tLRo//79\n",
              "ysnJUUxMjE6cOKEFCxZowoQJ+q//+i9/HioAeA1XNgGgi2bPnq2FCxcqIyOjw/e2bt2qmTNn6rbb\n",
              "blNERITGjRunxYsX6/nnn7/o+61fv17f+c53NGzYMElSdHS0xowZo5iYGM8+EREROnDggPcPBgD8\n",
              "JMrqAgAgFBhj9PWBIpfLpdLSUtXV1alfv37tvnfo0CH9+c9/VmFhYYf3+ud//mdt27ZNDQ0NGjBg\n",
              "gLZt2+bL0gHAp7iyCQBeMGfOHBUWFur111+Xw+HQ7t279atf/UqSVFtb22H/X/ziF7r66qs1Y8aM\n",
              "Dt/77W9/q3Pnzqm4uFjLli1Tamqqz+sHAF8J6LC5cuVKpaeny2azqbi4uEuvmTdvnoYPHy6bzabq\n",
              "6mrP9vr6el133XXKy8tTXl6ebrrpJh09etQndQMIP1OnTtXLL7+s//iP/9DgwYP1wAMP6L777lNE\n",
              "RIQGDBjQbt+mpiZt3LhR991330Xfz2azKS8vT+PGjdPcuXN9XT4A+ExAh8158+bpgw8+UFpaWpdf\n",
              "s3z58k6Daa9evfTuu+9q79692rt3r2bPnq0HH3zQi9UCCHfz58/Xnj17dPbsWX388ceqrq7W9ddf\n",
              "r969e7fb79VXX1Vzc7O+//3vX/Y9W1pamLMJIKgFdNicPn26kpOTO2z/5JNPdMMNN2jChAkaN26c\n",
              "fv/733u+d+ONN2rw4MEdXhMREeGZM2WMUW1trWw2m++KBxBynE6nmpqa1NzcLEmy2+1qamqSy+WS\n",
              "y+XSrl275HA41NDQoF//+tf61a9+pZ/97Gcd3mf9+vW66667Oszj3LVrl9555x01NDTI5XLp008/\n",
              "1erVq3XLLbf45fgAwBeC7gah6upqLV26VG+++aaGDRumyspKjR8/XpMnT9ZVV1112dffeOON+uyz\n",
              "zzRo0CC9/fbbfqgYQKj4zW9+o7vvvtvzvG/fvpKkwsJCTZkyRStWrND+/fvlcrk0YcIE/fGPf9SU\n",
              "KVPavcenn36qTz75RC+99FKH929ubtZPfvITHTx4UC6XS0OGDNF3vvMdPf744749MADwoaDos5me\n",
              "nq5t27YpPz9fb775phYuXKgRI0Z4vn/27Flt2rRJN9xwg2ebzWZTVVWV+vfv3+H9XC6XnnrqKVVU\n",
              "VGj9+vX+OAQAAICwFHRXNo0xGjVqlD788MMrfo+IiAgtWbJEWVlZhE0AAAAfCug5m52ZPHmyjhw5\n",
              "onfffdezrbi42DOH6mJOnDihqqoqz/MtW7Zo7NixPqsTAAAAAT6MvmzZMv3xj3/UiRMnlJiYqH79\n",
              "+qm0tFR79uzRI488ojNnzqilpUWpqanatm2b4uLidOutt2rv3r368ssvNXz4cGVlZamoqEi7du3S\n",
              "smXL5HQ6ZYzRyJEjtW7dunbD8QAAAPCugA6bAAAACG5BN4wOAACA4EHYBAAAgM8QNgEAAOAzARk2\n",
              "f/7zn1tdAgAAALwgIMPmsWPHrC4BAAAAXhCQYRMAAAChgbAJAAAAnyFsAgAAwGcImwAAAPAZwiYA\n",
              "AAB8hrAJAAAAnyFsAgAAwGcImwAAAPAZwiYAAAB8hrAJAAAAnyFsAgAABDljjNUlXBRhEwAAIMg9\n",
              "9cd/6M5ffqT3D562upQOCJsAAABBzBijP39xUn89fFZNLU6ry+mAsAkAABDEjlTWq+xsg6IjbZqS\n",
              "mWR1OR0QNgEAAIJY0YHWofOJIwaqT2yUxdV0RNgEAAAIYoUHTkmSCnIGW1xJ5wibAAAAQaqh2aGP\n",
              "j5yVJM3MGWRxNZ0jbAIAAASpjw6dUbPDpeQBvTRyUF+ry+kUYRMAACBIXTiEbrPZLK6mc4RNAACA\n",
              "IGSM8dwcFKhD6BJhEwAAICgdOn1O5VWNiomK0PUjE60u56IImwAAAEGocH/rVc1JGYnqHRN4LY/c\n",
              "CJsAAABBqOhg63zNmdmBO4QuETYBAACCzjm7Q7vaWh4V5AZmf003wiYAAECQ+bC0Ui1Oo7TE3hqR\n",
              "1Mfqci6JsAkAABBkCtvuQg/UVYMuRNgEAAAIIq0tj9rmawZwyyM3wiYAAEAQOXjynCpqmhQbFaFJ\n",
              "GYHb8siNsAkAABBE3KsGTR6ZqLjoSIuruTzCJgAAQBBxD6EH+l3oboRNAACAIFHb1KLdR6skSTOz\n",
              "CZsAAADwop0llXK4jDIG9VFqYm+ry+kSwiYAAECQKGpreRQsVzUlwiYAAEBQMMZ4bg4qyA38lkdu\n",
              "hE0AAIAg8EVFrU7V2dUrOlITRwy0upwuI2wCAAAEAfcQ+pTMRMVGBX7LIzfCJgAAQBA4v2pQ8MzX\n",
              "lAibAAAAAa+moUV7yqolBccSlRfqVthsamrS7bffruzsbOXl5WnWrFkqLS3tdN833nhDubm5ysrK\n",
              "0h133KHa2lqvFAwAABBudpSeltNllDW4r5IHBEfLI7duX9lcunSpDhw4oL179+q2227T4sWLO+xz\n",
              "7tw53Xvvvdq2bZtKSko0fPhwPfnkk14pGAAAINwU7m+drxksqwZdqFthMy4uTrfccotsNpskadKk\n",
              "STp69GiH/d566y2NGzdOubm5kqT7779fmzdv7nm1AAAAYcblMnrvoLu/ZnANoUtSVE9e/POf/1y3\n",
              "3XZbh+1lZWVKS0vzPE9PT1dFRYUcDoeiotr/SLvdLrvd3m6b0+nsSVkAAAAh4/OvalV5zq4+MZGa\n",
              "kB48LY/crvgGoaefflqlpaVas2ZNjwpYs2aNEhIS2j127drVo/cEAAAIFe5G7lOzkhQTFXz3dl9R\n",
              "xc8++6xef/11vfXWW+rdu+Mk1dTUVB07dszz/OjRoxo2bFiHq5qStGrVKtXU1LR7TJw48UrKAgAA\n",
              "CDnB2vLIrdthc+3atdq8ebPeeecd9e/fv9N9brrpJu3Zs0f79++XJK1fv1533nlnp/vGxsYqPj6+\n",
              "3SMyMngalQIAAPhKVX2z/na8WlLwtTxy69aczfLycj388MPKyMhQQUGBpNaw+PHHH+vxxx/X8OHD\n",
              "tXz5cvXr108vvviibr/9djkcDo0ePVr/8z//45MDAAAACFXvl5yWMVLu0H4altDL6nKuSLfCZnJy\n",
              "sowxnX7viSeeaPd8zpw5mjNnzpVXBgAAEObcS1QG6xC6xApCAAAAAenClkcFQTqELhE2AQAAAtK+\n",
              "L2t0tr5Z/WKjND5tgNXlXDHCJgAAQAAq3N96F/q07CRFRwZvZAveygEAAEJYkWfVoOCdrykRNgEA\n",
              "AAJO5Tm79pVXS5JmBPF8TYmwCQAAEHDeP9ja8mjU8HgNiY+zupweIWwCAAAEmPMtj4L7qqZE2AQA\n",
              "AAgoznYtj4J7vqZE2AQAAAgoxcerVNPYooRe0cpP6W91OT1G2AQAAAgg7iH0aVlJigrilkduwX8E\n",
              "AAAAIaTwQGt/zVAYQpcImwAAAAHjVF2T/v5lrSRpenbw3xwkETYBAAACxnttQ+hjkxM0qF+sxdV4\n",
              "B2ETAAAgQJxveRQaQ+gSYRMAACAgOJwuvV8SOv013QibAAAAAWBPWbXqmhwa0Dtaecn9rS7Hawib\n",
              "AAAAAaCo7S706dmDFBlhs7ga7yFsAgAABIDCA6GzatCFCJsAAAAWO1HTpH9U1MpmC52WR26ETQAA\n",
              "AIu9d7B1CD0vub8G9omxuBrvImwCAABYrHB/aA6hS4RNAAAASzU7XPqgtFKSVJAbWkPoEmETAADA\n",
              "Up8eq9I5u0NJfWM0eniC1eV4HWETAADAQhe2PIoIoZZHboRNAAAAC4XiEpUXImwCAABY5MvqRh04\n",
              "WacImzQ9K8nqcnyCsAkAAGAR9xD6+NQB6t87tFoeuRE2AQAALHJ+CD307kJ3I2wCAABYwO5wamdb\n",
              "y6NQna8pETYBAAAssftolRqanRrUL1ajhsdbXY7PEDYBAAAsULi/db7mzOxBstlCr+WRG2ETAADA\n",
              "AoVtNwcV5IbuELpE2AQAAPC742cbdOh0vSIjbJqSGZotj9wImwAAAH7mbnl0TdoAJfSKtrga3yJs\n",
              "AgAA+FlhW8ujghC+C92NsAkAAOBHTS1OfXjI3fIodPtruhE2AQAA/OjjI2fV1OLS0Pg45Q7tZ3U5\n",
              "PkfYBAAA8CP3fM2ZOaHd8siNsAkAAOBH55eoDP35mhJhEwAAwG+OVtbrSGW9oiNtmpKZaHU5fkHY\n",
              "BAAA8BP3EPqEtIHqFxfaLY/cCJsAAAB+4ml5lBv6d6G7ETYBAAD8oLHZqY8On5EUPvM1JcImAACA\n",
              "X/z18Bk1O1y6qn8vZQ3ua3U5fkPYBAAA8IPCMGt55EbYBAAA8DFjTNi1PHIjbAIAAPjY4cp6lZ1t\n",
              "UExkhCaPDI+WR26ETQAAAB8r3N86hH5dxkD1iY2yuBr/ImwCAAD42HsHW4fQZ2SHT8sjN8ImAACA\n",
              "D9XbHfr48FlJUkFueM3XlAibAAAAPvXRoTNqdrqUMrCXMpL6WF2O3xE2AQAAfMjd8qggZ3BYtTxy\n",
              "I2wCAAD4yIUtjwrCrOWRG2ETAADAR0pPndOX1Y2KiYrQpIzwannk1q2wuXLlSqWnp8tms6m4uLjT\n",
              "fYqKitSrVy/l5+d7Ho2Njd6oFQAAIKi4h9Cvz0hUr5hIi6uxRrcaPc2bN08//vGPNXXq1Evul5OT\n",
              "c9EwCgAAEC4K97tXDQq/lkdu3Qqb06dP91UdAAAAIaWuqUW7j7W1PArT+ZpSN8NmVx06dEjjx49X\n",
              "ZGSk7r77bt1///0X3ddut8tut7fb5nQ6fVEWAACA3+wsPaMWp9GIpD5KD8OWR25eD5vjx49XeXm5\n",
              "EhISVF5erltuuUVJSUmaP39+p/uvWbNGq1evbrdt0qRJ3i4LAADAr9472DpfMxxXDbqQ1+9Gj4+P\n",
              "V0JCgiQpOTlZCxcu1I4dOy66/6pVq1RTU9PuMXHiRG+XBQAA4DfGGM98zXBcNehCXg+bFRUVcrlc\n",
              "kqS6ujq98cYbGjdu3EX3j42NVXx8fLtHZGR43q0FAABCw/4TdTpR26S46AhdN2Kg1eVYqlthc9my\n",
              "ZUpOTlZ5eblmz56tzMxMSdLixYu1fft2SdJrr72mMWPGKC8vT5MmTdKsWbN09913e79yAACAAOVu\n",
              "5D55ZJLiosP7IprNGGOsLuLrHnroIa1du9bqMgAAAK7I/A0fadeRs3rytlH63vXpVpdjKVYQAgAA\n",
              "8KLaphZ9eqxKkjQzjFseuRE2AQAAvOiDkko5XUYjB/VRysDeVpdjOcImAACAFxXub215FM6N3C9E\n",
              "2AQAAPASY4yKDrqXqCRsSoRNAAAAr/n8q1qdrrOrd0ykrh0xwOpyAgJhEwAAwEuKDrQOoU8emaTY\n",
              "qPBueeRG2AQAAPASd3/NgtzwXqLyQoRNAAAAL6huaNaeMloefR1hEwAAwAt2lFTKZaTsIX11Vf9e\n",
              "VpcTMAibAAAAXlB4gJZHnSFsAgAA9JDLZfTeAVoedYawCQAA0EN//6pGZ+qb1Tc2ShPSaXl0IcIm\n",
              "AABADxXub72qOTUzSdGRxKsLcTYAAAB6yD1fc2YOLY++jrAJAADQA2frm7W3vFoS8zU7Q9gEAADo\n",
              "gfcPnpYx0jeGxWtoQpzV5QQcwiYAAEAPFDGEfkmETQAAgCvkdBm9d7BtiUqG0DtF2AQAALhCe8ur\n",
              "VdXQon5xURqf2t/qcgISYRMAAOAKFbU1cp+eNUhRtDzqFGcFAADgCjFf8/IImwAAAFfgdJ1d+8pr\n",
              "JEkzCJsXRdgEAAC4Au+33Rg0+qp4De5Hy6OLIWwCAABcAfeqQdyFfmmETQAAgG5yOF3aUVIpifma\n",
              "l0PYBAAA6Kbi49WqaWxR/97Ryk8ZYHU5AY2wCQAA0E3uIfRpWYMUGWGzuJrARtgEAADoJnd/zQKG\n",
              "0C+LsAkAANANp2qb9PlXtbLZpOnZhM3LIWwCAAB0Q1Fby6OxVyUoqW+sxdUEPsImAABAN5xfNYiW\n",
              "R11B2AQAAOiiFqdLOw7S8qg7CJsAAABdtOdYlersDg3sE6Oxyf2tLicoEDYBAAC6qLDtLvQZ2bQ8\n",
              "6irCJgAAQBedn6/JEHpXETYBAAC6oKKmUftP1LW2PMoibHYVYRMAAKAL3I3cx6X014A+MRZXEzwI\n",
              "mwAAAF1Ay6MrQ9gEAAC4jGaHSx+UtLY8KiBsdgthEwAA4DJ2Hz2r+mankvrGaNTweKvLCSqETQAA\n",
              "gMtwL1E5I3uwImh51C2ETQAAgMso3N86X7Mgl7vQu4uwCQAAcAnlVQ0qOXVOETZpWiZhs7sImwAA\n",
              "AJfgbnl0TdoAJfSOtria4EPYBAAAuARaHvUMYRMAAOAi7A6ndpaekcQSlVeKsAkAAHARu46cVWOL\n",
              "U4P7xerqYbQ8uhKETQAAgIso3N86X3NmziDZbLQ8uhKETQAAgIsoOtjW8oj5mleMsAkAANCJsjMN\n",
              "Ony6XlERNk3JSrK6nKBF2AQAAOiE+6rmNWkDFB9Hy6MrRdgEAADoxPlVgxhC7wnCJgAAwNc0tTj1\n",
              "4SFaHnlDt8LmypUrlZ6eLpvNpuLi4ovu99JLLykrK0sjR47UkiVL1NLS0tM6AQAA/Oavh8/I7nBp\n",
              "WEKccob0s7qcoNatsDlv3jx98MEHSktLu+g+R44c0WOPPaYdO3aotLRUJ0+e1C9/+cseFwoAAOAv\n",
              "7iUqZ+YMpuVRD3UrbE6fPl3JycmX3Gfr1q2aM2eOhg4dKpvNpuXLl2vz5s09KhIAAMCfzi9RyRB6\n",
              "T0V5+w3LysraXflMT09XWVnZRfe32+2y2+3ttjmdTm+XBQAA0CVHKut19EyDoiNtmpJJy6OesvwG\n",
              "oTVr1ighIaHdY9euXVaXBQAAwpT7LvRr0weqb6zXr8uFHa+HzdTUVB07dszz/OjRo0pNTb3o/qtW\n",
              "rVJNTU27x8SJE71dFgAAQJcUHWydr8mqQd7h9bA5d+5cbd++XSdOnJAxRi+88ILuvPPOi+4fGxur\n",
              "+Pj4do/IyEhvlwUAAHBZDc0O/fVwa8ujglzma3pDt8LmsmXLlJycrPLycs2ePVuZmZmSpMWLF2v7\n",
              "9u2SpIyMDK1evVpTpkxRZmamBg0apGXLlnm/cgAAAC/76NAZNTtcuqp/L40c1NfqckJCtyYibNiw\n",
              "odPtL774YrvnS5Ys0ZIlS668KgAAAAu4Wx4V5A6i5ZGXWH6DEAAAQCAwxqiwreUR8zW9h7AJAAAg\n",
              "6dDpepVXNSomMkLXj0y0upyQQdgEAADQ+Ubu12UMVO8YWh55C2ETAABA8gyhz2QI3asImwAAIOzV\n",
              "2x3adeSsJKmAJSq9irAJAADC3s7SSrU4jdISe2tEUh+rywkphE0AABD23KsGzcym5ZG3ETYBAEBY\n",
              "M8aoqG099Jm5zNf0NsImAAAIawdPntNXNU2KjYrQ9Rm0PPI2wiYAAAhr7pZH149MVFx0pMXVhB7C\n",
              "JgAACGusGuRbhE0AABC26ppatPtolSRpJi2PfIKwCQAAwtbO0ko5XEYZSX2UlkjLI18gbAIAgLBV\n",
              "uL+t5RFD6D5D2AQAAGHJGKOig+4lKhlC9xXCJgAACEv/qKjTyVq7ekVHauKIgVaXE7IImwAAICy5\n",
              "70KfTMsjnyJsAgCAsPTegbb5mqwa5FOETQAAEHZqGlr0aVlby6Ns5mv6EmETAACEnR2lp+V0GWUO\n",
              "7quUgb2tLiekETYBAEDYKWobQi/gLnSfI2wCAICw4nIZT9ikv6bvETYBAEBY+aKiVpXn7OoTE6kJ\n",
              "6QOsLifkETYBAEBYKdzf2vJoSmaSYqNoeeRrhE0AABBW3P01GUL3D8ImAAAIG1X1zSo+Xi2JJSr9\n",
              "hbAJAADCxvslp+UyUu7Qfhrev5fV5YQFwiYAAAgb7lWDZnBV028ImwAAICy4XEZFB939NZmv6S+E\n",
              "TQAAEBb2fVmjs/XN6hcbpWvSaHnkL4RNAAAQFora7kKfmpWk6EgikL9wpgEAQFgoPMAQuhUImwAA\n",
              "IOSdOWfXvvJqSdwc5G+ETQAAEPLeLzktY6Srh8VrSHyc1eWEFcImAAAIeYX7W4fQaeTuf4RNAAAQ\n",
              "0pwuo/dL2uZr5jJf098ImwAAIKQVH69WdUOL4uOiNC6lv9XlhB3CJgAACGnulkfTsgcpipZHfscZ\n",
              "BwAAIa2IlkeWImwCAICQdaquSZ99WSNJmpHNzUFWIGwCAICQ9f7BSknSmKsSNKhfrMXVhCfCJgAA\n",
              "CFmFbfM1C2h5ZBnCJgAACEkOp0s7DrbO15zBfE3LEDYBAEBI+tvxatU2OdS/d7TyaXlkGcImAAAI\n",
              "SYX7W4fQZ2QPUmSEzeJqwhdhEwAAhKTCAyxRGQgImwAAIOScqGnSPypqZbNJ07MIm1YibAIAgJDz\n",
              "3sHWIfSxyf2V2JeWR1YibAIAgJBzftUgrmpajbAJAABCSovTpR0lrc3cWaLSeoRNAAAQUnYfrdI5\n",
              "u0OJfWI05qoEq8sJe4RNAAAQUooOnm95FEHLI8sRNgEAQEgp2t/W8iiXIfRAQNgEAAAh46vqRh04\n",
              "WacImzQ9K8nqcqArCJslJSWaPHmysrOzde211+rzzz/vsE9RUZF69eql/Px8z6OxsdErBQMAAFyM\n",
              "+y70cakD1L93jMXVQJKiuvuCZcuWaenSpVq0aJG2bt2qRYsW6ZNPPumwX05OjoqLi71RIwAAQJcU\n",
              "Hmidrzkzm5ZHgaJbVzZPnTql3bt366677pIkzZ07V8ePH1dpaalPigMAAOgqu8OpD0vbWh4xXzNg\n",
              "dCtsHj9+XMOGDVNUVOsFUZvNptTUVJWVlXXY99ChQxo/fryuvfZarV+//qLvabfbVVtb2+7hdDq7\n",
              "eRgAACDc7T5apfpmpwb1i9XVw+KtLgdtuj2M3hXjx49XeXm5EhISVF5erltuuUVJSUmaP39+h33X\n",
              "rFmj1atXt9s2adIkX5QFAABCWOF+Wh4Fom5d2UxJSVFFRYUcDockyRijsrIypaamttsvPj5eCQmt\n",
              "TVSTk5O1cOFC7dixo9P3XLVqlWpqato9Jk6ceCXHAgAAwljRQfcSlQyhB5Juhc3Bgwdr/Pjxevnl\n",
              "lyVJr732mpKTk5WZmdluv4qKCrlcLklSXV2d3njjDY0bN67T94yNjVV8fHy7R2Rk5JUcCwAACFPH\n",
              "zzao9NQ5RUbYNJWWRwGl262PNmzYoA0bNig7O1vPPPOMNm7cKElavHixtm/fLqk1hI4ZM0Z5eXma\n",
              "NGmSZs2apbvvvtu7lQMAALRxX9W8JnWAEnpFW1wNLtTtOZs5OTn66KOPOmx/8cUXPV+vWLFCK1as\n",
              "6FllAAAAXVTUNl9zZi4tjwINKwgBAICg1tTi1M5DrS2PZmYzXzPQEDYBAEBQ23XkrJpaXBoSH6tv\n",
              "DOtndTn4GsImAAAIau5VgwpyBstmo+VRoCFsAgCAoOZeD31mDvM1AxFhEwAABK2jlfU6UlmvqAib\n",
              "pmTS8igQETYBAEDQKmobQp+QPkD94mh5FIgImwAAIGixalDgI2wCAICg1Njs1EeHzkiSCnIJm4GK\n",
              "sAkAAILSXw+fkd3h0vCEOGUN7mt1ObgIwiYAAAhK7vmaM3NpeRTICJsAACDoGGNU6G55lE3Lo0BG\n",
              "2AQAAEHnSGW9ys42KDqSlkeBjrAJAACCjvuq5nUjEtUnNsrianAphE0AABB0PPM1WTUo4BE2AQBA\n",
              "UGlodujjw2clSTPprxnwCJsAACCofFh6Rs1Ol1IG9tLIQX2sLgeXQdgEAABBpdA9hJ5Ny6NgQNgE\n",
              "AABBwxijorabgwpyma8ZDAibAAAgaJSeOqcvqxsVExWh6zNoeRQMCJsAACBouK9qTspIVK+YSIur\n",
              "QVcQNgEAQNBwz9csoOVR0CBsAgCAoHDO7tAnR2l5FGwImwAAICjsLK1Ui9MoPbG3RiTR8ihYEDYB\n",
              "AEBQOL9qEFc1gwlhEwAABLwLWx6xRGVwIWwCAICAd+BknSpqmhQXHaFJGYlWl4NuIGwCAICAV7i/\n",
              "9arm9RmJioum5VEwIWwCAICA556vWZDLfM1gQ9gEAAABrbapRbuPVUlqXQ8dwYWwCQAAAtoHJZVy\n",
              "uowyBvVRamJvq8tBNxE2AQBAQPMModPyKCgRNgEAQMCi5VHwI2wCAICA9UVFrU7V2dUrOlITRwy0\n",
              "uhxcAcImAAAIWO6rmlMykxQbRcujYETYBAAAAatwv3uJSobQgxVhEwAABKSahhbtKWtreUTYDFqE\n",
              "TQAAEJDeLzktl5GyBvdV8gBaHgUrwiYAAAhIhawaFBIImwAAIOC4XEbvH6TlUSggbAIAgIDz969q\n",
              "VHmuWX1iIjUhjZZHwYywCQAAAo675dHUrCTFRBFXghl/egAAIOAUskRlyCBsAgCAgHK2vlnFx6sl\n",
              "STOYrxn0CJsAACCg7Cg5LWOk3KH9NCyhl9XloIcImwAAIKCcXzWIIfRQQNgEAAABw+kyer+kUpJU\n",
              "wBB6SCBsAgCAgLGvvFpn65vVLy5K49MGWF0OvICwCQAAAkZhW8ujaVlJio4kpoQC/hQBAEDAeO8A\n",
              "8zVDDWETAAAEhNN1du0tr5EkzcxmvmaoIGwCAICA4F4LfdTweA2Oj7O4GngLYRMAAASEorawyapB\n",
              "oYWwCQAALOdwujxXNmfS8iikRHX3BSUlJfrBD36gyspKJSQkaNOmTRo1alSH/V566SU988wzcrlc\n",
              "uuGGG7R+/XpFR0d7pWggGBhj1OI0sjucsjtcrY+Wzr9udrgUGWFTbHSEYqMiFBcdqdioCMVGtf03\n",
              "uvXruOgIxURGyGazWX14AOBVe8urVdPYooRe0cpP6W91OfCibofNZcuWaenSpVq0aJG2bt2qRYsW\n",
              "6ZNPPmm3z5EjR/TYY49pz549GjJkiG677Tb98pe/1AMPPOC1woHLMcao2ekOdq7zoe/Cr9tCX7PT\n",
              "vf1i+zkv8/3O9zHGN8fWGkQjFBvdGkA9odQdUKMjFNf23wtDqyfERl96mzvYxnbyHhERBF0A3le4\n",
              "v/Wq5vTsQYqi5VFI6VbYPHXqlHbv3q0///nPkqS5c+dqxYoVKi0tVWZmpme/rVu3as6cORo6dKgk\n",
              "afny5Xr66acJm2GmO2HvUoHt4vtf/v0CyYUB8evBMDoyQi6Xkd3hUlMnx9fkcLYLrp7ja3L4/Thi\n",
              "IiM6htMLjyn6ayE2qn1o7eyq7flg3PFK7oVBmn+AgNBV6G55xF3oIadbYfP48eMaNmyYoqJaX2az\n",
              "2ZSamqqysrJ2YbOsrExpaWme5+np6SorK+v0Pe12u+x2e7ttTqezO2X1yP/946R+UXSo3bbOLkaZ\n",
              "Ti5RfX1LZ1exOr2wdcXv1cnrOtuvC3V0djyd6WodzragFKxhr334udz3v3Yl8VL7t33d06Hvzobk\n",
              "m1qcHYK2J6i2dLLtwiB/kUDb2fs1tTjluuCPvNnpUrPTpTr7xev1lcgIm+IuEdi55goEJyPp869q\n",
              "JUkzmK8Zcro9jO5ta9as0erVq9ttmzRpkt9+fuU5u3Yfq/LbzwtXNpsuHdguG+q6Gfq+FkaiI21B\n",
              "Pc/RZrMpJsqmmKgI9bPg5zvcV6gvEl4vu+0ygdYznaGTn9HiPJ90nS6j+man6pv99z+kAPxn4oiB\n",
              "Suoba3UZ8LJuhc2UlBRVVFTI4XAoKipKxhiVlZUpNTW13X6pqak6dOj81cKjR4922Mdt1apVeuih\n",
              "h9pte+yxx7pTVo9MHpmkF+66psP2znJJZ1Hl6wGm8326uK2zV9su+bTTGrpaR2c/r6vH/fWNETZb\n",
              "+2HTEAt74S4qsnUIu48F/wY4XUbNXQivLc7AupIOoHtsNpsmpg+0ugz4QLfC5uDBgzV+/Hi9/PLL\n",
              "WrRokV577TUlJye3G0KXWudyTp06Vf/v//0/DRkyRC+88ILuvPPOTt8zNjZWsbHt/wWLjIzs5mFc\n",
              "uZSBvZUysLfffh6A7omMsKlXTKR6xfjv9wIAwHu6Pdt+w4YN2rBhg7Kzs/XMM89o48aNkqTFixdr\n",
              "+/btkqSMjAytXr1aU6ZMUWZmpgYNGqRly5Z5t3IAAAAEPJvp6p0ifvTQQw9p7dq1VpcBAACAHqKP\n",
              "CAAAAHyGsAkAAACfIWwCAADAZwibAAAA8BnCJgAAAHyGsAkAAACfIWwCAADAZwibAAAA8BnCJgAA\n",
              "AHwmIFcQuuOOO5Senu63n+d0OrVr1y5NnDjRr+uyhwrOX89xDnuG89dznMOe4fz1HOewZ6w4f2lp\n",
              "aXrwwQcvu19Ahk1/q62tVUJCgmpqahQfH291OUGH89dznMOe4fz1HOewZzh/Pcc57JlAPn8MowMA\n",
              "AMBnCJsAAADwGcImAAAAfIawKSk2Nlb//u//rtjYWKtLCUqcv57jHPYM56/nOIc9w/nrOc5hzwTy\n",
              "+eMGIQAAAPgMVzYBAADgM4RNAAAA+AxhEwAAAD5D2LxCzz33nE6cOGF1GQhyR48e1QsvvHDJfSZM\n",
              "mKCioiL/FBTkvvrqK02bNs3qMgJGU1OTbr/9dmVnZysvL0+zZs1SaWmpJGnmzJkaMWKE8vPzlZ+f\n",
              "r3Xr1nlet2zZMo0ZM0Y33HCDampqJEnGGN188806dOiQJcdipfT0dOXk5HjO1ZYtWyRJJSUlmjx5\n",
              "srKzs3Xttdfq888/lyS1tLTo9ttvV15enu644w45HA5JrX8e06dPV1VVlWXH4m9nzpzxnLf8/Hxl\n",
              "Z2crKipKZ8+e5TMYRgibV4iwCW/oSthE1w0fPlw7duywuoyAsnTpUh04cEB79+7VbbfdpsWLF3u+\n",
              "t27dOhUXF6u4uFg/+tGPJEl///vfVVJSos8++0wzZ87Ub37zG0nSiy++qIKCAo0cOdKS47Dali1b\n",
              "POdqwYIFkloD0dKlS3Xw4EE9+uijWrRokSTp7bff1sCBA7V37171799ff/rTnyRJTz75pFasWKEB\n",
              "AwZYdRh+l5iY6DlvxcXFWrp0qW6++WYNHDhQEp/BcBFyYfOjjz7S1KlTlZeXp7Fjx+oPf/iDdu/e\n",
              "rcmTJ2vs2LGaOHGidu7cKan1H/r+/ft7Xnvu3DnZbDbPc5vNpqeffloTJ07UiBEjtHHjRknSE088\n",
              "oa+++koLFixQfn6+iouL/XmIPmOz2fTUU0/puuuuU3p6urZt26Y1a9ZowoQJysrKand17e2339bU\n",
              "qVN1zTXXaOLEiSosLJQknThxQgUFBbrmmms0atQorVixQi6XS5K0adMm3XjjjVq4cKHGjBmjCRMm\n",
              "6PDhw1YcqiUaGxu1YMECXX311crLy9O3vvUtLV++XAcOHFB+fr7mzJkjSfrwww+Vn5+v0aNH6+67\n",
              "7/ZcFQlnXf1sfv3v9MX+DoeLuLg43XLLLZ7fa5MmTdLRo0cv+Zro6GjZ7Xa5XC7V19crJiZGFRUV\n",
              "2rx5sx566CE/VB0cTp06pd27d+uuu+6SJM2dO1fHjx9XaWmpoqOj1dDQIElqaGhQTEyM9u3bp/37\n",
              "92v+/PlWlm25l156Sffee+8l9+Ez2F5Xf/85HA7Nnj1bEyZM0KhRo/Td735X9fX1kqTf/va3mjBh\n",
              "gux2u4wx+va3v62nnnrKfwdhQsiZM2fM4MGDzfvvv2+MMcbpdJqTJ0+alJQU86c//ckYY8yOHTvM\n",
              "kCFDTF1dnTly5IhJSEjwvL6urs5ceEokmWeffdYYY8w//vEP07dvX9PS0mKMMSYtLc387W9/88+B\n",
              "+Ykk89xzzxljjHn33XdNnz59zMaNG40xxvzud78zEyZMMMYYc+jQITNp0iRTU1NjjDGmpKTEDB06\n",
              "1DQ1NZnGxkZTV1dnjDHG4XCYW2+91WzevNkYY8zGjRtNfHy8OXz4sDHGmEcffdQsXbrUn4doqddf\n",
              "f91861vf8jw/c+aMKSwsNHl5eZ5tdrvdJCcnm3feeccYY8zbb79tJJnCwkI/VxtYuvrZ/Prf6Uv9\n",
              "HQ5Hd911l1m5cqUxxpgZM2aYnJwcM3r0aDN//nxz6NAhz34//elPTV5enpk3b56pr683CxYsMLt3\n",
              "77aqbMulpaWZMWPGmNGjR5t77rnHnDp1yuzevdtkZ2e32+/aa681//d//2ecTqdZvHixGTt2rFm6\n",
              "dKlpaWkx3/zmN83x48ctOoLAsHPnTjNkyBDP30E+g13T1d9/LpfLVFZWer5evny5WbNmjed9li5d\n",
              "ah544AHzn//5n+amm24yLpfLf8fgt5/kB2+88YaZNm1au2379u0zaWlp7baNHTvW7Nixo0ths6Ki\n",
              "wvO8f//+nl8WoRo23cdbXV1tJJnGxkZjjDFHjx71nKv//u//NklJSSYvL8/zGD58uDl48KCpr683\n",
              "999/vxk7dqwZM2aMGTJkiHn00UeNMa1hc/bs2Z6ft23bNvPNb37TvwdpoUOHDpmUlBRz3333mVdf\n",
              "fdXU1tZ2CJt79+416enp7V6XkZFB2OziZ7OzsHmxv8Ph5qmnnjKTJk0y9fX1xhhjysrKjDGt/yg9\n",
              "//zz5hvf+Eanr9u2bZt55JFHTGVlpVm0aJG54447zKuvvuq3ugPBsWPHjDHGNDc3mx//+Mfm5ptv\n",
              "vmTY/Lp169aZ559/3hw5csQsXLjQ3HHHHZ3uF+ruuece86//+q+e53wGu6arv/+cTqf56U9/avLz\n",
              "883o0aNNSkqKWbBgged9GhsbzdixY01KSoo5ffq0X48h5IbRu8I9pBQVFSWn0+nZ3tTU1GHfuLg4\n",
              "z9eRkZEhP6TpPt7IyMgOz93HbozRrFmz2s3D+fLLL5WVlaW1a9fq1KlT+vjjj7Vv3z5997vfbXde\n",
              "w+18XigjI0NffPGFbrrpJu3cuVOjR4/u0o0CF07tCGdd+Wxe6nVd2TdUPfvss3r99df11ltvqXfv\n",
              "3pKklJQUSa2frxUrVujw4cM6c+ZMu9fV1tbq2Wef1erVq/Xcc89pxowZ2rJli5544gk1Njb6/Tis\n",
              "kpqaKql1ePeHP/yhduzYoZSUFFVUVLT7vVhWVubZ1+3YsWN68803df/99+uxxx7T0qVLtWnTJv3L\n",
              "v/yL34/DSufOndPvfvc73XPPPZ5tfAa7riu//1555RX95S9/0XvvvafPPvtMjzzySLt/f0+dOqWq\n",
              "qiq5XC5VV1f7tf6QCpuTJ09WSUmJ5wYBl8ulIUOGyOVy6Z133pHUOh/uxIkTys/P19ChQ2WM0Rdf\n",
              "fCFJ+vWvf93lnxUfH++5Qy7czJ49W++++6727dvn2bZr1y5JUlVVlYYOHaq4uDidOHFCv//9760q\n",
              "M+CUl5fLZrNpzpw5evbZZ2WMUWJiYrvPUW5urhwOh2cO7Lvvvsudl+iRtWvXavPmzXrnnXc881kd\n",
              "DodOnjzp2ee1117TkCFDlJiY2O61//Zv/6bHH39cvXv3Vn19vWw2m2w2m1paWtTc3OzPw7BMfX19\n",
              "u3+YN2/erHHjxmnw4MEaP368Xn75ZUmt5zA5OVmZmZntXv/ggw9q3bp1ioiI8JxD99fhZMuWLcrL\n",
              "y1Nubq4kPoO+UFVVpaSkJMXHx6uurk6bNm3yfM/hcOjOO+/Uk08+qbVr12r+/Pmy2+1+qy3Kbz/J\n",
              "DwYMGKD//d//1cMPP6y6ujpFREToySef1Ouvv66VK1fq4YcfVlxcnLZu3aq+fftKkp5//nn90z/9\n",
              "kxITEzVv3rwu/6yVK1dqyZIl6t27tzZt2qT8/HwfHVXgyczM1CuvvKJly5apoaFBzc3NGjdunF55\n",
              "5RU9+OCDmjdvnkaNGqXhw4frxhtvtLrcgPHZZ59p1apVMsbI4XDoe9/7niZPnqxRo0Zp9OjRysjI\n",
              "0Pbt27Vlyxbdf//9cjqduvbaa5WXl2d16QhS5eXlevjhh5WRkaGCggJJresn/+Uvf9Gtt94qu92u\n",
              "iIgIJSUlafv27e1eu3PnTjU2NmrWrFmSpAceeEALFy7Uz372M33ve99TQkKC34/HCidPntTcuXPl\n",
              "dDpljFFGRobnwsSGDRu0aNEiPf3004qPj+9wA9orr7yivLw8jRo1SlJrcFqyZImam5v12GOP+f1Y\n",
              "rPTSSy9pyZIlnud2u53PoJd9//vf1x/+8Afl5ORo0KBBmjZtmo4dOyap9bOXk5OjH/zgB5Kk9957\n",
              "Tz/84Q/1i1/8wi+1sTY6AAAAfCakhtEBAAAQWAibAAAA8BnCJgAAAHyGsAkAAACfIWwCAADAZwib\n",
              "AAAA8BnCJgAAAHyGsAkAAACfIWwCAADAZwibAAAA8BnCJgAAAHzm/wNupKVHYp3t9AAAAABJRU5E\n",
              "rkJggg==\n",
              "\">\n",
              "      </div>\n",
              "      <script type=\"text/javascript\">\n",
              "        (() => {\n",
              "          const chartElement = document.getElementById(\"chart-e2f7a353-bafc-4bbf-a89c-1e301bcb6953\");\n",
              "          async function getCodeForChartHandler(event) {\n",
              "            const chartCodeResponse =  await google.colab.kernel.invokeFunction(\n",
              "                'getCodeForChart', [\"chart-e2f7a353-bafc-4bbf-a89c-1e301bcb6953\"], {});\n",
              "            const responseJson = chartCodeResponse.data['application/json'];\n",
              "            await google.colab.notebook.addCell(responseJson.code, 'code');\n",
              "          }\n",
              "          chartElement.onclick = getCodeForChartHandler;\n",
              "        })();\n",
              "      </script>\n",
              "      <style>\n",
              "        .colab-quickchart-chart-with-code  {\n",
              "            display: block;\n",
              "            float: left;\n",
              "            border: 1px solid transparent;\n",
              "        }\n",
              "\n",
              "        .colab-quickchart-chart-with-code:hover {\n",
              "            cursor: pointer;\n",
              "            border: 1px solid #aaa;\n",
              "        }\n",
              "      </style>"
            ]
          },
          "metadata": {}
        }
      ]
    },
    {
      "cell_type": "markdown",
      "source": [
        "#### Duplicate Values"
      ],
      "metadata": {
        "id": "35m5QtbWiB9F"
      }
    },
    {
      "cell_type": "code",
      "source": [
        "# Dataset Duplicate Value Count"
      ],
      "metadata": {
        "id": "1sLdpKYkmox0"
      },
      "execution_count": null,
      "outputs": []
    },
    {
      "cell_type": "markdown",
      "source": [
        "#### Missing Values/Null Values"
      ],
      "metadata": {
        "id": "PoPl-ycgm1ru"
      }
    },
    {
      "cell_type": "code",
      "source": [
        "# Missing Values/Null Values Count"
      ],
      "metadata": {
        "id": "GgHWkxvamxVg"
      },
      "execution_count": null,
      "outputs": []
    },
    {
      "cell_type": "code",
      "source": [
        "# Visualizing the missing values"
      ],
      "metadata": {
        "id": "3q5wnI3om9sJ"
      },
      "execution_count": null,
      "outputs": []
    },
    {
      "cell_type": "markdown",
      "source": [
        "### What did you know about your dataset?"
      ],
      "metadata": {
        "id": "H0kj-8xxnORC"
      }
    },
    {
      "cell_type": "markdown",
      "source": [
        "Answer Here"
      ],
      "metadata": {
        "id": "gfoNAAC-nUe_"
      }
    },
    {
      "cell_type": "markdown",
      "source": [
        "## ***2. Understanding Your Variables***"
      ],
      "metadata": {
        "id": "nA9Y7ga8ng1Z"
      }
    },
    {
      "cell_type": "code",
      "source": [
        "# Dataset Columns"
      ],
      "metadata": {
        "id": "j7xfkqrt5Ag5"
      },
      "execution_count": null,
      "outputs": []
    },
    {
      "cell_type": "code",
      "source": [
        "# Dataset Describe"
      ],
      "metadata": {
        "id": "DnOaZdaE5Q5t"
      },
      "execution_count": null,
      "outputs": []
    },
    {
      "cell_type": "markdown",
      "source": [
        "### Variables Description"
      ],
      "metadata": {
        "id": "PBTbrJXOngz2"
      }
    },
    {
      "cell_type": "markdown",
      "source": [
        "Answer Here"
      ],
      "metadata": {
        "id": "aJV4KIxSnxay"
      }
    },
    {
      "cell_type": "markdown",
      "source": [
        "### Check Unique Values for each variable."
      ],
      "metadata": {
        "id": "u3PMJOP6ngxN"
      }
    },
    {
      "cell_type": "code",
      "source": [
        "# Check Unique Values for each variable."
      ],
      "metadata": {
        "id": "zms12Yq5n-jE"
      },
      "execution_count": null,
      "outputs": []
    },
    {
      "cell_type": "markdown",
      "source": [
        "## 3. ***Data Wrangling***"
      ],
      "metadata": {
        "id": "dauF4eBmngu3"
      }
    },
    {
      "cell_type": "markdown",
      "source": [
        "### Data Wrangling Code"
      ],
      "metadata": {
        "id": "bKJF3rekwFvQ"
      }
    },
    {
      "cell_type": "code",
      "source": [
        "# Write your code to make your dataset analysis ready."
      ],
      "metadata": {
        "id": "wk-9a2fpoLcV"
      },
      "execution_count": null,
      "outputs": []
    },
    {
      "cell_type": "markdown",
      "source": [
        "### What all manipulations have you done and insights you found?"
      ],
      "metadata": {
        "id": "MSa1f5Uengrz"
      }
    },
    {
      "cell_type": "markdown",
      "source": [
        "Answer Here."
      ],
      "metadata": {
        "id": "LbyXE7I1olp8"
      }
    },
    {
      "cell_type": "markdown",
      "source": [
        "## ***4. Data Vizualization, Storytelling & Experimenting with charts : Understand the relationships between variables***"
      ],
      "metadata": {
        "id": "GF8Ens_Soomf"
      }
    },
    {
      "cell_type": "markdown",
      "source": [
        "#### Chart - 1"
      ],
      "metadata": {
        "id": "0wOQAZs5pc--"
      }
    },
    {
      "cell_type": "code",
      "source": [
        "# Chart - 1 visualization code"
      ],
      "metadata": {
        "id": "7v_ESjsspbW7"
      },
      "execution_count": null,
      "outputs": []
    },
    {
      "cell_type": "markdown",
      "source": [
        "##### 1. Why did you pick the specific chart?"
      ],
      "metadata": {
        "id": "K5QZ13OEpz2H"
      }
    },
    {
      "cell_type": "markdown",
      "source": [
        "Answer Here."
      ],
      "metadata": {
        "id": "XESiWehPqBRc"
      }
    },
    {
      "cell_type": "markdown",
      "source": [
        "##### 2. What is/are the insight(s) found from the chart?"
      ],
      "metadata": {
        "id": "lQ7QKXXCp7Bj"
      }
    },
    {
      "cell_type": "markdown",
      "source": [
        "Answer Here"
      ],
      "metadata": {
        "id": "C_j1G7yiqdRP"
      }
    },
    {
      "cell_type": "markdown",
      "source": [
        "##### 3. Will the gained insights help creating a positive business impact?\n",
        "Are there any insights that lead to negative growth? Justify with specific reason."
      ],
      "metadata": {
        "id": "448CDAPjqfQr"
      }
    },
    {
      "cell_type": "markdown",
      "source": [
        "Answer Here"
      ],
      "metadata": {
        "id": "3cspy4FjqxJW"
      }
    },
    {
      "cell_type": "markdown",
      "source": [
        "#### Chart - 2"
      ],
      "metadata": {
        "id": "KSlN3yHqYklG"
      }
    },
    {
      "cell_type": "code",
      "source": [
        "# Chart - 2 visualization code"
      ],
      "metadata": {
        "id": "R4YgtaqtYklH"
      },
      "execution_count": null,
      "outputs": []
    },
    {
      "cell_type": "markdown",
      "source": [
        "##### 1. Why did you pick the specific chart?"
      ],
      "metadata": {
        "id": "t6dVpIINYklI"
      }
    },
    {
      "cell_type": "markdown",
      "source": [
        "Answer Here."
      ],
      "metadata": {
        "id": "5aaW0BYyYklI"
      }
    },
    {
      "cell_type": "markdown",
      "source": [
        "##### 2. What is/are the insight(s) found from the chart?"
      ],
      "metadata": {
        "id": "ijmpgYnKYklI"
      }
    },
    {
      "cell_type": "markdown",
      "source": [
        "Answer Here"
      ],
      "metadata": {
        "id": "PSx9atu2YklI"
      }
    },
    {
      "cell_type": "markdown",
      "source": [
        "##### 3. Will the gained insights help creating a positive business impact?\n",
        "Are there any insights that lead to negative growth? Justify with specific reason."
      ],
      "metadata": {
        "id": "-JiQyfWJYklI"
      }
    },
    {
      "cell_type": "markdown",
      "source": [
        "Answer Here"
      ],
      "metadata": {
        "id": "BcBbebzrYklV"
      }
    },
    {
      "cell_type": "markdown",
      "source": [
        "#### Chart - 3"
      ],
      "metadata": {
        "id": "EM7whBJCYoAo"
      }
    },
    {
      "cell_type": "code",
      "source": [
        "# Chart - 3 visualization code"
      ],
      "metadata": {
        "id": "t6GMdE67YoAp"
      },
      "execution_count": null,
      "outputs": []
    },
    {
      "cell_type": "markdown",
      "source": [
        "##### 1. Why did you pick the specific chart?"
      ],
      "metadata": {
        "id": "fge-S5ZAYoAp"
      }
    },
    {
      "cell_type": "markdown",
      "source": [
        "Answer Here."
      ],
      "metadata": {
        "id": "5dBItgRVYoAp"
      }
    },
    {
      "cell_type": "markdown",
      "source": [
        "##### 2. What is/are the insight(s) found from the chart?"
      ],
      "metadata": {
        "id": "85gYPyotYoAp"
      }
    },
    {
      "cell_type": "markdown",
      "source": [
        "Answer Here"
      ],
      "metadata": {
        "id": "4jstXR6OYoAp"
      }
    },
    {
      "cell_type": "markdown",
      "source": [
        "##### 3. Will the gained insights help creating a positive business impact?\n",
        "Are there any insights that lead to negative growth? Justify with specific reason."
      ],
      "metadata": {
        "id": "RoGjAbkUYoAp"
      }
    },
    {
      "cell_type": "markdown",
      "source": [
        "Answer Here"
      ],
      "metadata": {
        "id": "zfJ8IqMcYoAp"
      }
    },
    {
      "cell_type": "markdown",
      "source": [
        "#### Chart - 4"
      ],
      "metadata": {
        "id": "4Of9eVA-YrdM"
      }
    },
    {
      "cell_type": "code",
      "source": [
        "# Chart - 4 visualization code"
      ],
      "metadata": {
        "id": "irlUoxc8YrdO"
      },
      "execution_count": null,
      "outputs": []
    },
    {
      "cell_type": "markdown",
      "source": [
        "##### 1. Why did you pick the specific chart?"
      ],
      "metadata": {
        "id": "iky9q4vBYrdO"
      }
    },
    {
      "cell_type": "markdown",
      "source": [
        "Answer Here."
      ],
      "metadata": {
        "id": "aJRCwT6DYrdO"
      }
    },
    {
      "cell_type": "markdown",
      "source": [
        "##### 2. What is/are the insight(s) found from the chart?"
      ],
      "metadata": {
        "id": "F6T5p64dYrdO"
      }
    },
    {
      "cell_type": "markdown",
      "source": [
        "Answer Here"
      ],
      "metadata": {
        "id": "Xx8WAJvtYrdO"
      }
    },
    {
      "cell_type": "markdown",
      "source": [
        "##### 3. Will the gained insights help creating a positive business impact?\n",
        "Are there any insights that lead to negative growth? Justify with specific reason."
      ],
      "metadata": {
        "id": "y-Ehk30pYrdP"
      }
    },
    {
      "cell_type": "markdown",
      "source": [
        "Answer Here"
      ],
      "metadata": {
        "id": "jLNxxz7MYrdP"
      }
    },
    {
      "cell_type": "markdown",
      "source": [
        "#### Chart - 5"
      ],
      "metadata": {
        "id": "bamQiAODYuh1"
      }
    },
    {
      "cell_type": "code",
      "source": [
        "# Chart - 5 visualization code"
      ],
      "metadata": {
        "id": "TIJwrbroYuh3"
      },
      "execution_count": null,
      "outputs": []
    },
    {
      "cell_type": "markdown",
      "source": [
        "##### 1. Why did you pick the specific chart?"
      ],
      "metadata": {
        "id": "QHF8YVU7Yuh3"
      }
    },
    {
      "cell_type": "markdown",
      "source": [
        "Answer Here."
      ],
      "metadata": {
        "id": "dcxuIMRPYuh3"
      }
    },
    {
      "cell_type": "markdown",
      "source": [
        "##### 2. What is/are the insight(s) found from the chart?"
      ],
      "metadata": {
        "id": "GwzvFGzlYuh3"
      }
    },
    {
      "cell_type": "markdown",
      "source": [
        "Answer Here"
      ],
      "metadata": {
        "id": "uyqkiB8YYuh3"
      }
    },
    {
      "cell_type": "markdown",
      "source": [
        "##### 3. Will the gained insights help creating a positive business impact?\n",
        "Are there any insights that lead to negative growth? Justify with specific reason."
      ],
      "metadata": {
        "id": "qYpmQ266Yuh3"
      }
    },
    {
      "cell_type": "markdown",
      "source": [
        "Answer Here"
      ],
      "metadata": {
        "id": "_WtzZ_hCYuh4"
      }
    },
    {
      "cell_type": "markdown",
      "source": [
        "#### Chart - 6"
      ],
      "metadata": {
        "id": "OH-pJp9IphqM"
      }
    },
    {
      "cell_type": "code",
      "source": [
        "# Chart - 6 visualization code"
      ],
      "metadata": {
        "id": "kuRf4wtuphqN"
      },
      "execution_count": null,
      "outputs": []
    },
    {
      "cell_type": "markdown",
      "source": [
        "##### 1. Why did you pick the specific chart?"
      ],
      "metadata": {
        "id": "bbFf2-_FphqN"
      }
    },
    {
      "cell_type": "markdown",
      "source": [
        "Answer Here."
      ],
      "metadata": {
        "id": "loh7H2nzphqN"
      }
    },
    {
      "cell_type": "markdown",
      "source": [
        "##### 2. What is/are the insight(s) found from the chart?"
      ],
      "metadata": {
        "id": "_ouA3fa0phqN"
      }
    },
    {
      "cell_type": "markdown",
      "source": [
        "Answer Here"
      ],
      "metadata": {
        "id": "VECbqPI7phqN"
      }
    },
    {
      "cell_type": "markdown",
      "source": [
        "##### 3. Will the gained insights help creating a positive business impact?\n",
        "Are there any insights that lead to negative growth? Justify with specific reason."
      ],
      "metadata": {
        "id": "Seke61FWphqN"
      }
    },
    {
      "cell_type": "markdown",
      "source": [
        "Answer Here"
      ],
      "metadata": {
        "id": "DW4_bGpfphqN"
      }
    },
    {
      "cell_type": "markdown",
      "source": [
        "#### Chart - 7"
      ],
      "metadata": {
        "id": "PIIx-8_IphqN"
      }
    },
    {
      "cell_type": "code",
      "source": [
        "# Chart - 7 visualization code"
      ],
      "metadata": {
        "id": "lqAIGUfyphqO"
      },
      "execution_count": null,
      "outputs": []
    },
    {
      "cell_type": "markdown",
      "source": [
        "##### 1. Why did you pick the specific chart?"
      ],
      "metadata": {
        "id": "t27r6nlMphqO"
      }
    },
    {
      "cell_type": "markdown",
      "source": [
        "Answer Here."
      ],
      "metadata": {
        "id": "iv6ro40sphqO"
      }
    },
    {
      "cell_type": "markdown",
      "source": [
        "##### 2. What is/are the insight(s) found from the chart?"
      ],
      "metadata": {
        "id": "r2jJGEOYphqO"
      }
    },
    {
      "cell_type": "markdown",
      "source": [
        "Answer Here"
      ],
      "metadata": {
        "id": "Po6ZPi4hphqO"
      }
    },
    {
      "cell_type": "markdown",
      "source": [
        "##### 3. Will the gained insights help creating a positive business impact?\n",
        "Are there any insights that lead to negative growth? Justify with specific reason."
      ],
      "metadata": {
        "id": "b0JNsNcRphqO"
      }
    },
    {
      "cell_type": "markdown",
      "source": [
        "Answer Here"
      ],
      "metadata": {
        "id": "xvSq8iUTphqO"
      }
    },
    {
      "cell_type": "markdown",
      "source": [
        "#### Chart - 8"
      ],
      "metadata": {
        "id": "BZR9WyysphqO"
      }
    },
    {
      "cell_type": "code",
      "source": [
        "# Chart - 8 visualization code"
      ],
      "metadata": {
        "id": "TdPTWpAVphqO"
      },
      "execution_count": null,
      "outputs": []
    },
    {
      "cell_type": "markdown",
      "source": [
        "##### 1. Why did you pick the specific chart?"
      ],
      "metadata": {
        "id": "jj7wYXLtphqO"
      }
    },
    {
      "cell_type": "markdown",
      "source": [
        "Answer Here."
      ],
      "metadata": {
        "id": "Ob8u6rCTphqO"
      }
    },
    {
      "cell_type": "markdown",
      "source": [
        "##### 2. What is/are the insight(s) found from the chart?"
      ],
      "metadata": {
        "id": "eZrbJ2SmphqO"
      }
    },
    {
      "cell_type": "markdown",
      "source": [
        "Answer Here"
      ],
      "metadata": {
        "id": "mZtgC_hjphqO"
      }
    },
    {
      "cell_type": "markdown",
      "source": [
        "##### 3. Will the gained insights help creating a positive business impact?\n",
        "Are there any insights that lead to negative growth? Justify with specific reason."
      ],
      "metadata": {
        "id": "rFu4xreNphqO"
      }
    },
    {
      "cell_type": "markdown",
      "source": [
        "Answer Here"
      ],
      "metadata": {
        "id": "ey_0qi68phqO"
      }
    },
    {
      "cell_type": "markdown",
      "source": [
        "#### Chart - 9"
      ],
      "metadata": {
        "id": "YJ55k-q6phqO"
      }
    },
    {
      "cell_type": "code",
      "source": [
        "# Chart - 9 visualization code"
      ],
      "metadata": {
        "id": "B2aS4O1ophqO"
      },
      "execution_count": null,
      "outputs": []
    },
    {
      "cell_type": "markdown",
      "source": [
        "##### 1. Why did you pick the specific chart?"
      ],
      "metadata": {
        "id": "gCFgpxoyphqP"
      }
    },
    {
      "cell_type": "markdown",
      "source": [
        "Answer Here."
      ],
      "metadata": {
        "id": "TVxDimi2phqP"
      }
    },
    {
      "cell_type": "markdown",
      "source": [
        "##### 2. What is/are the insight(s) found from the chart?"
      ],
      "metadata": {
        "id": "OVtJsKN_phqQ"
      }
    },
    {
      "cell_type": "markdown",
      "source": [
        "Answer Here"
      ],
      "metadata": {
        "id": "ngGi97qjphqQ"
      }
    },
    {
      "cell_type": "markdown",
      "source": [
        "##### 3. Will the gained insights help creating a positive business impact?\n",
        "Are there any insights that lead to negative growth? Justify with specific reason."
      ],
      "metadata": {
        "id": "lssrdh5qphqQ"
      }
    },
    {
      "cell_type": "markdown",
      "source": [
        "Answer Here"
      ],
      "metadata": {
        "id": "tBpY5ekJphqQ"
      }
    },
    {
      "cell_type": "markdown",
      "source": [
        "#### Chart - 10"
      ],
      "metadata": {
        "id": "U2RJ9gkRphqQ"
      }
    },
    {
      "cell_type": "code",
      "source": [
        "# Chart - 10 visualization code"
      ],
      "metadata": {
        "id": "GM7a4YP4phqQ"
      },
      "execution_count": null,
      "outputs": []
    },
    {
      "cell_type": "markdown",
      "source": [
        "##### 1. Why did you pick the specific chart?"
      ],
      "metadata": {
        "id": "1M8mcRywphqQ"
      }
    },
    {
      "cell_type": "markdown",
      "source": [
        "Answer Here."
      ],
      "metadata": {
        "id": "8agQvks0phqQ"
      }
    },
    {
      "cell_type": "markdown",
      "source": [
        "##### 2. What is/are the insight(s) found from the chart?"
      ],
      "metadata": {
        "id": "tgIPom80phqQ"
      }
    },
    {
      "cell_type": "markdown",
      "source": [
        "Answer Here"
      ],
      "metadata": {
        "id": "Qp13pnNzphqQ"
      }
    },
    {
      "cell_type": "markdown",
      "source": [
        "##### 3. Will the gained insights help creating a positive business impact?\n",
        "Are there any insights that lead to negative growth? Justify with specific reason."
      ],
      "metadata": {
        "id": "JMzcOPDDphqR"
      }
    },
    {
      "cell_type": "markdown",
      "source": [
        "Answer Here"
      ],
      "metadata": {
        "id": "R4Ka1PC2phqR"
      }
    },
    {
      "cell_type": "markdown",
      "source": [
        "#### Chart - 11"
      ],
      "metadata": {
        "id": "x-EpHcCOp1ci"
      }
    },
    {
      "cell_type": "code",
      "source": [
        "# Chart - 11 visualization code"
      ],
      "metadata": {
        "id": "mAQTIvtqp1cj"
      },
      "execution_count": null,
      "outputs": []
    },
    {
      "cell_type": "markdown",
      "source": [
        "##### 1. Why did you pick the specific chart?"
      ],
      "metadata": {
        "id": "X_VqEhTip1ck"
      }
    },
    {
      "cell_type": "markdown",
      "source": [
        "Answer Here."
      ],
      "metadata": {
        "id": "-vsMzt_np1ck"
      }
    },
    {
      "cell_type": "markdown",
      "source": [
        "##### 2. What is/are the insight(s) found from the chart?"
      ],
      "metadata": {
        "id": "8zGJKyg5p1ck"
      }
    },
    {
      "cell_type": "markdown",
      "source": [
        "Answer Here"
      ],
      "metadata": {
        "id": "ZYdMsrqVp1ck"
      }
    },
    {
      "cell_type": "markdown",
      "source": [
        "##### 3. Will the gained insights help creating a positive business impact?\n",
        "Are there any insights that lead to negative growth? Justify with specific reason."
      ],
      "metadata": {
        "id": "PVzmfK_Ep1ck"
      }
    },
    {
      "cell_type": "markdown",
      "source": [
        "Answer Here"
      ],
      "metadata": {
        "id": "druuKYZpp1ck"
      }
    },
    {
      "cell_type": "markdown",
      "source": [
        "#### Chart - 12"
      ],
      "metadata": {
        "id": "n3dbpmDWp1ck"
      }
    },
    {
      "cell_type": "code",
      "source": [
        "# Chart - 12 visualization code"
      ],
      "metadata": {
        "id": "bwevp1tKp1ck"
      },
      "execution_count": null,
      "outputs": []
    },
    {
      "cell_type": "markdown",
      "source": [
        "##### 1. Why did you pick the specific chart?"
      ],
      "metadata": {
        "id": "ylSl6qgtp1ck"
      }
    },
    {
      "cell_type": "markdown",
      "source": [
        "Answer Here."
      ],
      "metadata": {
        "id": "m2xqNkiQp1ck"
      }
    },
    {
      "cell_type": "markdown",
      "source": [
        "##### 2. What is/are the insight(s) found from the chart?"
      ],
      "metadata": {
        "id": "ZWILFDl5p1ck"
      }
    },
    {
      "cell_type": "markdown",
      "source": [
        "Answer Here"
      ],
      "metadata": {
        "id": "x-lUsV2mp1ck"
      }
    },
    {
      "cell_type": "markdown",
      "source": [
        "##### 3. Will the gained insights help creating a positive business impact?\n",
        "Are there any insights that lead to negative growth? Justify with specific reason."
      ],
      "metadata": {
        "id": "M7G43BXep1ck"
      }
    },
    {
      "cell_type": "markdown",
      "source": [
        "Answer Here"
      ],
      "metadata": {
        "id": "5wwDJXsLp1cl"
      }
    },
    {
      "cell_type": "markdown",
      "source": [
        "#### Chart - 13"
      ],
      "metadata": {
        "id": "Ag9LCva-p1cl"
      }
    },
    {
      "cell_type": "code",
      "source": [
        "# Chart - 13 visualization code"
      ],
      "metadata": {
        "id": "EUfxeq9-p1cl"
      },
      "execution_count": null,
      "outputs": []
    },
    {
      "cell_type": "markdown",
      "source": [
        "##### 1. Why did you pick the specific chart?"
      ],
      "metadata": {
        "id": "E6MkPsBcp1cl"
      }
    },
    {
      "cell_type": "markdown",
      "source": [
        "Answer Here."
      ],
      "metadata": {
        "id": "V22bRsFWp1cl"
      }
    },
    {
      "cell_type": "markdown",
      "source": [
        "##### 2. What is/are the insight(s) found from the chart?"
      ],
      "metadata": {
        "id": "2cELzS2fp1cl"
      }
    },
    {
      "cell_type": "markdown",
      "source": [
        "Answer Here"
      ],
      "metadata": {
        "id": "ozQPc2_Ip1cl"
      }
    },
    {
      "cell_type": "markdown",
      "source": [
        "##### 3. Will the gained insights help creating a positive business impact?\n",
        "Are there any insights that lead to negative growth? Justify with specific reason."
      ],
      "metadata": {
        "id": "3MPXvC8up1cl"
      }
    },
    {
      "cell_type": "markdown",
      "source": [
        "Answer Here"
      ],
      "metadata": {
        "id": "GL8l1tdLp1cl"
      }
    },
    {
      "cell_type": "markdown",
      "source": [
        "#### Chart - 14 - Correlation Heatmap"
      ],
      "metadata": {
        "id": "NC_X3p0fY2L0"
      }
    },
    {
      "cell_type": "code",
      "source": [
        "# Correlation Heatmap visualization code"
      ],
      "metadata": {
        "id": "xyC9zolEZNRQ"
      },
      "execution_count": null,
      "outputs": []
    },
    {
      "cell_type": "markdown",
      "source": [
        "##### 1. Why did you pick the specific chart?"
      ],
      "metadata": {
        "id": "UV0SzAkaZNRQ"
      }
    },
    {
      "cell_type": "markdown",
      "source": [
        "Answer Here."
      ],
      "metadata": {
        "id": "DVPuT8LYZNRQ"
      }
    },
    {
      "cell_type": "markdown",
      "source": [
        "##### 2. What is/are the insight(s) found from the chart?"
      ],
      "metadata": {
        "id": "YPEH6qLeZNRQ"
      }
    },
    {
      "cell_type": "markdown",
      "source": [
        "Answer Here"
      ],
      "metadata": {
        "id": "bfSqtnDqZNRR"
      }
    },
    {
      "cell_type": "markdown",
      "source": [
        "#### Chart - 15 - Pair Plot"
      ],
      "metadata": {
        "id": "q29F0dvdveiT"
      }
    },
    {
      "cell_type": "code",
      "source": [
        "# Pair Plot visualization code"
      ],
      "metadata": {
        "id": "o58-TEIhveiU"
      },
      "execution_count": null,
      "outputs": []
    },
    {
      "cell_type": "markdown",
      "source": [
        "##### 1. Why did you pick the specific chart?"
      ],
      "metadata": {
        "id": "EXh0U9oCveiU"
      }
    },
    {
      "cell_type": "markdown",
      "source": [
        "Answer Here."
      ],
      "metadata": {
        "id": "eMmPjTByveiU"
      }
    },
    {
      "cell_type": "markdown",
      "source": [
        "##### 2. What is/are the insight(s) found from the chart?"
      ],
      "metadata": {
        "id": "22aHeOlLveiV"
      }
    },
    {
      "cell_type": "markdown",
      "source": [
        "Answer Here"
      ],
      "metadata": {
        "id": "uPQ8RGwHveiV"
      }
    },
    {
      "cell_type": "markdown",
      "source": [
        "## **5. Solution to Business Objective**"
      ],
      "metadata": {
        "id": "JcMwzZxoAimU"
      }
    },
    {
      "cell_type": "markdown",
      "source": [
        "#### What do you suggest the client to achieve Business Objective ?\n",
        "Explain Briefly."
      ],
      "metadata": {
        "id": "8G2x9gOozGDZ"
      }
    },
    {
      "cell_type": "markdown",
      "source": [
        "Answer Here."
      ],
      "metadata": {
        "id": "pASKb0qOza21"
      }
    },
    {
      "cell_type": "markdown",
      "source": [
        "# **Conclusion**"
      ],
      "metadata": {
        "id": "gCX9965dhzqZ"
      }
    },
    {
      "cell_type": "markdown",
      "source": [
        "Write the conclusion here."
      ],
      "metadata": {
        "id": "Fjb1IsQkh3yE"
      }
    },
    {
      "cell_type": "markdown",
      "source": [
        "### ***Hurrah! You have successfully completed your EDA Capstone Project !!!***"
      ],
      "metadata": {
        "id": "gIfDvo9L0UH2"
      }
    }
  ]
}